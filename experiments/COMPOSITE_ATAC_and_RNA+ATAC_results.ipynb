{
 "cells": [
  {
   "cell_type": "code",
   "execution_count": 1,
   "id": "03679631-8399-4e15-88b4-4d56d542abec",
   "metadata": {},
   "outputs": [],
   "source": [
    "import sys\n",
    "import pandas as pd\n",
    "import random\n",
    "import math\n",
    "#import scanpy as sc\n",
    "import torch\n",
    "import torch.nn as nn\n",
    "import torch.optim as optim\n",
    "import torch.utils.data\n",
    "import torch.nn.functional as F\n",
    "import matplotlib.pyplot as plt\n",
    "import numpy as np\n",
    "from scipy.stats import gamma\n",
    "from scipy.stats import poisson\n",
    "from sklearn.metrics import roc_auc_score\n",
    "from sklearn.metrics import precision_recall_curve\n",
    "from sklearn.metrics import auc\n",
    "from scipy import special\n",
    "import operator\n",
    "from numpy import genfromtxt"
   ]
  },
  {
   "cell_type": "code",
   "execution_count": 2,
   "id": "6f827092-59c0-47fd-b465-21e1859d0a74",
   "metadata": {},
   "outputs": [
    {
     "name": "stdout",
     "output_type": "stream",
     "text": [
      "Cuda is available\n",
      "Found 1 GPUs available. Using GPU 0 (NVIDIA A100-PCIE-40GB) of compute capability 8.0 with 42.4Gb total memory.\n",
      "\n"
     ]
    }
   ],
   "source": [
    "if torch.cuda.is_available():  \n",
    "  dev = \"cuda:0\" \n",
    "else:  \n",
    "  dev = \"cpu\"  \n",
    "device = torch.device(dev) \n",
    "\n",
    "if torch.cuda.is_available():\n",
    "   print (\"Cuda is available\")\n",
    "   device_id = torch.cuda.current_device()\n",
    "   gpu_properties = torch.cuda.get_device_properties(device_id)\n",
    "   print(\"Found %d GPUs available. Using GPU %d (%s) of compute capability %d.%d with \"\n",
    "          \"%.1fGb total memory.\\n\" % \n",
    "          (torch.cuda.device_count(),\n",
    "          device_id,\n",
    "          gpu_properties.name,\n",
    "          gpu_properties.major,\n",
    "          gpu_properties.minor,\n",
    "          gpu_properties.total_memory / 1e9))\n",
    "else:    \n",
    "   print (\"Cuda is not available\")"
   ]
  },
  {
   "cell_type": "code",
   "execution_count": 3,
   "id": "8e604d54-5383-447a-8dc4-41971607a756",
   "metadata": {},
   "outputs": [],
   "source": [
    "#intialization: theta is based on estimated doublet proportion; \n",
    "#               alpha and beta is estimated by assuming a simple gamma distribution and estimated by method of moment\n",
    "def initialization(theta, data):\n",
    "  #theta is a numerical value\n",
    "  #data should be the count matrix in tensor form\n",
    "  theta = torch.tensor(theta, device = dev)\n",
    "  mu = torch.mean(data, dim=0)\n",
    "  var = torch.var(data, dim=0)\n",
    "  alpha = torch.square(mu)/var.to(dev)\n",
    "  beta = mu/var.to(dev)\n",
    "\n",
    "  theta = theta.requires_grad_()\n",
    "  alpha = alpha.requires_grad_()\n",
    "  beta = beta.requires_grad_()\n",
    "\n",
    "  return theta, alpha, beta\n",
    "\n",
    "#log likelihood\n",
    "def loglik(N, theta, alpha, beta, decay, data):\n",
    "  #N is the user estimated maximum number of cells in a droplet\n",
    "  #theta, alpha, and beta are outputs from initialization function\n",
    "  #data should be the count matrix in tensor form\n",
    "  \n",
    "  poisson = torch.distributions.Poisson(theta)\n",
    "  for k in range(N):\n",
    "    gamma = torch.distributions.Gamma(alpha*(1+torch.tensor(k, device = dev)/(1+torch.exp(-decay))), beta)\n",
    "    if k ==0 :\n",
    "      sum_k = gamma.log_prob(data).exp()*poisson.log_prob(torch.tensor([k], device = dev)).exp()\n",
    "    else:\n",
    "      sum_k = sum_k.clone() + gamma.log_prob(data).exp()*poisson.log_prob(torch.tensor([k], device = dev)).exp() #sum of likelihood\n",
    "\n",
    "  l = sum_k.log().sum()\n",
    "  return l\n",
    "\n",
    "def MLE(data,N=3, p=0.7,  lr=0.001, tolerance = 15):\n",
    "   #p is a numerical value, initial guess of singlet rate; this value doesn't have a big impact on parameter estimation\n",
    "   #data should be the count matrix in tensor form\n",
    "   #N is the user estimated maximum number of cells in a droplet\n",
    "   #tolerance controls how many steps we allow the loss not to improve\n",
    "\n",
    "    x = data\n",
    "    x.requires_grad_(False)  ## data\n",
    "\n",
    "    decay = torch.tensor(0.0, device = dev)\n",
    "    decay = decay.requires_grad_()\n",
    "\n",
    "    theta = -math.log(p)\n",
    "    theta, alpha, beta = initialization(theta, data)\n",
    "    alpha0 = 2*torch.mean(alpha).to('cpu').detach().item()\n",
    "    parameters = [theta, alpha, beta, decay]\n",
    "\n",
    "    # Defines a SGD optimizer to update the parameters\n",
    "    #optimizer = optim.SGD(parameters, lr=learning_rate) # not working\n",
    "    optimizer = optim.Adam(parameters, lr=lr)\n",
    "    #optimizer = optim.Rprop(parameters, lr=learning_rate)\n",
    "    NLL_0 = -loglik(N, theta, alpha, beta, decay, x)\n",
    "    l = []\n",
    "    singlet_rate = []\n",
    "\n",
    "    for i in range(5000):\n",
    "        #theta = theta.clone().clamp_(0.001, 1)\n",
    "        NLL = -loglik(N, theta, alpha, beta, decay, x)\n",
    "        if i % 200 == 0:\n",
    "            #print(\"neg loglik  =\", i, NLL.data, theta.data, decay.data)\n",
    "            l.append(NLL.to('cpu').detach())\n",
    "            singlet_rate.append(torch.tensor([-theta]).exp())\n",
    "            if len(l) > 2:\n",
    "              if (l[-2] - l[-1]) < 0.01*(l[0] - l[1]):\n",
    "                tolerance = tolerance - 1\n",
    "        #print(theta)\n",
    "        if tolerance == 0:\n",
    "          break\n",
    "\n",
    "        NLL.backward()\n",
    "        optimizer.step()\n",
    "        optimizer.zero_grad()\n",
    "        theta.data.clamp_(0.001, 1.0)\n",
    "        decay.data.clamp_(-10, 10)\n",
    "        alpha.data.clamp_(min = alpha0)\n",
    "\n",
    "    \n",
    "\n",
    "    return theta, alpha, beta, decay, l, singlet_rate\n",
    "\n",
    "def compound_poisson_gamma_cdf(data, alpha, beta, theta, decay, N=3):\n",
    "  #calculate estimated distribution for each gene\n",
    "  #grid = np.expand_dims(np.arange(0, np.max(data), 0.1), axis = 0)\n",
    "  grid = np.expand_dims(np.arange(0, np.maximum(np.max(data),500), 1), axis = 0)\n",
    "  grid = np.repeat(grid, data.shape[1], axis = 0)\n",
    "  grid = grid.T\n",
    "  \n",
    "  for k in range(N):\n",
    "    if k==0:\n",
    "      cdf = poisson.pmf(k, theta)*(gamma.cdf(grid, alpha*torch.pow(decay, torch.arange(k+1, device = dev)).sum(), loc=0, scale=1/beta).to('cpu').detach().numpy())\n",
    "    else:\n",
    "      cdf += poisson.pmf(k, theta)*(gamma.cdf(grid, alpha*torch.pow(decay, torch.arange(k+1, device = dev)).sum(), loc=0, scale=1/beta).to('cpu').detach().numpy())\n",
    "\n",
    "  return cdf\n",
    "\n",
    "def empirical_cdf(data):\n",
    "  grid = np.expand_dims(np.arange(0, np.maximum(np.max(data),100), 0.01), axis = 0)\n",
    "  grid = np.repeat(grid, data.shape[1], axis = 0)\n",
    "  grid = grid.T\n",
    "  grid = np.expand_dims(grid, axis = 1)\n",
    "\n",
    "  emp_cdf = np.sum(data < grid, 1)/data.shape[0]\n",
    "\n",
    "  return emp_cdf\n",
    "\n",
    "def goodness_of_fit(data, alpha, beta, theta, decay, N=3):\n",
    "\n",
    "  alpha = alpha.to('cpu').detach().numpy()\n",
    "  beta = beta.to('cpu').detach().numpy()\n",
    "  data = data.to('cpu').numpy()\n",
    "  data = data - 0.0001\n",
    "  theta = theta.to('cpu').detach().numpy()\n",
    "\n",
    "  diff = abs(empirical_cdf(data)-compound_poisson_gamma_cdf(data, alpha, beta, theta, decay, N))\n",
    "  dn = np.max(diff, axis = 0)\n",
    "\n",
    "\n",
    "  \n",
    "  print(dn)\n",
    "  print(\"Distribution of Kolmogorov–Smirnov statistics across all genes\")\n",
    "  print(\"Lower values indicate better fit\")\n",
    "\n",
    "\n"
   ]
  },
  {
   "cell_type": "code",
   "execution_count": 4,
   "id": "7d255b3a-3206-4f00-a876-058563ffbca0",
   "metadata": {},
   "outputs": [],
   "source": [
    "def log_joint_one_k(data, theta, alpha, beta, decay, k0):\n",
    "  #k0 starts from 0, same interpretation as the k0 in the derivation\n",
    "  alpha = alpha.to('cpu').detach().numpy()\n",
    "  beta = beta.to('cpu').detach().numpy()\n",
    "  data = data.to('cpu').numpy()\n",
    "  theta = theta.to('cpu').detach().numpy()\n",
    "  decay = decay.to('cpu').detach().numpy()\n",
    "\n",
    "  alpha = alpha*(1+k0/(1+np.exp(-decay)))\n",
    "  #alpha = alpha*(np.power(decay, np.arange(k0+1)).sum())\n",
    "\n",
    "  #log_conditional = np.log(gamma.pdf(data+0.01, alpha, loc=0, scale=1/beta)) \n",
    "  log_conditional = np.log(gamma.pdf(data, alpha, loc=0, scale=1/beta)) \n",
    "  sum_gene = np.sum(log_conditional, axis = 1)\n",
    "  log_joint = sum_gene + np.log(poisson.pmf(k0, theta))\n",
    "  #var_by_cell = np.var(log_conditional, axis = 1)\n",
    "  var_by_cell = np.var(np.exp(log_conditional), axis = 1)\n",
    "\n",
    "  return log_joint\n",
    "\n",
    "def prob_k0(data, theta, alpha, beta, decay, k0, k=3):\n",
    "  log_joint_k0 = log_joint_one_k(data, theta, alpha, beta, decay, k0)\n",
    "\n",
    "  one_ks = np.ones((data.shape[0],k))\n",
    "  for i in np.arange(k):\n",
    "    one_ks[:,i] = log_joint_one_k(data, theta, alpha, beta, decay, i)\n",
    "  \n",
    "  logsumexp_ks = special.logsumexp(one_ks, axis = 1)\n",
    "  log_prob = log_joint_k0 - logsumexp_ks\n",
    "  log_prob = log_prob.astype('float128')\n",
    "  prob = np.exp(log_prob, dtype=np.float128)\n",
    "  \n",
    "  #reliability = 1-1/var_by_cell/max(1/var_by_cell)\n",
    "  #reliability = 1-var_by_cell/max(var_by_cell)\n",
    "\n",
    "  return prob\n",
    "\n",
    "def reliability_atac(data, theta, alpha, beta, decay, k=3):\n",
    "    \n",
    "    \n",
    "    prob_singlet = prob_k0(small_stable, theta, alpha, beta, decay, 0, k)\n",
    "    prob_doublet = 1-prob_singlet\n",
    "    pred = np.where(prob_doublet > 0.5, True, False)\n",
    "    \n",
    "    alpha = alpha.to('cpu').detach().numpy()\n",
    "    beta = beta.to('cpu').detach().numpy()\n",
    "    data = small_stable.to('cpu').numpy()\n",
    "    theta = theta.to('cpu').detach().numpy()\n",
    "    decay = decay.to('cpu').detach().numpy()\n",
    "      \n",
    "    one_ks = np.ones((data.shape[0], data.shape[1], k))\n",
    "    for i in np.arange(k):\n",
    "        alpha_k = alpha*(1+i/(1+np.exp(-decay)))\n",
    "        one_ks[:,:,i] = np.log(gamma.pdf(data,  alpha_k, loc=0, scale=1/beta))\n",
    "\n",
    "        \n",
    "\n",
    "    \n",
    "    reliability = 1 - (np.exp(one_ks[:,:,0]-special.logsumexp(one_ks, axis = 2))) #probability of doublets predicted by individual feature\n",
    "\n",
    "    \n",
    "    \n",
    "    #if individual feature prediction result is the same as result by all features, then record as 1. otherwise record as 0\n",
    "    #then, calculate proportion of features that can individually provide correct prediction\n",
    "    reliability[pred,:]=np.where(reliability[pred,:] > 0.5, 1, 0) #predicted doublets\n",
    "    reliability[list(map(operator.not_, pred)),:]=np.where(reliability[list(map(operator.not_, pred)),:] < 0.5, 1, 0)\n",
    "\n",
    "    reliability = np.sum(reliability, axis = 1)/data.shape[1]\n",
    "\n",
    "    result = np.zeros((2, data.shape[0]))\n",
    "    result[0,:] = reliability\n",
    "    result[1,:] = np.where(reliability <= 0.5, 1, 0) #flags the cells whose prediction is subject to outliers\n",
    "    \n",
    "\n",
    "    return result\n",
    "\n",
    "def atac_fit_goodness(data, alpha, beta, theta, decay, k=3):\n",
    "    \n",
    "    data = torch.round(data)\n",
    "    data = data.int()\n",
    "    data = data.to('cpu').numpy()\n",
    "    alpha = alpha.to('cpu').detach().numpy()\n",
    "    beta = beta.to('cpu').detach().numpy()\n",
    "    theta = theta.to('cpu').detach().numpy()\n",
    "    decay = decay.to('cpu').detach().numpy()\n",
    "    \n",
    "    empirical = np.apply_along_axis(lambda x: np.bincount(x, minlength=np.max(data)+1), axis=0, arr=data)\n",
    "    empirical_dist = empirical/data.shape[0] #+ 1e-100 #adjust 1e-100 as needed\n",
    "    empirical_dist #each column is the empirical distribution of a gene\n",
    "\n",
    "    for i in range(empirical_dist.shape[0]-1):\n",
    "        empirical_dist[i+1,] += empirical_dist[i,] #empirical cdf\n",
    "    \n",
    "    #calculate theoretical cdf below\n",
    "    grid = np.expand_dims(np.arange(0, empirical_dist.shape[0], 1, dtype=int)+0.0001,axis=1)\n",
    "    grid=np.repeat(grid, empirical_dist.shape[1], axis = 1)\n",
    "    \n",
    "    one_ks = np.ones((grid.shape[0], grid.shape[1], k))\n",
    "\n",
    "    for i in np.arange(k):\n",
    "        alpha_k = alpha*(1+i/(1+np.exp(-decay)))\n",
    "        one_ks[:,:,i] = np.log(gamma.cdf(grid, alpha_k, loc=0, scale=1/beta))+np.log(poisson.pmf(i, theta))\n",
    "\n",
    "    logsumexp_ks = special.logsumexp(one_ks, axis = 2)    \n",
    "    theoretical_dist = np.exp(logsumexp_ks)\n",
    "    \n",
    "    diff = np.abs(theoretical_dist-empirical_dist)\n",
    "    mean_ks = np.mean(np.amax(diff, axis = 0))\n",
    "    \n",
    "    return mean_ks\n",
    "\n",
    "def metrics(prediction, label, cut = 0.5):\n",
    "    \n",
    "    dichotomized = np.where(prediction > cut, 1, 0)\n",
    "    sensitivity = np.sum(dichotomized[label==1]==1)/dichotomized[label==1].shape[0]\n",
    "    specificity = np.sum(dichotomized[label==0]==0)/dichotomized[label==0].shape[0]\n",
    "    precision = np.sum(dichotomized[label==1]==1)/np.sum(dichotomized==1)\n",
    "    prop = np.sum(dichotomized==1)/label.shape[0]\n",
    "    f1 = 2*precision*sensitivity/(precision+sensitivity)\n",
    "    print(\"Predicted doublet proportion:\",prop)\n",
    "    print(\"Precision:\", precision)\n",
    "    print(\"f1 score:\", f1)\n",
    "    \n",
    "    return sensitivity, specificity"
   ]
  },
  {
   "cell_type": "markdown",
   "id": "1fa12eac-f803-4e3a-a667-c1f46b7b6d4d",
   "metadata": {},
   "source": [
    "## PB-1 ATAC"
   ]
  },
  {
   "cell_type": "code",
   "execution_count": 5,
   "id": "5dfca3ed-18cf-4c7d-9489-3628b7aa33f0",
   "metadata": {},
   "outputs": [
    {
     "name": "stdout",
     "output_type": "stream",
     "text": [
      "/ix1/wchen/Haoran/CPDD/ATAC/20220215_1\n"
     ]
    }
   ],
   "source": [
    "%cd /ix1/wchen/Haoran/CPDD/ATAC/20220215_1/\n",
    "stable = pd.read_csv(\"./ATAC_stable500_cts.csv\")\n",
    "small_stable = stable.iloc[:, 1:300] #300 stable features"
   ]
  },
  {
   "cell_type": "code",
   "execution_count": 6,
   "id": "11815589-ab13-4c29-a8ed-6638a71e23ef",
   "metadata": {},
   "outputs": [],
   "source": [
    "small_stable = torch.tensor(small_stable.values, device = dev) \n",
    "small_stable = small_stable.double() \n",
    "small_stable = small_stable + torch.tensor([0.0001], device = dev)"
   ]
  },
  {
   "cell_type": "code",
   "execution_count": 7,
   "id": "06b264a8-8b21-4a50-b07f-448def9360f1",
   "metadata": {},
   "outputs": [
    {
     "name": "stderr",
     "output_type": "stream",
     "text": [
      "/ihome/crc/install/cuda-11.3/pytorch/1.11.0_gpu/python3.8/lib/python3.8/site-packages/torch/distributions/gamma.py:71: UserWarning: Specified kernel cache directory could not be created! This disables kernel caching. Specified directory is /ihome/wchen/hah112/.cache/torch/kernels. This warning will appear only once per process. (Triggered internally at  /opt/conda/conda-bld/pytorch_1646755903507/work/aten/src/ATen/native/cuda/jit_utils.cpp:860.)\n",
      "  self.rate * value - torch.lgamma(self.concentration))\n"
     ]
    }
   ],
   "source": [
    "theta,alpha,beta,decay, loss_075,p_075 = MLE(small_stable)"
   ]
  },
  {
   "cell_type": "code",
   "execution_count": 8,
   "id": "d50233dd-4562-4164-98b7-719b00fe9db2",
   "metadata": {},
   "outputs": [
    {
     "data": {
      "text/plain": [
       "0.2155402136639542"
      ]
     },
     "execution_count": 8,
     "metadata": {},
     "output_type": "execute_result"
    }
   ],
   "source": [
    "weight = atac_fit_goodness(small_stable, alpha, beta, theta, decay)\n",
    "weight"
   ]
  },
  {
   "cell_type": "code",
   "execution_count": 9,
   "id": "0094d8f7-36b9-4043-873d-7a9041f6a022",
   "metadata": {},
   "outputs": [
    {
     "name": "stdout",
     "output_type": "stream",
     "text": [
      "0.697536014150248\n"
     ]
    },
    {
     "data": {
      "image/png": "[encoded data removed]",
      "text/plain": [
       "<Figure size 432x288 with 1 Axes>"
      ]
     },
     "metadata": {
      "needs_background": "light"
     },
     "output_type": "display_data"
    }
   ],
   "source": [
    "prob_singlet = prob_k0(small_stable, theta, alpha, beta, decay, 0, k=3)\n",
    "prob_doublet = 1-prob_singlet\n",
    "\n",
    "doublet = pd.read_csv(\"./doublet.csv\")\n",
    "doublet = doublet.iloc[:, 5]\n",
    "\n",
    "precision, recall, thresholds = precision_recall_curve(doublet.to_numpy(), prob_doublet)\n",
    "auc_precision_recall = auc(recall, precision)\n",
    "print(auc_precision_recall)\n",
    "plt.plot(recall, precision)\n",
    "plt.show()"
   ]
  },
  {
   "cell_type": "code",
   "execution_count": 10,
   "id": "eea7f2b0-a399-44cd-9a28-a34037ac328f",
   "metadata": {},
   "outputs": [
    {
     "name": "stdout",
     "output_type": "stream",
     "text": [
      "Predicted doublet proportion: 0.19598258611471778\n",
      "Precision: 0.6628994544037412\n",
      "f1 score: 0.6360067302299496\n"
     ]
    }
   ],
   "source": [
    "sen, spe = metrics(prob_doublet, doublet, cut = 0.5)"
   ]
  },
  {
   "cell_type": "code",
   "execution_count": 11,
   "id": "891cef95-abed-4efe-a5f9-7f519bb83e92",
   "metadata": {},
   "outputs": [],
   "source": [
    "doublet_prediction = pd.DataFrame(prob_doublet, columns = ['prob_doublet'])\n",
    "doublet_prediction.index.name = 'index'\n",
    "doublet_prediction.reset_index(inplace=True)\n",
    "#doublet_prediction = doublet_prediction.sort_values(\"prob_doublet\", ascending = False)\n",
    "#doublet_prediction\n",
    "doublet_prediction.to_csv('doublet_20220215_1_atac.csv',index=False)"
   ]
  },
  {
   "cell_type": "code",
   "execution_count": 12,
   "id": "28d86534-9fb3-4b4e-8077-fb67292c2c2a",
   "metadata": {},
   "outputs": [],
   "source": [
    "reliability_table = reliability_atac(small_stable, theta, alpha, beta, decay)\n",
    "data = {'reliability': reliability_table[0,:]/(2*weight),\n",
    "        'flag': reliability_table[1,:]}\n",
    "  \n",
    "# Create DataFrame\n",
    "reliability_file = pd.DataFrame(data)\n",
    "reliability_file.index.name = 'index'\n",
    "reliability_file.reset_index(inplace=True)\n",
    "#doublet_prediction = doublet_prediction.sort_values(\"prob_doublet\", ascending = False)\n",
    "#doublet_prediction\n",
    "reliability_file.to_csv('reliability_20220215_1_atac.csv',index=False)"
   ]
  },
  {
   "cell_type": "markdown",
   "id": "da69d683-fdb0-4025-b35e-ff33768320ee",
   "metadata": {},
   "source": [
    "## PB-1 RNA+ATAC"
   ]
  },
  {
   "cell_type": "code",
   "execution_count": 13,
   "id": "c5f32d45-8ceb-489d-8695-f71109e1c0bf",
   "metadata": {},
   "outputs": [],
   "source": [
    "atac_doublet = pd.read_csv(\"/ix1/wchen/Haoran/CPDD/ATAC/20220215_1/doublet_20220215_1_atac.csv\")\n",
    "rna_doublet = pd.read_csv(\"/ix1/wchen/Haoran/CPDD/RNA/20220215_1/doublet_20220215_1_rna.csv\")\n",
    "atac_reliability = pd.read_csv(\"/ix1/wchen/Haoran/CPDD/ATAC/20220215_1/reliability_20220215_1_atac.csv\")\n",
    "rna_reliability = pd.read_csv(\"/ix1/wchen/Haoran/CPDD/RNA/20220215_1/reliability_20220215_1_rna.csv\")\n",
    "doublet = pd.read_csv(\"/ix1/wchen/Haoran/CPDD/ATAC/20220215_1/doublet.csv\")\n",
    "\n",
    "atac_doublet = atac_doublet.iloc[:, 1].to_numpy()\n",
    "rna_doublet = rna_doublet.iloc[:, 1].to_numpy()\n",
    "atac_reliability = atac_reliability.iloc[:,1].to_numpy()\n",
    "rna_reliability = rna_reliability.iloc[:,1].to_numpy()\n",
    "doublet = doublet.iloc[:, 5].to_numpy()\n",
    "\n",
    "reliability_joint = np.stack((atac_reliability, rna_reliability))\n",
    "reliability_joint = special.softmax(reliability_joint, axis = 0)"
   ]
  },
  {
   "cell_type": "code",
   "execution_count": 14,
   "id": "a0e98eac-8b33-40dd-876b-43af606d40e5",
   "metadata": {},
   "outputs": [
    {
     "name": "stdout",
     "output_type": "stream",
     "text": [
      "0.7641677975578858\n"
     ]
    },
    {
     "data": {
      "image/png": "[encoded data removed]",
      "text/plain": [
       "<Figure size 432x288 with 1 Axes>"
      ]
     },
     "metadata": {
      "needs_background": "light"
     },
     "output_type": "display_data"
    }
   ],
   "source": [
    "combined_prediction = reliability_joint[0,:]*atac_doublet + reliability_joint[1,:]*rna_doublet\n",
    "doublet = pd.read_csv(\"./doublet.csv\")\n",
    "doublet = doublet.iloc[:, 5]\n",
    "#prob_doublet = np.nan_to_num(prob_doublet, nan=1.0)\n",
    "#prob_doublet,  = prob_doublet[1201:3201]\n",
    "\n",
    "precision, recall, thresholds = precision_recall_curve(doublet.to_numpy(), combined_prediction)\n",
    "auc_precision_recall = auc(recall, precision)\n",
    "print(auc_precision_recall)\n",
    "plt.plot(recall, precision)\n",
    "plt.show()"
   ]
  },
  {
   "cell_type": "code",
   "execution_count": 15,
   "id": "90464aa8-6668-45f0-9843-9da33ea717a9",
   "metadata": {},
   "outputs": [
    {
     "name": "stdout",
     "output_type": "stream",
     "text": [
      "Predicted doublet proportion: 0.26212479951118917\n",
      "Precision: 0.6675407925407926\n",
      "f1 score: 0.7372485921158488\n"
     ]
    }
   ],
   "source": [
    "sen, spe = metrics(combined_prediction, doublet, cut = 0.5)"
   ]
  },
  {
   "cell_type": "markdown",
   "id": "9150d556-eaf4-4ef3-85f7-7d0c21271910",
   "metadata": {},
   "source": [
    "## PB-2 ATAC"
   ]
  },
  {
   "cell_type": "code",
   "execution_count": 16,
   "id": "4b90d6bd-f31c-4303-9e49-e47f00a235da",
   "metadata": {},
   "outputs": [
    {
     "name": "stdout",
     "output_type": "stream",
     "text": [
      "/ix1/wchen/Haoran/CPDD/ATAC/20220215_2\n"
     ]
    }
   ],
   "source": [
    "%cd /ix1/wchen/Haoran/CPDD/ATAC/20220215_2/\n",
    "stable = pd.read_csv(\"./ATAC_stable500_cts.csv\")\n",
    "small_stable = stable.iloc[:, 1:300] #300 stable features"
   ]
  },
  {
   "cell_type": "code",
   "execution_count": 17,
   "id": "21210d61-e01e-4e49-982d-d1ddbc9a5802",
   "metadata": {},
   "outputs": [],
   "source": [
    "small_stable = torch.tensor(small_stable.values, device = dev) \n",
    "small_stable = small_stable.double() \n",
    "small_stable = small_stable + torch.tensor([0.0001], device = dev)"
   ]
  },
  {
   "cell_type": "code",
   "execution_count": 18,
   "id": "35e362e3-b40a-49d1-8e7a-286a771e7fab",
   "metadata": {},
   "outputs": [],
   "source": [
    "theta,alpha,beta,decay, loss_075,p_075 = MLE(small_stable)"
   ]
  },
  {
   "cell_type": "code",
   "execution_count": 19,
   "id": "efb73b9a-d9a8-4bb7-8ddf-c4cbefdd59ed",
   "metadata": {},
   "outputs": [
    {
     "data": {
      "text/plain": [
       "0.19666664618746799"
      ]
     },
     "execution_count": 19,
     "metadata": {},
     "output_type": "execute_result"
    }
   ],
   "source": [
    "weight = atac_fit_goodness(small_stable, alpha, beta, theta, decay)\n",
    "weight"
   ]
  },
  {
   "cell_type": "code",
   "execution_count": 20,
   "id": "b8df8ef4-f424-44e0-9522-be60bad3ed54",
   "metadata": {},
   "outputs": [
    {
     "name": "stdout",
     "output_type": "stream",
     "text": [
      "0.7200845667472392\n"
     ]
    },
    {
     "data": {
      "image/png": "[encoded data removed]",
      "text/plain": [
       "<Figure size 432x288 with 1 Axes>"
      ]
     },
     "metadata": {
      "needs_background": "light"
     },
     "output_type": "display_data"
    }
   ],
   "source": [
    "prob_singlet = prob_k0(small_stable, theta, alpha, beta, decay, 0, k=3)\n",
    "prob_doublet = 1-prob_singlet\n",
    "\n",
    "doublet = pd.read_csv(\"./doublet.csv\")\n",
    "doublet = doublet.iloc[:, 5]\n",
    "\n",
    "precision, recall, thresholds = precision_recall_curve(doublet.to_numpy(), prob_doublet)\n",
    "auc_precision_recall = auc(recall, precision)\n",
    "print(auc_precision_recall)\n",
    "plt.plot(recall, precision)\n",
    "plt.show()"
   ]
  },
  {
   "cell_type": "code",
   "execution_count": 21,
   "id": "cc57b95c-5444-4a26-8b60-a85471703784",
   "metadata": {},
   "outputs": [
    {
     "name": "stdout",
     "output_type": "stream",
     "text": [
      "Predicted doublet proportion: 0.19294377067254687\n",
      "Precision: 0.6778571428571428\n",
      "f1 score: 0.6639846073115269\n"
     ]
    }
   ],
   "source": [
    "sen, spe = metrics(prob_doublet, doublet, cut = 0.5)"
   ]
  },
  {
   "cell_type": "code",
   "execution_count": 22,
   "id": "1f354de7-5798-40df-950f-9961a6b6d76d",
   "metadata": {},
   "outputs": [],
   "source": [
    "doublet_prediction = pd.DataFrame(prob_doublet, columns = ['prob_doublet'])\n",
    "doublet_prediction.index.name = 'index'\n",
    "doublet_prediction.reset_index(inplace=True)\n",
    "#doublet_prediction = doublet_prediction.sort_values(\"prob_doublet\", ascending = False)\n",
    "#doublet_prediction\n",
    "doublet_prediction.to_csv('doublet_20220215_2_atac.csv',index=False)"
   ]
  },
  {
   "cell_type": "code",
   "execution_count": 23,
   "id": "ab8a4d18-58e1-4fe1-ade1-91ca6231235d",
   "metadata": {},
   "outputs": [],
   "source": [
    "reliability_table = reliability_atac(small_stable, theta, alpha, beta, decay)\n",
    "data = {'reliability': reliability_table[0,:]/(2*weight),\n",
    "        'flag': reliability_table[1,:]}\n",
    "  \n",
    "# Create DataFrame\n",
    "reliability_file = pd.DataFrame(data)\n",
    "reliability_file.index.name = 'index'\n",
    "reliability_file.reset_index(inplace=True)\n",
    "#doublet_prediction = doublet_prediction.sort_values(\"prob_doublet\", ascending = False)\n",
    "#doublet_prediction\n",
    "reliability_file.to_csv('reliability_20220215_2_atac.csv',index=False)"
   ]
  },
  {
   "cell_type": "markdown",
   "id": "5863f81a-99a9-40cd-889e-4040b61f1760",
   "metadata": {},
   "source": [
    "## PB-2 RNA+ATAC"
   ]
  },
  {
   "cell_type": "code",
   "execution_count": 24,
   "id": "9032aa65-f656-4296-ab21-2eb332ed9ea2",
   "metadata": {},
   "outputs": [],
   "source": [
    "atac_doublet = pd.read_csv(\"/ix1/wchen/Haoran/CPDD/ATAC/20220215_2/doublet_20220215_2_atac.csv\")\n",
    "rna_doublet = pd.read_csv(\"/ix1/wchen/Haoran/CPDD/RNA/20220215_2/doublet_20220215_2_rna.csv\")\n",
    "atac_reliability = pd.read_csv(\"/ix1/wchen/Haoran/CPDD/ATAC/20220215_2/reliability_20220215_2_atac.csv\")\n",
    "rna_reliability = pd.read_csv(\"/ix1/wchen/Haoran/CPDD/RNA/20220215_2/reliability_20220215_2_rna.csv\")\n",
    "doublet = pd.read_csv(\"/ix1/wchen/Haoran/CPDD/ATAC/20220215_2/doublet.csv\")\n",
    "\n",
    "atac_doublet = atac_doublet.iloc[:, 1].to_numpy()\n",
    "rna_doublet = rna_doublet.iloc[:, 1].to_numpy()\n",
    "atac_reliability = atac_reliability.iloc[:,1].to_numpy()\n",
    "rna_reliability = rna_reliability.iloc[:,1].to_numpy()\n",
    "doublet = doublet.iloc[:, 5].to_numpy()\n",
    "\n",
    "reliability_joint = np.stack((atac_reliability, rna_reliability))\n",
    "reliability_joint = special.softmax(reliability_joint, axis = 0)"
   ]
  },
  {
   "cell_type": "code",
   "execution_count": 25,
   "id": "57009cef-e6d5-4137-b056-578deffa48c0",
   "metadata": {},
   "outputs": [
    {
     "name": "stdout",
     "output_type": "stream",
     "text": [
      "0.749512552614914\n"
     ]
    },
    {
     "data": {
      "image/png": "[encoded data removed]",
      "text/plain": [
       "<Figure size 432x288 with 1 Axes>"
      ]
     },
     "metadata": {
      "needs_background": "light"
     },
     "output_type": "display_data"
    }
   ],
   "source": [
    "combined_prediction = reliability_joint[0,:]*atac_doublet + reliability_joint[1,:]*rna_doublet\n",
    "doublet = pd.read_csv(\"./doublet.csv\")\n",
    "doublet = doublet.iloc[:, 5]\n",
    "#prob_doublet = np.nan_to_num(prob_doublet, nan=1.0)\n",
    "#prob_doublet,  = prob_doublet[1201:3201]\n",
    "\n",
    "precision, recall, thresholds = precision_recall_curve(doublet.to_numpy(), combined_prediction)\n",
    "auc_precision_recall = auc(recall, precision)\n",
    "print(auc_precision_recall)\n",
    "plt.plot(recall, precision)\n",
    "plt.show()"
   ]
  },
  {
   "cell_type": "code",
   "execution_count": 26,
   "id": "16b8dc23-83ec-4d7d-9688-0e22a0773657",
   "metadata": {},
   "outputs": [
    {
     "name": "stdout",
     "output_type": "stream",
     "text": [
      "Predicted doublet proportion: 0.27928610804851156\n",
      "Precision: 0.6237355045645201\n",
      "f1 score: 0.7253945480631276\n"
     ]
    }
   ],
   "source": [
    "sen, spe = metrics(combined_prediction, doublet, cut = 0.5)"
   ]
  },
  {
   "cell_type": "markdown",
   "id": "f14b5b9b-e7a5-494d-b40a-6ddd7067f4c2",
   "metadata": {},
   "source": [
    "## PB-3 ATAC"
   ]
  },
  {
   "cell_type": "code",
   "execution_count": 27,
   "id": "7099fd97-4419-4afd-8a69-6ce7b8de6a0b",
   "metadata": {},
   "outputs": [
    {
     "name": "stdout",
     "output_type": "stream",
     "text": [
      "/ix1/wchen/Haoran/CPDD/ATAC/20220218_1\n"
     ]
    }
   ],
   "source": [
    "%cd /ix1/wchen/Haoran/CPDD/ATAC/20220218_1/\n",
    "stable = pd.read_csv(\"./ATAC_stable500_cts.csv\")\n",
    "small_stable = stable.iloc[:, 1:300] #300 stable features"
   ]
  },
  {
   "cell_type": "code",
   "execution_count": 28,
   "id": "bd213d40-6cca-412c-86ed-91b6439d532e",
   "metadata": {},
   "outputs": [],
   "source": [
    "small_stable = torch.tensor(small_stable.values, device = dev) \n",
    "small_stable = small_stable.double() \n",
    "small_stable = small_stable + torch.tensor([0.0001], device = dev)"
   ]
  },
  {
   "cell_type": "code",
   "execution_count": 29,
   "id": "13ecb3e5-68f9-4780-bf4e-6cf598b94d05",
   "metadata": {},
   "outputs": [],
   "source": [
    "theta,alpha,beta,decay, loss_075,p_075 = MLE(small_stable)"
   ]
  },
  {
   "cell_type": "code",
   "execution_count": 30,
   "id": "1cc66122-1054-43d7-90f9-7ac2daea6ff4",
   "metadata": {},
   "outputs": [
    {
     "data": {
      "text/plain": [
       "0.1919114811324909"
      ]
     },
     "execution_count": 30,
     "metadata": {},
     "output_type": "execute_result"
    }
   ],
   "source": [
    "weight = atac_fit_goodness(small_stable, alpha, beta, theta, decay)\n",
    "weight"
   ]
  },
  {
   "cell_type": "code",
   "execution_count": 31,
   "id": "74771715-ee83-454e-a393-46950aaf68ef",
   "metadata": {},
   "outputs": [
    {
     "name": "stdout",
     "output_type": "stream",
     "text": [
      "0.7540825078647092\n"
     ]
    },
    {
     "data": {
      "image/png": "[encoded data removed]",
      "text/plain": [
       "<Figure size 432x288 with 1 Axes>"
      ]
     },
     "metadata": {
      "needs_background": "light"
     },
     "output_type": "display_data"
    }
   ],
   "source": [
    "prob_singlet = prob_k0(small_stable, theta, alpha, beta, decay, 0, k=3)\n",
    "prob_doublet = 1-prob_singlet\n",
    "\n",
    "doublet = pd.read_csv(\"./doublet.csv\")\n",
    "doublet = doublet.iloc[:, 5]\n",
    "\n",
    "precision, recall, thresholds = precision_recall_curve(doublet.to_numpy(), prob_doublet)\n",
    "auc_precision_recall = auc(recall, precision)\n",
    "print(auc_precision_recall)\n",
    "plt.plot(recall, precision)\n",
    "plt.show()"
   ]
  },
  {
   "cell_type": "code",
   "execution_count": 32,
   "id": "61672196-80bc-4b4b-8a64-c9f97c4d728e",
   "metadata": {},
   "outputs": [
    {
     "name": "stdout",
     "output_type": "stream",
     "text": [
      "Predicted doublet proportion: 0.18007688676063938\n",
      "Precision: 0.7925093632958802\n",
      "f1 score: 0.7000827129859388\n"
     ]
    }
   ],
   "source": [
    "sen, spe = metrics(prob_doublet, doublet, cut = 0.5)"
   ]
  },
  {
   "cell_type": "code",
   "execution_count": 33,
   "id": "4fa5c6a6-a0b7-4105-bf23-28a137b01c50",
   "metadata": {},
   "outputs": [],
   "source": [
    "doublet_prediction = pd.DataFrame(prob_doublet, columns = ['prob_doublet'])\n",
    "doublet_prediction.index.name = 'index'\n",
    "doublet_prediction.reset_index(inplace=True)\n",
    "#doublet_prediction = doublet_prediction.sort_values(\"prob_doublet\", ascending = False)\n",
    "#doublet_prediction\n",
    "doublet_prediction.to_csv('doublet_20220218_1_atac.csv',index=False)"
   ]
  },
  {
   "cell_type": "code",
   "execution_count": 34,
   "id": "200587fd-60d9-4c56-be91-f9e88eff164f",
   "metadata": {},
   "outputs": [],
   "source": [
    "reliability_table = reliability_atac(small_stable, theta, alpha, beta, decay)\n",
    "data = {'reliability': reliability_table[0,:]/(2*weight),\n",
    "        'flag': reliability_table[1,:]}\n",
    "  \n",
    "# Create DataFrame\n",
    "reliability_file = pd.DataFrame(data)\n",
    "reliability_file.index.name = 'index'\n",
    "reliability_file.reset_index(inplace=True)\n",
    "#doublet_prediction = doublet_prediction.sort_values(\"prob_doublet\", ascending = False)\n",
    "#doublet_prediction\n",
    "reliability_file.to_csv('reliability_20220218_1_atac.csv',index=False)"
   ]
  },
  {
   "cell_type": "markdown",
   "id": "03f88918-aaf2-49c0-8509-166202c43cff",
   "metadata": {},
   "source": [
    "## PB-3 RNA+ATAC"
   ]
  },
  {
   "cell_type": "code",
   "execution_count": 35,
   "id": "27bb6cb0-0e9b-44b2-bc49-3758c90b40b1",
   "metadata": {},
   "outputs": [],
   "source": [
    "atac_doublet = pd.read_csv(\"/ix1/wchen/Haoran/CPDD/ATAC/20220218_1/doublet_20220218_1_atac.csv\")\n",
    "rna_doublet = pd.read_csv(\"/ix1/wchen/Haoran/CPDD/RNA/20220218_1/doublet_20220218_1_rna.csv\")\n",
    "atac_reliability = pd.read_csv(\"/ix1/wchen/Haoran/CPDD/ATAC/20220218_1/reliability_20220218_1_atac.csv\")\n",
    "rna_reliability = pd.read_csv(\"/ix1/wchen/Haoran/CPDD/RNA/20220218_1/reliability_20220218_1_rna.csv\")\n",
    "doublet = pd.read_csv(\"/ix1/wchen/Haoran/CPDD/ATAC/20220218_1/doublet.csv\")\n",
    "\n",
    "atac_doublet = atac_doublet.iloc[:, 1].to_numpy()\n",
    "rna_doublet = rna_doublet.iloc[:, 1].to_numpy()\n",
    "atac_reliability = atac_reliability.iloc[:,1].to_numpy()\n",
    "rna_reliability = rna_reliability.iloc[:,1].to_numpy()\n",
    "doublet = doublet.iloc[:, 5].to_numpy()\n",
    "\n",
    "reliability_joint = np.stack((atac_reliability, rna_reliability))\n",
    "reliability_joint = special.softmax(reliability_joint, axis = 0)"
   ]
  },
  {
   "cell_type": "code",
   "execution_count": 36,
   "id": "fb88ba26-16c2-4d43-96a7-588c92aba480",
   "metadata": {},
   "outputs": [
    {
     "name": "stdout",
     "output_type": "stream",
     "text": [
      "0.7687817001311928\n"
     ]
    },
    {
     "data": {
      "image/png": "[encoded data removed]",
      "text/plain": [
       "<Figure size 432x288 with 1 Axes>"
      ]
     },
     "metadata": {
      "needs_background": "light"
     },
     "output_type": "display_data"
    }
   ],
   "source": [
    "combined_prediction = reliability_joint[0,:]*atac_doublet + reliability_joint[1,:]*rna_doublet\n",
    "doublet = pd.read_csv(\"./doublet.csv\")\n",
    "doublet = doublet.iloc[:, 5]\n",
    "\n",
    "\n",
    "precision, recall, thresholds = precision_recall_curve(doublet.to_numpy(), combined_prediction)\n",
    "auc_precision_recall = auc(recall, precision)\n",
    "print(auc_precision_recall)\n",
    "plt.plot(recall, precision)\n",
    "plt.show()"
   ]
  },
  {
   "cell_type": "code",
   "execution_count": 37,
   "id": "ca2d648c-d1a7-415b-99bb-860b2f7ab796",
   "metadata": {},
   "outputs": [
    {
     "name": "stdout",
     "output_type": "stream",
     "text": [
      "Predicted doublet proportion: 0.27389222364605115\n",
      "Precision: 0.7175572519083969\n",
      "f1 score: 0.7837547068316298\n"
     ]
    }
   ],
   "source": [
    "sen, spe = metrics(combined_prediction, doublet, cut = 0.5)"
   ]
  },
  {
   "cell_type": "markdown",
   "id": "c381244b-ed57-4b7f-88a0-fd4900721c95",
   "metadata": {},
   "source": [
    "## PB-4 ATAC"
   ]
  },
  {
   "cell_type": "code",
   "execution_count": 38,
   "id": "4509492c-6592-4710-93dd-c8a34dbe3cda",
   "metadata": {},
   "outputs": [
    {
     "name": "stdout",
     "output_type": "stream",
     "text": [
      "/ix1/wchen/Haoran/CPDD/ATAC/20220218_2\n"
     ]
    }
   ],
   "source": [
    "%cd /ix1/wchen/Haoran/CPDD/ATAC/20220218_2/\n",
    "stable = pd.read_csv(\"./ATAC_stable500_cts.csv\")\n",
    "small_stable = stable.iloc[:, 1:300] #300 stable features"
   ]
  },
  {
   "cell_type": "code",
   "execution_count": 39,
   "id": "32e452f4-35ec-464a-abe2-7592dfaa48d7",
   "metadata": {},
   "outputs": [],
   "source": [
    "small_stable = torch.tensor(small_stable.values, device = dev) \n",
    "small_stable = small_stable.double() \n",
    "small_stable = small_stable + torch.tensor([0.0001], device = dev)"
   ]
  },
  {
   "cell_type": "code",
   "execution_count": 40,
   "id": "341603a8-c1af-4082-829a-6d524b7b2f3f",
   "metadata": {},
   "outputs": [],
   "source": [
    "theta,alpha,beta,decay, loss_075,p_075 = MLE(small_stable)"
   ]
  },
  {
   "cell_type": "code",
   "execution_count": 41,
   "id": "ac206d4a-129a-4ccf-827d-c46d700d52c4",
   "metadata": {},
   "outputs": [
    {
     "data": {
      "text/plain": [
       "0.1793832880375153"
      ]
     },
     "execution_count": 41,
     "metadata": {},
     "output_type": "execute_result"
    }
   ],
   "source": [
    "weight = atac_fit_goodness(small_stable, alpha, beta, theta, decay)\n",
    "weight"
   ]
  },
  {
   "cell_type": "code",
   "execution_count": 42,
   "id": "515e71b1-4204-41d4-bb7e-29aded2aa9c3",
   "metadata": {},
   "outputs": [
    {
     "name": "stdout",
     "output_type": "stream",
     "text": [
      "0.7652335540022442\n"
     ]
    },
    {
     "data": {
      "image/png": "[encoded data removed]",
      "text/plain": [
       "<Figure size 432x288 with 1 Axes>"
      ]
     },
     "metadata": {
      "needs_background": "light"
     },
     "output_type": "display_data"
    }
   ],
   "source": [
    "prob_singlet = prob_k0(small_stable, theta, alpha, beta, decay, 0, k=3)\n",
    "prob_doublet = 1-prob_singlet\n",
    "\n",
    "doublet = pd.read_csv(\"./doublet.csv\")\n",
    "doublet = doublet.iloc[:, 5]\n",
    "\n",
    "precision, recall, thresholds = precision_recall_curve(doublet.to_numpy(), prob_doublet)\n",
    "auc_precision_recall = auc(recall, precision)\n",
    "print(auc_precision_recall)\n",
    "plt.plot(recall, precision)\n",
    "plt.show()"
   ]
  },
  {
   "cell_type": "code",
   "execution_count": 43,
   "id": "7a94ea5d-8df3-4695-be8b-29db9a815cbd",
   "metadata": {},
   "outputs": [
    {
     "name": "stdout",
     "output_type": "stream",
     "text": [
      "Predicted doublet proportion: 0.1799870428175982\n",
      "Precision: 0.8013743455497382\n",
      "f1 score: 0.7202941176470588\n"
     ]
    }
   ],
   "source": [
    "sen, spe = metrics(prob_doublet, doublet, cut = 0.5)"
   ]
  },
  {
   "cell_type": "code",
   "execution_count": 44,
   "id": "3c1efb4f-0766-4f94-ae83-d9ab83ca6f57",
   "metadata": {},
   "outputs": [],
   "source": [
    "doublet_prediction = pd.DataFrame(prob_doublet, columns = ['prob_doublet'])\n",
    "doublet_prediction.index.name = 'index'\n",
    "doublet_prediction.reset_index(inplace=True)\n",
    "#doublet_prediction = doublet_prediction.sort_values(\"prob_doublet\", ascending = False)\n",
    "#doublet_prediction\n",
    "doublet_prediction.to_csv('doublet_20220218_2_atac.csv',index=False)"
   ]
  },
  {
   "cell_type": "code",
   "execution_count": 45,
   "id": "511fad63-136d-443a-9a4a-cab32d01306c",
   "metadata": {},
   "outputs": [],
   "source": [
    "reliability_table = reliability_atac(small_stable, theta, alpha, beta, decay)\n",
    "data = {'reliability': reliability_table[0,:]/(2*weight),\n",
    "        'flag': reliability_table[1,:]}\n",
    "  \n",
    "# Create DataFrame\n",
    "reliability_file = pd.DataFrame(data)\n",
    "reliability_file.index.name = 'index'\n",
    "reliability_file.reset_index(inplace=True)\n",
    "#doublet_prediction = doublet_prediction.sort_values(\"prob_doublet\", ascending = False)\n",
    "#doublet_prediction\n",
    "reliability_file.to_csv('reliability_20220218_2_atac.csv',index=False)"
   ]
  },
  {
   "cell_type": "markdown",
   "id": "75ab9af4-7eef-4417-b2f2-024930c1ebea",
   "metadata": {},
   "source": [
    "## PB-4 RNA+ATAC"
   ]
  },
  {
   "cell_type": "code",
   "execution_count": 46,
   "id": "759774b3-9d33-4d35-8f9a-a3eb4d9d8ee1",
   "metadata": {},
   "outputs": [],
   "source": [
    "atac_doublet = pd.read_csv(\"/ix1/wchen/Haoran/CPDD/ATAC/20220218_2/doublet_20220218_2_atac.csv\")\n",
    "rna_doublet = pd.read_csv(\"/ix1/wchen/Haoran/CPDD/RNA/20220218_2/doublet_20220218_2_rna.csv\")\n",
    "atac_reliability = pd.read_csv(\"/ix1/wchen/Haoran/CPDD/ATAC/20220218_2/reliability_20220218_2_atac.csv\")\n",
    "rna_reliability = pd.read_csv(\"/ix1/wchen/Haoran/CPDD/RNA/20220218_2/reliability_20220218_2_rna.csv\")\n",
    "doublet = pd.read_csv(\"/ix1/wchen/Haoran/CPDD/ATAC/20220218_2/doublet.csv\")\n",
    "\n",
    "atac_doublet = atac_doublet.iloc[:, 1].to_numpy()\n",
    "rna_doublet = rna_doublet.iloc[:, 1].to_numpy()\n",
    "atac_reliability = atac_reliability.iloc[:,1].to_numpy()\n",
    "rna_reliability = rna_reliability.iloc[:,1].to_numpy()\n",
    "doublet = doublet.iloc[:, 5].to_numpy()\n",
    "\n",
    "reliability_joint = np.stack((atac_reliability, rna_reliability))\n",
    "reliability_joint = special.softmax(reliability_joint, axis = 0)"
   ]
  },
  {
   "cell_type": "code",
   "execution_count": 47,
   "id": "9a102210-4aff-437a-baa5-3030c015ad83",
   "metadata": {},
   "outputs": [
    {
     "name": "stdout",
     "output_type": "stream",
     "text": [
      "0.7644769681799455\n"
     ]
    },
    {
     "data": {
      "image/png": "[encoded data removed]",
      "text/plain": [
       "<Figure size 432x288 with 1 Axes>"
      ]
     },
     "metadata": {
      "needs_background": "light"
     },
     "output_type": "display_data"
    }
   ],
   "source": [
    "combined_prediction = reliability_joint[0,:]*atac_doublet + reliability_joint[1,:]*rna_doublet\n",
    "doublet = pd.read_csv(\"./doublet.csv\")\n",
    "doublet = doublet.iloc[:, 5]\n",
    "#prob_doublet = np.nan_to_num(prob_doublet, nan=1.0)\n",
    "#prob_doublet,  = prob_doublet[1201:3201]\n",
    "\n",
    "precision, recall, thresholds = precision_recall_curve(doublet.to_numpy(), combined_prediction)\n",
    "auc_precision_recall = auc(recall, precision)\n",
    "print(auc_precision_recall)\n",
    "plt.plot(recall, precision)\n",
    "plt.show()"
   ]
  },
  {
   "cell_type": "code",
   "execution_count": 48,
   "id": "05d6453a-426c-4338-b3b1-e2df6db31a8d",
   "metadata": {},
   "outputs": [
    {
     "name": "stdout",
     "output_type": "stream",
     "text": [
      "Predicted doublet proportion: 0.2599092997231875\n",
      "Precision: 0.7169725810106503\n",
      "f1 score: 0.7757754076253524\n"
     ]
    }
   ],
   "source": [
    "sen, spe = metrics(combined_prediction, doublet, cut = 0.5)"
   ]
  },
  {
   "cell_type": "markdown",
   "id": "adc45ded-9c13-43d3-b42d-477ff373bdf4",
   "metadata": {},
   "source": [
    "## Ileum-1 ATAC"
   ]
  },
  {
   "cell_type": "code",
   "execution_count": 49,
   "id": "b15d402e-9b5d-46f6-b2ea-b13e66377e9f",
   "metadata": {},
   "outputs": [
    {
     "name": "stdout",
     "output_type": "stream",
     "text": [
      "/ix1/wchen/Haoran/CPDD/ATAC/20230124_1\n"
     ]
    }
   ],
   "source": [
    "%cd /ix1/wchen/Haoran/CPDD/ATAC/20230124_1/\n",
    "stable = genfromtxt(\"./ATAC_stable500_cts.csv\", delimiter=',')\n",
    "small_stable = stable[:,0:300] #300 stable features"
   ]
  },
  {
   "cell_type": "code",
   "execution_count": 50,
   "id": "4a3b594a-4fe1-44f0-8904-1e4bd2414b6d",
   "metadata": {},
   "outputs": [],
   "source": [
    "small_stable = torch.tensor(small_stable, device = dev)\n",
    "small_stable = small_stable.double()\n",
    "small_stable = small_stable + torch.tensor([0.0001], device = dev)"
   ]
  },
  {
   "cell_type": "code",
   "execution_count": 51,
   "id": "5459b961-0f07-4864-a935-4dc08395f790",
   "metadata": {},
   "outputs": [],
   "source": [
    "theta,alpha,beta,decay, loss_075,p_075 = MLE(small_stable)"
   ]
  },
  {
   "cell_type": "code",
   "execution_count": 52,
   "id": "46281915-f91f-4857-ba65-5f9744974dc8",
   "metadata": {},
   "outputs": [
    {
     "data": {
      "text/plain": [
       "0.17635970874445375"
      ]
     },
     "execution_count": 52,
     "metadata": {},
     "output_type": "execute_result"
    }
   ],
   "source": [
    "weight = atac_fit_goodness(small_stable, alpha, beta, theta, decay)\n",
    "weight"
   ]
  },
  {
   "cell_type": "code",
   "execution_count": 53,
   "id": "fa2520d0-065c-4e2d-afaa-727a5b84ff73",
   "metadata": {},
   "outputs": [
    {
     "name": "stdout",
     "output_type": "stream",
     "text": [
      "0.6272374972168634\n"
     ]
    },
    {
     "data": {
      "image/png": "[encoded data removed]",
      "text/plain": [
       "<Figure size 432x288 with 1 Axes>"
      ]
     },
     "metadata": {
      "needs_background": "light"
     },
     "output_type": "display_data"
    }
   ],
   "source": [
    "prob_singlet = prob_k0(small_stable, theta, alpha, beta, decay, 0, k=3)\n",
    "prob_doublet = 1-prob_singlet\n",
    "\n",
    "doublet = genfromtxt(\"./doublet.csv\", delimiter=',')\n",
    "doublet = doublet[1:, 1]\n",
    "\n",
    "\n",
    "precision, recall, thresholds = precision_recall_curve(doublet, prob_doublet)\n",
    "auc_precision_recall = auc(recall, precision)\n",
    "print(auc_precision_recall)\n",
    "plt.plot(recall, precision)\n",
    "plt.show()"
   ]
  },
  {
   "cell_type": "code",
   "execution_count": 54,
   "id": "e7c433dc-9a36-45bb-a1ca-0119fed8afcd",
   "metadata": {},
   "outputs": [
    {
     "name": "stdout",
     "output_type": "stream",
     "text": [
      "Predicted doublet proportion: 0.23251794039076004\n",
      "Precision: 0.5791845010137419\n",
      "f1 score: 0.5653034300791556\n"
     ]
    }
   ],
   "source": [
    "sen, spe = metrics(prob_doublet, doublet, cut = 0.5)"
   ]
  },
  {
   "cell_type": "code",
   "execution_count": 55,
   "id": "3ede2728-4e7c-40aa-a573-237da72e16ff",
   "metadata": {},
   "outputs": [],
   "source": [
    "doublet_prediction = pd.DataFrame(prob_doublet, columns = ['prob_doublet'])\n",
    "doublet_prediction.index.name = 'index'\n",
    "doublet_prediction.reset_index(inplace=True)\n",
    "#doublet_prediction = doublet_prediction.sort_values(\"prob_doublet\", ascending = False)\n",
    "#doublet_prediction\n",
    "doublet_prediction.to_csv('doublet_20230124_1_atac.csv',index=False)"
   ]
  },
  {
   "cell_type": "code",
   "execution_count": 56,
   "id": "03b18bd4-f090-404b-809f-b4c0031f928e",
   "metadata": {},
   "outputs": [],
   "source": [
    "reliability_table = reliability_atac(small_stable, theta, alpha, beta, decay)\n",
    "data = {'reliability': reliability_table[0,:]/(2*weight),\n",
    "        'flag': reliability_table[1,:]}\n",
    "  \n",
    "# Create DataFrame\n",
    "reliability_file = pd.DataFrame(data)\n",
    "reliability_file.index.name = 'index'\n",
    "reliability_file.reset_index(inplace=True)\n",
    "#doublet_prediction = doublet_prediction.sort_values(\"prob_doublet\", ascending = False)\n",
    "#doublet_prediction\n",
    "reliability_file.to_csv('reliability_20230124_1_atac.csv',index=False)"
   ]
  },
  {
   "cell_type": "markdown",
   "id": "c5b99ca0-7e76-4f3e-b484-d0b5d15f8bde",
   "metadata": {},
   "source": [
    "## Ileum-1 RNA+ATAC"
   ]
  },
  {
   "cell_type": "code",
   "execution_count": 57,
   "id": "c0e8d6b2-2f08-4f7f-9cc0-c84ad4e8b8f2",
   "metadata": {},
   "outputs": [],
   "source": [
    "atac_doublet = pd.read_csv(\"/ix1/wchen/Haoran/CPDD/ATAC/20230124_1/doublet_20230124_1_atac.csv\")\n",
    "rna_doublet = pd.read_csv(\"/ix1/wchen/Haoran/CPDD/RNA/20230124_1/doublet_20230124_1_rna.csv\")\n",
    "atac_reliability = pd.read_csv(\"/ix1/wchen/Haoran/CPDD/ATAC/20230124_1/reliability_20230124_1_atac.csv\")\n",
    "rna_reliability = pd.read_csv(\"/ix1/wchen/Haoran/CPDD/RNA/20230124_1/reliability_20230124_1_rna.csv\")\n",
    "doublet = pd.read_csv(\"/ix1/wchen/Haoran/CPDD/ATAC/20230124_1/doublet.csv\")\n",
    "\n",
    "atac_doublet = atac_doublet.iloc[:, 1].to_numpy()\n",
    "rna_doublet = rna_doublet.iloc[:, 1].to_numpy()\n",
    "atac_reliability = atac_reliability.iloc[:,1].to_numpy()\n",
    "rna_reliability = rna_reliability.iloc[:,1].to_numpy()\n",
    "doublet = doublet.iloc[:, 1].to_numpy()\n",
    "\n",
    "reliability_joint = np.stack((atac_reliability, rna_reliability))\n",
    "reliability_joint = special.softmax(reliability_joint, axis = 0)"
   ]
  },
  {
   "cell_type": "code",
   "execution_count": 58,
   "id": "87d3652f-e35a-4656-b52b-2aeef5653403",
   "metadata": {},
   "outputs": [
    {
     "name": "stdout",
     "output_type": "stream",
     "text": [
      "0.6788685175855832\n"
     ]
    },
    {
     "data": {
      "image/png": "[encoded data removed]",
      "text/plain": [
       "<Figure size 432x288 with 1 Axes>"
      ]
     },
     "metadata": {
      "needs_background": "light"
     },
     "output_type": "display_data"
    }
   ],
   "source": [
    "combined_prediction = reliability_joint[0,:]*atac_doublet + reliability_joint[1,:]*rna_doublet\n",
    "doublet = pd.read_csv(\"./doublet.csv\")\n",
    "doublet = doublet.iloc[:, 1]\n",
    "\n",
    "\n",
    "precision, recall, thresholds = precision_recall_curve(doublet.to_numpy(), combined_prediction)\n",
    "auc_precision_recall = auc(recall, precision)\n",
    "print(auc_precision_recall)\n",
    "plt.plot(recall, precision)\n",
    "plt.show()"
   ]
  },
  {
   "cell_type": "code",
   "execution_count": 59,
   "id": "ecbe32d5-27db-4eb4-a244-326a8ad29e95",
   "metadata": {},
   "outputs": [
    {
     "name": "stdout",
     "output_type": "stream",
     "text": [
      "Predicted doublet proportion: 0.291708134723168\n",
      "Precision: 0.5580894235949003\n",
      "f1 score: 0.6078623117543516\n"
     ]
    }
   ],
   "source": [
    "sen, spe = metrics(combined_prediction, doublet, cut = 0.5)"
   ]
  },
  {
   "cell_type": "markdown",
   "id": "292d60a7-1b03-42d5-9084-c9adb2cf83ca",
   "metadata": {},
   "source": [
    "## Ileum-2 ATAC"
   ]
  },
  {
   "cell_type": "code",
   "execution_count": 60,
   "id": "3b066e19-f782-4764-ba80-066d4052b8c3",
   "metadata": {},
   "outputs": [
    {
     "name": "stdout",
     "output_type": "stream",
     "text": [
      "/ix1/wchen/Haoran/CPDD/ATAC/20230124_2\n"
     ]
    }
   ],
   "source": [
    "%cd /ix1/wchen/Haoran/CPDD/ATAC/20230124_2/\n",
    "stable = genfromtxt(\"./ATAC_stable500_cts.csv\", delimiter=',')\n",
    "small_stable = stable[:,0:300] #300 stable features"
   ]
  },
  {
   "cell_type": "code",
   "execution_count": 61,
   "id": "5d9352b0-90c5-4540-adac-d07669bbbdf0",
   "metadata": {},
   "outputs": [],
   "source": [
    "small_stable = torch.tensor(small_stable, device = dev)\n",
    "small_stable = small_stable.double()\n",
    "small_stable = small_stable + torch.tensor([0.0001], device = dev)"
   ]
  },
  {
   "cell_type": "code",
   "execution_count": 62,
   "id": "1c498a36-eaa2-4efe-bcd2-747e03298356",
   "metadata": {},
   "outputs": [],
   "source": [
    "theta,alpha,beta,decay, loss_075,p_075 = MLE(small_stable)"
   ]
  },
  {
   "cell_type": "code",
   "execution_count": 63,
   "id": "2af873a7-af78-4b24-bcfc-7e2650f1ca91",
   "metadata": {},
   "outputs": [
    {
     "data": {
      "text/plain": [
       "0.19730384096764333"
      ]
     },
     "execution_count": 63,
     "metadata": {},
     "output_type": "execute_result"
    }
   ],
   "source": [
    "weight = atac_fit_goodness(small_stable, alpha, beta, theta, decay)\n",
    "weight"
   ]
  },
  {
   "cell_type": "code",
   "execution_count": 64,
   "id": "0828b722-ecec-4558-8c4d-4eb9e7c44044",
   "metadata": {},
   "outputs": [
    {
     "name": "stdout",
     "output_type": "stream",
     "text": [
      "0.6296034491652591\n"
     ]
    },
    {
     "data": {
      "image/png": "[encoded data removed]",
      "text/plain": [
       "<Figure size 432x288 with 1 Axes>"
      ]
     },
     "metadata": {
      "needs_background": "light"
     },
     "output_type": "display_data"
    }
   ],
   "source": [
    "prob_singlet = prob_k0(small_stable, theta, alpha, beta, decay, 0, k=3)\n",
    "prob_doublet = 1-prob_singlet\n",
    "\n",
    "doublet = genfromtxt(\"./doublet.csv\", delimiter=',')\n",
    "doublet = doublet[1:, 1]\n",
    "\n",
    "\n",
    "precision, recall, thresholds = precision_recall_curve(doublet, prob_doublet)\n",
    "auc_precision_recall = auc(recall, precision)\n",
    "print(auc_precision_recall)\n",
    "plt.plot(recall, precision)\n",
    "plt.show()"
   ]
  },
  {
   "cell_type": "code",
   "execution_count": 65,
   "id": "31865228-2ab1-4851-9790-13dd629ecb94",
   "metadata": {},
   "outputs": [
    {
     "name": "stdout",
     "output_type": "stream",
     "text": [
      "Predicted doublet proportion: 0.21179578475851377\n",
      "Precision: 0.5257592190889371\n",
      "f1 score: 0.5777711561382598\n"
     ]
    }
   ],
   "source": [
    "sen, spe = metrics(prob_doublet, doublet, cut = 0.5)"
   ]
  },
  {
   "cell_type": "code",
   "execution_count": 66,
   "id": "5cf01536-8d5f-493a-a25f-a220c191dd8a",
   "metadata": {},
   "outputs": [],
   "source": [
    "doublet_prediction = pd.DataFrame(prob_doublet, columns = ['prob_doublet'])\n",
    "doublet_prediction.index.name = 'index'\n",
    "doublet_prediction.reset_index(inplace=True)\n",
    "#doublet_prediction = doublet_prediction.sort_values(\"prob_doublet\", ascending = False)\n",
    "#doublet_prediction\n",
    "doublet_prediction.to_csv('doublet_20230124_2_atac.csv',index=False)"
   ]
  },
  {
   "cell_type": "code",
   "execution_count": 67,
   "id": "5aa565e7-5e55-4918-9958-c4733dbc9006",
   "metadata": {},
   "outputs": [],
   "source": [
    "reliability_table = reliability_atac(small_stable, theta, alpha, beta, decay)\n",
    "data = {'reliability': reliability_table[0,:]/(2*weight),\n",
    "        'flag': reliability_table[1,:]}\n",
    "  \n",
    "# Create DataFrame\n",
    "reliability_file = pd.DataFrame(data)\n",
    "reliability_file.index.name = 'index'\n",
    "reliability_file.reset_index(inplace=True)\n",
    "#doublet_prediction = doublet_prediction.sort_values(\"prob_doublet\", ascending = False)\n",
    "#doublet_prediction\n",
    "reliability_file.to_csv('reliability_20230124_2_atac.csv',index=False)"
   ]
  },
  {
   "cell_type": "markdown",
   "id": "3fe6082a-038d-4be4-a83b-fdf794c6e093",
   "metadata": {},
   "source": [
    "## Ileum-2 RNA+ATAC"
   ]
  },
  {
   "cell_type": "code",
   "execution_count": 68,
   "id": "d43584bd-6c6b-45b3-8692-92246eff5580",
   "metadata": {},
   "outputs": [],
   "source": [
    "atac_doublet = pd.read_csv(\"/ix1/wchen/Haoran/CPDD/ATAC/20230124_2/doublet_20230124_2_atac.csv\")\n",
    "rna_doublet = pd.read_csv(\"/ix1/wchen/Haoran/CPDD/RNA/20230124_2/doublet_20230124_2_rna.csv\")\n",
    "atac_reliability = pd.read_csv(\"/ix1/wchen/Haoran/CPDD/ATAC/20230124_2/reliability_20230124_2_atac.csv\")\n",
    "rna_reliability = pd.read_csv(\"/ix1/wchen/Haoran/CPDD/RNA/20230124_2/reliability_20230124_2_rna.csv\")\n",
    "doublet = pd.read_csv(\"/ix1/wchen/Haoran/CPDD/ATAC/20230124_2/doublet.csv\")\n",
    "\n",
    "atac_doublet = atac_doublet.iloc[:, 1].to_numpy()\n",
    "rna_doublet = rna_doublet.iloc[:, 1].to_numpy()\n",
    "atac_reliability = atac_reliability.iloc[:,1].to_numpy()\n",
    "rna_reliability = rna_reliability.iloc[:,1].to_numpy()\n",
    "doublet = doublet.iloc[:, 1].to_numpy()\n",
    "\n",
    "reliability_joint = np.stack((atac_reliability, rna_reliability))\n",
    "reliability_joint = special.softmax(reliability_joint, axis = 0)"
   ]
  },
  {
   "cell_type": "code",
   "execution_count": 69,
   "id": "1348b2af-5c25-49d7-baa1-0ce70bae4c09",
   "metadata": {},
   "outputs": [
    {
     "name": "stdout",
     "output_type": "stream",
     "text": [
      "0.6935259204587739\n"
     ]
    },
    {
     "data": {
      "image/png": "[encoded data removed]",
      "text/plain": [
       "<Figure size 432x288 with 1 Axes>"
      ]
     },
     "metadata": {
      "needs_background": "light"
     },
     "output_type": "display_data"
    }
   ],
   "source": [
    "combined_prediction = reliability_joint[0,:]*atac_doublet + reliability_joint[1,:]*rna_doublet\n",
    "doublet = pd.read_csv(\"./doublet.csv\")\n",
    "doublet = doublet.iloc[:, 1]\n",
    "\n",
    "\n",
    "precision, recall, thresholds = precision_recall_curve(doublet.to_numpy(), combined_prediction)\n",
    "auc_precision_recall = auc(recall, precision)\n",
    "print(auc_precision_recall)\n",
    "plt.plot(recall, precision)\n",
    "plt.show()"
   ]
  },
  {
   "cell_type": "code",
   "execution_count": 70,
   "id": "01058f7b-f150-4e8c-93bb-caa9f5e70872",
   "metadata": {},
   "outputs": [
    {
     "name": "stdout",
     "output_type": "stream",
     "text": [
      "Predicted doublet proportion: 0.27203813242979386\n",
      "Precision: 0.5022165927802407\n",
      "f1 score: 0.6130653266331658\n"
     ]
    }
   ],
   "source": [
    "sen, spe = metrics(combined_prediction, doublet, cut = 0.5)"
   ]
  },
  {
   "cell_type": "markdown",
   "id": "0e827cf5-c886-4878-9920-8c599882d1e4",
   "metadata": {},
   "source": [
    "## Ileum-3 ATAC"
   ]
  },
  {
   "cell_type": "code",
   "execution_count": 71,
   "id": "7d50a2c9-b1d5-4318-a387-869866b42f3d",
   "metadata": {},
   "outputs": [
    {
     "name": "stdout",
     "output_type": "stream",
     "text": [
      "/ix1/wchen/Haoran/CPDD/ATAC/20230126_1\n"
     ]
    }
   ],
   "source": [
    "%cd /ix1/wchen/Haoran/CPDD/ATAC/20230126_1/\n",
    "stable = genfromtxt(\"./ATAC_stable500_cts.csv\", delimiter=',')\n",
    "small_stable = stable[:,0:300] #300 stable features"
   ]
  },
  {
   "cell_type": "code",
   "execution_count": 72,
   "id": "4c56962b-3a24-4b11-accf-caf9d36f1d84",
   "metadata": {},
   "outputs": [],
   "source": [
    "small_stable = torch.tensor(small_stable, device = dev)\n",
    "small_stable = small_stable.double()\n",
    "small_stable = small_stable + torch.tensor([0.0001], device = dev)"
   ]
  },
  {
   "cell_type": "code",
   "execution_count": 73,
   "id": "a5dde99f-c6cd-419a-b068-7ffb0b49dbcf",
   "metadata": {},
   "outputs": [],
   "source": [
    "theta,alpha,beta,decay, loss_075,p_075 = MLE(small_stable)"
   ]
  },
  {
   "cell_type": "code",
   "execution_count": 74,
   "id": "d0005338-0ace-4c5c-a261-56458ed606ca",
   "metadata": {},
   "outputs": [
    {
     "data": {
      "text/plain": [
       "0.2588966205377892"
      ]
     },
     "execution_count": 74,
     "metadata": {},
     "output_type": "execute_result"
    }
   ],
   "source": [
    "weight = atac_fit_goodness(small_stable, alpha, beta, theta, decay)\n",
    "weight"
   ]
  },
  {
   "cell_type": "code",
   "execution_count": 75,
   "id": "a5d20dbc-e01f-454b-b374-146962a0c9ce",
   "metadata": {},
   "outputs": [
    {
     "name": "stdout",
     "output_type": "stream",
     "text": [
      "0.44871954431423466\n"
     ]
    },
    {
     "data": {
      "image/png": "[encoded data removed]",
      "text/plain": [
       "<Figure size 432x288 with 1 Axes>"
      ]
     },
     "metadata": {
      "needs_background": "light"
     },
     "output_type": "display_data"
    }
   ],
   "source": [
    "prob_singlet = prob_k0(small_stable, theta, alpha, beta, decay, 0, k=3)\n",
    "prob_doublet = 1-prob_singlet\n",
    "\n",
    "doublet = genfromtxt(\"./doublet.csv\", delimiter=',')\n",
    "doublet = doublet[1:, 1]\n",
    "\n",
    "\n",
    "precision, recall, thresholds = precision_recall_curve(doublet, prob_doublet)\n",
    "auc_precision_recall = auc(recall, precision)\n",
    "print(auc_precision_recall)\n",
    "plt.plot(recall, precision)\n",
    "plt.show()"
   ]
  },
  {
   "cell_type": "code",
   "execution_count": 76,
   "id": "c6c7ded3-0987-43f7-a9f4-50bc69a5ccc8",
   "metadata": {},
   "outputs": [
    {
     "name": "stdout",
     "output_type": "stream",
     "text": [
      "Predicted doublet proportion: 0.2464034057545508\n",
      "Precision: 0.35865355972594576\n",
      "f1 score: 0.3974909210960713\n"
     ]
    }
   ],
   "source": [
    "sen, spe = metrics(prob_doublet, doublet, cut = 0.5)"
   ]
  },
  {
   "cell_type": "code",
   "execution_count": 77,
   "id": "76717c3c-a8d5-4dcc-a39b-1c0024cfc032",
   "metadata": {},
   "outputs": [],
   "source": [
    "doublet_prediction = pd.DataFrame(prob_doublet, columns = ['prob_doublet'])\n",
    "doublet_prediction.index.name = 'index'\n",
    "doublet_prediction.reset_index(inplace=True)\n",
    "#doublet_prediction = doublet_prediction.sort_values(\"prob_doublet\", ascending = False)\n",
    "#doublet_prediction\n",
    "doublet_prediction.to_csv('doublet_20230126_1_atac.csv',index=False)"
   ]
  },
  {
   "cell_type": "code",
   "execution_count": 78,
   "id": "b576f29b-9e29-4765-920d-db60dd874f40",
   "metadata": {},
   "outputs": [],
   "source": [
    "reliability_table = reliability_atac(small_stable, theta, alpha, beta, decay)\n",
    "data = {'reliability': reliability_table[0,:]/(2*weight),\n",
    "        'flag': reliability_table[1,:]}\n",
    "  \n",
    "# Create DataFrame\n",
    "reliability_file = pd.DataFrame(data)\n",
    "reliability_file.index.name = 'index'\n",
    "reliability_file.reset_index(inplace=True)\n",
    "#doublet_prediction = doublet_prediction.sort_values(\"prob_doublet\", ascending = False)\n",
    "#doublet_prediction\n",
    "reliability_file.to_csv('reliability_20230126_1_atac.csv',index=False)"
   ]
  },
  {
   "cell_type": "markdown",
   "id": "9c60cf7b-b3ef-4553-8031-e2c3d09987ea",
   "metadata": {},
   "source": [
    "## Ileum-3 RNA+ATAC"
   ]
  },
  {
   "cell_type": "code",
   "execution_count": 79,
   "id": "29f70014-98ac-42f3-8f84-f6a7fee5614f",
   "metadata": {},
   "outputs": [],
   "source": [
    "atac_doublet = pd.read_csv(\"/ix1/wchen/Haoran/CPDD/ATAC/20230126_1/doublet_20230126_1_atac.csv\")\n",
    "rna_doublet = pd.read_csv(\"/ix1/wchen/Haoran/CPDD/RNA/20230126_1/doublet_20230126_1_rna.csv\")\n",
    "atac_reliability = pd.read_csv(\"/ix1/wchen/Haoran/CPDD/ATAC/20230126_1/reliability_20230126_1_atac.csv\")\n",
    "rna_reliability = pd.read_csv(\"/ix1/wchen/Haoran/CPDD/RNA/20230126_1/reliability_20230126_1_rna.csv\")\n",
    "doublet = pd.read_csv(\"/ix1/wchen/Haoran/CPDD/ATAC/20230126_1/doublet.csv\")\n",
    "\n",
    "atac_doublet = atac_doublet.iloc[:, 1].to_numpy()\n",
    "rna_doublet = rna_doublet.iloc[:, 1].to_numpy()\n",
    "atac_reliability = atac_reliability.iloc[:,1].to_numpy()\n",
    "rna_reliability = rna_reliability.iloc[:,1].to_numpy()\n",
    "doublet = doublet.iloc[:, 1].to_numpy()\n",
    "\n",
    "reliability_joint = np.stack((atac_reliability, rna_reliability))\n",
    "reliability_joint = special.softmax(reliability_joint, axis = 0)"
   ]
  },
  {
   "cell_type": "code",
   "execution_count": 80,
   "id": "40284fa7-571d-4453-ad3c-e9e8d5ddc432",
   "metadata": {},
   "outputs": [
    {
     "name": "stdout",
     "output_type": "stream",
     "text": [
      "0.49581750667937907\n"
     ]
    },
    {
     "data": {
      "image/png": "[encoded data removed]",
      "text/plain": [
       "<Figure size 432x288 with 1 Axes>"
      ]
     },
     "metadata": {
      "needs_background": "light"
     },
     "output_type": "display_data"
    }
   ],
   "source": [
    "combined_prediction = reliability_joint[0,:]*atac_doublet + reliability_joint[1,:]*rna_doublet\n",
    "doublet = pd.read_csv(\"./doublet.csv\")\n",
    "doublet = doublet.iloc[:, 1]\n",
    "\n",
    "\n",
    "precision, recall, thresholds = precision_recall_curve(doublet.to_numpy(), combined_prediction)\n",
    "auc_precision_recall = auc(recall, precision)\n",
    "print(auc_precision_recall)\n",
    "plt.plot(recall, precision)\n",
    "plt.show()"
   ]
  },
  {
   "cell_type": "code",
   "execution_count": 81,
   "id": "af0fb341-7649-4575-aad3-0c7ee866b2bb",
   "metadata": {},
   "outputs": [
    {
     "name": "stdout",
     "output_type": "stream",
     "text": [
      "Predicted doublet proportion: 0.40443335290663535\n",
      "Precision: 0.3221415607985481\n",
      "f1 score: 0.43234685178419197\n"
     ]
    }
   ],
   "source": [
    "sen, spe = metrics(combined_prediction, doublet, cut = 0.5)"
   ]
  },
  {
   "cell_type": "markdown",
   "id": "81906798-2ef9-430d-8b4d-b0c2afc04f28",
   "metadata": {},
   "source": [
    "## Ileum-4 ATAC"
   ]
  },
  {
   "cell_type": "code",
   "execution_count": 82,
   "id": "a9571f16-7e42-4e53-92a5-003676c22f14",
   "metadata": {},
   "outputs": [
    {
     "name": "stdout",
     "output_type": "stream",
     "text": [
      "/ix1/wchen/Haoran/CPDD/ATAC/20230126_2\n"
     ]
    }
   ],
   "source": [
    "%cd /ix1/wchen/Haoran/CPDD/ATAC/20230126_2/\n",
    "stable = genfromtxt(\"./ATAC_stable500_cts.csv\", delimiter=',')\n",
    "small_stable = stable[:,0:300] #300 stable features"
   ]
  },
  {
   "cell_type": "code",
   "execution_count": 83,
   "id": "8ed7a667-bd9c-47e7-a929-5f64fdc1bd8f",
   "metadata": {},
   "outputs": [],
   "source": [
    "small_stable = torch.tensor(small_stable, device = dev)\n",
    "small_stable = small_stable.double()\n",
    "small_stable = small_stable + torch.tensor([0.0001], device = dev)"
   ]
  },
  {
   "cell_type": "code",
   "execution_count": 84,
   "id": "52928491-24f7-416d-9e18-74b216215b6c",
   "metadata": {},
   "outputs": [],
   "source": [
    "theta,alpha,beta,decay, loss_075,p_075 = MLE(small_stable)"
   ]
  },
  {
   "cell_type": "code",
   "execution_count": 85,
   "id": "b30aa8fe-878a-4b3c-ae85-bb13510b2072",
   "metadata": {},
   "outputs": [
    {
     "data": {
      "text/plain": [
       "0.25721424624766037"
      ]
     },
     "execution_count": 85,
     "metadata": {},
     "output_type": "execute_result"
    }
   ],
   "source": [
    "weight = atac_fit_goodness(small_stable, alpha, beta, theta, decay)\n",
    "weight"
   ]
  },
  {
   "cell_type": "code",
   "execution_count": 86,
   "id": "90fe8ebb-78dd-4c38-8fdb-f81f2bf6b4d9",
   "metadata": {},
   "outputs": [
    {
     "name": "stdout",
     "output_type": "stream",
     "text": [
      "0.48669468133699856\n"
     ]
    },
    {
     "data": {
      "image/png": "[encoded data removed]",
      "text/plain": [
       "<Figure size 432x288 with 1 Axes>"
      ]
     },
     "metadata": {
      "needs_background": "light"
     },
     "output_type": "display_data"
    }
   ],
   "source": [
    "prob_singlet = prob_k0(small_stable, theta, alpha, beta, decay, 0, k=3)\n",
    "prob_doublet = 1-prob_singlet\n",
    "\n",
    "doublet = genfromtxt(\"./doublet.csv\", delimiter=',')\n",
    "doublet = doublet[1:, 1]\n",
    "\n",
    "\n",
    "precision, recall, thresholds = precision_recall_curve(doublet, prob_doublet)\n",
    "auc_precision_recall = auc(recall, precision)\n",
    "print(auc_precision_recall)\n",
    "plt.plot(recall, precision)\n",
    "plt.show()"
   ]
  },
  {
   "cell_type": "code",
   "execution_count": 87,
   "id": "b1185bda-0d9f-4a34-b5fa-dbf1faed698d",
   "metadata": {},
   "outputs": [
    {
     "name": "stdout",
     "output_type": "stream",
     "text": [
      "Predicted doublet proportion: 0.2188976377952756\n",
      "Precision: 0.407782864617397\n",
      "f1 score: 0.43815881939564305\n"
     ]
    }
   ],
   "source": [
    "sen, spe = metrics(prob_doublet, doublet, cut = 0.5)"
   ]
  },
  {
   "cell_type": "code",
   "execution_count": 88,
   "id": "31f9f8ed-d7cc-414c-b9b2-359d96cfb6b3",
   "metadata": {},
   "outputs": [],
   "source": [
    "doublet_prediction = pd.DataFrame(prob_doublet, columns = ['prob_doublet'])\n",
    "doublet_prediction.index.name = 'index'\n",
    "doublet_prediction.reset_index(inplace=True)\n",
    "#doublet_prediction = doublet_prediction.sort_values(\"prob_doublet\", ascending = False)\n",
    "#doublet_prediction\n",
    "doublet_prediction.to_csv('doublet_20230126_2_atac.csv',index=False)"
   ]
  },
  {
   "cell_type": "code",
   "execution_count": 89,
   "id": "bb838eb3-59c7-4429-9267-865e91798ff2",
   "metadata": {},
   "outputs": [],
   "source": [
    "reliability_table = reliability_atac(small_stable, theta, alpha, beta, decay)\n",
    "data = {'reliability': reliability_table[0,:]/(2*weight),\n",
    "        'flag': reliability_table[1,:]}\n",
    "  \n",
    "# Create DataFrame\n",
    "reliability_file = pd.DataFrame(data)\n",
    "reliability_file.index.name = 'index'\n",
    "reliability_file.reset_index(inplace=True)\n",
    "#doublet_prediction = doublet_prediction.sort_values(\"prob_doublet\", ascending = False)\n",
    "#doublet_prediction\n",
    "reliability_file.to_csv('reliability_20230126_2_atac.csv',index=False)"
   ]
  },
  {
   "cell_type": "markdown",
   "id": "5edce023-5395-4fa0-b9e0-8a012f786585",
   "metadata": {},
   "source": [
    "## Ileum-4 RNA+ATAC"
   ]
  },
  {
   "cell_type": "code",
   "execution_count": 90,
   "id": "3c8522f3-c905-49b1-a2d5-8f7f8fa9651e",
   "metadata": {},
   "outputs": [],
   "source": [
    "atac_doublet = pd.read_csv(\"/ix1/wchen/Haoran/CPDD/ATAC/20230126_2/doublet_20230126_2_atac.csv\")\n",
    "rna_doublet = pd.read_csv(\"/ix1/wchen/Haoran/CPDD/RNA/20230126_2/doublet_20230126_2_rna.csv\")\n",
    "atac_reliability = pd.read_csv(\"/ix1/wchen/Haoran/CPDD/ATAC/20230126_2/reliability_20230126_2_atac.csv\")\n",
    "rna_reliability = pd.read_csv(\"/ix1/wchen/Haoran/CPDD/RNA/20230126_2/reliability_20230126_2_rna.csv\")\n",
    "doublet = pd.read_csv(\"/ix1/wchen/Haoran/CPDD/ATAC/20230126_2/doublet.csv\")\n",
    "\n",
    "atac_doublet = atac_doublet.iloc[:, 1].to_numpy()\n",
    "rna_doublet = rna_doublet.iloc[:, 1].to_numpy()\n",
    "atac_reliability = atac_reliability.iloc[:,1].to_numpy()\n",
    "rna_reliability = rna_reliability.iloc[:,1].to_numpy()\n",
    "doublet = doublet.iloc[:, 1].to_numpy()\n",
    "\n",
    "reliability_joint = np.stack((atac_reliability, rna_reliability))\n",
    "reliability_joint = special.softmax(reliability_joint, axis = 0)"
   ]
  },
  {
   "cell_type": "code",
   "execution_count": 91,
   "id": "76238387-9eb2-4e5a-80eb-7c37753e26f4",
   "metadata": {},
   "outputs": [
    {
     "name": "stdout",
     "output_type": "stream",
     "text": [
      "0.534691524623933\n"
     ]
    },
    {
     "data": {
      "image/png": "[encoded data removed]",
      "text/plain": [
       "<Figure size 432x288 with 1 Axes>"
      ]
     },
     "metadata": {
      "needs_background": "light"
     },
     "output_type": "display_data"
    }
   ],
   "source": [
    "combined_prediction = reliability_joint[0,:]*atac_doublet + reliability_joint[1,:]*rna_doublet\n",
    "doublet = pd.read_csv(\"./doublet.csv\")\n",
    "doublet = doublet.iloc[:, 1]\n",
    "\n",
    "\n",
    "precision, recall, thresholds = precision_recall_curve(doublet.to_numpy(), combined_prediction)\n",
    "auc_precision_recall = auc(recall, precision)\n",
    "print(auc_precision_recall)\n",
    "plt.plot(recall, precision)\n",
    "plt.show()"
   ]
  },
  {
   "cell_type": "code",
   "execution_count": 92,
   "id": "5498c66d-ad93-4b92-ba54-13fb52390af4",
   "metadata": {},
   "outputs": [
    {
     "name": "stdout",
     "output_type": "stream",
     "text": [
      "Predicted doublet proportion: 0.37201145311381534\n",
      "Precision: 0.3394265922647681\n",
      "f1 score: 0.45051717532882135\n"
     ]
    }
   ],
   "source": [
    "sen, spe = metrics(combined_prediction, doublet, cut = 0.5)"
   ]
  },
  {
   "cell_type": "markdown",
   "id": "5de13336-0162-4dfd-adee-c51a574473e2",
   "metadata": {},
   "source": [
    "## Ileum-5 ATAC"
   ]
  },
  {
   "cell_type": "code",
   "execution_count": 93,
   "id": "f1af79be-6403-4ebc-9ba5-f45c18c15444",
   "metadata": {},
   "outputs": [
    {
     "name": "stdout",
     "output_type": "stream",
     "text": [
      "/ix1/wchen/Haoran/CPDD/ATAC/20230203_1\n"
     ]
    }
   ],
   "source": [
    "%cd /ix1/wchen/Haoran/CPDD/ATAC/20230203_1/\n",
    "stable = genfromtxt(\"./ATAC_stable500_cts.csv\", delimiter=',')\n",
    "small_stable = stable[:,0:300] #300 stable features"
   ]
  },
  {
   "cell_type": "code",
   "execution_count": 94,
   "id": "a3ce2169-4fa6-4226-b8da-b6b458b40a73",
   "metadata": {},
   "outputs": [],
   "source": [
    "small_stable = torch.tensor(small_stable, device = dev)\n",
    "small_stable = small_stable.double()\n",
    "small_stable = small_stable + torch.tensor([0.0001], device = dev)"
   ]
  },
  {
   "cell_type": "code",
   "execution_count": 95,
   "id": "63d8aff0-00f7-406e-833f-df3cb2148d84",
   "metadata": {},
   "outputs": [],
   "source": [
    "theta,alpha,beta,decay, loss_075,p_075 = MLE(small_stable)"
   ]
  },
  {
   "cell_type": "code",
   "execution_count": 96,
   "id": "8111a6a6-b471-4004-b9b5-e4f33e993036",
   "metadata": {},
   "outputs": [
    {
     "data": {
      "text/plain": [
       "0.42043289859114946"
      ]
     },
     "execution_count": 96,
     "metadata": {},
     "output_type": "execute_result"
    }
   ],
   "source": [
    "weight = atac_fit_goodness(small_stable, alpha, beta, theta, decay)\n",
    "weight"
   ]
  },
  {
   "cell_type": "code",
   "execution_count": 97,
   "id": "a2b96478-468b-48c1-a5e1-82f37f003294",
   "metadata": {},
   "outputs": [
    {
     "name": "stdout",
     "output_type": "stream",
     "text": [
      "0.3979198737935631\n"
     ]
    },
    {
     "data": {
      "image/png": "[encoded data removed]",
      "text/plain": [
       "<Figure size 432x288 with 1 Axes>"
      ]
     },
     "metadata": {
      "needs_background": "light"
     },
     "output_type": "display_data"
    }
   ],
   "source": [
    "prob_singlet = prob_k0(small_stable, theta, alpha, beta, decay, 0, k=3)\n",
    "prob_doublet = 1-prob_singlet\n",
    "\n",
    "doublet = genfromtxt(\"./doublet.csv\", delimiter=',')\n",
    "doublet = doublet[1:, 1]\n",
    "\n",
    "\n",
    "precision, recall, thresholds = precision_recall_curve(doublet, prob_doublet)\n",
    "auc_precision_recall = auc(recall, precision)\n",
    "print(auc_precision_recall)\n",
    "plt.plot(recall, precision)\n",
    "plt.show()"
   ]
  },
  {
   "cell_type": "code",
   "execution_count": 98,
   "id": "cea18d1a-48ab-4607-a888-f42fbc94a710",
   "metadata": {},
   "outputs": [
    {
     "name": "stdout",
     "output_type": "stream",
     "text": [
      "Predicted doublet proportion: 0.22467353394435882\n",
      "Precision: 0.3187725631768953\n",
      "f1 score: 0.35518905872888173\n"
     ]
    }
   ],
   "source": [
    "sen, spe = metrics(prob_doublet, doublet, cut = 0.5)"
   ]
  },
  {
   "cell_type": "code",
   "execution_count": 99,
   "id": "0511b0e4-6039-4229-90c8-ac3620b17774",
   "metadata": {},
   "outputs": [],
   "source": [
    "doublet_prediction = pd.DataFrame(prob_doublet, columns = ['prob_doublet'])\n",
    "doublet_prediction.index.name = 'index'\n",
    "doublet_prediction.reset_index(inplace=True)\n",
    "#doublet_prediction = doublet_prediction.sort_values(\"prob_doublet\", ascending = False)\n",
    "#doublet_prediction\n",
    "doublet_prediction.to_csv('doublet_20230203_1_atac.csv',index=False)"
   ]
  },
  {
   "cell_type": "code",
   "execution_count": 100,
   "id": "9399f4cb-a8f7-44dd-8dc6-9e62032d9901",
   "metadata": {},
   "outputs": [],
   "source": [
    "reliability_table = reliability_atac(small_stable, theta, alpha, beta, decay)\n",
    "data = {'reliability': reliability_table[0,:]/(2*weight),\n",
    "        'flag': reliability_table[1,:]}\n",
    "  \n",
    "# Create DataFrame\n",
    "reliability_file = pd.DataFrame(data)\n",
    "reliability_file.index.name = 'index'\n",
    "reliability_file.reset_index(inplace=True)\n",
    "#doublet_prediction = doublet_prediction.sort_values(\"prob_doublet\", ascending = False)\n",
    "#doublet_prediction\n",
    "reliability_file.to_csv('reliability_20230203_1_atac.csv',index=False)"
   ]
  },
  {
   "cell_type": "markdown",
   "id": "9b83cfa8-9a36-4995-9371-10f764fe495d",
   "metadata": {},
   "source": [
    "## Ileum-5 RNA+ATAC"
   ]
  },
  {
   "cell_type": "code",
   "execution_count": 101,
   "id": "c3a431f0-acae-4dad-bd7d-108ddcab40ac",
   "metadata": {},
   "outputs": [],
   "source": [
    "atac_doublet = pd.read_csv(\"/ix1/wchen/Haoran/CPDD/ATAC/20230203_1/doublet_20230203_1_atac.csv\")\n",
    "rna_doublet = pd.read_csv(\"/ix1/wchen/Haoran/CPDD/RNA/20230203_1/doublet_20230203_1_rna.csv\")\n",
    "atac_reliability = pd.read_csv(\"/ix1/wchen/Haoran/CPDD/ATAC/20230203_1/reliability_20230203_1_atac.csv\")\n",
    "rna_reliability = pd.read_csv(\"/ix1/wchen/Haoran/CPDD/RNA/20230203_1/reliability_20230203_1_rna.csv\")\n",
    "doublet = pd.read_csv(\"/ix1/wchen/Haoran/CPDD/ATAC/20230203_1/doublet.csv\")\n",
    "\n",
    "atac_doublet = atac_doublet.iloc[:, 1].to_numpy()\n",
    "rna_doublet = rna_doublet.iloc[:, 1].to_numpy()\n",
    "atac_reliability = atac_reliability.iloc[:,1].to_numpy()\n",
    "rna_reliability = rna_reliability.iloc[:,1].to_numpy()\n",
    "doublet = doublet.iloc[:, 1].to_numpy()\n",
    "\n",
    "reliability_joint = np.stack((atac_reliability, rna_reliability))\n",
    "reliability_joint = special.softmax(reliability_joint, axis = 0)"
   ]
  },
  {
   "cell_type": "code",
   "execution_count": 102,
   "id": "b1c37468-62bd-45ad-9009-5e0d7c6821ec",
   "metadata": {},
   "outputs": [
    {
     "name": "stdout",
     "output_type": "stream",
     "text": [
      "0.5726489308991498\n"
     ]
    },
    {
     "data": {
      "image/png": "[encoded data removed]",
      "text/plain": [
       "<Figure size 432x288 with 1 Axes>"
      ]
     },
     "metadata": {
      "needs_background": "light"
     },
     "output_type": "display_data"
    }
   ],
   "source": [
    "combined_prediction = reliability_joint[0,:]*atac_doublet + reliability_joint[1,:]*rna_doublet\n",
    "doublet = pd.read_csv(\"./doublet.csv\")\n",
    "doublet = doublet.iloc[:, 1]\n",
    "\n",
    "\n",
    "precision, recall, thresholds = precision_recall_curve(doublet.to_numpy(), combined_prediction)\n",
    "auc_precision_recall = auc(recall, precision)\n",
    "print(auc_precision_recall)\n",
    "plt.plot(recall, precision)\n",
    "plt.show()"
   ]
  },
  {
   "cell_type": "code",
   "execution_count": 103,
   "id": "54a0f0e7-bc93-45a8-90ed-a26391dade20",
   "metadata": {},
   "outputs": [
    {
     "name": "stdout",
     "output_type": "stream",
     "text": [
      "Predicted doublet proportion: 0.3052153459323546\n",
      "Precision: 0.38586234387456814\n",
      "f1 score: 0.48683989941324396\n"
     ]
    }
   ],
   "source": [
    "sen, spe = metrics(combined_prediction, doublet, cut = 0.5)"
   ]
  },
  {
   "cell_type": "markdown",
   "id": "e04fec80-0a18-42a0-b6b6-6e4b1256994f",
   "metadata": {},
   "source": [
    "## Ileum-6 ATAC"
   ]
  },
  {
   "cell_type": "code",
   "execution_count": 104,
   "id": "b02e30fe-adb6-483c-9442-ecc452c7048d",
   "metadata": {},
   "outputs": [
    {
     "name": "stdout",
     "output_type": "stream",
     "text": [
      "/ix1/wchen/Haoran/CPDD/ATAC/20230203_2\n"
     ]
    }
   ],
   "source": [
    "%cd /ix1/wchen/Haoran/CPDD/ATAC/20230203_2/\n",
    "stable = genfromtxt(\"./ATAC_stable500_cts.csv\", delimiter=',')\n",
    "small_stable = stable[:,0:300] #300 stable features"
   ]
  },
  {
   "cell_type": "code",
   "execution_count": 105,
   "id": "16e034db-0353-4360-a198-bb2d909e8e8e",
   "metadata": {},
   "outputs": [],
   "source": [
    "small_stable = torch.tensor(small_stable, device = dev)\n",
    "small_stable = small_stable.double()\n",
    "small_stable = small_stable + torch.tensor([0.0001], device = dev)"
   ]
  },
  {
   "cell_type": "code",
   "execution_count": 106,
   "id": "4ac001a0-3eb0-4a87-bd2d-89c0671876ef",
   "metadata": {},
   "outputs": [],
   "source": [
    "theta,alpha,beta,decay, loss_075,p_075 = MLE(small_stable)"
   ]
  },
  {
   "cell_type": "code",
   "execution_count": 107,
   "id": "349f0510-9979-4a25-92af-cbe2404b7649",
   "metadata": {},
   "outputs": [
    {
     "data": {
      "text/plain": [
       "0.4300081795057461"
      ]
     },
     "execution_count": 107,
     "metadata": {},
     "output_type": "execute_result"
    }
   ],
   "source": [
    "weight = atac_fit_goodness(small_stable, alpha, beta, theta, decay)\n",
    "weight"
   ]
  },
  {
   "cell_type": "code",
   "execution_count": 108,
   "id": "b3984ad0-2a9e-4d4a-8d8b-3b84e65d90e7",
   "metadata": {},
   "outputs": [
    {
     "name": "stdout",
     "output_type": "stream",
     "text": [
      "0.3749461579315303\n"
     ]
    },
    {
     "data": {
      "image/png": "[encoded data removed]",
      "text/plain": [
       "<Figure size 432x288 with 1 Axes>"
      ]
     },
     "metadata": {
      "needs_background": "light"
     },
     "output_type": "display_data"
    }
   ],
   "source": [
    "prob_singlet = prob_k0(small_stable, theta, alpha, beta, decay, 0, k=3)\n",
    "prob_doublet = 1-prob_singlet\n",
    "\n",
    "doublet = genfromtxt(\"./doublet.csv\", delimiter=',')\n",
    "doublet = doublet[1:, 1]\n",
    "\n",
    "\n",
    "precision, recall, thresholds = precision_recall_curve(doublet, prob_doublet)\n",
    "auc_precision_recall = auc(recall, precision)\n",
    "print(auc_precision_recall)\n",
    "plt.plot(recall, precision)\n",
    "plt.show()"
   ]
  },
  {
   "cell_type": "code",
   "execution_count": 109,
   "id": "a695a0be-e57d-46e5-bab1-2f25a887b8ef",
   "metadata": {},
   "outputs": [
    {
     "name": "stdout",
     "output_type": "stream",
     "text": [
      "Predicted doublet proportion: 0.21985067359194935\n",
      "Precision: 0.2857142857142857\n",
      "f1 score: 0.33119383825417203\n"
     ]
    }
   ],
   "source": [
    "sen, spe = metrics(prob_doublet, doublet, cut = 0.5)"
   ]
  },
  {
   "cell_type": "code",
   "execution_count": 110,
   "id": "168af4ad-d0b3-4145-b137-610db1beaac4",
   "metadata": {},
   "outputs": [],
   "source": [
    "doublet_prediction = pd.DataFrame(prob_doublet, columns = ['prob_doublet'])\n",
    "doublet_prediction.index.name = 'index'\n",
    "doublet_prediction.reset_index(inplace=True)\n",
    "#doublet_prediction = doublet_prediction.sort_values(\"prob_doublet\", ascending = False)\n",
    "#doublet_prediction\n",
    "doublet_prediction.to_csv('doublet_20230203_2_atac.csv',index=False)"
   ]
  },
  {
   "cell_type": "code",
   "execution_count": 111,
   "id": "0b3315ad-2d61-4803-8745-103ee0bc1d56",
   "metadata": {},
   "outputs": [],
   "source": [
    "reliability_table = reliability_atac(small_stable, theta, alpha, beta, decay)\n",
    "data = {'reliability': reliability_table[0,:]/(2*weight),\n",
    "        'flag': reliability_table[1,:]}\n",
    "  \n",
    "# Create DataFrame\n",
    "reliability_file = pd.DataFrame(data)\n",
    "reliability_file.index.name = 'index'\n",
    "reliability_file.reset_index(inplace=True)\n",
    "#doublet_prediction = doublet_prediction.sort_values(\"prob_doublet\", ascending = False)\n",
    "#doublet_prediction\n",
    "reliability_file.to_csv('reliability_20230203_2_atac.csv',index=False)"
   ]
  },
  {
   "cell_type": "markdown",
   "id": "e3ba8a4d-f0fe-4fea-a99c-133752645cdf",
   "metadata": {},
   "source": [
    "## Ileum-6 RNA+ATAC"
   ]
  },
  {
   "cell_type": "code",
   "execution_count": 112,
   "id": "fe007262-7cbe-4269-955a-f180a0a82d9f",
   "metadata": {},
   "outputs": [],
   "source": [
    "atac_doublet = pd.read_csv(\"/ix1/wchen/Haoran/CPDD/ATAC/20230203_2/doublet_20230203_2_atac.csv\")\n",
    "rna_doublet = pd.read_csv(\"/ix1/wchen/Haoran/CPDD/RNA/20230203_2/doublet_20230203_2_rna.csv\")\n",
    "atac_reliability = pd.read_csv(\"/ix1/wchen/Haoran/CPDD/ATAC/20230203_2/reliability_20230203_2_atac.csv\")\n",
    "rna_reliability = pd.read_csv(\"/ix1/wchen/Haoran/CPDD/RNA/20230203_2/reliability_20230203_2_rna.csv\")\n",
    "doublet = pd.read_csv(\"/ix1/wchen/Haoran/CPDD/ATAC/20230203_2/doublet.csv\")\n",
    "\n",
    "atac_doublet = atac_doublet.iloc[:, 1].to_numpy()\n",
    "rna_doublet = rna_doublet.iloc[:, 1].to_numpy()\n",
    "atac_reliability = atac_reliability.iloc[:,1].to_numpy()\n",
    "rna_reliability = rna_reliability.iloc[:,1].to_numpy()\n",
    "doublet = doublet.iloc[:, 1].to_numpy()\n",
    "\n",
    "reliability_joint = np.stack((atac_reliability, rna_reliability))\n",
    "reliability_joint = special.softmax(reliability_joint, axis = 0)"
   ]
  },
  {
   "cell_type": "code",
   "execution_count": 113,
   "id": "9d0cfdf1-ac98-4e62-83f9-67ac5c3c65fb",
   "metadata": {},
   "outputs": [
    {
     "name": "stdout",
     "output_type": "stream",
     "text": [
      "0.5307951753114026\n"
     ]
    },
    {
     "data": {
      "image/png": "[encoded data removed]",
      "text/plain": [
       "<Figure size 432x288 with 1 Axes>"
      ]
     },
     "metadata": {
      "needs_background": "light"
     },
     "output_type": "display_data"
    }
   ],
   "source": [
    "combined_prediction = reliability_joint[0,:]*atac_doublet + reliability_joint[1,:]*rna_doublet\n",
    "doublet = pd.read_csv(\"./doublet.csv\")\n",
    "doublet = doublet.iloc[:, 1]\n",
    "\n",
    "precision, recall, thresholds = precision_recall_curve(doublet.to_numpy(), combined_prediction)\n",
    "auc_precision_recall = auc(recall, precision)\n",
    "print(auc_precision_recall)\n",
    "plt.plot(recall, precision)\n",
    "plt.show()"
   ]
  },
  {
   "cell_type": "code",
   "execution_count": 114,
   "id": "950ecd1a-a1d3-4456-8f49-f6d6eb8f1b65",
   "metadata": {},
   "outputs": [
    {
     "name": "stdout",
     "output_type": "stream",
     "text": [
      "Predicted doublet proportion: 0.305713358221068\n",
      "Precision: 0.3435094239447836\n",
      "f1 score: 0.4515003489183531\n"
     ]
    }
   ],
   "source": [
    "sen, spe = metrics(combined_prediction, doublet, cut = 0.5)"
   ]
  },
  {
   "cell_type": "markdown",
   "id": "95e862d4-5d69-4af4-84f2-a49216c168d5",
   "metadata": {},
   "source": [
    "## Ileum-7 ATAC"
   ]
  },
  {
   "cell_type": "code",
   "execution_count": 115,
   "id": "f890baa5-88db-41ac-9f96-96c7d75b9867",
   "metadata": {},
   "outputs": [
    {
     "name": "stdout",
     "output_type": "stream",
     "text": [
      "/ix1/wchen/Haoran/CPDD/ATAC/20230206_2\n"
     ]
    }
   ],
   "source": [
    "%cd /ix1/wchen/Haoran/CPDD/ATAC/20230206_2/\n",
    "stable = genfromtxt(\"./ATAC_stable500_cts.csv\", delimiter=',')\n",
    "small_stable = stable[:,0:300] #300 stable features"
   ]
  },
  {
   "cell_type": "code",
   "execution_count": 116,
   "id": "5a95ebe8-c37e-4a6a-b80f-827e2a809576",
   "metadata": {},
   "outputs": [],
   "source": [
    "small_stable = torch.tensor(small_stable, device = dev)\n",
    "small_stable = small_stable.double()\n",
    "small_stable = small_stable + torch.tensor([0.0001], device = dev)"
   ]
  },
  {
   "cell_type": "code",
   "execution_count": 117,
   "id": "3291b61b-9516-458f-a6dc-7f259dcbd0f8",
   "metadata": {},
   "outputs": [],
   "source": [
    "theta,alpha,beta,decay, loss_075,p_075 = MLE(small_stable)"
   ]
  },
  {
   "cell_type": "code",
   "execution_count": 118,
   "id": "2c530330-4d3b-4aea-bebc-4075372af7ca",
   "metadata": {},
   "outputs": [
    {
     "data": {
      "text/plain": [
       "0.22862192232838222"
      ]
     },
     "execution_count": 118,
     "metadata": {},
     "output_type": "execute_result"
    }
   ],
   "source": [
    "weight = atac_fit_goodness(small_stable, alpha, beta, theta, decay)\n",
    "weight"
   ]
  },
  {
   "cell_type": "code",
   "execution_count": 119,
   "id": "3bb3f856-a42c-4827-b95f-9896e8dfdf4b",
   "metadata": {},
   "outputs": [
    {
     "name": "stdout",
     "output_type": "stream",
     "text": [
      "0.5065516359505737\n"
     ]
    },
    {
     "data": {
      "image/png": "[encoded data removed]",
      "text/plain": [
       "<Figure size 432x288 with 1 Axes>"
      ]
     },
     "metadata": {
      "needs_background": "light"
     },
     "output_type": "display_data"
    }
   ],
   "source": [
    "prob_singlet = prob_k0(small_stable, theta, alpha, beta, decay, 0, k=3)\n",
    "prob_doublet = 1-prob_singlet\n",
    "\n",
    "doublet = genfromtxt(\"./doublet.csv\", delimiter=',')\n",
    "doublet = doublet[1:, 1]\n",
    "\n",
    "\n",
    "precision, recall, thresholds = precision_recall_curve(doublet, prob_doublet)\n",
    "auc_precision_recall = auc(recall, precision)\n",
    "print(auc_precision_recall)\n",
    "plt.plot(recall, precision)\n",
    "plt.show()"
   ]
  },
  {
   "cell_type": "code",
   "execution_count": 120,
   "id": "169cfb4b-9a42-4cde-85e1-879c0842593f",
   "metadata": {},
   "outputs": [
    {
     "name": "stdout",
     "output_type": "stream",
     "text": [
      "Predicted doublet proportion: 0.24139061987536897\n",
      "Precision: 0.4013586956521739\n",
      "f1 score: 0.45292854952468564\n"
     ]
    }
   ],
   "source": [
    "sen, spe = metrics(prob_doublet, doublet, cut = 0.5)"
   ]
  },
  {
   "cell_type": "code",
   "execution_count": 121,
   "id": "2c43f51b-d63e-4854-97d1-076db819ddbe",
   "metadata": {},
   "outputs": [],
   "source": [
    "doublet_prediction = pd.DataFrame(prob_doublet, columns = ['prob_doublet'])\n",
    "doublet_prediction.index.name = 'index'\n",
    "doublet_prediction.reset_index(inplace=True)\n",
    "#doublet_prediction = doublet_prediction.sort_values(\"prob_doublet\", ascending = False)\n",
    "#doublet_prediction\n",
    "doublet_prediction.to_csv('doublet_20230206_2_atac.csv',index=False)"
   ]
  },
  {
   "cell_type": "code",
   "execution_count": 122,
   "id": "505ec760-4a76-472f-bdb5-b6e518964335",
   "metadata": {},
   "outputs": [],
   "source": [
    "reliability_table = reliability_atac(small_stable, theta, alpha, beta, decay)\n",
    "data = {'reliability': reliability_table[0,:]/(2*weight),\n",
    "        'flag': reliability_table[1,:]}\n",
    "  \n",
    "# Create DataFrame\n",
    "reliability_file = pd.DataFrame(data)\n",
    "reliability_file.index.name = 'index'\n",
    "reliability_file.reset_index(inplace=True)\n",
    "#doublet_prediction = doublet_prediction.sort_values(\"prob_doublet\", ascending = False)\n",
    "#doublet_prediction\n",
    "reliability_file.to_csv('reliability_20230206_2_atac.csv',index=False)"
   ]
  },
  {
   "cell_type": "markdown",
   "id": "feb655e0-90e5-4af9-b08b-50edd08f24de",
   "metadata": {},
   "source": [
    "## Ileum-7 RNA+ATAC"
   ]
  },
  {
   "cell_type": "code",
   "execution_count": 123,
   "id": "380ce508-3931-492a-87a7-d4888fef509b",
   "metadata": {},
   "outputs": [],
   "source": [
    "atac_doublet = pd.read_csv(\"/ix1/wchen/Haoran/CPDD/ATAC/20230206_2/doublet_20230206_2_atac.csv\")\n",
    "rna_doublet = pd.read_csv(\"/ix1/wchen/Haoran/CPDD/RNA/20230206_2/doublet_20230206_2_rna.csv\")\n",
    "atac_reliability = pd.read_csv(\"/ix1/wchen/Haoran/CPDD/ATAC/20230206_2/reliability_20230206_2_atac.csv\")\n",
    "rna_reliability = pd.read_csv(\"/ix1/wchen/Haoran/CPDD/RNA/20230206_2/reliability_20230206_2_rna.csv\")\n",
    "doublet = pd.read_csv(\"/ix1/wchen/Haoran/CPDD/ATAC/20230206_2/doublet.csv\")\n",
    "\n",
    "atac_doublet = atac_doublet.iloc[:, 1].to_numpy()\n",
    "rna_doublet = rna_doublet.iloc[:, 1].to_numpy()\n",
    "atac_reliability = atac_reliability.iloc[:,1].to_numpy()\n",
    "rna_reliability = rna_reliability.iloc[:,1].to_numpy()\n",
    "doublet = doublet.iloc[:, 1].to_numpy()\n",
    "\n",
    "reliability_joint = np.stack((atac_reliability, rna_reliability))\n",
    "reliability_joint = special.softmax(reliability_joint, axis = 0)"
   ]
  },
  {
   "cell_type": "code",
   "execution_count": 124,
   "id": "76692515-19e4-4fa6-8403-bf5de204e0a1",
   "metadata": {},
   "outputs": [
    {
     "name": "stdout",
     "output_type": "stream",
     "text": [
      "0.5444945766496628\n"
     ]
    },
    {
     "data": {
      "image/png": "[encoded data removed]",
      "text/plain": [
       "<Figure size 432x288 with 1 Axes>"
      ]
     },
     "metadata": {
      "needs_background": "light"
     },
     "output_type": "display_data"
    }
   ],
   "source": [
    "combined_prediction = reliability_joint[0,:]*atac_doublet + reliability_joint[1,:]*rna_doublet\n",
    "doublet = pd.read_csv(\"./doublet.csv\")\n",
    "doublet = doublet.iloc[:, 1]\n",
    "\n",
    "\n",
    "precision, recall, thresholds = precision_recall_curve(doublet.to_numpy(), combined_prediction)\n",
    "auc_precision_recall = auc(recall, precision)\n",
    "print(auc_precision_recall)\n",
    "plt.plot(recall, precision)\n",
    "plt.show()"
   ]
  },
  {
   "cell_type": "code",
   "execution_count": 125,
   "id": "50208de8-541c-4e50-85fa-46b3d872ee93",
   "metadata": {},
   "outputs": [
    {
     "name": "stdout",
     "output_type": "stream",
     "text": [
      "Predicted doublet proportion: 0.37769760577238437\n",
      "Precision: 0.35098992705800625\n",
      "f1 score: 0.47\n"
     ]
    }
   ],
   "source": [
    "sen, spe = metrics(combined_prediction, doublet, cut = 0.5)"
   ]
  },
  {
   "cell_type": "markdown",
   "id": "cb7da811-08e2-48be-b777-c298bbbb29eb",
   "metadata": {},
   "source": [
    "## PB-5 ATAC"
   ]
  },
  {
   "cell_type": "code",
   "execution_count": 126,
   "id": "1affff67-7b5f-4799-b52f-5ce93c3665bf",
   "metadata": {},
   "outputs": [
    {
     "name": "stdout",
     "output_type": "stream",
     "text": [
      "/ix1/wchen/Haoran/CPDD/ATAC/20220429_1\n"
     ]
    }
   ],
   "source": [
    "%cd /ix1/wchen/Haoran/CPDD/ATAC/20220429_1/\n",
    "stable = genfromtxt(\"./ATAC_stable500_cts.csv\", delimiter=',')\n",
    "small_stable = stable[:,0:300] #300 stable features"
   ]
  },
  {
   "cell_type": "code",
   "execution_count": 127,
   "id": "c4922f11-5a98-409d-9b47-7f1093d78e8e",
   "metadata": {},
   "outputs": [],
   "source": [
    "small_stable = torch.tensor(small_stable, device = dev)\n",
    "small_stable = small_stable.double()\n",
    "small_stable = small_stable + torch.tensor([0.0001], device = dev)"
   ]
  },
  {
   "cell_type": "code",
   "execution_count": 128,
   "id": "bc2ce237-cbc6-4a50-a0d3-d4203362840d",
   "metadata": {},
   "outputs": [],
   "source": [
    "theta,alpha,beta,decay, loss_075,p_075 = MLE(small_stable)"
   ]
  },
  {
   "cell_type": "code",
   "execution_count": 129,
   "id": "586c0058-806b-49f9-97c7-401f218ff67b",
   "metadata": {},
   "outputs": [
    {
     "data": {
      "text/plain": [
       "0.20579993821368808"
      ]
     },
     "execution_count": 129,
     "metadata": {},
     "output_type": "execute_result"
    }
   ],
   "source": [
    "weight = atac_fit_goodness(small_stable, alpha, beta, theta, decay)\n",
    "weight"
   ]
  },
  {
   "cell_type": "code",
   "execution_count": 130,
   "id": "a09dfa5c-1302-41c0-a089-e40a1fc63cb6",
   "metadata": {},
   "outputs": [
    {
     "name": "stdout",
     "output_type": "stream",
     "text": [
      "0.7148929486191787\n"
     ]
    },
    {
     "data": {
      "image/png": "[encoded data removed]",
      "text/plain": [
       "<Figure size 432x288 with 1 Axes>"
      ]
     },
     "metadata": {
      "needs_background": "light"
     },
     "output_type": "display_data"
    }
   ],
   "source": [
    "prob_singlet = prob_k0(small_stable, theta, alpha, beta, decay, 0, k=3)\n",
    "prob_doublet = 1-prob_singlet\n",
    "\n",
    "doublet = genfromtxt(\"./doublet.csv\", delimiter=',')\n",
    "doublet = doublet[1:, 1]\n",
    "\n",
    "\n",
    "precision, recall, thresholds = precision_recall_curve(doublet, prob_doublet)\n",
    "auc_precision_recall = auc(recall, precision)\n",
    "print(auc_precision_recall)\n",
    "plt.plot(recall, precision)\n",
    "plt.show()"
   ]
  },
  {
   "cell_type": "code",
   "execution_count": 131,
   "id": "eb01aa4a-abeb-44b0-a7a7-6baae4e3dc1f",
   "metadata": {},
   "outputs": [
    {
     "name": "stdout",
     "output_type": "stream",
     "text": [
      "Predicted doublet proportion: 0.21385795595149715\n",
      "Precision: 0.7438093034019903\n",
      "f1 score: 0.6336750788643533\n"
     ]
    }
   ],
   "source": [
    "sen, spe = metrics(prob_doublet, doublet, cut = 0.5)"
   ]
  },
  {
   "cell_type": "code",
   "execution_count": 132,
   "id": "c7c11ca7-72b1-46ba-9140-371281440342",
   "metadata": {},
   "outputs": [],
   "source": [
    "doublet_prediction = pd.DataFrame(prob_doublet, columns = ['prob_doublet'])\n",
    "doublet_prediction.index.name = 'index'\n",
    "doublet_prediction.reset_index(inplace=True)\n",
    "#doublet_prediction = doublet_prediction.sort_values(\"prob_doublet\", ascending = False)\n",
    "#doublet_prediction\n",
    "doublet_prediction.to_csv('doublet_20220429_1_atac.csv',index=False)"
   ]
  },
  {
   "cell_type": "code",
   "execution_count": 133,
   "id": "df5bfc00-8c35-41ff-a905-b300a7b1a4f4",
   "metadata": {},
   "outputs": [],
   "source": [
    "reliability_table = reliability_atac(small_stable, theta, alpha, beta, decay)\n",
    "data = {'reliability': reliability_table[0,:]/(2*weight),\n",
    "        'flag': reliability_table[1,:]}\n",
    "  \n",
    "# Create DataFrame\n",
    "reliability_file = pd.DataFrame(data)\n",
    "reliability_file.index.name = 'index'\n",
    "reliability_file.reset_index(inplace=True)\n",
    "#doublet_prediction = doublet_prediction.sort_values(\"prob_doublet\", ascending = False)\n",
    "#doublet_prediction\n",
    "reliability_file.to_csv('reliability_20220429_1_atac.csv',index=False)"
   ]
  },
  {
   "cell_type": "markdown",
   "id": "72dcd76b-d229-44b3-a66c-da8d6b7712d7",
   "metadata": {},
   "source": [
    "## PB-5 RNA+ATAC"
   ]
  },
  {
   "cell_type": "code",
   "execution_count": 134,
   "id": "c8c56ccf-25bb-4e0c-bbb9-e10bfa0ba41c",
   "metadata": {},
   "outputs": [],
   "source": [
    "atac_doublet = pd.read_csv(\"/ix1/wchen/Haoran/CPDD/ATAC/20220429_1/doublet_20220429_1_atac.csv\")\n",
    "rna_doublet = pd.read_csv(\"/ix1/wchen/Haoran/CPDD/RNA/20220429_1/doublet_20220429_1_rna.csv\")\n",
    "atac_reliability = pd.read_csv(\"/ix1/wchen/Haoran/CPDD/ATAC/20220429_1/reliability_20220429_1_atac.csv\")\n",
    "rna_reliability = pd.read_csv(\"/ix1/wchen/Haoran/CPDD/RNA/20220429_1/reliability_20220429_1_rna.csv\")\n",
    "doublet = pd.read_csv(\"/ix1/wchen/Haoran/CPDD/ATAC/20220429_1/doublet.csv\")\n",
    "\n",
    "atac_doublet = atac_doublet.iloc[:, 1].to_numpy()\n",
    "rna_doublet = rna_doublet.iloc[:, 1].to_numpy()\n",
    "atac_reliability = atac_reliability.iloc[:,1].to_numpy()\n",
    "rna_reliability = rna_reliability.iloc[:,1].to_numpy()\n",
    "doublet = doublet.iloc[:, 1].to_numpy()\n",
    "\n",
    "reliability_joint = np.stack((atac_reliability, rna_reliability))\n",
    "reliability_joint = special.softmax(reliability_joint, axis = 0)"
   ]
  },
  {
   "cell_type": "code",
   "execution_count": 135,
   "id": "0c7a55b8-3e02-4f0c-bff1-c7cbeabf0d12",
   "metadata": {},
   "outputs": [
    {
     "name": "stdout",
     "output_type": "stream",
     "text": [
      "0.7371940122466009\n"
     ]
    },
    {
     "data": {
      "image/png": "[encoded data removed]",
      "text/plain": [
       "<Figure size 432x288 with 1 Axes>"
      ]
     },
     "metadata": {
      "needs_background": "light"
     },
     "output_type": "display_data"
    }
   ],
   "source": [
    "combined_prediction = reliability_joint[0,:]*atac_doublet + reliability_joint[1,:]*rna_doublet\n",
    "doublet = pd.read_csv(\"./doublet.csv\")\n",
    "doublet = doublet.iloc[:, 1]\n",
    "\n",
    "precision, recall, thresholds = precision_recall_curve(doublet.to_numpy(), combined_prediction)\n",
    "auc_precision_recall = auc(recall, precision)\n",
    "print(auc_precision_recall)\n",
    "plt.plot(recall, precision)\n",
    "plt.show()"
   ]
  },
  {
   "cell_type": "code",
   "execution_count": 136,
   "id": "a44db129-fadd-4716-acac-2d4f6441778a",
   "metadata": {},
   "outputs": [
    {
     "name": "stdout",
     "output_type": "stream",
     "text": [
      "Predicted doublet proportion: 0.30744865132392973\n",
      "Precision: 0.7084674822923374\n",
      "f1 score: 0.7313668466971333\n"
     ]
    }
   ],
   "source": [
    "sen, spe = metrics(combined_prediction, doublet, cut = 0.5)"
   ]
  },
  {
   "cell_type": "markdown",
   "id": "c23a40d1-ddf3-4e2e-baaa-5d69bd3b5776",
   "metadata": {},
   "source": [
    "## PB-6 ATAC"
   ]
  },
  {
   "cell_type": "code",
   "execution_count": 137,
   "id": "181d8d55-4a63-46d0-bbeb-251f344a7504",
   "metadata": {},
   "outputs": [
    {
     "name": "stdout",
     "output_type": "stream",
     "text": [
      "/ix1/wchen/Haoran/CPDD/ATAC/20220429_2\n"
     ]
    }
   ],
   "source": [
    "%cd /ix1/wchen/Haoran/CPDD/ATAC/20220429_2/\n",
    "stable = genfromtxt(\"./ATAC_stable500_cts.csv\", delimiter=',')\n",
    "small_stable = stable[:,0:300] #300 stable features"
   ]
  },
  {
   "cell_type": "code",
   "execution_count": 138,
   "id": "1c2791c8-ac06-41db-a6d1-3794bf4687d3",
   "metadata": {},
   "outputs": [],
   "source": [
    "small_stable = torch.tensor(small_stable, device = dev)\n",
    "small_stable = small_stable.double()\n",
    "small_stable = small_stable + torch.tensor([0.0001], device = dev)\n"
   ]
  },
  {
   "cell_type": "code",
   "execution_count": 139,
   "id": "78803a32-2a72-4bb3-aa9f-95cb794267bd",
   "metadata": {},
   "outputs": [],
   "source": [
    "theta,alpha,beta,decay, loss_075,p_075 = MLE(small_stable)"
   ]
  },
  {
   "cell_type": "code",
   "execution_count": 140,
   "id": "2991ca47-955c-484a-8ebb-8213f4d593d5",
   "metadata": {},
   "outputs": [
    {
     "data": {
      "text/plain": [
       "0.180467106415942"
      ]
     },
     "execution_count": 140,
     "metadata": {},
     "output_type": "execute_result"
    }
   ],
   "source": [
    "weight = atac_fit_goodness(small_stable, alpha, beta, theta, decay)\n",
    "weight"
   ]
  },
  {
   "cell_type": "code",
   "execution_count": 141,
   "id": "76f3a541-002f-43fe-ac83-f894bba47647",
   "metadata": {},
   "outputs": [
    {
     "name": "stdout",
     "output_type": "stream",
     "text": [
      "0.7744855917276642\n"
     ]
    },
    {
     "data": {
      "image/png": "[encoded data removed]",
      "text/plain": [
       "<Figure size 432x288 with 1 Axes>"
      ]
     },
     "metadata": {
      "needs_background": "light"
     },
     "output_type": "display_data"
    }
   ],
   "source": [
    "prob_singlet = prob_k0(small_stable, theta, alpha, beta, decay, 0, k=3)\n",
    "prob_doublet = 1-prob_singlet\n",
    "\n",
    "doublet = genfromtxt(\"./doublet.csv\", delimiter=',')\n",
    "doublet = doublet[1:, 1]\n",
    "\n",
    "\n",
    "precision, recall, thresholds = precision_recall_curve(doublet, prob_doublet)\n",
    "auc_precision_recall = auc(recall, precision)\n",
    "print(auc_precision_recall)\n",
    "plt.plot(recall, precision)\n",
    "plt.show()"
   ]
  },
  {
   "cell_type": "code",
   "execution_count": 142,
   "id": "fc106a6e-af8a-4b0a-a970-02ce1ac8b6f4",
   "metadata": {},
   "outputs": [
    {
     "name": "stdout",
     "output_type": "stream",
     "text": [
      "Predicted doublet proportion: 0.2095457961988618\n",
      "Precision: 0.8055342044581092\n",
      "f1 score: 0.7107494065785013\n"
     ]
    }
   ],
   "source": [
    "sen, spe = metrics(prob_doublet, doublet, cut = 0.5)"
   ]
  },
  {
   "cell_type": "code",
   "execution_count": 143,
   "id": "7a2107e2-7637-49c5-97b3-6e3bbf2a3aa1",
   "metadata": {},
   "outputs": [],
   "source": [
    "doublet_prediction = pd.DataFrame(prob_doublet, columns = ['prob_doublet'])\n",
    "doublet_prediction.index.name = 'index'\n",
    "doublet_prediction.reset_index(inplace=True)\n",
    "#doublet_prediction = doublet_prediction.sort_values(\"prob_doublet\", ascending = False)\n",
    "#doublet_prediction\n",
    "doublet_prediction.to_csv('doublet_20220429_2_atac.csv',index=False)"
   ]
  },
  {
   "cell_type": "code",
   "execution_count": 144,
   "id": "eca3b495-0d87-47f8-82bd-0c58a925ee34",
   "metadata": {},
   "outputs": [],
   "source": [
    "reliability_table = reliability_atac(small_stable, theta, alpha, beta, decay)\n",
    "data = {'reliability': reliability_table[0,:]/(2*weight),\n",
    "        'flag': reliability_table[1,:]}\n",
    "  \n",
    "# Create DataFrame\n",
    "reliability_file = pd.DataFrame(data)\n",
    "reliability_file.index.name = 'index'\n",
    "reliability_file.reset_index(inplace=True)\n",
    "#doublet_prediction = doublet_prediction.sort_values(\"prob_doublet\", ascending = False)\n",
    "#doublet_prediction\n",
    "reliability_file.to_csv('reliability_20220429_2_atac.csv',index=False)"
   ]
  },
  {
   "cell_type": "markdown",
   "id": "e3afbba8-bace-4055-a687-711600470d8d",
   "metadata": {},
   "source": [
    "## PB-6 RNA+ATAC"
   ]
  },
  {
   "cell_type": "code",
   "execution_count": 145,
   "id": "f885d2fa-e726-4925-a168-d29a4448720f",
   "metadata": {},
   "outputs": [],
   "source": [
    "atac_doublet = pd.read_csv(\"/ix1/wchen/Haoran/CPDD/ATAC/20220429_2/doublet_20220429_2_atac.csv\")\n",
    "rna_doublet = pd.read_csv(\"/ix1/wchen/Haoran/CPDD/RNA/20220429_2/doublet_20220429_2_rna.csv\")\n",
    "atac_reliability = pd.read_csv(\"/ix1/wchen/Haoran/CPDD/ATAC/20220429_2/reliability_20220429_2_atac.csv\")\n",
    "rna_reliability = pd.read_csv(\"/ix1/wchen/Haoran/CPDD/RNA/20220429_2/reliability_20220429_2_rna.csv\")\n",
    "doublet = pd.read_csv(\"/ix1/wchen/Haoran/CPDD/ATAC/20220429_2/doublet.csv\")\n",
    "\n",
    "atac_doublet = atac_doublet.iloc[:, 1].to_numpy()\n",
    "rna_doublet = rna_doublet.iloc[:, 1].to_numpy()\n",
    "atac_reliability = atac_reliability.iloc[:,1].to_numpy()\n",
    "rna_reliability = rna_reliability.iloc[:,1].to_numpy()\n",
    "doublet = doublet.iloc[:, 1].to_numpy()\n",
    "\n",
    "reliability_joint = np.stack((atac_reliability, rna_reliability))\n",
    "reliability_joint = special.softmax(reliability_joint, axis = 0)"
   ]
  },
  {
   "cell_type": "code",
   "execution_count": 146,
   "id": "f81d7757-7e2f-4235-a37f-d45f8625c712",
   "metadata": {},
   "outputs": [
    {
     "name": "stdout",
     "output_type": "stream",
     "text": [
      "0.7767705019049785\n"
     ]
    },
    {
     "data": {
      "image/png": "[encoded data removed]",
      "text/plain": [
       "<Figure size 432x288 with 1 Axes>"
      ]
     },
     "metadata": {
      "needs_background": "light"
     },
     "output_type": "display_data"
    }
   ],
   "source": [
    "combined_prediction = reliability_joint[0,:]*atac_doublet + reliability_joint[1,:]*rna_doublet\n",
    "doublet = pd.read_csv(\"./doublet.csv\")\n",
    "doublet = doublet.iloc[:, 1]\n",
    "\n",
    "precision, recall, thresholds = precision_recall_curve(doublet.to_numpy(), combined_prediction)\n",
    "auc_precision_recall = auc(recall, precision)\n",
    "print(auc_precision_recall)\n",
    "plt.plot(recall, precision)\n",
    "plt.show()"
   ]
  },
  {
   "cell_type": "code",
   "execution_count": 147,
   "id": "ccb8e4c8-aac3-4994-bf71-a5eeaa8d61dd",
   "metadata": {},
   "outputs": [
    {
     "name": "stdout",
     "output_type": "stream",
     "text": [
      "Predicted doublet proportion: 0.30543326532803605\n",
      "Precision: 0.7389699419933204\n",
      "f1 score: 0.7907457914041193\n"
     ]
    }
   ],
   "source": [
    "sen, spe = metrics(combined_prediction, doublet, cut = 0.5)"
   ]
  },
  {
   "cell_type": "markdown",
   "id": "dd2fa968-e7e4-4f43-a44f-7309a7fc9f94",
   "metadata": {},
   "source": [
    "## PB-7 ATAC"
   ]
  },
  {
   "cell_type": "code",
   "execution_count": 148,
   "id": "01793b31-be0a-48be-8d50-b123ad75c039",
   "metadata": {},
   "outputs": [
    {
     "name": "stdout",
     "output_type": "stream",
     "text": [
      "/ix1/wchen/Haoran/CPDD/ATAC/20220429_3\n"
     ]
    }
   ],
   "source": [
    "%cd /ix1/wchen/Haoran/CPDD/ATAC/20220429_3/\n",
    "stable = genfromtxt(\"./ATAC_stable500_cts.csv\", delimiter=',')\n",
    "small_stable = stable[:,0:300] #300 stable features"
   ]
  },
  {
   "cell_type": "code",
   "execution_count": 149,
   "id": "6407fc38-6229-41d4-8326-579afa5b95f8",
   "metadata": {},
   "outputs": [],
   "source": [
    "small_stable = torch.tensor(small_stable, device = dev)\n",
    "small_stable = small_stable.double()\n",
    "small_stable = small_stable + torch.tensor([0.0001], device = dev)"
   ]
  },
  {
   "cell_type": "code",
   "execution_count": 150,
   "id": "fb849439-af51-4b41-a399-fc75558c64d3",
   "metadata": {},
   "outputs": [],
   "source": [
    "theta,alpha,beta,decay, loss_075,p_075 = MLE(small_stable)"
   ]
  },
  {
   "cell_type": "code",
   "execution_count": 151,
   "id": "282e0f04-96d5-4f51-a436-a8392e4099a7",
   "metadata": {},
   "outputs": [
    {
     "data": {
      "text/plain": [
       "0.18647551876242033"
      ]
     },
     "execution_count": 151,
     "metadata": {},
     "output_type": "execute_result"
    }
   ],
   "source": [
    "weight = atac_fit_goodness(small_stable, alpha, beta, theta, decay)\n",
    "weight"
   ]
  },
  {
   "cell_type": "code",
   "execution_count": 152,
   "id": "f92fcd60-eba1-4119-84f2-04cdc730d033",
   "metadata": {},
   "outputs": [
    {
     "name": "stdout",
     "output_type": "stream",
     "text": [
      "0.770727007937053\n"
     ]
    },
    {
     "data": {
      "image/png": "[encoded data removed]",
      "text/plain": [
       "<Figure size 432x288 with 1 Axes>"
      ]
     },
     "metadata": {
      "needs_background": "light"
     },
     "output_type": "display_data"
    }
   ],
   "source": [
    "prob_singlet = prob_k0(small_stable, theta, alpha, beta, decay, 0, k=3)\n",
    "prob_doublet = 1-prob_singlet\n",
    "\n",
    "doublet = genfromtxt(\"./doublet.csv\", delimiter=',')\n",
    "doublet = doublet[1:, 1]\n",
    "\n",
    "\n",
    "precision, recall, thresholds = precision_recall_curve(doublet, prob_doublet)\n",
    "auc_precision_recall = auc(recall, precision)\n",
    "print(auc_precision_recall)\n",
    "plt.plot(recall, precision)\n",
    "plt.show()"
   ]
  },
  {
   "cell_type": "code",
   "execution_count": 153,
   "id": "2233bbf5-8e77-44e1-a2ee-19a3b52658ab",
   "metadata": {},
   "outputs": [
    {
     "name": "stdout",
     "output_type": "stream",
     "text": [
      "Predicted doublet proportion: 0.20802955186157285\n",
      "Precision: 0.8264018691588785\n",
      "f1 score: 0.6844040247678019\n"
     ]
    }
   ],
   "source": [
    "sen, spe = metrics(prob_doublet, doublet, cut = 0.5)"
   ]
  },
  {
   "cell_type": "code",
   "execution_count": 154,
   "id": "2d4c308a-b300-4e40-81d1-51c8bd4d7961",
   "metadata": {},
   "outputs": [],
   "source": [
    "doublet_prediction = pd.DataFrame(prob_doublet, columns = ['prob_doublet'])\n",
    "doublet_prediction.index.name = 'index'\n",
    "doublet_prediction.reset_index(inplace=True)\n",
    "#doublet_prediction = doublet_prediction.sort_values(\"prob_doublet\", ascending = False)\n",
    "#doublet_prediction\n",
    "doublet_prediction.to_csv('doublet_20220429_3_atac.csv',index=False)"
   ]
  },
  {
   "cell_type": "code",
   "execution_count": 155,
   "id": "04bca4ac-bf5c-493f-a62c-7b8af912c7e7",
   "metadata": {},
   "outputs": [],
   "source": [
    "reliability_table = reliability_atac(small_stable, theta, alpha, beta, decay)\n",
    "data = {'reliability': reliability_table[0,:]/(2*weight),\n",
    "        'flag': reliability_table[1,:]}\n",
    "  \n",
    "# Create DataFrame\n",
    "reliability_file = pd.DataFrame(data)\n",
    "reliability_file.index.name = 'index'\n",
    "reliability_file.reset_index(inplace=True)\n",
    "#doublet_prediction = doublet_prediction.sort_values(\"prob_doublet\", ascending = False)\n",
    "#doublet_prediction\n",
    "reliability_file.to_csv('reliability_20220429_3_atac.csv',index=False)"
   ]
  },
  {
   "cell_type": "markdown",
   "id": "7dc54b64-1d0f-48d9-b367-77947d5b1990",
   "metadata": {},
   "source": [
    "## PB-7 RNA+ATAC"
   ]
  },
  {
   "cell_type": "code",
   "execution_count": 156,
   "id": "be52bccd-a003-4ac7-8da1-1c3b50a88274",
   "metadata": {},
   "outputs": [],
   "source": [
    "atac_doublet = pd.read_csv(\"/ix1/wchen/Haoran/CPDD/ATAC/20220429_3/doublet_20220429_3_atac.csv\")\n",
    "rna_doublet = pd.read_csv(\"/ix1/wchen/Haoran/CPDD/RNA/20220429_3/doublet_20220429_3_rna.csv\")\n",
    "atac_reliability = pd.read_csv(\"/ix1/wchen/Haoran/CPDD/ATAC/20220429_3/reliability_20220429_3_atac.csv\")\n",
    "rna_reliability = pd.read_csv(\"/ix1/wchen/Haoran/CPDD/RNA/20220429_3/reliability_20220429_3_rna.csv\")\n",
    "doublet = pd.read_csv(\"/ix1/wchen/Haoran/CPDD/ATAC/20220429_3/doublet.csv\")\n",
    "\n",
    "atac_doublet = atac_doublet.iloc[:, 1].to_numpy()\n",
    "rna_doublet = rna_doublet.iloc[:, 1].to_numpy()\n",
    "atac_reliability = atac_reliability.iloc[:,1].to_numpy()\n",
    "rna_reliability = rna_reliability.iloc[:,1].to_numpy()\n",
    "doublet = doublet.iloc[:, 1].to_numpy()\n",
    "\n",
    "reliability_joint = np.stack((atac_reliability, rna_reliability))\n",
    "reliability_joint = special.softmax(reliability_joint, axis = 0)"
   ]
  },
  {
   "cell_type": "code",
   "execution_count": 157,
   "id": "6f15bdd1-3d5e-47c7-92ec-a85c406559eb",
   "metadata": {},
   "outputs": [
    {
     "name": "stdout",
     "output_type": "stream",
     "text": [
      "0.7857054634515315\n"
     ]
    },
    {
     "data": {
      "image/png": "[encoded data removed]",
      "text/plain": [
       "<Figure size 432x288 with 1 Axes>"
      ]
     },
     "metadata": {
      "needs_background": "light"
     },
     "output_type": "display_data"
    }
   ],
   "source": [
    "combined_prediction = reliability_joint[0,:]*atac_doublet + reliability_joint[1,:]*rna_doublet\n",
    "doublet = pd.read_csv(\"./doublet.csv\")\n",
    "doublet = doublet.iloc[:, 1]\n",
    "\n",
    "\n",
    "precision, recall, thresholds = precision_recall_curve(doublet.to_numpy(), combined_prediction)\n",
    "auc_precision_recall = auc(recall, precision)\n",
    "print(auc_precision_recall)\n",
    "plt.plot(recall, precision)\n",
    "plt.show()"
   ]
  },
  {
   "cell_type": "code",
   "execution_count": 158,
   "id": "09bdd11a-3a54-4aa4-9def-bd4221d5c7ab",
   "metadata": {},
   "outputs": [
    {
     "name": "stdout",
     "output_type": "stream",
     "text": [
      "Predicted doublet proportion: 0.2968795567220764\n",
      "Precision: 0.7680091683038638\n",
      "f1 score: 0.7712923380466951\n"
     ]
    }
   ],
   "source": [
    "sen, spe = metrics(combined_prediction, doublet, cut = 0.5)"
   ]
  },
  {
   "cell_type": "markdown",
   "id": "87764c5a-88bd-4e8e-be92-6e3f2bab91ab",
   "metadata": {},
   "source": [
    "## PB-8 ATAC"
   ]
  },
  {
   "cell_type": "code",
   "execution_count": 159,
   "id": "934d359f-b089-40af-a2ed-c9b652e959ee",
   "metadata": {},
   "outputs": [
    {
     "name": "stdout",
     "output_type": "stream",
     "text": [
      "/ix1/wchen/Haoran/CPDD/ATAC/20220524_1\n"
     ]
    }
   ],
   "source": [
    "%cd /ix1/wchen/Haoran/CPDD/ATAC/20220524_1/\n",
    "stable = genfromtxt(\"./ATAC_stable500_cts.csv\", delimiter=',')\n",
    "small_stable = stable[:,0:300] #300 stable features\n"
   ]
  },
  {
   "cell_type": "code",
   "execution_count": 160,
   "id": "25ae2a71-1d3a-43d2-aa5e-ed55a45e025c",
   "metadata": {},
   "outputs": [],
   "source": [
    "small_stable = torch.tensor(small_stable, device = dev)\n",
    "small_stable = small_stable.double()\n",
    "small_stable = small_stable + torch.tensor([0.0001], device = dev)"
   ]
  },
  {
   "cell_type": "code",
   "execution_count": 161,
   "id": "6776c88a-e95f-4a16-8416-a2a73719739c",
   "metadata": {},
   "outputs": [],
   "source": [
    "theta,alpha,beta,decay, loss_075,p_075 = MLE(small_stable)"
   ]
  },
  {
   "cell_type": "code",
   "execution_count": 162,
   "id": "2ff92516-4a10-4b70-8d4d-1b038124fa79",
   "metadata": {},
   "outputs": [
    {
     "data": {
      "text/plain": [
       "0.1915035986347527"
      ]
     },
     "execution_count": 162,
     "metadata": {},
     "output_type": "execute_result"
    }
   ],
   "source": [
    "weight = atac_fit_goodness(small_stable, alpha, beta, theta, decay)\n",
    "weight"
   ]
  },
  {
   "cell_type": "code",
   "execution_count": 163,
   "id": "f8d0a09f-5155-46ee-9653-5e3bbd1a38ca",
   "metadata": {},
   "outputs": [
    {
     "name": "stdout",
     "output_type": "stream",
     "text": [
      "0.7468652814150143\n"
     ]
    },
    {
     "data": {
      "image/png": "[encoded data removed]",
      "text/plain": [
       "<Figure size 432x288 with 1 Axes>"
      ]
     },
     "metadata": {
      "needs_background": "light"
     },
     "output_type": "display_data"
    }
   ],
   "source": [
    "prob_singlet = prob_k0(small_stable, theta, alpha, beta, decay, 0, k=3)\n",
    "prob_doublet = 1-prob_singlet\n",
    "\n",
    "doublet = genfromtxt(\"./doublet.csv\", delimiter=',')\n",
    "doublet = doublet[1:, 1]\n",
    "\n",
    "\n",
    "precision, recall, thresholds = precision_recall_curve(doublet, prob_doublet)\n",
    "auc_precision_recall = auc(recall, precision)\n",
    "print(auc_precision_recall)\n",
    "plt.plot(recall, precision)\n",
    "plt.show()"
   ]
  },
  {
   "cell_type": "code",
   "execution_count": 164,
   "id": "4f7fe188-8a14-4ade-bb69-be7597496ebc",
   "metadata": {},
   "outputs": [
    {
     "name": "stdout",
     "output_type": "stream",
     "text": [
      "Predicted doublet proportion: 0.25255474452554744\n",
      "Precision: 0.7465405500087581\n",
      "f1 score: 0.6656774697383835\n"
     ]
    }
   ],
   "source": [
    "sen, spe = metrics(prob_doublet, doublet, cut = 0.5)"
   ]
  },
  {
   "cell_type": "code",
   "execution_count": 165,
   "id": "b01559b2-6e49-4fe8-9db8-2114a5f9a796",
   "metadata": {},
   "outputs": [],
   "source": [
    "doublet_prediction = pd.DataFrame(prob_doublet, columns = ['prob_doublet'])\n",
    "doublet_prediction.index.name = 'index'\n",
    "doublet_prediction.reset_index(inplace=True)\n",
    "#doublet_prediction = doublet_prediction.sort_values(\"prob_doublet\", ascending = False)\n",
    "#doublet_prediction\n",
    "doublet_prediction.to_csv('doublet_20220524_1_atac.csv',index=False)"
   ]
  },
  {
   "cell_type": "code",
   "execution_count": 166,
   "id": "78ee5403-a322-4261-ad08-d2e7f207dce3",
   "metadata": {},
   "outputs": [],
   "source": [
    "reliability_table = reliability_atac(small_stable, theta, alpha, beta, decay)\n",
    "data = {'reliability': reliability_table[0,:]/(2*weight),\n",
    "        'flag': reliability_table[1,:]}\n",
    "  \n",
    "# Create DataFrame\n",
    "reliability_file = pd.DataFrame(data)\n",
    "reliability_file.index.name = 'index'\n",
    "reliability_file.reset_index(inplace=True)\n",
    "#doublet_prediction = doublet_prediction.sort_values(\"prob_doublet\", ascending = False)\n",
    "#doublet_prediction\n",
    "reliability_file.to_csv('reliability_20220524_1_atac.csv',index=False)"
   ]
  },
  {
   "cell_type": "markdown",
   "id": "2e2dd097-f8ad-485a-a296-078af975e372",
   "metadata": {},
   "source": [
    "## PB-8 RNA+ATAC"
   ]
  },
  {
   "cell_type": "code",
   "execution_count": 167,
   "id": "d5b32e8e-1866-4b36-b93d-66845c2b434a",
   "metadata": {},
   "outputs": [],
   "source": [
    "atac_doublet = pd.read_csv(\"/ix1/wchen/Haoran/CPDD/ATAC/20220524_1/doublet_20220524_1_atac.csv\")\n",
    "rna_doublet = pd.read_csv(\"/ix1/wchen/Haoran/CPDD/RNA/20220524_1/doublet_20220524_1_rna.csv\")\n",
    "atac_reliability = pd.read_csv(\"/ix1/wchen/Haoran/CPDD/ATAC/20220524_1/reliability_20220524_1_atac.csv\")\n",
    "rna_reliability = pd.read_csv(\"/ix1/wchen/Haoran/CPDD/RNA/20220524_1/reliability_20220524_1_rna.csv\")\n",
    "doublet = pd.read_csv(\"/ix1/wchen/Haoran/CPDD/ATAC/20220524_1/doublet.csv\")\n",
    "\n",
    "atac_doublet = atac_doublet.iloc[:, 1].to_numpy()\n",
    "rna_doublet = rna_doublet.iloc[:, 1].to_numpy()\n",
    "atac_reliability = atac_reliability.iloc[:,1].to_numpy()\n",
    "rna_reliability = rna_reliability.iloc[:,1].to_numpy()\n",
    "doublet = doublet.iloc[:, 1].to_numpy()\n",
    "\n",
    "reliability_joint = np.stack((atac_reliability, rna_reliability))\n",
    "reliability_joint = special.softmax(reliability_joint, axis = 0)"
   ]
  },
  {
   "cell_type": "code",
   "execution_count": 168,
   "id": "7fa52b21-b296-4b72-85d0-831dc4e1b4df",
   "metadata": {},
   "outputs": [
    {
     "name": "stdout",
     "output_type": "stream",
     "text": [
      "0.7879698639739225\n"
     ]
    },
    {
     "data": {
      "image/png": "[encoded data removed]",
      "text/plain": [
       "<Figure size 432x288 with 1 Axes>"
      ]
     },
     "metadata": {
      "needs_background": "light"
     },
     "output_type": "display_data"
    }
   ],
   "source": [
    "combined_prediction = reliability_joint[0,:]*atac_doublet + reliability_joint[1,:]*rna_doublet\n",
    "doublet = pd.read_csv(\"./doublet.csv\")\n",
    "doublet = doublet.iloc[:, 1]\n",
    "\n",
    "precision, recall, thresholds = precision_recall_curve(doublet.to_numpy(), combined_prediction)\n",
    "auc_precision_recall = auc(recall, precision)\n",
    "print(auc_precision_recall)\n",
    "plt.plot(recall, precision)\n",
    "plt.show()"
   ]
  },
  {
   "cell_type": "code",
   "execution_count": 169,
   "id": "65abff38-a123-4858-aad1-4157158454c0",
   "metadata": {},
   "outputs": [
    {
     "name": "stdout",
     "output_type": "stream",
     "text": [
      "Predicted doublet proportion: 0.38084494580844946\n",
      "Precision: 0.703333720525032\n",
      "f1 score: 0.7710920089143585\n"
     ]
    }
   ],
   "source": [
    "sen, spe = metrics(combined_prediction, doublet, cut = 0.5)"
   ]
  },
  {
   "cell_type": "markdown",
   "id": "8cb4776e-df33-4791-8b40-50443848756d",
   "metadata": {},
   "source": [
    "## PB-9 ATAC"
   ]
  },
  {
   "cell_type": "code",
   "execution_count": 170,
   "id": "ac0e7149-bfb4-45a1-9737-bde94eb13c7a",
   "metadata": {},
   "outputs": [
    {
     "name": "stdout",
     "output_type": "stream",
     "text": [
      "/ix1/wchen/Haoran/CPDD/ATAC/20220524_2\n"
     ]
    }
   ],
   "source": [
    "%cd /ix1/wchen/Haoran/CPDD/ATAC/20220524_2/\n",
    "stable = genfromtxt(\"./ATAC_stable500_cts.csv\", delimiter=',')\n",
    "small_stable = stable[:,0:300] #300 stable features"
   ]
  },
  {
   "cell_type": "code",
   "execution_count": 171,
   "id": "6bf004f6-5b6f-46b5-9ecd-e818b150197e",
   "metadata": {},
   "outputs": [],
   "source": [
    "\n",
    "small_stable = torch.tensor(small_stable, device = dev)\n",
    "small_stable = small_stable.double()\n",
    "small_stable = small_stable + torch.tensor([0.0001], device = dev)"
   ]
  },
  {
   "cell_type": "code",
   "execution_count": 172,
   "id": "729d671b-7ae4-4cd9-b6c6-1ed751e1e2d8",
   "metadata": {},
   "outputs": [],
   "source": [
    "theta,alpha,beta,decay, loss_075,p_075 = MLE(small_stable)"
   ]
  },
  {
   "cell_type": "code",
   "execution_count": 173,
   "id": "5f4d0181-7d1c-4e95-aca4-0166f1ec9fdb",
   "metadata": {},
   "outputs": [
    {
     "data": {
      "text/plain": [
       "0.17857586096514005"
      ]
     },
     "execution_count": 173,
     "metadata": {},
     "output_type": "execute_result"
    }
   ],
   "source": [
    "weight = atac_fit_goodness(small_stable, alpha, beta, theta, decay)\n",
    "weight"
   ]
  },
  {
   "cell_type": "code",
   "execution_count": 174,
   "id": "de0f4b36-1454-4a25-afdf-e854a52ab208",
   "metadata": {},
   "outputs": [
    {
     "name": "stdout",
     "output_type": "stream",
     "text": [
      "0.7363061679025723\n"
     ]
    },
    {
     "data": {
      "image/png": "[encoded data removed]",
      "text/plain": [
       "<Figure size 432x288 with 1 Axes>"
      ]
     },
     "metadata": {
      "needs_background": "light"
     },
     "output_type": "display_data"
    }
   ],
   "source": [
    "prob_singlet = prob_k0(small_stable, theta, alpha, beta, decay, 0, k=3)\n",
    "prob_doublet = 1-prob_singlet\n",
    "\n",
    "doublet = genfromtxt(\"./doublet.csv\", delimiter=',')\n",
    "doublet = doublet[1:, 1]\n",
    "\n",
    "\n",
    "precision, recall, thresholds = precision_recall_curve(doublet, prob_doublet)\n",
    "auc_precision_recall = auc(recall, precision)\n",
    "print(auc_precision_recall)\n",
    "plt.plot(recall, precision)\n",
    "plt.show()"
   ]
  },
  {
   "cell_type": "code",
   "execution_count": 175,
   "id": "8a016c98-ae77-4c14-8904-c9fbd9176afc",
   "metadata": {},
   "outputs": [
    {
     "name": "stdout",
     "output_type": "stream",
     "text": [
      "Predicted doublet proportion: 0.2493416636546703\n",
      "Precision: 0.7119486436115138\n",
      "f1 score: 0.6498440601077402\n"
     ]
    }
   ],
   "source": [
    "sen, spe = metrics(prob_doublet, doublet, cut = 0.5)\n"
   ]
  },
  {
   "cell_type": "code",
   "execution_count": 176,
   "id": "9c6378bd-061b-4880-91da-1fb71e4fa681",
   "metadata": {},
   "outputs": [],
   "source": [
    "doublet_prediction = pd.DataFrame(prob_doublet, columns = ['prob_doublet'])\n",
    "doublet_prediction.index.name = 'index'\n",
    "doublet_prediction.reset_index(inplace=True)\n",
    "#doublet_prediction = doublet_prediction.sort_values(\"prob_doublet\", ascending = False)\n",
    "#doublet_prediction\n",
    "doublet_prediction.to_csv('doublet_20220524_2_atac.csv',index=False)"
   ]
  },
  {
   "cell_type": "code",
   "execution_count": 177,
   "id": "0de1d451-4b46-48de-aee2-be9ef7baec8e",
   "metadata": {},
   "outputs": [],
   "source": [
    "reliability_table = reliability_atac(small_stable, theta, alpha, beta, decay)\n",
    "data = {'reliability': reliability_table[0,:]/(2*weight),\n",
    "        'flag': reliability_table[1,:]}\n",
    "  \n",
    "# Create DataFrame\n",
    "reliability_file = pd.DataFrame(data)\n",
    "reliability_file.index.name = 'index'\n",
    "reliability_file.reset_index(inplace=True)\n",
    "#doublet_prediction = doublet_prediction.sort_values(\"prob_doublet\", ascending = False)\n",
    "#doublet_prediction\n",
    "reliability_file.to_csv('reliability_20220524_2_atac.csv',index=False)"
   ]
  },
  {
   "cell_type": "markdown",
   "id": "0df4ebb0-1233-47c9-989d-7f0aa3957af3",
   "metadata": {},
   "source": [
    "## PB-9 RNA+ATAC"
   ]
  },
  {
   "cell_type": "code",
   "execution_count": 178,
   "id": "c6d6b9d6-a8f4-42ab-a26c-6d22b5cbd40f",
   "metadata": {},
   "outputs": [],
   "source": [
    "atac_doublet = pd.read_csv(\"/ix1/wchen/Haoran/CPDD/ATAC/20220524_2/doublet_20220524_2_atac.csv\")\n",
    "rna_doublet = pd.read_csv(\"/ix1/wchen/Haoran/CPDD/RNA/20220524_2/doublet_20220524_2_rna.csv\")\n",
    "atac_reliability = pd.read_csv(\"/ix1/wchen/Haoran/CPDD/ATAC/20220524_2/reliability_20220524_2_atac.csv\")\n",
    "rna_reliability = pd.read_csv(\"/ix1/wchen/Haoran/CPDD/RNA/20220524_2/reliability_20220524_2_rna.csv\")\n",
    "doublet = pd.read_csv(\"/ix1/wchen/Haoran/CPDD/ATAC/20220524_2/doublet.csv\")\n",
    "\n",
    "atac_doublet = atac_doublet.iloc[:, 1].to_numpy()\n",
    "rna_doublet = rna_doublet.iloc[:, 1].to_numpy()\n",
    "atac_reliability = atac_reliability.iloc[:,1].to_numpy()\n",
    "rna_reliability = rna_reliability.iloc[:,1].to_numpy()\n",
    "doublet = doublet.iloc[:, 1].to_numpy()\n",
    "\n",
    "reliability_joint = np.stack((atac_reliability, rna_reliability))\n",
    "reliability_joint = special.softmax(reliability_joint, axis = 0)"
   ]
  },
  {
   "cell_type": "code",
   "execution_count": 179,
   "id": "a523e335-eff1-4cef-9b33-bf8bfd61b3bb",
   "metadata": {},
   "outputs": [
    {
     "name": "stdout",
     "output_type": "stream",
     "text": [
      "0.8036566183652473\n"
     ]
    },
    {
     "data": {
      "image/png": "[encoded data removed]",
      "text/plain": [
       "<Figure size 432x288 with 1 Axes>"
      ]
     },
     "metadata": {
      "needs_background": "light"
     },
     "output_type": "display_data"
    }
   ],
   "source": [
    "combined_prediction = reliability_joint[0,:]*atac_doublet + reliability_joint[1,:]*rna_doublet\n",
    "doublet = pd.read_csv(\"./doublet.csv\")\n",
    "doublet = doublet.iloc[:, 1]\n",
    "\n",
    "precision, recall, thresholds = precision_recall_curve(doublet.to_numpy(), combined_prediction)\n",
    "auc_precision_recall = auc(recall, precision)\n",
    "print(auc_precision_recall)\n",
    "plt.plot(recall, precision)\n",
    "plt.show()"
   ]
  },
  {
   "cell_type": "code",
   "execution_count": 180,
   "id": "1aaa2dfe-98a1-4880-93df-597c6781f3f3",
   "metadata": {},
   "outputs": [
    {
     "name": "stdout",
     "output_type": "stream",
     "text": [
      "Predicted doublet proportion: 0.3574637269582279\n",
      "Precision: 0.706052289469883\n",
      "f1 score: 0.7712820512820513\n"
     ]
    }
   ],
   "source": [
    "sen, spe = metrics(combined_prediction, doublet, cut = 0.5)"
   ]
  },
  {
   "cell_type": "markdown",
   "id": "e7867931-fb5f-4c30-8b9a-065d57be46e8",
   "metadata": {},
   "source": [
    "## PB-10 ATAC"
   ]
  },
  {
   "cell_type": "code",
   "execution_count": 181,
   "id": "92115242-7aff-4569-920f-7a1436a22663",
   "metadata": {},
   "outputs": [
    {
     "name": "stdout",
     "output_type": "stream",
     "text": [
      "/ix1/wchen/Haoran/CPDD/ATAC/20210831_1\n"
     ]
    }
   ],
   "source": [
    "%cd /ix1/wchen/Haoran/CPDD/ATAC/20210831_1/\n",
    "stable = genfromtxt(\"./ATAC_stable500_cts.csv\", delimiter=',')\n",
    "small_stable = stable[:,0:300] #300 stable features"
   ]
  },
  {
   "cell_type": "code",
   "execution_count": 182,
   "id": "903f09e9-f66e-443d-9a80-b36852061940",
   "metadata": {},
   "outputs": [],
   "source": [
    "small_stable = torch.tensor(small_stable, device = dev)\n",
    "small_stable = small_stable.double()\n",
    "small_stable = small_stable + torch.tensor([0.0001], device = dev)\n"
   ]
  },
  {
   "cell_type": "code",
   "execution_count": 183,
   "id": "a324b92a-5205-4d89-9e19-b5aa4bd77b9b",
   "metadata": {},
   "outputs": [],
   "source": [
    "theta,alpha,beta,decay, loss_075,p_075 = MLE(small_stable)"
   ]
  },
  {
   "cell_type": "code",
   "execution_count": 184,
   "id": "47efc764-afb8-4b02-803f-a1e8c7d90f9b",
   "metadata": {},
   "outputs": [
    {
     "data": {
      "text/plain": [
       "0.1988718424215861"
      ]
     },
     "execution_count": 184,
     "metadata": {},
     "output_type": "execute_result"
    }
   ],
   "source": [
    "weight = atac_fit_goodness(small_stable, alpha, beta, theta, decay)\n",
    "weight"
   ]
  },
  {
   "cell_type": "code",
   "execution_count": 185,
   "id": "aeae0b4a-e30d-4d80-9037-ef35df96ea36",
   "metadata": {},
   "outputs": [
    {
     "name": "stdout",
     "output_type": "stream",
     "text": [
      "0.7305947006839204\n"
     ]
    },
    {
     "data": {
      "image/png": "[encoded data removed]",
      "text/plain": [
       "<Figure size 432x288 with 1 Axes>"
      ]
     },
     "metadata": {
      "needs_background": "light"
     },
     "output_type": "display_data"
    }
   ],
   "source": [
    "prob_singlet = prob_k0(small_stable, theta, alpha, beta, decay, 0, k=3)\n",
    "prob_doublet = 1-prob_singlet\n",
    "\n",
    "doublet = genfromtxt(\"./doublet.csv\", delimiter=',')\n",
    "doublet = doublet[1:, 1]\n",
    "\n",
    "\n",
    "precision, recall, thresholds = precision_recall_curve(doublet, prob_doublet)\n",
    "auc_precision_recall = auc(recall, precision)\n",
    "print(auc_precision_recall)\n",
    "plt.plot(recall, precision)\n",
    "plt.show()"
   ]
  },
  {
   "cell_type": "code",
   "execution_count": 186,
   "id": "472dee4e-90cd-4215-8909-e0fd60af8e08",
   "metadata": {},
   "outputs": [
    {
     "name": "stdout",
     "output_type": "stream",
     "text": [
      "Predicted doublet proportion: 0.16791517805693212\n",
      "Precision: 0.7759094028826355\n",
      "f1 score: 0.6686381783232292\n"
     ]
    }
   ],
   "source": [
    "sen, spe = metrics(prob_doublet, doublet, cut = 0.5)"
   ]
  },
  {
   "cell_type": "code",
   "execution_count": 187,
   "id": "440f4304-9209-4d25-9db5-890f63a1e9a6",
   "metadata": {},
   "outputs": [],
   "source": [
    "doublet_prediction = pd.DataFrame(prob_doublet, columns = ['prob_doublet'])\n",
    "doublet_prediction.index.name = 'index'\n",
    "doublet_prediction.reset_index(inplace=True)\n",
    "#doublet_prediction = doublet_prediction.sort_values(\"prob_doublet\", ascending = False)\n",
    "#doublet_prediction\n",
    "doublet_prediction.to_csv('doublet_20210831_1_atac.csv',index=False)"
   ]
  },
  {
   "cell_type": "code",
   "execution_count": 188,
   "id": "d63fceac-3a3d-4099-af61-ca30306b5543",
   "metadata": {},
   "outputs": [],
   "source": [
    "reliability_table = reliability_atac(small_stable, theta, alpha, beta, decay)\n",
    "data = {'reliability': reliability_table[0,:]/(2*weight),\n",
    "        'flag': reliability_table[1,:]}\n",
    "  \n",
    "# Create DataFrame\n",
    "reliability_file = pd.DataFrame(data)\n",
    "reliability_file.index.name = 'index'\n",
    "reliability_file.reset_index(inplace=True)\n",
    "#doublet_prediction = doublet_prediction.sort_values(\"prob_doublet\", ascending = False)\n",
    "#doublet_prediction\n",
    "reliability_file.to_csv('reliability_20210831_1_atac.csv',index=False)"
   ]
  },
  {
   "cell_type": "markdown",
   "id": "b33cfe06-0dee-47b5-a441-04941077fad1",
   "metadata": {},
   "source": [
    "## PB-10 RNA+ATAC"
   ]
  },
  {
   "cell_type": "code",
   "execution_count": 189,
   "id": "b9c02de6-da37-411f-a248-68179233b486",
   "metadata": {},
   "outputs": [],
   "source": [
    "atac_doublet = pd.read_csv(\"/ix1/wchen/Haoran/CPDD/ATAC/20210831_1/doublet_20210831_1_atac.csv\")\n",
    "rna_doublet = pd.read_csv(\"/ix1/wchen/Haoran/CPDD/RNA/20210831_1/doublet_20210831_1_rna.csv\")\n",
    "atac_reliability = pd.read_csv(\"/ix1/wchen/Haoran/CPDD/ATAC/20210831_1/reliability_20210831_1_atac.csv\")\n",
    "rna_reliability = pd.read_csv(\"/ix1/wchen/Haoran/CPDD/RNA/20210831_1/reliability_20210831_1_rna.csv\")\n",
    "doublet = pd.read_csv(\"/ix1/wchen/Haoran/CPDD/ATAC/20210831_1/doublet.csv\")\n",
    "\n",
    "atac_doublet = atac_doublet.iloc[:, 1].to_numpy()\n",
    "rna_doublet = rna_doublet.iloc[:, 1].to_numpy()\n",
    "atac_reliability = atac_reliability.iloc[:,1].to_numpy()\n",
    "rna_reliability = rna_reliability.iloc[:,1].to_numpy()\n",
    "doublet = doublet.iloc[:, 1].to_numpy()\n",
    "\n",
    "reliability_joint = np.stack((atac_reliability, rna_reliability))\n",
    "reliability_joint = special.softmax(reliability_joint, axis = 0)"
   ]
  },
  {
   "cell_type": "code",
   "execution_count": 190,
   "id": "3aa6c4b7-cb19-441f-9add-0d5a059dd16a",
   "metadata": {},
   "outputs": [
    {
     "name": "stdout",
     "output_type": "stream",
     "text": [
      "0.711335617910625\n"
     ]
    },
    {
     "data": {
      "image/png": "[encoded data removed]",
      "text/plain": [
       "<Figure size 432x288 with 1 Axes>"
      ]
     },
     "metadata": {
      "needs_background": "light"
     },
     "output_type": "display_data"
    }
   ],
   "source": [
    "combined_prediction = reliability_joint[0,:]*atac_doublet + reliability_joint[1,:]*rna_doublet\n",
    "doublet = pd.read_csv(\"./doublet.csv\")\n",
    "doublet = doublet.iloc[:, 1]\n",
    "\n",
    "\n",
    "precision, recall, thresholds = precision_recall_curve(doublet.to_numpy(), combined_prediction)\n",
    "auc_precision_recall = auc(recall, precision)\n",
    "print(auc_precision_recall)\n",
    "plt.plot(recall, precision)\n",
    "plt.show()"
   ]
  },
  {
   "cell_type": "code",
   "execution_count": 191,
   "id": "535354c3-6801-4212-8687-3ca5ade5a4ca",
   "metadata": {},
   "outputs": [
    {
     "name": "stdout",
     "output_type": "stream",
     "text": [
      "Predicted doublet proportion: 0.25279474472744035\n",
      "Precision: 0.6886254843856849\n",
      "f1 score: 0.7336085478387566\n"
     ]
    }
   ],
   "source": [
    "sen, spe = metrics(combined_prediction, doublet, cut = 0.5)"
   ]
  }
 ],
 "metadata": {
  "kernelspec": {
   "display_name": "Python 3 (ipykernel)",
   "language": "python",
   "name": "python3"
  },
  "language_info": {
   "codemirror_mode": {
    "name": "ipython",
    "version": 3
   },
   "file_extension": ".py",
   "mimetype": "text/x-python",
   "name": "python",
   "nbconvert_exporter": "python",
   "pygments_lexer": "ipython3",
   "version": "3.8.5"
  }
 },
 "nbformat": 4,
 "nbformat_minor": 5
}
