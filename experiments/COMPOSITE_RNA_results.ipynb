{
 "cells": [
  {
   "cell_type": "code",
   "execution_count": 1,
   "metadata": {
    "id": "MVi4lyKm_Lsp"
   },
   "outputs": [],
   "source": [
    "import sys\n",
    "import pandas as pd\n",
    "import random\n",
    "import math\n",
    "#import scanpy as sc\n",
    "import torch\n",
    "import torch.nn as nn\n",
    "import torch.optim as optim\n",
    "import torch.utils.data\n",
    "import torch.nn.functional as F\n",
    "import matplotlib.pyplot as plt\n",
    "import numpy as np\n",
    "from scipy.stats import gamma\n",
    "from scipy.stats import poisson\n",
    "from sklearn.metrics import roc_auc_score\n",
    "from sklearn.metrics import precision_recall_curve\n",
    "from sklearn.metrics import auc\n",
    "from scipy import special\n",
    "import operator\n",
    "from numpy import genfromtxt\n"
   ]
  },
  {
   "cell_type": "code",
   "execution_count": 2,
   "metadata": {
    "colab": {
     "base_uri": "https://localhost:8080/"
    },
    "id": "Y4PEWTrI_XHr",
    "outputId": "b540e066-412c-46b8-de4b-f11a11760ec2"
   },
   "outputs": [
    {
     "name": "stdout",
     "output_type": "stream",
     "text": [
      "Cuda is available\n",
      "Found 1 GPUs available. Using GPU 0 (NVIDIA A100-PCIE-40GB) of compute capability 8.0 with 42.4Gb total memory.\n",
      "\n"
     ]
    }
   ],
   "source": [
    "if torch.cuda.is_available():  \n",
    "  dev = \"cuda:0\" \n",
    "else:  \n",
    "  dev = \"cpu\"  \n",
    "device = torch.device(dev) \n",
    "\n",
    "if torch.cuda.is_available():\n",
    "   print (\"Cuda is available\")\n",
    "   device_id = torch.cuda.current_device()\n",
    "   gpu_properties = torch.cuda.get_device_properties(device_id)\n",
    "   print(\"Found %d GPUs available. Using GPU %d (%s) of compute capability %d.%d with \"\n",
    "          \"%.1fGb total memory.\\n\" % \n",
    "          (torch.cuda.device_count(),\n",
    "          device_id,\n",
    "          gpu_properties.name,\n",
    "          gpu_properties.major,\n",
    "          gpu_properties.minor,\n",
    "          gpu_properties.total_memory / 1e9))\n",
    "else:    \n",
    "   print (\"Cuda is not available\")"
   ]
  },
  {
   "cell_type": "markdown",
   "metadata": {
    "id": "vb6mWseD_dbW"
   },
   "source": [
    "compound poisson gamma"
   ]
  },
  {
   "cell_type": "code",
   "execution_count": 3,
   "metadata": {
    "id": "vNnha1vA_d1T"
   },
   "outputs": [],
   "source": [
    "#intialization: theta is based on estimated doublet proportion; \n",
    "#               alpha and beta is estimated by assuming a simple gamma distribution and estimated by method of moment\n",
    "def initialization(theta, data):\n",
    "  #theta is a numerical value\n",
    "  #data should be the count matrix in tensor form\n",
    "  theta = torch.tensor(theta, device = dev)\n",
    "  mu = torch.mean(data, dim=0)\n",
    "  var = torch.var(data, dim=0)\n",
    "  alpha = torch.square(mu)/var.to(dev)\n",
    "  beta = mu/var.to(dev)\n",
    "\n",
    "  theta = theta.requires_grad_()\n",
    "  alpha = alpha.requires_grad_()\n",
    "  beta = beta.requires_grad_()\n",
    "\n",
    "\n",
    "  return theta, alpha, beta\n",
    "\n",
    "#log likelihood\n",
    "def loglik(N, theta, alpha, beta, decay, data):\n",
    "  #N is the user estimated maximum number of cells in a droplet\n",
    "  #theta, alpha, and beta are outputs from initialization function\n",
    "  #data should be the count matrix in tensor form\n",
    "  \n",
    "  poisson = torch.distributions.Poisson(theta)\n",
    "  for k in range(N):\n",
    "    gamma = torch.distributions.Gamma(alpha*(1+torch.tensor(k, device = dev)/(1+torch.exp(-decay))), beta)\n",
    "    if k ==0 :\n",
    "      sum_k = gamma.log_prob(data).exp()*poisson.log_prob(torch.tensor([k], device = dev)).exp()\n",
    "    else:\n",
    "      sum_k = sum_k.clone() + gamma.log_prob(data).exp()*poisson.log_prob(torch.tensor([k], device = dev)).exp() #sum of likelihood\n",
    "\n",
    "  l = sum_k.log().sum()\n",
    "  return l\n",
    "\n",
    "def MLE(data, N=3, p=0.7, lr=0.001, tolerance = 20):\n",
    "   #p is a numerical value, initial guess of singlet rate; this value doesn't have a big impact on parameter estimation\n",
    "   #data should be the count matrix in tensor form\n",
    "   #N is the user estimated maximum number of cells in a droplet\n",
    "   #tolerance controls how many steps we allow the loss not to improve\n",
    "\n",
    "    x = data\n",
    "    x.requires_grad_(False)  ## data\n",
    "\n",
    "    decay = torch.tensor(0.0, device = dev)\n",
    "    decay = decay.requires_grad_()\n",
    "\n",
    "    theta = -math.log(p)\n",
    "    theta, alpha, beta = initialization(theta, data)\n",
    "    alpha0 = 0.5*torch.mean(alpha).to('cpu').detach().item()\n",
    "\n",
    "    parameters = [theta, alpha, beta, decay]\n",
    "\n",
    "    optimizer = optim.Adam(parameters, lr=lr)\n",
    "\n",
    "    NLL_0 = -loglik(N, theta, alpha, beta, decay, x)\n",
    "    l = []\n",
    "    singlet_rate = []\n",
    "\n",
    "\n",
    "    for i in range(5000):\n",
    "        #theta = theta.clone().clamp_(0.001, 1)\n",
    "        NLL = -loglik(N, theta, alpha, beta, decay, x)\n",
    "        if i % 200 == 0:\n",
    "            l.append(NLL.to('cpu').detach())\n",
    "            singlet_rate.append(torch.tensor([-theta]).exp())\n",
    "            if len(l) > 2:\n",
    "              if (l[-2] - l[-1]) < 0.01*(l[0] - l[1]):\n",
    "                tolerance = tolerance - 1\n",
    "\n",
    "        if tolerance == 0:\n",
    "          break\n",
    "\n",
    "        NLL.backward()\n",
    "        optimizer.step()\n",
    "        optimizer.zero_grad()\n",
    "        theta.data.clamp_(0.001, 1.0)\n",
    "        decay.data.clamp_(-10, 10)\n",
    "        alpha.data.clamp_(min = alpha0)\n",
    "\n",
    "    \n",
    "\n",
    "    return theta, alpha, beta, decay, l, singlet_rate\n",
    "\n",
    "def compound_poisson_gamma_cdf(data, alpha, beta, theta, decay, N=3):\n",
    "  #calculate estimated distribution for each gene\n",
    "  #grid = np.expand_dims(np.arange(0, np.max(data), 0.1), axis = 0)\n",
    "  grid = np.expand_dims(np.arange(0, np.maximum(np.max(data),500), 1), axis = 0)\n",
    "  grid = np.repeat(grid, data.shape[1], axis = 0)\n",
    "  grid = grid.T\n",
    "  \n",
    "  for k in range(N):\n",
    "    if k==0:\n",
    "      cdf = poisson.pmf(k, theta)*(gamma.cdf(grid, alpha*torch.pow(decay, torch.arange(k+1, device = dev)).sum(), loc=0, scale=1/beta).to('cpu').detach().numpy())\n",
    "    else:\n",
    "      cdf += poisson.pmf(k, theta)*(gamma.cdf(grid, alpha*torch.pow(decay, torch.arange(k+1, device = dev)).sum(), loc=0, scale=1/beta).to('cpu').detach().numpy())\n",
    "\n",
    "  return cdf\n",
    "\n",
    "def empirical_cdf(data):\n",
    "  grid = np.expand_dims(np.arange(0, np.maximum(np.max(data),100), 0.01), axis = 0)\n",
    "  grid = np.repeat(grid, data.shape[1], axis = 0)\n",
    "  grid = grid.T\n",
    "  grid = np.expand_dims(grid, axis = 1)\n",
    "\n",
    "  emp_cdf = np.sum(data < grid, 1)/data.shape[0]\n",
    "\n",
    "  return emp_cdf\n",
    "\n",
    "def goodness_of_fit(data, alpha, beta, theta, decay, N=3):\n",
    "\n",
    "  alpha = alpha.to('cpu').detach().numpy()\n",
    "  beta = beta.to('cpu').detach().numpy()\n",
    "  data = data.to('cpu').numpy()\n",
    "  data = data - 0.0001\n",
    "  theta = theta.to('cpu').detach().numpy()\n",
    "\n",
    "  diff = abs(empirical_cdf(data)-compound_poisson_gamma_cdf(data, alpha, beta, theta, decay, N))\n",
    "  dn = np.max(diff, axis = 0)\n",
    "\n",
    "  #plt.violinplot(dn)\n",
    "  #plt.axhline(y = np.average(dn), color = 'r', linestyle = '--')\n",
    "  \n",
    "  print(dn)\n",
    "  print(\"Distribution of Kolmogorov–Smirnov statistics across all genes\")\n",
    "  print(\"Lower values indicate better fit\")\n",
    "\n",
    "\n",
    "\n",
    "\n"
   ]
  },
  {
   "cell_type": "code",
   "execution_count": 4,
   "metadata": {
    "id": "yFs1S2npd_PJ"
   },
   "outputs": [],
   "source": [
    "def log_joint_one_k(data, theta, alpha, beta, decay, k0):\n",
    "  #k0 starts from 0, same interpretation as the k0 in the derivation\n",
    "  alpha = alpha.to('cpu').detach().numpy()\n",
    "  beta = beta.to('cpu').detach().numpy()\n",
    "  data = data.to('cpu').numpy()\n",
    "  theta = theta.to('cpu').detach().numpy()\n",
    "  decay = decay.to('cpu').detach().numpy()\n",
    "\n",
    "  alpha = alpha*(1+k0/(1+np.exp(-decay)))\n",
    "\n",
    "  log_conditional = np.log(gamma.pdf(data, alpha, loc=0, scale=1/beta)) \n",
    "  sum_gene = np.sum(log_conditional, axis = 1)\n",
    "  log_joint = sum_gene + np.log(poisson.pmf(k0, theta))\n",
    "  var_by_cell = np.var(np.exp(log_conditional), axis = 1)\n",
    "\n",
    "  return log_joint\n",
    "\n",
    "def prob_k0(data, theta, alpha, beta, decay, k0, k=3):\n",
    "  log_joint_k0 = log_joint_one_k(data, theta, alpha, beta, decay, k0)\n",
    "\n",
    "  one_ks = np.ones((data.shape[0],k))\n",
    "  for i in np.arange(k):\n",
    "    one_ks[:,i] = log_joint_one_k(data, theta, alpha, beta, decay, i)\n",
    "  \n",
    "  logsumexp_ks = special.logsumexp(one_ks, axis = 1)\n",
    "  log_prob = log_joint_k0 - logsumexp_ks\n",
    "  log_prob = log_prob.astype('float128')\n",
    "  prob = np.exp(log_prob, dtype=np.float128)\n",
    "  \n",
    "\n",
    "  return prob\n",
    "\n",
    "def reliability_rna(data, theta, alpha, beta, decay, k=3):\n",
    "    \n",
    "    \n",
    "    prob_singlet = prob_k0(small_stable, theta, alpha, beta, decay, 0, k)\n",
    "    prob_doublet = 1-prob_singlet\n",
    "    pred = np.where(prob_doublet > 0.5, True, False)\n",
    "    \n",
    "    alpha = alpha.to('cpu').detach().numpy()\n",
    "    beta = beta.to('cpu').detach().numpy()\n",
    "    data = small_stable.to('cpu').numpy()\n",
    "    theta = theta.to('cpu').detach().numpy()\n",
    "    decay = decay.to('cpu').detach().numpy()\n",
    "      \n",
    "    one_ks = np.ones((data.shape[0], data.shape[1], k))\n",
    "    for i in np.arange(k):\n",
    "        alpha_k = alpha*(1+i/(1+np.exp(-decay)))\n",
    "        one_ks[:,:,i] = np.log(gamma.pdf(data,  alpha_k, loc=0, scale=1/beta))\n",
    "\n",
    "        \n",
    "\n",
    "    \n",
    "    reliability = 1 - (np.exp(one_ks[:,:,0]-special.logsumexp(one_ks, axis = 2))) #probability of doublets predicted by individual feature\n",
    "    #print(np.exp(one_ks[:,:,0])\n",
    "    \n",
    "    \n",
    "    #if individual feature prediction result is the same as result by all features, then record as 1. otherwise record as 0\n",
    "    #then, calculate proportion of features that can individually provide correct prediction\n",
    "    reliability[pred,:]=np.where(reliability[pred,:] > 0.5, 1, 0) #predicted doublets\n",
    "    reliability[list(map(operator.not_, pred)),:]=np.where(reliability[list(map(operator.not_, pred)),:] < 0.5, 1, 0)\n",
    "\n",
    "    reliability = np.sum(reliability, axis = 1)/data.shape[1]\n",
    "\n",
    "    result = np.zeros((2, data.shape[0]))\n",
    "    result[0,:] = reliability\n",
    "    result[1,:] = np.where(reliability <= 0.5, 1, 0) #flags the cells whose prediction is subject to outliers\n",
    "    \n",
    "\n",
    "    return result\n",
    "\n",
    "def rna_fit_goodness(data, alpha, beta, theta, decay, k=3):\n",
    "    \n",
    "    data = torch.round(data)\n",
    "    data = data.int()\n",
    "    data = data.to('cpu').numpy()\n",
    "    alpha = alpha.to('cpu').detach().numpy()\n",
    "    beta = beta.to('cpu').detach().numpy()\n",
    "    theta = theta.to('cpu').detach().numpy()\n",
    "    decay = decay.to('cpu').detach().numpy()\n",
    "    \n",
    "    empirical = np.apply_along_axis(lambda x: np.bincount(x, minlength=np.max(data)+1), axis=0, arr=data)\n",
    "    empirical_dist = empirical/data.shape[0] #+ 1e-100 #adjust 1e-100 as needed\n",
    "    empirical_dist #each column is the empirical distribution of a gene\n",
    "\n",
    "    for i in range(empirical_dist.shape[0]-1):\n",
    "        empirical_dist[i+1,] += empirical_dist[i,] #empirical cdf\n",
    "    \n",
    "    #calculate theoretical cdf below\n",
    "    grid = np.expand_dims(np.arange(0, empirical_dist.shape[0], 1, dtype=int)+0.0001,axis=1)\n",
    "    grid=np.repeat(grid, empirical_dist.shape[1], axis = 1)\n",
    "    \n",
    "    one_ks = np.ones((grid.shape[0], grid.shape[1], k))\n",
    "\n",
    "    for i in np.arange(k):\n",
    "        alpha_k = alpha*(1+i/(1+np.exp(-decay)))\n",
    "        one_ks[:,:,i] = np.log(gamma.cdf(grid, alpha_k, loc=0, scale=1/beta))+np.log(poisson.pmf(i, theta))\n",
    "\n",
    "    logsumexp_ks = special.logsumexp(one_ks, axis = 2)    \n",
    "    theoretical_dist = np.exp(logsumexp_ks)\n",
    "    \n",
    "    diff = np.abs(theoretical_dist-empirical_dist)\n",
    "    mean_ks = np.mean(np.amax(diff, axis = 0))\n",
    "    \n",
    "    plt.violinplot(np.amax(diff, axis = 0))\n",
    "    plt.axhline(y = mean_ks, color = 'r', linestyle = '--')\n",
    "  \n",
    "    print(\"Distribution of Kolmogorov–Smirnov statistics across all genes\")\n",
    "    print(\"Lower values indicate better fit\")\n",
    "    \n",
    "    return mean_ks\n",
    "\n",
    "def metrics(prediction, label, cut = 0.5):\n",
    "    \n",
    "    dichotomized = np.where(prediction > cut, 1, 0)\n",
    "    sensitivity = np.sum(dichotomized[label==1]==1)/dichotomized[label==1].shape[0]\n",
    "    specificity = np.sum(dichotomized[label==0]==0)/dichotomized[label==0].shape[0]\n",
    "    precision = np.sum(dichotomized[label==1]==1)/np.sum(dichotomized==1)\n",
    "    prop = np.sum(dichotomized==1)/label.shape[0]\n",
    "    f1 = 2*precision*sensitivity/(precision+sensitivity)\n",
    "    print(\"Predicted doublet proportion:\",prop)\n",
    "    print(\"Precision:\", precision)\n",
    "    print(\"f1 score:\", f1)\n",
    "    \n",
    "    return sensitivity, specificity"
   ]
  },
  {
   "cell_type": "markdown",
   "metadata": {
    "id": "9xKxPzTu7SYb"
   },
   "source": [
    "PB-1"
   ]
  },
  {
   "cell_type": "code",
   "execution_count": 5,
   "metadata": {
    "colab": {
     "base_uri": "https://localhost:8080/",
     "height": 506
    },
    "id": "4rK7trQaTQiX",
    "outputId": "96149116-55ab-4f5e-bae4-ef3fba336f08"
   },
   "outputs": [
    {
     "name": "stdout",
     "output_type": "stream",
     "text": [
      "/ix1/wchen/Haoran/CPDD/RNA/20220215_1\n"
     ]
    }
   ],
   "source": [
    "%cd /ix1/wchen/Haoran/CPDD/RNA/20220215_1/\n",
    "stable = pd.read_csv(\"./RNA_stable500_cts.csv\")\n",
    "\n",
    "small_stable = stable.iloc[:, 1:301] #300 stable features\n"
   ]
  },
  {
   "cell_type": "code",
   "execution_count": 6,
   "metadata": {
    "colab": {
     "base_uri": "https://localhost:8080/"
    },
    "id": "GLIAMrIuTUwy",
    "outputId": "e2f8483f-f699-40e8-dc54-a13bfb28fbd1"
   },
   "outputs": [],
   "source": [
    "small_stable = torch.tensor(small_stable.values, device = dev)\n",
    "small_stable = small_stable.double()\n",
    "small_stable = small_stable + torch.tensor([0.0001], device = dev)\n",
    "\n"
   ]
  },
  {
   "cell_type": "code",
   "execution_count": 7,
   "metadata": {
    "colab": {
     "base_uri": "https://localhost:8080/"
    },
    "id": "0nW3X9HJYiqt",
    "outputId": "4686c4a5-f8f4-4165-d770-cec80bd06a62"
   },
   "outputs": [
    {
     "name": "stderr",
     "output_type": "stream",
     "text": [
      "/ihome/crc/install/cuda-11.3/pytorch/1.11.0_gpu/python3.8/lib/python3.8/site-packages/torch/distributions/gamma.py:71: UserWarning: Specified kernel cache directory could not be created! This disables kernel caching. Specified directory is /ihome/wchen/hah112/.cache/torch/kernels. This warning will appear only once per process. (Triggered internally at  /opt/conda/conda-bld/pytorch_1646755903507/work/aten/src/ATen/native/cuda/jit_utils.cpp:860.)\n",
      "  self.rate * value - torch.lgamma(self.concentration))\n"
     ]
    }
   ],
   "source": [
    "theta,alpha,beta,decay, loss_075,p_075 = MLE(small_stable)"
   ]
  },
  {
   "cell_type": "code",
   "execution_count": 8,
   "metadata": {},
   "outputs": [
    {
     "name": "stdout",
     "output_type": "stream",
     "text": [
      "Distribution of Kolmogorov–Smirnov statistics across all genes\n",
      "Lower values indicate better fit\n"
     ]
    },
    {
     "data": {
      "text/plain": [
       "0.1847181640253362"
      ]
     },
     "execution_count": 8,
     "metadata": {},
     "output_type": "execute_result"
    },
    {
     "data": {
      "image/png": "[encoded data removed]",
      "text/plain": [
       "<Figure size 432x288 with 1 Axes>"
      ]
     },
     "metadata": {
      "needs_background": "light"
     },
     "output_type": "display_data"
    }
   ],
   "source": [
    "weight = rna_fit_goodness(small_stable, alpha, beta, theta, decay)\n",
    "weight"
   ]
  },
  {
   "cell_type": "code",
   "execution_count": 9,
   "metadata": {},
   "outputs": [],
   "source": [
    "reliability_table = reliability_rna(small_stable, theta, alpha, beta, decay)\n"
   ]
  },
  {
   "cell_type": "code",
   "execution_count": 10,
   "metadata": {
    "colab": {
     "base_uri": "https://localhost:8080/",
     "height": 448
    },
    "id": "oOSkLovrYlrg",
    "outputId": "638f348d-ec60-4d07-e5cf-5f8659eec442"
   },
   "outputs": [
    {
     "name": "stdout",
     "output_type": "stream",
     "text": [
      "0.7765075704343188\n"
     ]
    },
    {
     "data": {
      "image/png": "[encoded data removed]",
      "text/plain": [
       "<Figure size 432x288 with 1 Axes>"
      ]
     },
     "metadata": {
      "needs_background": "light"
     },
     "output_type": "display_data"
    }
   ],
   "source": [
    "prob_singlet = prob_k0(small_stable, theta, alpha, beta, decay, 0, k=3)\n",
    "prob_doublet = 1-prob_singlet\n",
    "\n",
    "doublet = pd.read_csv(\"./doublet.csv\")\n",
    "doublet = doublet.iloc[:, 5]\n",
    "\n",
    "precision, recall, thresholds = precision_recall_curve(doublet.to_numpy(), prob_doublet)\n",
    "auc_precision_recall = auc(recall, precision)\n",
    "print(auc_precision_recall)\n",
    "plt.plot(recall, precision)\n",
    "plt.show()"
   ]
  },
  {
   "cell_type": "code",
   "execution_count": 11,
   "metadata": {},
   "outputs": [
    {
     "name": "stdout",
     "output_type": "stream",
     "text": [
      "Predicted doublet proportion: 0.19567707935538073\n",
      "Precision: 0.7615144418423107\n",
      "f1 score: 0.7300280636108513\n"
     ]
    }
   ],
   "source": [
    "sen, spe = metrics(prob_doublet, doublet, cut = 0.5)\n"
   ]
  },
  {
   "cell_type": "code",
   "execution_count": 12,
   "metadata": {
    "id": "QbPQQ8soBKdS"
   },
   "outputs": [],
   "source": [
    "doublet_prediction = pd.DataFrame(prob_doublet, columns = ['prob_doublet'])\n",
    "doublet_prediction.index.name = 'index'\n",
    "doublet_prediction.reset_index(inplace=True)\n",
    "\n",
    "doublet_prediction.to_csv('doublet_20220215_1_rna.csv',index=False)"
   ]
  },
  {
   "cell_type": "code",
   "execution_count": 13,
   "metadata": {},
   "outputs": [],
   "source": [
    "data = {'reliability': reliability_table[0,:]/weight,\n",
    "        'flag': reliability_table[1,:]}\n",
    "  \n",
    "# Create DataFrame\n",
    "reliability_file = pd.DataFrame(data)\n",
    "reliability_file.index.name = 'index'\n",
    "reliability_file.reset_index(inplace=True)\n",
    "#doublet_prediction = doublet_prediction.sort_values(\"prob_doublet\", ascending = False)\n",
    "#doublet_prediction\n",
    "reliability_file.to_csv('reliability_20220215_1_rna.csv',index=False)"
   ]
  },
  {
   "cell_type": "code",
   "execution_count": 14,
   "metadata": {
    "id": "p4UMCsulq2_j"
   },
   "outputs": [],
   "source": [
    "prob_singlet = prob_k0(small_stable, theta, alpha, beta, decay, 0, k=3)\n",
    "prob_doublet = prob_k0(small_stable, theta, alpha, beta, decay, 1, k=3)\n",
    "prob_triplet = prob_k0(small_stable, theta, alpha, beta, decay, 2, k=3)\n",
    "data = {'singlet': prob_singlet,\n",
    "        'doublet': prob_doublet,\n",
    "        'triplet': prob_triplet}\n",
    "  \n",
    "# Create DataFrame\n",
    "doublet_prediction = pd.DataFrame(data)\n",
    "doublet_prediction.index.name = 'index'\n",
    "doublet_prediction.reset_index(inplace=True)\n",
    "#doublet_prediction = doublet_prediction.sort_values(\"prob_doublet\", ascending = False)\n",
    "#doublet_prediction\n",
    "doublet_prediction.to_csv('All_20220215_1_3.0.csv',index=False)"
   ]
  },
  {
   "cell_type": "markdown",
   "metadata": {
    "id": "85MjUaDA7Bkk"
   },
   "source": [
    "PB-2"
   ]
  },
  {
   "cell_type": "code",
   "execution_count": 15,
   "metadata": {
    "colab": {
     "base_uri": "https://localhost:8080/"
    },
    "id": "SwB0uCcD7VVg",
    "outputId": "5d103f74-749c-4eaf-ebf1-3e494cc5e8d5"
   },
   "outputs": [
    {
     "name": "stdout",
     "output_type": "stream",
     "text": [
      "/ix1/wchen/Haoran/CPDD/RNA/20220215_2\n"
     ]
    }
   ],
   "source": [
    "%cd /ix1/wchen/Haoran/CPDD/RNA/20220215_2/\n",
    "stable = pd.read_csv(\"./RNA_stable500_cts.csv\")\n",
    "small_stable = stable.iloc[:, 1:301] #300 stable features\n",
    "\n",
    "small_stable = torch.tensor(small_stable.values, device = dev)\n",
    "small_stable = small_stable.double()\n",
    "small_stable = small_stable + torch.tensor([0.0001], device = dev)\n",
    "\n",
    "\n",
    "theta,alpha,beta,decay, loss_075,p_075 = MLE(small_stable)"
   ]
  },
  {
   "cell_type": "code",
   "execution_count": 16,
   "metadata": {},
   "outputs": [
    {
     "name": "stdout",
     "output_type": "stream",
     "text": [
      "Distribution of Kolmogorov–Smirnov statistics across all genes\n",
      "Lower values indicate better fit\n"
     ]
    },
    {
     "data": {
      "text/plain": [
       "0.16185876934126114"
      ]
     },
     "execution_count": 16,
     "metadata": {},
     "output_type": "execute_result"
    },
    {
     "data": {
      "image/png": "[encoded data removed]",
      "text/plain": [
       "<Figure size 432x288 with 1 Axes>"
      ]
     },
     "metadata": {
      "needs_background": "light"
     },
     "output_type": "display_data"
    }
   ],
   "source": [
    "weight = rna_fit_goodness(small_stable, alpha, beta, theta, decay)\n",
    "weight"
   ]
  },
  {
   "cell_type": "code",
   "execution_count": 17,
   "metadata": {
    "colab": {
     "base_uri": "https://localhost:8080/",
     "height": 448
    },
    "id": "dQh5sWm07n5J",
    "outputId": "58fd4db4-e880-4771-f587-8ac88f607c3b"
   },
   "outputs": [
    {
     "name": "stdout",
     "output_type": "stream",
     "text": [
      "0.7595207333312911\n"
     ]
    },
    {
     "data": {
      "image/png": "[encoded data removed]",
      "text/plain": [
       "<Figure size 432x288 with 1 Axes>"
      ]
     },
     "metadata": {
      "needs_background": "light"
     },
     "output_type": "display_data"
    }
   ],
   "source": [
    "prob_singlet = prob_k0(small_stable, theta, alpha, beta, decay, 0, k=3)\n",
    "prob_doublet = 1-prob_singlet\n",
    "\n",
    "doublet = pd.read_csv(\"./doublet.csv\")\n",
    "doublet = doublet.iloc[:, 5]\n",
    "\n",
    "precision, recall, thresholds = precision_recall_curve(doublet.to_numpy(), prob_doublet)\n",
    "auc_precision_recall = auc(recall, precision)\n",
    "print(auc_precision_recall)\n",
    "plt.plot(recall, precision)\n",
    "plt.show()"
   ]
  },
  {
   "cell_type": "code",
   "execution_count": 18,
   "metadata": {
    "id": "5dPKX6ci7wm8"
   },
   "outputs": [],
   "source": [
    "doublet_prediction = pd.DataFrame(prob_doublet, columns = ['prob_doublet'])\n",
    "doublet_prediction.index.name = 'index'\n",
    "doublet_prediction.reset_index(inplace=True)\n",
    "#doublet_prediction = doublet_prediction.sort_values(\"prob_doublet\", ascending = False)\n",
    "#doublet_prediction\n",
    "doublet_prediction.to_csv('doublet_20220215_2_rna.csv',index=False)"
   ]
  },
  {
   "cell_type": "code",
   "execution_count": 19,
   "metadata": {},
   "outputs": [],
   "source": [
    "reliability_table = reliability_rna(small_stable, theta, alpha, beta, decay)\n",
    "data = {'reliability': reliability_table[0,:]/weight,\n",
    "        'flag': reliability_table[1,:]}\n",
    "  \n",
    "# Create DataFrame\n",
    "reliability_file = pd.DataFrame(data)\n",
    "reliability_file.index.name = 'index'\n",
    "reliability_file.reset_index(inplace=True)\n",
    "#doublet_prediction = doublet_prediction.sort_values(\"prob_doublet\", ascending = False)\n",
    "#doublet_prediction\n",
    "reliability_file.to_csv('reliability_20220215_2_rna.csv',index=False)"
   ]
  },
  {
   "cell_type": "code",
   "execution_count": 20,
   "metadata": {},
   "outputs": [
    {
     "name": "stdout",
     "output_type": "stream",
     "text": [
      "Predicted doublet proportion: 0.22374586549062844\n",
      "Precision: 0.6763165999384047\n",
      "f1 score: 0.7125243348475014\n"
     ]
    }
   ],
   "source": [
    "sen, spe = metrics(prob_doublet, doublet, cut = 0.5)"
   ]
  },
  {
   "cell_type": "code",
   "execution_count": 21,
   "metadata": {
    "id": "85c8DrGIuyFF"
   },
   "outputs": [],
   "source": [
    "prob_singlet = prob_k0(small_stable, theta, alpha, beta, decay, 0, k=3)\n",
    "prob_doublet = prob_k0(small_stable, theta, alpha, beta, decay, 1, k=3)\n",
    "prob_triplet = prob_k0(small_stable, theta, alpha, beta, decay, 2, k=3)\n",
    "data = {'singlet': prob_singlet,\n",
    "        'doublet': prob_doublet,\n",
    "        'triplet': prob_triplet}\n",
    "  \n",
    "# Create DataFrame\n",
    "doublet_prediction = pd.DataFrame(data)\n",
    "doublet_prediction.index.name = 'index'\n",
    "doublet_prediction.reset_index(inplace=True)\n",
    "#doublet_prediction = doublet_prediction.sort_values(\"prob_doublet\", ascending = False)\n",
    "#doublet_prediction\n",
    "doublet_prediction.to_csv('All_20220215_2_3.0.csv',index=False)"
   ]
  },
  {
   "cell_type": "markdown",
   "metadata": {
    "id": "0epoM9gV70YV"
   },
   "source": [
    "PB-3"
   ]
  },
  {
   "cell_type": "code",
   "execution_count": 22,
   "metadata": {
    "colab": {
     "base_uri": "https://localhost:8080/"
    },
    "id": "gworVdpO74Qb",
    "outputId": "2df839e1-98cb-4796-b7f2-9816cf57dbc1"
   },
   "outputs": [
    {
     "name": "stdout",
     "output_type": "stream",
     "text": [
      "/ix1/wchen/Haoran/CPDD/RNA/20220218_1\n"
     ]
    }
   ],
   "source": [
    "%cd /ix1/wchen/Haoran/CPDD/RNA/20220218_1/\n",
    "stable = pd.read_csv(\"./RNA_stable500_cts.csv\")\n",
    "small_stable = stable.iloc[:, 1:301] #300 stable features\n",
    "\n",
    "small_stable = torch.tensor(small_stable.values, device = dev)\n",
    "small_stable = small_stable.double()\n",
    "small_stable = small_stable + torch.tensor([0.0001], device = dev)\n",
    "\n",
    "\n",
    "theta,alpha,beta,decay, loss_075,p_075 = MLE(small_stable)"
   ]
  },
  {
   "cell_type": "code",
   "execution_count": 23,
   "metadata": {},
   "outputs": [
    {
     "name": "stdout",
     "output_type": "stream",
     "text": [
      "Distribution of Kolmogorov–Smirnov statistics across all genes\n",
      "Lower values indicate better fit\n"
     ]
    },
    {
     "data": {
      "text/plain": [
       "0.13742311922768924"
      ]
     },
     "execution_count": 23,
     "metadata": {},
     "output_type": "execute_result"
    },
    {
     "data": {
      "image/png": "[encoded data removed]",
      "text/plain": [
       "<Figure size 432x288 with 1 Axes>"
      ]
     },
     "metadata": {
      "needs_background": "light"
     },
     "output_type": "display_data"
    }
   ],
   "source": [
    "weight = rna_fit_goodness(small_stable, alpha, beta, theta, decay)\n",
    "weight"
   ]
  },
  {
   "cell_type": "code",
   "execution_count": 24,
   "metadata": {
    "colab": {
     "base_uri": "https://localhost:8080/",
     "height": 448
    },
    "id": "soQ9yrNz8Ear",
    "outputId": "bc83f79b-a98e-463e-af35-852f901eeea1"
   },
   "outputs": [
    {
     "name": "stdout",
     "output_type": "stream",
     "text": [
      "0.7958282232634759\n"
     ]
    },
    {
     "data": {
      "image/png": "[encoded data removed]",
      "text/plain": [
       "<Figure size 432x288 with 1 Axes>"
      ]
     },
     "metadata": {
      "needs_background": "light"
     },
     "output_type": "display_data"
    }
   ],
   "source": [
    "prob_singlet = prob_k0(small_stable, theta, alpha, beta, decay, 0, k=3)\n",
    "prob_doublet = 1-prob_singlet\n",
    "#prob_doublet = doublet_pred(small_stable, theta, alpha, beta, decay, k=3)\n",
    "#prob_doublet = prob_k0(small_stable, theta, alpha, beta, decay, 1, k=3)+prob_k0(small_stable, theta, alpha, beta, decay, 2, k=3)\n",
    "\n",
    "doublet = pd.read_csv(\"./doublet.csv\")\n",
    "doublet = doublet.iloc[:, 5]\n",
    "\n",
    "precision, recall, thresholds = precision_recall_curve(doublet.to_numpy(), prob_doublet)\n",
    "auc_precision_recall = auc(recall, precision)\n",
    "print(auc_precision_recall)\n",
    "plt.plot(recall, precision)\n",
    "plt.show()"
   ]
  },
  {
   "cell_type": "code",
   "execution_count": 25,
   "metadata": {},
   "outputs": [
    {
     "name": "stdout",
     "output_type": "stream",
     "text": [
      "Predicted doublet proportion: 0.24003507115397585\n",
      "Precision: 0.7305422871593145\n",
      "f1 score: 0.7499278915488895\n"
     ]
    }
   ],
   "source": [
    "sen, spe = metrics(prob_doublet, doublet, cut = 0.5)"
   ]
  },
  {
   "cell_type": "code",
   "execution_count": 26,
   "metadata": {
    "id": "U3vxHqzu8GkJ"
   },
   "outputs": [],
   "source": [
    "doublet_prediction = pd.DataFrame(prob_doublet, columns = ['prob_doublet'])\n",
    "doublet_prediction.index.name = 'index'\n",
    "doublet_prediction.reset_index(inplace=True)\n",
    "#doublet_prediction = doublet_prediction.sort_values(\"prob_doublet\", ascending = False)\n",
    "#doublet_prediction\n",
    "doublet_prediction.to_csv('doublet_20220218_1_rna.csv',index=False)"
   ]
  },
  {
   "cell_type": "code",
   "execution_count": 27,
   "metadata": {},
   "outputs": [],
   "source": [
    "reliability_table = reliability_rna(small_stable, theta, alpha, beta, decay)\n",
    "data = {'reliability': reliability_table[0,:]/weight,\n",
    "        'flag': reliability_table[1,:]}\n",
    "  \n",
    "# Create DataFrame\n",
    "reliability_file = pd.DataFrame(data)\n",
    "reliability_file.index.name = 'index'\n",
    "reliability_file.reset_index(inplace=True)\n",
    "#doublet_prediction = doublet_prediction.sort_values(\"prob_doublet\", ascending = False)\n",
    "#doublet_prediction\n",
    "reliability_file.to_csv('reliability_20220218_1_rna.csv',index=False)"
   ]
  },
  {
   "cell_type": "code",
   "execution_count": 28,
   "metadata": {
    "id": "VcOsx9Giu3Rx"
   },
   "outputs": [],
   "source": [
    "prob_singlet = prob_k0(small_stable, theta, alpha, beta, decay, 0, k=3)\n",
    "prob_doublet = prob_k0(small_stable, theta, alpha, beta, decay, 1, k=3)\n",
    "prob_triplet = prob_k0(small_stable, theta, alpha, beta, decay, 2, k=3)\n",
    "data = {'singlet': prob_singlet,\n",
    "        'doublet': prob_doublet,\n",
    "        'triplet': prob_triplet}\n",
    "  \n",
    "# Create DataFrame\n",
    "doublet_prediction = pd.DataFrame(data)\n",
    "doublet_prediction.index.name = 'index'\n",
    "doublet_prediction.reset_index(inplace=True)\n",
    "#doublet_prediction = doublet_prediction.sort_values(\"prob_doublet\", ascending = False)\n",
    "#doublet_prediction\n",
    "doublet_prediction.to_csv('All_20220218_1_3.0.csv',index=False)"
   ]
  },
  {
   "cell_type": "markdown",
   "metadata": {
    "id": "wkOdUHje8Klt"
   },
   "source": [
    "PB-4"
   ]
  },
  {
   "cell_type": "code",
   "execution_count": 29,
   "metadata": {
    "colab": {
     "base_uri": "https://localhost:8080/"
    },
    "id": "DiMOyfu38L5N",
    "outputId": "9abc2c8f-8d17-4f67-d022-5ce14087a8ae"
   },
   "outputs": [
    {
     "name": "stdout",
     "output_type": "stream",
     "text": [
      "/ix1/wchen/Haoran/CPDD/RNA/20220218_2\n"
     ]
    }
   ],
   "source": [
    "%cd /ix1/wchen/Haoran/CPDD/RNA/20220218_2/\n",
    "stable = pd.read_csv(\"./RNA_stable500_cts.csv\")\n",
    "small_stable = stable.iloc[:, 1:301] #300 stable features\n",
    "\n",
    "small_stable = torch.tensor(small_stable.values, device = dev)\n",
    "small_stable = small_stable.double()\n",
    "small_stable = small_stable + torch.tensor([0.0001], device = dev)\n",
    "\n",
    "\n",
    "theta,alpha,beta,decay, loss_075,p_075 = MLE(small_stable)"
   ]
  },
  {
   "cell_type": "code",
   "execution_count": 30,
   "metadata": {},
   "outputs": [
    {
     "name": "stdout",
     "output_type": "stream",
     "text": [
      "Distribution of Kolmogorov–Smirnov statistics across all genes\n",
      "Lower values indicate better fit\n"
     ]
    },
    {
     "data": {
      "text/plain": [
       "0.14388044005081368"
      ]
     },
     "execution_count": 30,
     "metadata": {},
     "output_type": "execute_result"
    },
    {
     "data": {
      "image/png": "[encoded data removed]",
      "text/plain": [
       "<Figure size 432x288 with 1 Axes>"
      ]
     },
     "metadata": {
      "needs_background": "light"
     },
     "output_type": "display_data"
    }
   ],
   "source": [
    "weight = rna_fit_goodness(small_stable, alpha, beta, theta, decay)\n",
    "weight"
   ]
  },
  {
   "cell_type": "code",
   "execution_count": 31,
   "metadata": {
    "colab": {
     "base_uri": "https://localhost:8080/",
     "height": 448
    },
    "id": "-6WG7rC-8Qwt",
    "outputId": "84406284-166c-4126-f291-7ac5a99f7dcb"
   },
   "outputs": [
    {
     "name": "stdout",
     "output_type": "stream",
     "text": [
      "0.7656751738716365\n"
     ]
    },
    {
     "data": {
      "image/png": "[encoded data removed]",
      "text/plain": [
       "<Figure size 432x288 with 1 Axes>"
      ]
     },
     "metadata": {
      "needs_background": "light"
     },
     "output_type": "display_data"
    }
   ],
   "source": [
    "prob_singlet = prob_k0(small_stable, theta, alpha, beta, decay, 0, k=3)\n",
    "prob_doublet = 1-prob_singlet\n",
    "#prob_doublet = doublet_pred(small_stable, theta, alpha, beta, decay, k=3)\n",
    "#prob_doublet = prob_k0(small_stable, theta, alpha, beta, decay, 1, k=3)+prob_k0(small_stable, theta, alpha, beta, decay, 2, k=3)\n",
    "\n",
    "doublet = pd.read_csv(\"./doublet.csv\")\n",
    "doublet = doublet.iloc[:, 5]\n",
    "\n",
    "precision, recall, thresholds = precision_recall_curve(doublet.to_numpy(), prob_doublet)\n",
    "auc_precision_recall = auc(recall, precision)\n",
    "print(auc_precision_recall)\n",
    "plt.plot(recall, precision)\n",
    "plt.show()"
   ]
  },
  {
   "cell_type": "code",
   "execution_count": 32,
   "metadata": {},
   "outputs": [
    {
     "name": "stdout",
     "output_type": "stream",
     "text": [
      "Predicted doublet proportion: 0.2229813298780847\n",
      "Precision: 0.7187004754358162\n",
      "f1 score: 0.7227091633466135\n"
     ]
    }
   ],
   "source": [
    "sen, spe = metrics(prob_doublet, doublet, cut = 0.5)\n"
   ]
  },
  {
   "cell_type": "code",
   "execution_count": 33,
   "metadata": {
    "id": "WZtqWUT48Sk5"
   },
   "outputs": [],
   "source": [
    "doublet_prediction = pd.DataFrame(prob_doublet, columns = ['prob_doublet'])\n",
    "doublet_prediction.index.name = 'index'\n",
    "doublet_prediction.reset_index(inplace=True)\n",
    "#doublet_prediction = doublet_prediction.sort_values(\"prob_doublet\", ascending = False)\n",
    "#doublet_prediction\n",
    "doublet_prediction.to_csv('doublet_20220218_2_rna.csv',index=False)"
   ]
  },
  {
   "cell_type": "code",
   "execution_count": 34,
   "metadata": {},
   "outputs": [],
   "source": [
    "reliability_table = reliability_rna(small_stable, theta, alpha, beta, decay)\n",
    "data = {'reliability': reliability_table[0,:]/weight,\n",
    "        'flag': reliability_table[1,:]}\n",
    "  \n",
    "# Create DataFrame\n",
    "reliability_file = pd.DataFrame(data)\n",
    "reliability_file.index.name = 'index'\n",
    "reliability_file.reset_index(inplace=True)\n",
    "#doublet_prediction = doublet_prediction.sort_values(\"prob_doublet\", ascending = False)\n",
    "#doublet_prediction\n",
    "reliability_file.to_csv('reliability_20220218_2_rna.csv',index=False)"
   ]
  },
  {
   "cell_type": "code",
   "execution_count": 35,
   "metadata": {
    "id": "ShyXurjru6_k"
   },
   "outputs": [],
   "source": [
    "prob_singlet = prob_k0(small_stable, theta, alpha, beta, decay, 0, k=3)\n",
    "prob_doublet = prob_k0(small_stable, theta, alpha, beta, decay, 1, k=3)\n",
    "prob_triplet = prob_k0(small_stable, theta, alpha, beta, decay, 2, k=3)\n",
    "data = {'singlet': prob_singlet,\n",
    "        'doublet': prob_doublet,\n",
    "        'triplet': prob_triplet}\n",
    "  \n",
    "# Create DataFrame\n",
    "doublet_prediction = pd.DataFrame(data)\n",
    "doublet_prediction.index.name = 'index'\n",
    "doublet_prediction.reset_index(inplace=True)\n",
    "#doublet_prediction = doublet_prediction.sort_values(\"prob_doublet\", ascending = False)\n",
    "#doublet_prediction\n",
    "doublet_prediction.to_csv('All_20220218_2_3.0.csv',index=False)"
   ]
  },
  {
   "cell_type": "markdown",
   "metadata": {
    "id": "qEb8jscWUp1F"
   },
   "source": [
    "Ileum-1"
   ]
  },
  {
   "cell_type": "code",
   "execution_count": 36,
   "metadata": {
    "colab": {
     "base_uri": "https://localhost:8080/"
    },
    "id": "Fmv9mKSpUtD2",
    "outputId": "8fab7b29-b2b4-4904-e92c-5db1d3366aaa"
   },
   "outputs": [
    {
     "name": "stdout",
     "output_type": "stream",
     "text": [
      "/ix1/wchen/Haoran/CPDD/RNA/20230124_1\n"
     ]
    }
   ],
   "source": [
    "%cd /ix1/wchen/Haoran/CPDD/RNA/20230124_1/\n",
    "stable = genfromtxt(\"./RNA_stable500_cts.csv\", delimiter=',')\n",
    "small_stable = stable[:,0:300]\n",
    "\n",
    "small_stable = torch.tensor(small_stable, device = dev)\n",
    "small_stable = small_stable.double()\n",
    "small_stable = small_stable + torch.tensor([0.0001], device = dev)\n",
    "\n",
    "\n",
    "theta,alpha,beta,decay, loss_075,p_075 = MLE(small_stable)"
   ]
  },
  {
   "cell_type": "code",
   "execution_count": 37,
   "metadata": {},
   "outputs": [
    {
     "name": "stdout",
     "output_type": "stream",
     "text": [
      "Distribution of Kolmogorov–Smirnov statistics across all genes\n",
      "Lower values indicate better fit\n"
     ]
    },
    {
     "data": {
      "text/plain": [
       "0.2972213420510833"
      ]
     },
     "execution_count": 37,
     "metadata": {},
     "output_type": "execute_result"
    },
    {
     "data": {
      "image/png": "[encoded data removed]",
      "text/plain": [
       "<Figure size 432x288 with 1 Axes>"
      ]
     },
     "metadata": {
      "needs_background": "light"
     },
     "output_type": "display_data"
    }
   ],
   "source": [
    "weight = rna_fit_goodness(small_stable, alpha, beta, theta, decay)\n",
    "weight"
   ]
  },
  {
   "cell_type": "code",
   "execution_count": 38,
   "metadata": {
    "colab": {
     "base_uri": "https://localhost:8080/",
     "height": 448
    },
    "id": "tK28W5ZNUzzR",
    "outputId": "61bdd6c9-513b-4d36-b6de-303cdd80722d"
   },
   "outputs": [
    {
     "name": "stdout",
     "output_type": "stream",
     "text": [
      "0.6457602604121981\n"
     ]
    },
    {
     "data": {
      "image/png": "[encoded data removed]",
      "text/plain": [
       "<Figure size 432x288 with 1 Axes>"
      ]
     },
     "metadata": {
      "needs_background": "light"
     },
     "output_type": "display_data"
    }
   ],
   "source": [
    "prob_singlet = prob_k0(small_stable, theta, alpha, beta, decay, 0, k=3)\n",
    "prob_doublet = 1-prob_singlet\n",
    "#prob_doublet = doublet_pred(small_stable, theta, alpha, beta, decay, k=3)\n",
    "#prob_doublet = prob_k0(small_stable, theta, alpha, beta, decay, 1, k=3)+prob_k0(small_stable, theta, alpha, beta, decay, 2, k=3)\n",
    "\n",
    "doublet = genfromtxt(\"./doublet.csv\", delimiter=',')\n",
    "doublet = doublet[1:, 1]\n",
    "#doublet = doublet.iloc[:, 1]\n",
    "#prob_doublet = np.nan_to_num(prob_doublet, nan=1.0)\n",
    "\n",
    "\n",
    "precision, recall, thresholds = precision_recall_curve(doublet, prob_doublet)\n",
    "auc_precision_recall = auc(recall, precision)\n",
    "print(auc_precision_recall)\n",
    "plt.plot(recall, precision)\n",
    "plt.show()"
   ]
  },
  {
   "cell_type": "code",
   "execution_count": 39,
   "metadata": {},
   "outputs": [
    {
     "name": "stdout",
     "output_type": "stream",
     "text": [
      "Predicted doublet proportion: 0.17353726887014823\n",
      "Precision: 0.6818593419861153\n",
      "f1 score: 0.5668757841907152\n"
     ]
    }
   ],
   "source": [
    "sen, spe = metrics(prob_doublet, doublet, cut = 0.5)\n"
   ]
  },
  {
   "cell_type": "code",
   "execution_count": 40,
   "metadata": {
    "id": "1D50J5OUU5jm"
   },
   "outputs": [],
   "source": [
    "doublet_prediction = pd.DataFrame(prob_doublet, columns = ['prob_doublet'])\n",
    "doublet_prediction.index.name = 'index'\n",
    "doublet_prediction.reset_index(inplace=True)\n",
    "#doublet_prediction = doublet_prediction.sort_values(\"prob_doublet\", ascending = False)\n",
    "#doublet_prediction\n",
    "doublet_prediction.to_csv('doublet_20230124_1_rna.csv',index=False)"
   ]
  },
  {
   "cell_type": "code",
   "execution_count": 41,
   "metadata": {},
   "outputs": [],
   "source": [
    "reliability_table = reliability_rna(small_stable, theta, alpha, beta, decay)\n",
    "data = {'reliability': reliability_table[0,:]/weight,\n",
    "        'flag': reliability_table[1,:]}\n",
    "  \n",
    "# Create DataFrame\n",
    "reliability_file = pd.DataFrame(data)\n",
    "reliability_file.index.name = 'index'\n",
    "reliability_file.reset_index(inplace=True)\n",
    "#doublet_prediction = doublet_prediction.sort_values(\"prob_doublet\", ascending = False)\n",
    "#doublet_prediction\n",
    "reliability_file.to_csv('reliability_20230124_1_rna.csv',index=False)"
   ]
  },
  {
   "cell_type": "code",
   "execution_count": 42,
   "metadata": {
    "id": "EUvw5UyoU-bb"
   },
   "outputs": [],
   "source": [
    "prob_singlet = prob_k0(small_stable, theta, alpha, beta, decay, 0, k=3)\n",
    "prob_doublet = prob_k0(small_stable, theta, alpha, beta, decay, 1, k=3)\n",
    "prob_triplet = prob_k0(small_stable, theta, alpha, beta, decay, 2, k=3)\n",
    "data = {'singlet': prob_singlet,\n",
    "        'doublet': prob_doublet,\n",
    "        'triplet': prob_triplet}\n",
    "  \n",
    "# Create DataFrame\n",
    "doublet_prediction = pd.DataFrame(data)\n",
    "doublet_prediction.index.name = 'index'\n",
    "doublet_prediction.reset_index(inplace=True)\n",
    "#doublet_prediction = doublet_prediction.sort_values(\"prob_doublet\", ascending = False)\n",
    "#doublet_prediction\n",
    "doublet_prediction.to_csv('All_20230124_1_3.0.csv',index=False)"
   ]
  },
  {
   "cell_type": "markdown",
   "metadata": {
    "id": "BADt4yF-Wbci"
   },
   "source": [
    "Ileum-2"
   ]
  },
  {
   "cell_type": "code",
   "execution_count": 43,
   "metadata": {},
   "outputs": [
    {
     "name": "stdout",
     "output_type": "stream",
     "text": [
      "/ix1/wchen/Haoran/CPDD/RNA/20230124_2\n"
     ]
    }
   ],
   "source": [
    "%cd /ix1/wchen/Haoran/CPDD/RNA/20230124_2/\n",
    "stable = genfromtxt(\"./RNA_stable500_cts.csv\", delimiter=',')\n",
    "small_stable = stable[:,0:300]\n",
    "\n",
    "small_stable = torch.tensor(small_stable, device = dev)\n",
    "small_stable = small_stable.double()\n",
    "small_stable = small_stable + torch.tensor([0.0001], device = dev)\n",
    "\n",
    "\n",
    "theta,alpha,beta,decay, loss_075,p_075 = MLE(small_stable)"
   ]
  },
  {
   "cell_type": "code",
   "execution_count": 44,
   "metadata": {},
   "outputs": [
    {
     "name": "stdout",
     "output_type": "stream",
     "text": [
      "Distribution of Kolmogorov–Smirnov statistics across all genes\n",
      "Lower values indicate better fit\n"
     ]
    },
    {
     "data": {
      "text/plain": [
       "0.3241836096601002"
      ]
     },
     "execution_count": 44,
     "metadata": {},
     "output_type": "execute_result"
    },
    {
     "data": {
      "image/png": "[encoded data removed]",
      "text/plain": [
       "<Figure size 432x288 with 1 Axes>"
      ]
     },
     "metadata": {
      "needs_background": "light"
     },
     "output_type": "display_data"
    }
   ],
   "source": [
    "weight = rna_fit_goodness(small_stable, alpha, beta, theta, decay)\n",
    "weight"
   ]
  },
  {
   "cell_type": "code",
   "execution_count": 45,
   "metadata": {},
   "outputs": [
    {
     "name": "stdout",
     "output_type": "stream",
     "text": [
      "0.6584482129933837\n"
     ]
    },
    {
     "data": {
      "image/png": "[encoded data removed]",
      "text/plain": [
       "<Figure size 432x288 with 1 Axes>"
      ]
     },
     "metadata": {
      "needs_background": "light"
     },
     "output_type": "display_data"
    }
   ],
   "source": [
    "prob_singlet = prob_k0(small_stable, theta, alpha, beta, decay, 0, k=3)\n",
    "prob_doublet = 1-prob_singlet\n",
    "#prob_doublet = doublet_pred(small_stable, theta, alpha, beta, decay, k=3)\n",
    "#prob_doublet = prob_k0(small_stable, theta, alpha, beta, decay, 1, k=3)+prob_k0(small_stable, theta, alpha, beta, decay, 2, k=3)\n",
    "\n",
    "doublet = genfromtxt(\"./doublet.csv\", delimiter=',')\n",
    "doublet = doublet[1:, 1]\n",
    "#doublet = doublet.iloc[:, 1]\n",
    "#prob_doublet = np.nan_to_num(prob_doublet, nan=1.0)\n",
    "\n",
    "\n",
    "precision, recall, thresholds = precision_recall_curve(doublet, prob_doublet)\n",
    "auc_precision_recall = auc(recall, precision)\n",
    "print(auc_precision_recall)\n",
    "plt.plot(recall, precision)\n",
    "plt.show()"
   ]
  },
  {
   "cell_type": "code",
   "execution_count": 46,
   "metadata": {},
   "outputs": [
    {
     "name": "stdout",
     "output_type": "stream",
     "text": [
      "Predicted doublet proportion: 0.16866708780795958\n",
      "Precision: 0.6224038134150494\n",
      "f1 score: 0.6133199127663145\n"
     ]
    }
   ],
   "source": [
    "sen, spe = metrics(prob_doublet, doublet, cut = 0.5)\n"
   ]
  },
  {
   "cell_type": "code",
   "execution_count": 47,
   "metadata": {},
   "outputs": [],
   "source": [
    "doublet_prediction = pd.DataFrame(prob_doublet, columns = ['prob_doublet'])\n",
    "doublet_prediction.index.name = 'index'\n",
    "doublet_prediction.reset_index(inplace=True)\n",
    "#doublet_prediction = doublet_prediction.sort_values(\"prob_doublet\", ascending = False)\n",
    "#doublet_prediction\n",
    "doublet_prediction.to_csv('doublet_20230124_2_rna.csv',index=False)"
   ]
  },
  {
   "cell_type": "code",
   "execution_count": 48,
   "metadata": {},
   "outputs": [],
   "source": [
    "reliability_table = reliability_rna(small_stable, theta, alpha, beta, decay)\n",
    "data = {'reliability': reliability_table[0,:]/weight,\n",
    "        'flag': reliability_table[1,:]}\n",
    "  \n",
    "# Create DataFrame\n",
    "reliability_file = pd.DataFrame(data)\n",
    "reliability_file.index.name = 'index'\n",
    "reliability_file.reset_index(inplace=True)\n",
    "#doublet_prediction = doublet_prediction.sort_values(\"prob_doublet\", ascending = False)\n",
    "#doublet_prediction\n",
    "reliability_file.to_csv('reliability_20230124_2_rna.csv',index=False)"
   ]
  },
  {
   "cell_type": "markdown",
   "metadata": {
    "id": "BADt4yF-Wbci"
   },
   "source": [
    "Ileum-3"
   ]
  },
  {
   "cell_type": "code",
   "execution_count": 49,
   "metadata": {},
   "outputs": [
    {
     "name": "stdout",
     "output_type": "stream",
     "text": [
      "/ix1/wchen/Haoran/CPDD/RNA/20230126_1\n"
     ]
    }
   ],
   "source": [
    "%cd /ix1/wchen/Haoran/CPDD/RNA/20230126_1/\n",
    "stable = genfromtxt(\"./RNA_stable500_cts.csv\", delimiter=',')\n",
    "small_stable = stable[:,0:300]\n",
    "\n",
    "small_stable = torch.tensor(small_stable, device = dev)\n",
    "small_stable = small_stable.double()\n",
    "small_stable = small_stable + torch.tensor([0.0001], device = dev)\n",
    "\n",
    "\n",
    "theta,alpha,beta,decay, loss_075,p_075 = MLE(small_stable)"
   ]
  },
  {
   "cell_type": "code",
   "execution_count": 50,
   "metadata": {},
   "outputs": [
    {
     "name": "stdout",
     "output_type": "stream",
     "text": [
      "Distribution of Kolmogorov–Smirnov statistics across all genes\n",
      "Lower values indicate better fit\n"
     ]
    },
    {
     "data": {
      "text/plain": [
       "0.30480474618785497"
      ]
     },
     "execution_count": 50,
     "metadata": {},
     "output_type": "execute_result"
    },
    {
     "data": {
      "image/png": "[encoded data removed]",
      "text/plain": [
       "<Figure size 432x288 with 1 Axes>"
      ]
     },
     "metadata": {
      "needs_background": "light"
     },
     "output_type": "display_data"
    }
   ],
   "source": [
    "weight = rna_fit_goodness(small_stable, alpha, beta, theta, decay)\n",
    "weight"
   ]
  },
  {
   "cell_type": "code",
   "execution_count": 51,
   "metadata": {},
   "outputs": [
    {
     "name": "stdout",
     "output_type": "stream",
     "text": [
      "0.5028077976676018\n"
     ]
    },
    {
     "data": {
      "image/png": "[encoded data removed]",
      "text/plain": [
       "<Figure size 432x288 with 1 Axes>"
      ]
     },
     "metadata": {
      "needs_background": "light"
     },
     "output_type": "display_data"
    }
   ],
   "source": [
    "prob_singlet = prob_k0(small_stable, theta, alpha, beta, decay, 0, k=3)\n",
    "prob_doublet = 1-prob_singlet\n",
    "#prob_doublet = doublet_pred(small_stable, theta, alpha, beta, decay, k=3)\n",
    "#prob_doublet = prob_k0(small_stable, theta, alpha, beta, decay, 1, k=3)+prob_k0(small_stable, theta, alpha, beta, decay, 2, k=3)\n",
    "\n",
    "doublet = genfromtxt(\"./doublet.csv\", delimiter=',')\n",
    "doublet = doublet[1:, 1]\n",
    "#doublet = doublet.iloc[:, 1]\n",
    "#prob_doublet = np.nan_to_num(prob_doublet, nan=1.0)\n",
    "\n",
    "\n",
    "precision, recall, thresholds = precision_recall_curve(doublet, prob_doublet)\n",
    "auc_precision_recall = auc(recall, precision)\n",
    "print(auc_precision_recall)\n",
    "plt.plot(recall, precision)\n",
    "plt.show()"
   ]
  },
  {
   "cell_type": "code",
   "execution_count": 52,
   "metadata": {},
   "outputs": [
    {
     "name": "stdout",
     "output_type": "stream",
     "text": [
      "Predicted doublet proportion: 0.26233118027011154\n",
      "Precision: 0.3813654168998321\n",
      "f1 score: 0.4344223107569722\n"
     ]
    }
   ],
   "source": [
    "sen, spe = metrics(prob_doublet, doublet, cut = 0.5)\n"
   ]
  },
  {
   "cell_type": "code",
   "execution_count": 53,
   "metadata": {},
   "outputs": [],
   "source": [
    "doublet_prediction = pd.DataFrame(prob_doublet, columns = ['prob_doublet'])\n",
    "doublet_prediction.index.name = 'index'\n",
    "doublet_prediction.reset_index(inplace=True)\n",
    "#doublet_prediction = doublet_prediction.sort_values(\"prob_doublet\", ascending = False)\n",
    "#doublet_prediction\n",
    "doublet_prediction.to_csv('doublet_20230126_1_rna.csv',index=False)"
   ]
  },
  {
   "cell_type": "code",
   "execution_count": 54,
   "metadata": {},
   "outputs": [],
   "source": [
    "reliability_table = reliability_rna(small_stable, theta, alpha, beta, decay)\n",
    "data = {'reliability': reliability_table[0,:]/weight,\n",
    "        'flag': reliability_table[1,:]}\n",
    "  \n",
    "# Create DataFrame\n",
    "reliability_file = pd.DataFrame(data)\n",
    "reliability_file.index.name = 'index'\n",
    "reliability_file.reset_index(inplace=True)\n",
    "#doublet_prediction = doublet_prediction.sort_values(\"prob_doublet\", ascending = False)\n",
    "#doublet_prediction\n",
    "reliability_file.to_csv('reliability_20230126_1_rna.csv',index=False)"
   ]
  },
  {
   "cell_type": "markdown",
   "metadata": {
    "id": "BADt4yF-Wbci"
   },
   "source": [
    "Ileum-4"
   ]
  },
  {
   "cell_type": "code",
   "execution_count": 55,
   "metadata": {
    "colab": {
     "base_uri": "https://localhost:8080/"
    },
    "id": "d9vjlEHIWc3u",
    "outputId": "db43cae0-8cda-4c7c-88fa-f9062ca9c3a3"
   },
   "outputs": [
    {
     "name": "stdout",
     "output_type": "stream",
     "text": [
      "/ix1/wchen/Haoran/CPDD/RNA/20230126_2\n"
     ]
    }
   ],
   "source": [
    "%cd /ix1/wchen/Haoran/CPDD/RNA/20230126_2/\n",
    "stable = genfromtxt(\"./RNA_stable500_cts.csv\", delimiter=',')\n",
    "small_stable = stable[:,0:300]\n",
    "\n",
    "small_stable = torch.tensor(small_stable, device = dev)\n",
    "small_stable = small_stable.double()\n",
    "small_stable = small_stable + torch.tensor([0.0001], device = dev)\n",
    "\n",
    "\n",
    "theta,alpha,beta,decay, loss_075,p_075 = MLE(small_stable)"
   ]
  },
  {
   "cell_type": "code",
   "execution_count": 56,
   "metadata": {},
   "outputs": [
    {
     "name": "stdout",
     "output_type": "stream",
     "text": [
      "Distribution of Kolmogorov–Smirnov statistics across all genes\n",
      "Lower values indicate better fit\n"
     ]
    },
    {
     "data": {
      "text/plain": [
       "0.32752815916616024"
      ]
     },
     "execution_count": 56,
     "metadata": {},
     "output_type": "execute_result"
    },
    {
     "data": {
      "image/png": "[encoded data removed]",
      "text/plain": [
       "<Figure size 432x288 with 1 Axes>"
      ]
     },
     "metadata": {
      "needs_background": "light"
     },
     "output_type": "display_data"
    }
   ],
   "source": [
    "weight = rna_fit_goodness(small_stable, alpha, beta, theta, decay)\n",
    "weight"
   ]
  },
  {
   "cell_type": "code",
   "execution_count": 57,
   "metadata": {
    "colab": {
     "base_uri": "https://localhost:8080/",
     "height": 448
    },
    "id": "eQHVkbp2WjVL",
    "outputId": "307511c3-6314-47a8-9c8a-8977f54ebdab"
   },
   "outputs": [
    {
     "name": "stdout",
     "output_type": "stream",
     "text": [
      "0.5137806508066549\n"
     ]
    },
    {
     "data": {
      "image/png": "[encoded data removed]",
      "text/plain": [
       "<Figure size 432x288 with 1 Axes>"
      ]
     },
     "metadata": {
      "needs_background": "light"
     },
     "output_type": "display_data"
    }
   ],
   "source": [
    "prob_singlet = prob_k0(small_stable, theta, alpha, beta, decay, 0, k=3)\n",
    "prob_doublet = 1-prob_singlet\n",
    "#prob_doublet = doublet_pred(small_stable, theta, alpha, beta, decay, k=3)\n",
    "#prob_doublet = prob_k0(small_stable, theta, alpha, beta, decay, 1, k=3)+prob_k0(small_stable, theta, alpha, beta, decay, 2, k=3)\n",
    "\n",
    "doublet = genfromtxt(\"./doublet.csv\", delimiter=',')\n",
    "doublet = doublet[1:, 1]\n",
    "#doublet = doublet.iloc[:, 1]\n",
    "#prob_doublet = np.nan_to_num(prob_doublet, nan=1.0)\n",
    "\n",
    "\n",
    "precision, recall, thresholds = precision_recall_curve(doublet, prob_doublet)\n",
    "auc_precision_recall = auc(recall, precision)\n",
    "print(auc_precision_recall)\n",
    "plt.plot(recall, precision)\n",
    "plt.show()"
   ]
  },
  {
   "cell_type": "code",
   "execution_count": 58,
   "metadata": {},
   "outputs": [
    {
     "name": "stdout",
     "output_type": "stream",
     "text": [
      "Predicted doublet proportion: 0.24738725841088047\n",
      "Precision: 0.39265046296296297\n",
      "f1 score: 0.445648604269294\n"
     ]
    }
   ],
   "source": [
    "sen, spe = metrics(prob_doublet, doublet, cut = 0.5)\n"
   ]
  },
  {
   "cell_type": "code",
   "execution_count": 59,
   "metadata": {
    "id": "XurFPT21Wlsv"
   },
   "outputs": [],
   "source": [
    "doublet_prediction = pd.DataFrame(prob_doublet, columns = ['prob_doublet'])\n",
    "doublet_prediction.index.name = 'index'\n",
    "doublet_prediction.reset_index(inplace=True)\n",
    "#doublet_prediction = doublet_prediction.sort_values(\"prob_doublet\", ascending = False)\n",
    "#doublet_prediction\n",
    "doublet_prediction.to_csv('doublet_20230126_2_rna.csv',index=False)"
   ]
  },
  {
   "cell_type": "code",
   "execution_count": 60,
   "metadata": {},
   "outputs": [],
   "source": [
    "reliability_table = reliability_rna(small_stable, theta, alpha, beta, decay)\n",
    "data = {'reliability': reliability_table[0,:]/weight,\n",
    "        'flag': reliability_table[1,:]}\n",
    "  \n",
    "# Create DataFrame\n",
    "reliability_file = pd.DataFrame(data)\n",
    "reliability_file.index.name = 'index'\n",
    "reliability_file.reset_index(inplace=True)\n",
    "#doublet_prediction = doublet_prediction.sort_values(\"prob_doublet\", ascending = False)\n",
    "#doublet_prediction\n",
    "reliability_file.to_csv('reliability_20230126_2_rna.csv',index=False)"
   ]
  },
  {
   "cell_type": "markdown",
   "metadata": {
    "id": "drZa9eKt30cu"
   },
   "source": [
    "Ileum-5"
   ]
  },
  {
   "cell_type": "code",
   "execution_count": 61,
   "metadata": {
    "colab": {
     "base_uri": "https://localhost:8080/"
    },
    "id": "MppnYFZt315C",
    "outputId": "698b82e3-3b3a-4254-eaea-2b3b35e325ab"
   },
   "outputs": [
    {
     "name": "stdout",
     "output_type": "stream",
     "text": [
      "/ix1/wchen/Haoran/CPDD/RNA/20230203_1\n"
     ]
    }
   ],
   "source": [
    "%cd /ix1/wchen/Haoran/CPDD/RNA/20230203_1/\n",
    "stable = genfromtxt(\"./RNA_stable500_cts.csv\", delimiter=',')\n",
    "small_stable = stable[:,0:300]\n",
    "\n",
    "small_stable = torch.tensor(small_stable, device = dev)\n",
    "small_stable = small_stable.double()\n",
    "small_stable = small_stable + torch.tensor([0.0001], device = dev)\n",
    "\n",
    "\n",
    "theta,alpha,beta,decay, loss_075,p_075 = MLE(small_stable)"
   ]
  },
  {
   "cell_type": "code",
   "execution_count": 62,
   "metadata": {},
   "outputs": [
    {
     "name": "stdout",
     "output_type": "stream",
     "text": [
      "Distribution of Kolmogorov–Smirnov statistics across all genes\n",
      "Lower values indicate better fit\n"
     ]
    },
    {
     "data": {
      "text/plain": [
       "0.2642063552858071"
      ]
     },
     "execution_count": 62,
     "metadata": {},
     "output_type": "execute_result"
    },
    {
     "data": {
      "image/png": "[encoded data removed]",
      "text/plain": [
       "<Figure size 432x288 with 1 Axes>"
      ]
     },
     "metadata": {
      "needs_background": "light"
     },
     "output_type": "display_data"
    }
   ],
   "source": [
    "weight = rna_fit_goodness(small_stable, alpha, beta, theta, decay)\n",
    "weight"
   ]
  },
  {
   "cell_type": "code",
   "execution_count": 63,
   "metadata": {
    "colab": {
     "base_uri": "https://localhost:8080/",
     "height": 448
    },
    "id": "ghzmDA6n38xT",
    "outputId": "0369f713-58b1-4c14-a5e2-92d249fe1ab7"
   },
   "outputs": [
    {
     "name": "stdout",
     "output_type": "stream",
     "text": [
      "0.6168476656482167\n"
     ]
    },
    {
     "data": {
      "image/png": "[encoded data removed]",
      "text/plain": [
       "<Figure size 432x288 with 1 Axes>"
      ]
     },
     "metadata": {
      "needs_background": "light"
     },
     "output_type": "display_data"
    }
   ],
   "source": [
    "prob_singlet = prob_k0(small_stable, theta, alpha, beta, decay, 0, k=3)\n",
    "prob_doublet = 1-prob_singlet\n",
    "#prob_doublet = doublet_pred(small_stable, theta, alpha, beta, decay, k=3)\n",
    "#prob_doublet = prob_k0(small_stable, theta, alpha, beta, decay, 1, k=3)+prob_k0(small_stable, theta, alpha, beta, decay, 2, k=3)\n",
    "\n",
    "doublet = genfromtxt(\"./doublet.csv\", delimiter=',')\n",
    "doublet = doublet[1:, 1]\n",
    "#doublet = doublet.iloc[:, 1]\n",
    "#prob_doublet = np.nan_to_num(prob_doublet, nan=1.0)\n",
    "\n",
    "\n",
    "precision, recall, thresholds = precision_recall_curve(doublet, prob_doublet)\n",
    "auc_precision_recall = auc(recall, precision)\n",
    "print(auc_precision_recall)\n",
    "plt.plot(recall, precision)\n",
    "plt.show()"
   ]
  },
  {
   "cell_type": "code",
   "execution_count": 64,
   "metadata": {},
   "outputs": [
    {
     "name": "stdout",
     "output_type": "stream",
     "text": [
      "Predicted doublet proportion: 0.1799821558926109\n",
      "Precision: 0.54799459215863\n",
      "f1 score: 0.550101786926035\n"
     ]
    }
   ],
   "source": [
    "sen, spe = metrics(prob_doublet, doublet, cut = 0.5)\n"
   ]
  },
  {
   "cell_type": "code",
   "execution_count": 65,
   "metadata": {
    "id": "_3ZzDpEr4Auq"
   },
   "outputs": [],
   "source": [
    "doublet_prediction = pd.DataFrame(prob_doublet, columns = ['prob_doublet'])\n",
    "doublet_prediction.index.name = 'index'\n",
    "doublet_prediction.reset_index(inplace=True)\n",
    "#doublet_prediction = doublet_prediction.sort_values(\"prob_doublet\", ascending = False)\n",
    "#doublet_prediction\n",
    "doublet_prediction.to_csv('doublet_20230203_1_rna.csv',index=False)"
   ]
  },
  {
   "cell_type": "code",
   "execution_count": 66,
   "metadata": {
    "colab": {
     "base_uri": "https://localhost:8080/",
     "height": 424
    },
    "id": "X2L0UX6S4F0C",
    "outputId": "abc58b13-9a85-4d32-b23f-3cf8466a15db"
   },
   "outputs": [],
   "source": [
    "reliability_table = reliability_rna(small_stable, theta, alpha, beta, decay)\n",
    "data = {'reliability': reliability_table[0,:]/weight,\n",
    "        'flag': reliability_table[1,:]}\n",
    "  \n",
    "# Create DataFrame\n",
    "reliability_file = pd.DataFrame(data)\n",
    "reliability_file.index.name = 'index'\n",
    "reliability_file.reset_index(inplace=True)\n",
    "#doublet_prediction = doublet_prediction.sort_values(\"prob_doublet\", ascending = False)\n",
    "#doublet_prediction\n",
    "reliability_file.to_csv('reliability_20230203_1_rna.csv',index=False)"
   ]
  },
  {
   "cell_type": "markdown",
   "metadata": {
    "id": "KRznGMue5Gx0"
   },
   "source": [
    "Ileum-6"
   ]
  },
  {
   "cell_type": "code",
   "execution_count": 67,
   "metadata": {},
   "outputs": [
    {
     "name": "stdout",
     "output_type": "stream",
     "text": [
      "/ix1/wchen/Haoran/CPDD/RNA/20230203_2\n"
     ]
    }
   ],
   "source": [
    "%cd /ix1/wchen/Haoran/CPDD/RNA/20230203_2/\n",
    "stable = genfromtxt(\"./RNA_stable500_cts.csv\", delimiter=',')\n",
    "small_stable = stable[:,0:300]\n",
    "\n",
    "small_stable = torch.tensor(small_stable, device = dev)\n",
    "small_stable = small_stable.double()\n",
    "small_stable = small_stable + torch.tensor([0.0001], device = dev)\n",
    "\n",
    "\n",
    "theta,alpha,beta,decay, loss_075,p_075 = MLE(small_stable)"
   ]
  },
  {
   "cell_type": "code",
   "execution_count": 68,
   "metadata": {},
   "outputs": [
    {
     "name": "stdout",
     "output_type": "stream",
     "text": [
      "Distribution of Kolmogorov–Smirnov statistics across all genes\n",
      "Lower values indicate better fit\n"
     ]
    },
    {
     "data": {
      "text/plain": [
       "0.2650718126739947"
      ]
     },
     "execution_count": 68,
     "metadata": {},
     "output_type": "execute_result"
    },
    {
     "data": {
      "image/png": "[encoded data removed]",
      "text/plain": [
       "<Figure size 432x288 with 1 Axes>"
      ]
     },
     "metadata": {
      "needs_background": "light"
     },
     "output_type": "display_data"
    }
   ],
   "source": [
    "weight = rna_fit_goodness(small_stable, alpha, beta, theta, decay)\n",
    "weight"
   ]
  },
  {
   "cell_type": "code",
   "execution_count": 69,
   "metadata": {},
   "outputs": [
    {
     "name": "stdout",
     "output_type": "stream",
     "text": [
      "0.5914213809390796\n"
     ]
    },
    {
     "data": {
      "image/png": "[encoded data removed]",
      "text/plain": [
       "<Figure size 432x288 with 1 Axes>"
      ]
     },
     "metadata": {
      "needs_background": "light"
     },
     "output_type": "display_data"
    }
   ],
   "source": [
    "prob_singlet = prob_k0(small_stable, theta, alpha, beta, decay, 0, k=3)\n",
    "prob_doublet = 1-prob_singlet\n",
    "#prob_doublet = doublet_pred(small_stable, theta, alpha, beta, decay, k=3)\n",
    "#prob_doublet = prob_k0(small_stable, theta, alpha, beta, decay, 1, k=3)+prob_k0(small_stable, theta, alpha, beta, decay, 2, k=3)\n",
    "\n",
    "doublet = genfromtxt(\"./doublet.csv\", delimiter=',')\n",
    "doublet = doublet[1:, 1]\n",
    "#doublet = doublet.iloc[:, 1]\n",
    "#prob_doublet = np.nan_to_num(prob_doublet, nan=1.0)\n",
    "\n",
    "\n",
    "precision, recall, thresholds = precision_recall_curve(doublet, prob_doublet)\n",
    "auc_precision_recall = auc(recall, precision)\n",
    "print(auc_precision_recall)\n",
    "plt.plot(recall, precision)\n",
    "plt.show()"
   ]
  },
  {
   "cell_type": "code",
   "execution_count": 70,
   "metadata": {},
   "outputs": [
    {
     "name": "stdout",
     "output_type": "stream",
     "text": [
      "Predicted doublet proportion: 0.18341178380133094\n",
      "Precision: 0.47920353982300884\n",
      "f1 score: 0.5126627218934912\n"
     ]
    }
   ],
   "source": [
    "sen, spe = metrics(prob_doublet, doublet, cut = 0.5)"
   ]
  },
  {
   "cell_type": "code",
   "execution_count": 71,
   "metadata": {},
   "outputs": [],
   "source": [
    "doublet_prediction = pd.DataFrame(prob_doublet, columns = ['prob_doublet'])\n",
    "doublet_prediction.index.name = 'index'\n",
    "doublet_prediction.reset_index(inplace=True)\n",
    "#doublet_prediction = doublet_prediction.sort_values(\"prob_doublet\", ascending = False)\n",
    "#doublet_prediction\n",
    "doublet_prediction.to_csv('doublet_20230203_2_rna.csv',index=False)"
   ]
  },
  {
   "cell_type": "code",
   "execution_count": 72,
   "metadata": {},
   "outputs": [],
   "source": [
    "reliability_table = reliability_rna(small_stable, theta, alpha, beta, decay)\n",
    "data = {'reliability': reliability_table[0,:]/weight,\n",
    "        'flag': reliability_table[1,:]}\n",
    "  \n",
    "# Create DataFrame\n",
    "reliability_file = pd.DataFrame(data)\n",
    "reliability_file.index.name = 'index'\n",
    "reliability_file.reset_index(inplace=True)\n",
    "#doublet_prediction = doublet_prediction.sort_values(\"prob_doublet\", ascending = False)\n",
    "#doublet_prediction\n",
    "reliability_file.to_csv('reliability_20230203_2_rna.csv',index=False)"
   ]
  },
  {
   "cell_type": "markdown",
   "metadata": {
    "id": "KRznGMue5Gx0"
   },
   "source": [
    "Ileum-7"
   ]
  },
  {
   "cell_type": "code",
   "execution_count": 73,
   "metadata": {
    "colab": {
     "base_uri": "https://localhost:8080/"
    },
    "id": "Ijkxnhrw5IPh",
    "outputId": "e0daf850-c5e9-494b-be2c-0c7cf01255dc"
   },
   "outputs": [
    {
     "name": "stdout",
     "output_type": "stream",
     "text": [
      "/ix1/wchen/Haoran/CPDD/RNA/20230206_2\n"
     ]
    }
   ],
   "source": [
    "%cd /ix1/wchen/Haoran/CPDD/RNA/20230206_2/\n",
    "stable = genfromtxt(\"./RNA_stable500_cts.csv\", delimiter=',')\n",
    "small_stable = stable[:,0:300]\n",
    "\n",
    "small_stable = torch.tensor(small_stable, device = dev)\n",
    "small_stable = small_stable.double()\n",
    "small_stable = small_stable + torch.tensor([0.0001], device = dev)\n",
    "\n",
    "\n",
    "theta,alpha,beta,decay, loss_075,p_075 = MLE(small_stable)"
   ]
  },
  {
   "cell_type": "code",
   "execution_count": 74,
   "metadata": {},
   "outputs": [
    {
     "name": "stdout",
     "output_type": "stream",
     "text": [
      "Distribution of Kolmogorov–Smirnov statistics across all genes\n",
      "Lower values indicate better fit\n"
     ]
    },
    {
     "data": {
      "text/plain": [
       "0.29075642087950976"
      ]
     },
     "execution_count": 74,
     "metadata": {},
     "output_type": "execute_result"
    },
    {
     "data": {
      "image/png": "[encoded data removed]",
      "text/plain": [
       "<Figure size 432x288 with 1 Axes>"
      ]
     },
     "metadata": {
      "needs_background": "light"
     },
     "output_type": "display_data"
    }
   ],
   "source": [
    "weight = rna_fit_goodness(small_stable, alpha, beta, theta, decay)\n",
    "weight"
   ]
  },
  {
   "cell_type": "code",
   "execution_count": 75,
   "metadata": {
    "colab": {
     "base_uri": "https://localhost:8080/",
     "height": 448
    },
    "id": "pJZp_ksK5I_W",
    "outputId": "f53b961b-6fe0-4470-c7e5-6fd5ecb0d42b"
   },
   "outputs": [
    {
     "name": "stdout",
     "output_type": "stream",
     "text": [
      "0.5864564270185175\n"
     ]
    },
    {
     "data": {
      "image/png": "[encoded data removed]",
      "text/plain": [
       "<Figure size 432x288 with 1 Axes>"
      ]
     },
     "metadata": {
      "needs_background": "light"
     },
     "output_type": "display_data"
    }
   ],
   "source": [
    "prob_singlet = prob_k0(small_stable, theta, alpha, beta, decay, 0, k=3)\n",
    "prob_doublet = 1-prob_singlet\n",
    "#prob_doublet = doublet_pred(small_stable, theta, alpha, beta, decay, k=3)\n",
    "#prob_doublet = prob_k0(small_stable, theta, alpha, beta, decay, 1, k=3)+prob_k0(small_stable, theta, alpha, beta, decay, 2, k=3)\n",
    "\n",
    "doublet = genfromtxt(\"./doublet.csv\", delimiter=',')\n",
    "doublet = doublet[1:, 1]\n",
    "#doublet = doublet.iloc[:, 1]\n",
    "#prob_doublet = np.nan_to_num(prob_doublet, nan=1.0)\n",
    "\n",
    "\n",
    "precision, recall, thresholds = precision_recall_curve(doublet, prob_doublet)\n",
    "auc_precision_recall = auc(recall, precision)\n",
    "print(auc_precision_recall)\n",
    "plt.plot(recall, precision)\n",
    "plt.show()"
   ]
  },
  {
   "cell_type": "code",
   "execution_count": 76,
   "metadata": {},
   "outputs": [
    {
     "name": "stdout",
     "output_type": "stream",
     "text": [
      "Predicted doublet proportion: 0.24558871761233192\n",
      "Precision: 0.43162393162393164\n",
      "f1 score: 0.49073792894017615\n"
     ]
    }
   ],
   "source": [
    "sen, spe = metrics(prob_doublet, doublet, cut = 0.5)\n"
   ]
  },
  {
   "cell_type": "code",
   "execution_count": 77,
   "metadata": {
    "id": "VMh2sX1j5MYv"
   },
   "outputs": [],
   "source": [
    "doublet_prediction = pd.DataFrame(prob_doublet, columns = ['prob_doublet'])\n",
    "doublet_prediction.index.name = 'index'\n",
    "doublet_prediction.reset_index(inplace=True)\n",
    "#doublet_prediction = doublet_prediction.sort_values(\"prob_doublet\", ascending = False)\n",
    "#doublet_prediction\n",
    "doublet_prediction.to_csv('doublet_20230206_2_rna.csv',index=False)"
   ]
  },
  {
   "cell_type": "code",
   "execution_count": 78,
   "metadata": {
    "colab": {
     "base_uri": "https://localhost:8080/",
     "height": 424
    },
    "id": "_jJqA88-5bey",
    "outputId": "0c84e76b-30e7-4e41-c063-8abf98a764df"
   },
   "outputs": [],
   "source": [
    "reliability_table = reliability_rna(small_stable, theta, alpha, beta, decay)\n",
    "data = {'reliability': reliability_table[0,:]/weight,\n",
    "        'flag': reliability_table[1,:]}\n",
    "  \n",
    "# Create DataFrame\n",
    "reliability_file = pd.DataFrame(data)\n",
    "reliability_file.index.name = 'index'\n",
    "reliability_file.reset_index(inplace=True)\n",
    "#doublet_prediction = doublet_prediction.sort_values(\"prob_doublet\", ascending = False)\n",
    "#doublet_prediction\n",
    "reliability_file.to_csv('reliability_20230206_2_rna.csv',index=False)"
   ]
  },
  {
   "cell_type": "markdown",
   "metadata": {
    "id": "KRznGMue5Gx0"
   },
   "source": [
    "PB-5"
   ]
  },
  {
   "cell_type": "code",
   "execution_count": 79,
   "metadata": {},
   "outputs": [
    {
     "name": "stdout",
     "output_type": "stream",
     "text": [
      "/ix1/wchen/Haoran/CPDD/RNA/20220429_1\n"
     ]
    }
   ],
   "source": [
    "%cd /ix1/wchen/Haoran/CPDD/RNA/20220429_1/\n",
    "stable = genfromtxt(\"./RNA_stable500_cts.csv\", delimiter=',')\n",
    "small_stable = stable[:,0:300]\n",
    "\n",
    "small_stable = torch.tensor(small_stable, device = dev)\n",
    "small_stable = small_stable.double()\n",
    "small_stable = small_stable + torch.tensor([0.0001], device = dev)\n",
    "\n",
    "\n",
    "theta,alpha,beta,decay, loss_075,p_075 = MLE(small_stable)"
   ]
  },
  {
   "cell_type": "code",
   "execution_count": 80,
   "metadata": {},
   "outputs": [
    {
     "name": "stdout",
     "output_type": "stream",
     "text": [
      "Distribution of Kolmogorov–Smirnov statistics across all genes\n",
      "Lower values indicate better fit\n"
     ]
    },
    {
     "data": {
      "text/plain": [
       "0.23839004520945611"
      ]
     },
     "execution_count": 80,
     "metadata": {},
     "output_type": "execute_result"
    },
    {
     "data": {
      "image/png": "[encoded data removed]",
      "text/plain": [
       "<Figure size 432x288 with 1 Axes>"
      ]
     },
     "metadata": {
      "needs_background": "light"
     },
     "output_type": "display_data"
    }
   ],
   "source": [
    "weight = rna_fit_goodness(small_stable, alpha, beta, theta, decay)\n",
    "weight"
   ]
  },
  {
   "cell_type": "code",
   "execution_count": 81,
   "metadata": {},
   "outputs": [
    {
     "name": "stdout",
     "output_type": "stream",
     "text": [
      "0.7447600682313715\n"
     ]
    },
    {
     "data": {
      "image/png": "[encoded data removed]",
      "text/plain": [
       "<Figure size 432x288 with 1 Axes>"
      ]
     },
     "metadata": {
      "needs_background": "light"
     },
     "output_type": "display_data"
    }
   ],
   "source": [
    "prob_singlet = prob_k0(small_stable, theta, alpha, beta, decay, 0, k=3)\n",
    "prob_doublet = 1-prob_singlet\n",
    "#prob_doublet = doublet_pred(small_stable, theta, alpha, beta, decay, k=3)\n",
    "#prob_doublet = prob_k0(small_stable, theta, alpha, beta, decay, 1, k=3)+prob_k0(small_stable, theta, alpha, beta, decay, 2, k=3)\n",
    "\n",
    "doublet = genfromtxt(\"./doublet.csv\", delimiter=',')\n",
    "doublet = doublet[1:, 1]\n",
    "#doublet = doublet.iloc[:, 1]\n",
    "#prob_doublet = np.nan_to_num(prob_doublet, nan=1.0)\n",
    "\n",
    "\n",
    "precision, recall, thresholds = precision_recall_curve(doublet, prob_doublet)\n",
    "auc_precision_recall = auc(recall, precision)\n",
    "print(auc_precision_recall)\n",
    "plt.plot(recall, precision)\n",
    "plt.show()"
   ]
  },
  {
   "cell_type": "code",
   "execution_count": 82,
   "metadata": {},
   "outputs": [
    {
     "name": "stdout",
     "output_type": "stream",
     "text": [
      "Predicted doublet proportion: 0.24583024003959417\n",
      "Precision: 0.749345681497886\n",
      "f1 score: 0.6898980537534755\n"
     ]
    }
   ],
   "source": [
    "sen, spe = metrics(prob_doublet, doublet, cut = 0.5)\n"
   ]
  },
  {
   "cell_type": "code",
   "execution_count": 83,
   "metadata": {},
   "outputs": [],
   "source": [
    "doublet_prediction = pd.DataFrame(prob_doublet, columns = ['prob_doublet'])\n",
    "doublet_prediction.index.name = 'index'\n",
    "doublet_prediction.reset_index(inplace=True)\n",
    "#doublet_prediction = doublet_prediction.sort_values(\"prob_doublet\", ascending = False)\n",
    "#doublet_prediction\n",
    "doublet_prediction.to_csv('doublet_20220429_1_rna.csv',index=False)"
   ]
  },
  {
   "cell_type": "code",
   "execution_count": 84,
   "metadata": {},
   "outputs": [],
   "source": [
    "reliability_table = reliability_rna(small_stable, theta, alpha, beta, decay)\n",
    "data = {'reliability': reliability_table[0,:]/weight,\n",
    "        'flag': reliability_table[1,:]}\n",
    "  \n",
    "# Create DataFrame\n",
    "reliability_file = pd.DataFrame(data)\n",
    "reliability_file.index.name = 'index'\n",
    "reliability_file.reset_index(inplace=True)\n",
    "#doublet_prediction = doublet_prediction.sort_values(\"prob_doublet\", ascending = False)\n",
    "#doublet_prediction\n",
    "reliability_file.to_csv('reliability_20220429_1_rna.csv',index=False)"
   ]
  },
  {
   "cell_type": "markdown",
   "metadata": {
    "id": "KRznGMue5Gx0"
   },
   "source": [
    "PB-6"
   ]
  },
  {
   "cell_type": "code",
   "execution_count": 85,
   "metadata": {},
   "outputs": [
    {
     "name": "stdout",
     "output_type": "stream",
     "text": [
      "/ix1/wchen/Haoran/CPDD/RNA/20220429_2\n"
     ]
    }
   ],
   "source": [
    "%cd /ix1/wchen/Haoran/CPDD/RNA/20220429_2/\n",
    "stable = genfromtxt(\"./RNA_stable500_cts.csv\", delimiter=',')\n",
    "small_stable = stable[:,0:300]\n",
    "\n",
    "small_stable = torch.tensor(small_stable, device = dev)\n",
    "small_stable = small_stable.double()\n",
    "small_stable = small_stable + torch.tensor([0.0001], device = dev)\n",
    "\n",
    "\n",
    "theta,alpha,beta,decay, loss_075,p_075 = MLE(small_stable)"
   ]
  },
  {
   "cell_type": "code",
   "execution_count": 86,
   "metadata": {},
   "outputs": [
    {
     "name": "stdout",
     "output_type": "stream",
     "text": [
      "Distribution of Kolmogorov–Smirnov statistics across all genes\n",
      "Lower values indicate better fit\n"
     ]
    },
    {
     "data": {
      "text/plain": [
       "0.22774763189812944"
      ]
     },
     "execution_count": 86,
     "metadata": {},
     "output_type": "execute_result"
    },
    {
     "data": {
      "image/png": "[encoded data removed]",
      "text/plain": [
       "<Figure size 432x288 with 1 Axes>"
      ]
     },
     "metadata": {
      "needs_background": "light"
     },
     "output_type": "display_data"
    }
   ],
   "source": [
    "weight = rna_fit_goodness(small_stable, alpha, beta, theta, decay)\n",
    "weight"
   ]
  },
  {
   "cell_type": "code",
   "execution_count": 87,
   "metadata": {},
   "outputs": [
    {
     "name": "stdout",
     "output_type": "stream",
     "text": [
      "0.7792853206814155\n"
     ]
    },
    {
     "data": {
      "image/png": "[encoded data removed]",
      "text/plain": [
       "<Figure size 432x288 with 1 Axes>"
      ]
     },
     "metadata": {
      "needs_background": "light"
     },
     "output_type": "display_data"
    }
   ],
   "source": [
    "prob_singlet = prob_k0(small_stable, theta, alpha, beta, decay, 0, k=3)\n",
    "prob_doublet = 1-prob_singlet\n",
    "#prob_doublet = doublet_pred(small_stable, theta, alpha, beta, decay, k=3)\n",
    "#prob_doublet = prob_k0(small_stable, theta, alpha, beta, decay, 1, k=3)+prob_k0(small_stable, theta, alpha, beta, decay, 2, k=3)\n",
    "\n",
    "doublet = genfromtxt(\"./doublet.csv\", delimiter=',')\n",
    "doublet = doublet[1:, 1]\n",
    "#doublet = doublet.iloc[:, 1]\n",
    "#prob_doublet = np.nan_to_num(prob_doublet, nan=1.0)\n",
    "\n",
    "\n",
    "precision, recall, thresholds = precision_recall_curve(doublet, prob_doublet)\n",
    "auc_precision_recall = auc(recall, precision)\n",
    "print(auc_precision_recall)\n",
    "plt.plot(recall, precision)\n",
    "plt.show()"
   ]
  },
  {
   "cell_type": "code",
   "execution_count": 88,
   "metadata": {},
   "outputs": [
    {
     "name": "stdout",
     "output_type": "stream",
     "text": [
      "Predicted doublet proportion: 0.2650595941157522\n",
      "Precision: 0.7464046992100466\n",
      "f1 score: 0.7458759234895254\n"
     ]
    }
   ],
   "source": [
    "sen, spe = metrics(prob_doublet, doublet, cut = 0.5)"
   ]
  },
  {
   "cell_type": "code",
   "execution_count": 89,
   "metadata": {},
   "outputs": [],
   "source": [
    "doublet_prediction = pd.DataFrame(prob_doublet, columns = ['prob_doublet'])\n",
    "doublet_prediction.index.name = 'index'\n",
    "doublet_prediction.reset_index(inplace=True)\n",
    "#doublet_prediction = doublet_prediction.sort_values(\"prob_doublet\", ascending = False)\n",
    "#doublet_prediction\n",
    "doublet_prediction.to_csv('doublet_20220429_2_rna.csv',index=False)"
   ]
  },
  {
   "cell_type": "code",
   "execution_count": 90,
   "metadata": {},
   "outputs": [],
   "source": [
    "reliability_table = reliability_rna(small_stable, theta, alpha, beta, decay)\n",
    "data = {'reliability': reliability_table[0,:]/weight,\n",
    "        'flag': reliability_table[1,:]}\n",
    "  \n",
    "# Create DataFrame\n",
    "reliability_file = pd.DataFrame(data)\n",
    "reliability_file.index.name = 'index'\n",
    "reliability_file.reset_index(inplace=True)\n",
    "#doublet_prediction = doublet_prediction.sort_values(\"prob_doublet\", ascending = False)\n",
    "#doublet_prediction\n",
    "reliability_file.to_csv('reliability_20220429_2_rna.csv',index=False)"
   ]
  },
  {
   "cell_type": "markdown",
   "metadata": {
    "id": "KRznGMue5Gx0"
   },
   "source": [
    "PB-7"
   ]
  },
  {
   "cell_type": "code",
   "execution_count": 91,
   "metadata": {},
   "outputs": [
    {
     "name": "stdout",
     "output_type": "stream",
     "text": [
      "/ix1/wchen/Haoran/CPDD/RNA/20220429_3\n"
     ]
    }
   ],
   "source": [
    "%cd /ix1/wchen/Haoran/CPDD/RNA/20220429_3/\n",
    "stable = genfromtxt(\"./RNA_stable500_cts.csv\", delimiter=',')\n",
    "small_stable = stable[:,0:300]\n",
    "\n",
    "small_stable = torch.tensor(small_stable, device = dev)\n",
    "small_stable = small_stable.double()\n",
    "small_stable = small_stable + torch.tensor([0.0001], device = dev)\n",
    "\n",
    "\n",
    "theta,alpha,beta,decay, loss_075,p_075 = MLE(small_stable)"
   ]
  },
  {
   "cell_type": "code",
   "execution_count": 92,
   "metadata": {},
   "outputs": [
    {
     "name": "stdout",
     "output_type": "stream",
     "text": [
      "Distribution of Kolmogorov–Smirnov statistics across all genes\n",
      "Lower values indicate better fit\n"
     ]
    },
    {
     "data": {
      "text/plain": [
       "0.24442882948105138"
      ]
     },
     "execution_count": 92,
     "metadata": {},
     "output_type": "execute_result"
    },
    {
     "data": {
      "image/png": "[encoded data removed]",
      "text/plain": [
       "<Figure size 432x288 with 1 Axes>"
      ]
     },
     "metadata": {
      "needs_background": "light"
     },
     "output_type": "display_data"
    }
   ],
   "source": [
    "weight = rna_fit_goodness(small_stable, alpha, beta, theta, decay)\n",
    "weight"
   ]
  },
  {
   "cell_type": "code",
   "execution_count": 93,
   "metadata": {},
   "outputs": [
    {
     "name": "stdout",
     "output_type": "stream",
     "text": [
      "0.7667178184719952\n"
     ]
    },
    {
     "data": {
      "image/png": "[encoded data removed]",
      "text/plain": [
       "<Figure size 432x288 with 1 Axes>"
      ]
     },
     "metadata": {
      "needs_background": "light"
     },
     "output_type": "display_data"
    }
   ],
   "source": [
    "prob_singlet = prob_k0(small_stable, theta, alpha, beta, decay, 0, k=3)\n",
    "prob_doublet = 1-prob_singlet\n",
    "#prob_doublet = doublet_pred(small_stable, theta, alpha, beta, decay, k=3)\n",
    "#prob_doublet = prob_k0(small_stable, theta, alpha, beta, decay, 1, k=3)+prob_k0(small_stable, theta, alpha, beta, decay, 2, k=3)\n",
    "\n",
    "doublet = genfromtxt(\"./doublet.csv\", delimiter=',')\n",
    "doublet = doublet[1:, 1]\n",
    "#doublet = doublet.iloc[:, 1]\n",
    "#prob_doublet = np.nan_to_num(prob_doublet, nan=1.0)\n",
    "\n",
    "\n",
    "precision, recall, thresholds = precision_recall_curve(doublet, prob_doublet)\n",
    "auc_precision_recall = auc(recall, precision)\n",
    "print(auc_precision_recall)\n",
    "plt.plot(recall, precision)\n",
    "plt.show()"
   ]
  },
  {
   "cell_type": "code",
   "execution_count": 94,
   "metadata": {},
   "outputs": [
    {
     "name": "stdout",
     "output_type": "stream",
     "text": [
      "Predicted doublet proportion: 0.24477495868571983\n",
      "Precision: 0.7756155679110405\n",
      "f1 score: 0.7042913811756221\n"
     ]
    }
   ],
   "source": [
    "sen, spe = metrics(prob_doublet, doublet, cut = 0.5)\n"
   ]
  },
  {
   "cell_type": "code",
   "execution_count": 95,
   "metadata": {},
   "outputs": [],
   "source": [
    "doublet_prediction = pd.DataFrame(prob_doublet, columns = ['prob_doublet'])\n",
    "doublet_prediction.index.name = 'index'\n",
    "doublet_prediction.reset_index(inplace=True)\n",
    "#doublet_prediction = doublet_prediction.sort_values(\"prob_doublet\", ascending = False)\n",
    "#doublet_prediction\n",
    "doublet_prediction.to_csv('doublet_20220429_3_rna.csv',index=False)"
   ]
  },
  {
   "cell_type": "code",
   "execution_count": 96,
   "metadata": {},
   "outputs": [],
   "source": [
    "reliability_table = reliability_rna(small_stable, theta, alpha, beta, decay)\n",
    "data = {'reliability': reliability_table[0,:]/weight,\n",
    "        'flag': reliability_table[1,:]}\n",
    "  \n",
    "# Create DataFrame\n",
    "reliability_file = pd.DataFrame(data)\n",
    "reliability_file.index.name = 'index'\n",
    "reliability_file.reset_index(inplace=True)\n",
    "#doublet_prediction = doublet_prediction.sort_values(\"prob_doublet\", ascending = False)\n",
    "#doublet_prediction\n",
    "reliability_file.to_csv('reliability_20220429_3_rna.csv',index=False)"
   ]
  },
  {
   "cell_type": "markdown",
   "metadata": {
    "id": "KRznGMue5Gx0"
   },
   "source": [
    "PB-8"
   ]
  },
  {
   "cell_type": "code",
   "execution_count": 97,
   "metadata": {},
   "outputs": [
    {
     "name": "stdout",
     "output_type": "stream",
     "text": [
      "/ix1/wchen/Haoran/CPDD/RNA/20220524_1\n"
     ]
    }
   ],
   "source": [
    "%cd /ix1/wchen/Haoran/CPDD/RNA/20220524_1/\n",
    "stable = genfromtxt(\"./RNA_stable500_cts.csv\", delimiter=',')\n",
    "small_stable = stable[:,0:300]\n",
    "\n",
    "small_stable = torch.tensor(small_stable, device = dev)\n",
    "small_stable = small_stable.double()\n",
    "small_stable = small_stable + torch.tensor([0.0001], device = dev)\n",
    "\n",
    "\n",
    "theta,alpha,beta,decay, loss_075,p_075 = MLE(small_stable)"
   ]
  },
  {
   "cell_type": "code",
   "execution_count": 98,
   "metadata": {},
   "outputs": [
    {
     "name": "stdout",
     "output_type": "stream",
     "text": [
      "Distribution of Kolmogorov–Smirnov statistics across all genes\n",
      "Lower values indicate better fit\n"
     ]
    },
    {
     "data": {
      "text/plain": [
       "0.18165049358336038"
      ]
     },
     "execution_count": 98,
     "metadata": {},
     "output_type": "execute_result"
    },
    {
     "data": {
      "image/png": "[encoded data removed]",
      "text/plain": [
       "<Figure size 432x288 with 1 Axes>"
      ]
     },
     "metadata": {
      "needs_background": "light"
     },
     "output_type": "display_data"
    }
   ],
   "source": [
    "weight = rna_fit_goodness(small_stable, alpha, beta, theta, decay)\n",
    "weight"
   ]
  },
  {
   "cell_type": "code",
   "execution_count": 99,
   "metadata": {},
   "outputs": [
    {
     "name": "stdout",
     "output_type": "stream",
     "text": [
      "0.8350756033075539\n"
     ]
    },
    {
     "data": {
      "image/png": "[encoded data removed]",
      "text/plain": [
       "<Figure size 432x288 with 1 Axes>"
      ]
     },
     "metadata": {
      "needs_background": "light"
     },
     "output_type": "display_data"
    }
   ],
   "source": [
    "prob_singlet = prob_k0(small_stable, theta, alpha, beta, decay, 0, k=3)\n",
    "prob_doublet = 1-prob_singlet\n",
    "#prob_doublet = doublet_pred(small_stable, theta, alpha, beta, decay, k=3)\n",
    "#prob_doublet = prob_k0(small_stable, theta, alpha, beta, decay, 1, k=3)+prob_k0(small_stable, theta, alpha, beta, decay, 2, k=3)\n",
    "\n",
    "doublet = genfromtxt(\"./doublet.csv\", delimiter=',')\n",
    "doublet = doublet[1:, 1]\n",
    "#doublet = doublet.iloc[:, 1]\n",
    "#prob_doublet = np.nan_to_num(prob_doublet, nan=1.0)\n",
    "\n",
    "\n",
    "precision, recall, thresholds = precision_recall_curve(doublet, prob_doublet)\n",
    "auc_precision_recall = auc(recall, precision)\n",
    "print(auc_precision_recall)\n",
    "plt.plot(recall, precision)\n",
    "plt.show()"
   ]
  },
  {
   "cell_type": "code",
   "execution_count": 100,
   "metadata": {},
   "outputs": [
    {
     "name": "stdout",
     "output_type": "stream",
     "text": [
      "Predicted doublet proportion: 0.33665118336651184\n",
      "Precision: 0.7550591327201052\n",
      "f1 score: 0.7814497484020128\n"
     ]
    }
   ],
   "source": [
    "sen, spe = metrics(prob_doublet, doublet, cut = 0.5)"
   ]
  },
  {
   "cell_type": "code",
   "execution_count": 101,
   "metadata": {},
   "outputs": [],
   "source": [
    "doublet_prediction = pd.DataFrame(prob_doublet, columns = ['prob_doublet'])\n",
    "doublet_prediction.index.name = 'index'\n",
    "doublet_prediction.reset_index(inplace=True)\n",
    "#doublet_prediction = doublet_prediction.sort_values(\"prob_doublet\", ascending = False)\n",
    "#doublet_prediction\n",
    "doublet_prediction.to_csv('doublet_20220524_1_rna.csv',index=False)"
   ]
  },
  {
   "cell_type": "code",
   "execution_count": 102,
   "metadata": {},
   "outputs": [],
   "source": [
    "reliability_table = reliability_rna(small_stable, theta, alpha, beta, decay)\n",
    "data = {'reliability': reliability_table[0,:]/weight,\n",
    "        'flag': reliability_table[1,:]}\n",
    "  \n",
    "# Create DataFrame\n",
    "reliability_file = pd.DataFrame(data)\n",
    "reliability_file.index.name = 'index'\n",
    "reliability_file.reset_index(inplace=True)\n",
    "#doublet_prediction = doublet_prediction.sort_values(\"prob_doublet\", ascending = False)\n",
    "#doublet_prediction\n",
    "reliability_file.to_csv('reliability_20220524_1_rna.csv',index=False)"
   ]
  },
  {
   "cell_type": "markdown",
   "metadata": {
    "id": "KRznGMue5Gx0"
   },
   "source": [
    "PB-9"
   ]
  },
  {
   "cell_type": "code",
   "execution_count": 103,
   "metadata": {},
   "outputs": [
    {
     "name": "stdout",
     "output_type": "stream",
     "text": [
      "/ix1/wchen/Haoran/CPDD/RNA/20220524_2\n"
     ]
    }
   ],
   "source": [
    "%cd /ix1/wchen/Haoran/CPDD/RNA/20220524_2/\n",
    "stable = genfromtxt(\"./RNA_stable500_cts.csv\", delimiter=',')\n",
    "small_stable = stable[:,0:300]\n",
    "\n",
    "small_stable = torch.tensor(small_stable, device = dev)\n",
    "small_stable = small_stable.double()\n",
    "small_stable = small_stable + torch.tensor([0.0001], device = dev)\n",
    "\n",
    "\n",
    "theta,alpha,beta,decay, loss_075,p_075 = MLE(small_stable)"
   ]
  },
  {
   "cell_type": "code",
   "execution_count": 104,
   "metadata": {},
   "outputs": [
    {
     "name": "stdout",
     "output_type": "stream",
     "text": [
      "Distribution of Kolmogorov–Smirnov statistics across all genes\n",
      "Lower values indicate better fit\n"
     ]
    },
    {
     "data": {
      "text/plain": [
       "0.19002912537746833"
      ]
     },
     "execution_count": 104,
     "metadata": {},
     "output_type": "execute_result"
    },
    {
     "data": {
      "image/png": "[encoded data removed]",
      "text/plain": [
       "<Figure size 432x288 with 1 Axes>"
      ]
     },
     "metadata": {
      "needs_background": "light"
     },
     "output_type": "display_data"
    }
   ],
   "source": [
    "weight = rna_fit_goodness(small_stable, alpha, beta, theta, decay)\n",
    "weight"
   ]
  },
  {
   "cell_type": "code",
   "execution_count": 105,
   "metadata": {},
   "outputs": [
    {
     "name": "stdout",
     "output_type": "stream",
     "text": [
      "0.843007132005038\n"
     ]
    },
    {
     "data": {
      "image/png": "[encoded data removed]",
      "text/plain": [
       "<Figure size 432x288 with 1 Axes>"
      ]
     },
     "metadata": {
      "needs_background": "light"
     },
     "output_type": "display_data"
    }
   ],
   "source": [
    "prob_singlet = prob_k0(small_stable, theta, alpha, beta, decay, 0, k=3)\n",
    "prob_doublet = 1-prob_singlet\n",
    "#prob_doublet = doublet_pred(small_stable, theta, alpha, beta, decay, k=3)\n",
    "#prob_doublet = prob_k0(small_stable, theta, alpha, beta, decay, 1, k=3)+prob_k0(small_stable, theta, alpha, beta, decay, 2, k=3)\n",
    "\n",
    "doublet = genfromtxt(\"./doublet.csv\", delimiter=',')\n",
    "doublet = doublet[1:, 1]\n",
    "#doublet = doublet.iloc[:, 1]\n",
    "#prob_doublet = np.nan_to_num(prob_doublet, nan=1.0)\n",
    "\n",
    "\n",
    "precision, recall, thresholds = precision_recall_curve(doublet, prob_doublet)\n",
    "auc_precision_recall = auc(recall, precision)\n",
    "print(auc_precision_recall)\n",
    "plt.plot(recall, precision)\n",
    "plt.show()"
   ]
  },
  {
   "cell_type": "code",
   "execution_count": 106,
   "metadata": {},
   "outputs": [
    {
     "name": "stdout",
     "output_type": "stream",
     "text": [
      "Predicted doublet proportion: 0.2910104817473021\n",
      "Precision: 0.7984386089425124\n",
      "f1 score: 0.7903055848261327\n"
     ]
    }
   ],
   "source": [
    "sen, spe = metrics(prob_doublet, doublet, cut = 0.5)\n"
   ]
  },
  {
   "cell_type": "code",
   "execution_count": 107,
   "metadata": {},
   "outputs": [],
   "source": [
    "doublet_prediction = pd.DataFrame(prob_doublet, columns = ['prob_doublet'])\n",
    "doublet_prediction.index.name = 'index'\n",
    "doublet_prediction.reset_index(inplace=True)\n",
    "#doublet_prediction = doublet_prediction.sort_values(\"prob_doublet\", ascending = False)\n",
    "#doublet_prediction\n",
    "doublet_prediction.to_csv('doublet_20220524_2_rna.csv',index=False)"
   ]
  },
  {
   "cell_type": "code",
   "execution_count": 108,
   "metadata": {},
   "outputs": [],
   "source": [
    "reliability_table = reliability_rna(small_stable, theta, alpha, beta, decay)\n",
    "data = {'reliability': reliability_table[0,:]/weight,\n",
    "        'flag': reliability_table[1,:]}\n",
    "  \n",
    "# Create DataFrame\n",
    "reliability_file = pd.DataFrame(data)\n",
    "reliability_file.index.name = 'index'\n",
    "reliability_file.reset_index(inplace=True)\n",
    "#doublet_prediction = doublet_prediction.sort_values(\"prob_doublet\", ascending = False)\n",
    "#doublet_prediction\n",
    "reliability_file.to_csv('reliability_20220524_2_rna.csv',index=False)"
   ]
  },
  {
   "cell_type": "markdown",
   "metadata": {
    "id": "KRznGMue5Gx0"
   },
   "source": [
    "PB-10"
   ]
  },
  {
   "cell_type": "code",
   "execution_count": 109,
   "metadata": {},
   "outputs": [
    {
     "name": "stdout",
     "output_type": "stream",
     "text": [
      "/ix1/wchen/Haoran/CPDD/RNA/20210831_1\n"
     ]
    }
   ],
   "source": [
    "%cd /ix1/wchen/Haoran/CPDD/RNA/20210831_1/\n",
    "stable = genfromtxt(\"./RNA_stable500_cts.csv\", delimiter=',')\n",
    "small_stable = stable[:,0:300]\n",
    "\n",
    "small_stable = torch.tensor(small_stable, device = dev)\n",
    "small_stable = small_stable.double()\n",
    "small_stable = small_stable + torch.tensor([0.0001], device = dev)\n",
    "\n",
    "\n",
    "theta,alpha,beta,decay, loss_075,p_075 = MLE(small_stable)"
   ]
  },
  {
   "cell_type": "code",
   "execution_count": 110,
   "metadata": {},
   "outputs": [
    {
     "name": "stdout",
     "output_type": "stream",
     "text": [
      "Distribution of Kolmogorov–Smirnov statistics across all genes\n",
      "Lower values indicate better fit\n"
     ]
    },
    {
     "data": {
      "text/plain": [
       "0.17059472803422443"
      ]
     },
     "execution_count": 110,
     "metadata": {},
     "output_type": "execute_result"
    },
    {
     "data": {
      "image/png": "[encoded data removed]",
      "text/plain": [
       "<Figure size 432x288 with 1 Axes>"
      ]
     },
     "metadata": {
      "needs_background": "light"
     },
     "output_type": "display_data"
    }
   ],
   "source": [
    "weight = rna_fit_goodness(small_stable, alpha, beta, theta, decay)\n",
    "weight"
   ]
  },
  {
   "cell_type": "code",
   "execution_count": 111,
   "metadata": {},
   "outputs": [
    {
     "name": "stdout",
     "output_type": "stream",
     "text": [
      "0.7199197509178692\n"
     ]
    },
    {
     "data": {
      "image/png": "[encoded data removed]",
      "text/plain": [
       "<Figure size 432x288 with 1 Axes>"
      ]
     },
     "metadata": {
      "needs_background": "light"
     },
     "output_type": "display_data"
    }
   ],
   "source": [
    "prob_singlet = prob_k0(small_stable, theta, alpha, beta, decay, 0, k=3)\n",
    "prob_doublet = 1-prob_singlet\n",
    "#prob_doublet = doublet_pred(small_stable, theta, alpha, beta, decay, k=3)\n",
    "#prob_doublet = prob_k0(small_stable, theta, alpha, beta, decay, 1, k=3)+prob_k0(small_stable, theta, alpha, beta, decay, 2, k=3)\n",
    "\n",
    "doublet = genfromtxt(\"./doublet.csv\", delimiter=',')\n",
    "doublet = doublet[1:, 1]\n",
    "#doublet = doublet.iloc[:, 1]\n",
    "#prob_doublet = np.nan_to_num(prob_doublet, nan=1.0)\n",
    "\n",
    "\n",
    "precision, recall, thresholds = precision_recall_curve(doublet, prob_doublet)\n",
    "auc_precision_recall = auc(recall, precision)\n",
    "print(auc_precision_recall)\n",
    "plt.plot(recall, precision)\n",
    "plt.show()"
   ]
  },
  {
   "cell_type": "code",
   "execution_count": 112,
   "metadata": {},
   "outputs": [
    {
     "name": "stdout",
     "output_type": "stream",
     "text": [
      "Predicted doublet proportion: 0.20802120548576697\n",
      "Precision: 0.6975069252077563\n",
      "f1 score: 0.6751575278187425\n"
     ]
    }
   ],
   "source": [
    "sen, spe = metrics(prob_doublet, doublet, cut = 0.5)\n"
   ]
  },
  {
   "cell_type": "code",
   "execution_count": 113,
   "metadata": {},
   "outputs": [],
   "source": [
    "doublet_prediction = pd.DataFrame(prob_doublet, columns = ['prob_doublet'])\n",
    "doublet_prediction.index.name = 'index'\n",
    "doublet_prediction.reset_index(inplace=True)\n",
    "#doublet_prediction = doublet_prediction.sort_values(\"prob_doublet\", ascending = False)\n",
    "#doublet_prediction\n",
    "doublet_prediction.to_csv('doublet_20210831_1_rna.csv',index=False)"
   ]
  },
  {
   "cell_type": "code",
   "execution_count": 114,
   "metadata": {},
   "outputs": [],
   "source": [
    "reliability_table = reliability_rna(small_stable, theta, alpha, beta, decay)\n",
    "data = {'reliability': reliability_table[0,:]/weight,\n",
    "        'flag': reliability_table[1,:]}\n",
    "  \n",
    "# Create DataFrame\n",
    "reliability_file = pd.DataFrame(data)\n",
    "reliability_file.index.name = 'index'\n",
    "reliability_file.reset_index(inplace=True)\n",
    "#doublet_prediction = doublet_prediction.sort_values(\"prob_doublet\", ascending = False)\n",
    "#doublet_prediction\n",
    "reliability_file.to_csv('reliability_20210831_1_rna.csv',index=False)"
   ]
  }
 ],
 "metadata": {
  "colab": {
   "gpuType": "T4",
   "provenance": []
  },
  "gpuClass": "standard",
  "kernelspec": {
   "display_name": "Python 3 (ipykernel)",
   "language": "python",
   "name": "python3"
  },
  "language_info": {
   "codemirror_mode": {
    "name": "ipython",
    "version": 3
   },
   "file_extension": ".py",
   "mimetype": "text/x-python",
   "name": "python",
   "nbconvert_exporter": "python",
   "pygments_lexer": "ipython3",
   "version": "3.8.5"
  }
 },
 "nbformat": 4,
 "nbformat_minor": 4
}
