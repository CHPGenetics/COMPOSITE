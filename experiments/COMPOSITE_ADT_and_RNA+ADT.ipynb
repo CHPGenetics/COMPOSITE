{
 "cells": [
  {
   "cell_type": "code",
   "execution_count": 1,
   "metadata": {
    "id": "MVi4lyKm_Lsp"
   },
   "outputs": [],
   "source": [
    "import sys\n",
    "import pandas as pd\n",
    "import random\n",
    "import math\n",
    "#import scanpy as sc\n",
    "import torch\n",
    "import torch.nn as nn\n",
    "import torch.optim as optim\n",
    "import torch.utils.data\n",
    "import torch.nn.functional as F\n",
    "import matplotlib.pyplot as plt\n",
    "import numpy as np\n",
    "from scipy.stats import norm\n",
    "from scipy.stats import gamma\n",
    "from scipy.stats import poisson\n",
    "from scipy.stats import multivariate_normal\n",
    "from sklearn.metrics import roc_auc_score\n",
    "from sklearn.metrics import precision_recall_curve\n",
    "from sklearn.metrics import auc\n",
    "from scipy import special\n",
    "from numpy import genfromtxt\n",
    "import operator"
   ]
  },
  {
   "cell_type": "code",
   "execution_count": 2,
   "metadata": {
    "colab": {
     "base_uri": "https://localhost:8080/"
    },
    "id": "Y4PEWTrI_XHr",
    "outputId": "b540e066-412c-46b8-de4b-f11a11760ec2"
   },
   "outputs": [
    {
     "name": "stdout",
     "output_type": "stream",
     "text": [
      "Cuda is available\n",
      "Found 1 GPUs available. Using GPU 0 (NVIDIA A100-PCIE-40GB) of compute capability 8.0 with 42.4Gb total memory.\n",
      "\n"
     ]
    }
   ],
   "source": [
    "if torch.cuda.is_available():  \n",
    "  dev = \"cuda:0\" \n",
    "else:  \n",
    "  dev = \"cpu\"  \n",
    "device = torch.device(dev) \n",
    "\n",
    "if torch.cuda.is_available():\n",
    "   print (\"Cuda is available\")\n",
    "   device_id = torch.cuda.current_device()\n",
    "   gpu_properties = torch.cuda.get_device_properties(device_id)\n",
    "   print(\"Found %d GPUs available. Using GPU %d (%s) of compute capability %d.%d with \"\n",
    "          \"%.1fGb total memory.\\n\" % \n",
    "          (torch.cuda.device_count(),\n",
    "          device_id,\n",
    "          gpu_properties.name,\n",
    "          gpu_properties.major,\n",
    "          gpu_properties.minor,\n",
    "          gpu_properties.total_memory / 1e9))\n",
    "else:    \n",
    "   print (\"Cuda is not available\")"
   ]
  },
  {
   "cell_type": "markdown",
   "metadata": {
    "id": "vb6mWseD_dbW"
   },
   "source": [
    "# compound poisson gaussian"
   ]
  },
  {
   "cell_type": "code",
   "execution_count": 3,
   "metadata": {
    "id": "vNnha1vA_d1T"
   },
   "outputs": [],
   "source": [
    "\n",
    "#Initialization for multivariate gaussian parameters\n",
    "#parameter alpha is the location parameter, and beta is the covariance matrix/std parameter\n",
    "#the covariance parameter is estimated by the unbiased estimator\n",
    "\n",
    "def initialization_mvg(theta, data, corr):\n",
    "    \n",
    "  if corr == True:\n",
    "      #theta is a numerical value\n",
    "      #data should be the count matrix in tensor form\n",
    "      theta = torch.tensor(theta, device = dev)\n",
    "      alpha = torch.mean(data, dim=0)\n",
    "      beta = torch.cov(torch.transpose(data,0,1))\n",
    "\n",
    "\n",
    "\n",
    "      theta = theta.requires_grad_()\n",
    "      alpha = alpha.requires_grad_()\n",
    "      beta = beta.requires_grad_()\n",
    "\n",
    "  else:\n",
    "      #theta is a numerical value\n",
    "      #data should be the count matrix in tensor form\n",
    "      theta = torch.tensor(theta, device = dev)\n",
    "      alpha = torch.mean(data, dim=0)\n",
    "      var = torch.var(data, dim=0)\n",
    "      beta = torch.sqrt(var)\n",
    "\n",
    "\n",
    "      theta = theta.requires_grad_()\n",
    "      alpha = alpha.requires_grad_()\n",
    "      beta = beta.requires_grad_()\n",
    "  \n",
    "\n",
    "  \n",
    "  return theta, alpha, beta\n",
    "\n",
    "\n",
    "\n",
    "#log likelihood with logsumexp\n",
    "def loglik_mvg(N, theta, alpha, beta, decay, data, corr):\n",
    "\n",
    "  if corr == True:\n",
    "    \n",
    "      #N is the user estimated maximum number of cells in a droplet\n",
    "      #theta, alpha, and beta are outputs from initialization function\n",
    "      #data should be the count matrix in tensor form\n",
    "      poisson = torch.distributions.Poisson(theta)\n",
    "      list_k = torch.zeros(N,data.shape[0])\n",
    "      for k in range(N):\n",
    "        gaussian = torch.distributions.MultivariateNormal(alpha*(1+torch.tensor(k, device = dev)/(1+torch.exp(-decay))), torch.tensor(k+1, device = dev)*beta)\n",
    "        list_k[k] = gaussian.log_prob(data)+poisson.log_prob(torch.tensor([k], device = dev))\n",
    "\n",
    "      sum_k = torch.logsumexp(list_k,0)\n",
    "      l = torch.sum(sum_k, dtype = torch.float64)\n",
    "\n",
    "    \n",
    "  else: \n",
    "      #N is the user estimated maximum number of cells in a droplet\n",
    "      #theta, alpha, and beta are outputs from initialization function\n",
    "      #data should be the count matrix in tensor form\n",
    "      poisson = torch.distributions.Poisson(theta)\n",
    "      list_k = torch.zeros(N, data.shape[0], data.shape[1])\n",
    "      for k in range(N):\n",
    "        gaussian = torch.distributions.Normal(alpha*(1+torch.tensor(k, device = dev)/(1+torch.exp(-decay))), torch.tensor(k+1, device = dev)*beta)\n",
    "        list_k[k] = gaussian.log_prob(data)+poisson.log_prob(torch.tensor([k], device = dev))\n",
    "\n",
    "      sum_k = torch.logsumexp(list_k, 0)\n",
    "      l = torch.sum(sum_k, dtype = torch.float64)\n",
    "\n",
    "\n",
    "  return l\n",
    "\n",
    "def MLE_mvg(data, N=3, p=0.75, lr=0.02, tolerance = 15, corr = False):\n",
    "   #p is a numerical value, initial guess of singlet rate; this value doesn't have a big impact on parameter estimation\n",
    "   #data should be the count matrix in tensor form\n",
    "   #N is the user estimated maximum number of cells in a droplet\n",
    "   #tolerance controls how many steps we allow the loss not to improve\n",
    "\n",
    "    x = data\n",
    "    x.requires_grad_(False)  ## data\n",
    "\n",
    "    decay = torch.tensor(0.0, device = dev)\n",
    "    decay = decay.requires_grad_()\n",
    "\n",
    "    theta = -math.log(p)\n",
    "    theta, alpha, beta = initialization_mvg(theta, data, corr)\n",
    "    alpha0 = 0.5*torch.mean(alpha).to('cpu').detach().item()\n",
    "\n",
    "    parameters = [theta, alpha, beta, decay]\n",
    "\n",
    "    # Defines a SGD optimizer to update the parameters\n",
    "    #optimizer = optim.SGD(parameters, lr=lr) # not working\n",
    "    optimizer = optim.Adam(parameters, lr=lr, eps = 1e-6, weight_decay=0.1)\n",
    "    #optimizer = optim.Rprop(parameters, lr=lr)\n",
    "    #NLL_0 = -loglik_mvg(N, theta, alpha, beta, decay, x)\n",
    "    l = []\n",
    "    singlet_rate = []\n",
    "\n",
    "    \n",
    "    for i in range(10000):\n",
    "        NLL = -loglik_mvg(N, theta, alpha, beta, decay, x, corr)\n",
    "        if i % 200 == 0:\n",
    "            if i%1000 == 0:\n",
    "                pass\n",
    "                #print(\"neg loglik  =\", i, NLL.data, theta.data, decay.data)\n",
    "            l.append(NLL.to('cpu').detach())\n",
    "            singlet_rate.append(torch.tensor([-theta]).exp())\n",
    "            if len(l) > 2:\n",
    "              if (l[-2] - l[-1]) < 0.01*(l[0] - l[1]):\n",
    "                tolerance = tolerance - 1\n",
    "        if tolerance == 0:\n",
    "          break\n",
    "\n",
    "        NLL.backward()\n",
    "        optimizer.step()\n",
    "        optimizer.zero_grad()\n",
    "        theta.data.clamp_(0.01, 1.0)\n",
    "        decay.data.clamp_(-10, 10)\n",
    "        alpha.data.clamp_(min = 0)\n",
    "        beta.data.clamp_(min = 0)\n",
    "        \n",
    "\n",
    "\n",
    "    return theta, alpha, beta, decay, l, singlet_rate\n"
   ]
  },
  {
   "cell_type": "code",
   "execution_count": 4,
   "metadata": {
    "id": "yFs1S2npd_PJ"
   },
   "outputs": [],
   "source": [
    "\n",
    "\n",
    "def log_joint_one_k(data, theta, alpha, beta, decay, k0, corr):\n",
    "    \n",
    "  if corr == True:\n",
    "      #k0 starts from 0, same interpretation as the k0 in the derivation\n",
    "      alpha = alpha.to('cpu').detach().numpy()\n",
    "      beta = beta.to('cpu').detach().numpy()\n",
    "      data = data.to('cpu').numpy()\n",
    "      theta = theta.to('cpu').detach().numpy()\n",
    "      decay = decay.to('cpu').detach().numpy()\n",
    "\n",
    "      alpha = alpha*(1+k0/(1+np.exp(-decay)))\n",
    "\n",
    "      log_conditional = np.log(multivariate_normal.pdf(data, mean=alpha, cov=beta)+1e-320) \n",
    "      log_joint = log_conditional + np.log(poisson.pmf(k0, theta))\n",
    "\n",
    "    \n",
    "  else:\n",
    "      #k0 starts from 0, same interpretation as the k0 in the derivation\n",
    "      alpha = alpha.to('cpu').detach().numpy()\n",
    "      beta = beta.to('cpu').detach().numpy()\n",
    "      data = data.to('cpu').numpy()\n",
    "      theta = theta.to('cpu').detach().numpy()\n",
    "      decay = decay.to('cpu').detach().numpy()\n",
    "\n",
    "      alpha = alpha*(1+k0/(1+np.exp(-decay)))\n",
    "\n",
    "      log_conditional = np.log(norm.pdf(data, loc=alpha, scale=beta)+1e-320) #add a small value to avoid log(0)\n",
    "      sum_gene = np.sum(log_conditional, axis = 1)\n",
    "      log_joint = sum_gene + np.log(poisson.pmf(k0, theta))\n",
    "      var_by_cell = np.var(np.exp(log_conditional), axis = 1)\n",
    "\n",
    "  return log_joint\n",
    "\n",
    "def prob_k0(data, theta, alpha, beta, decay, k0, k=3, corr = False):\n",
    "  log_joint_k0 = log_joint_one_k(data, theta, alpha, beta, decay, k0, corr)\n",
    "\n",
    "  one_ks = np.ones((data.shape[0],k))\n",
    "  for i in np.arange(k):\n",
    "    one_ks[:,i] = log_joint_one_k(data, theta, alpha, beta, decay, i, corr)\n",
    "  \n",
    "  logsumexp_ks = special.logsumexp(one_ks, axis = 1)\n",
    "  log_prob = log_joint_k0 - logsumexp_ks\n",
    "  log_prob = log_prob.astype('float128')\n",
    "  prob = np.exp(log_prob, dtype=np.float128)\n",
    "\n",
    "\n",
    "  return prob\n",
    "\n",
    "def reliability(data, theta, alpha, beta, decay, k=3,corr = False):\n",
    "    \n",
    "    if corr == True:\n",
    "        beta = torch.diagonal(beta, 0)\n",
    "        beta = torch.sqrt(beta)\n",
    "    \n",
    "        prob_singlet = prob_k0(small_stable, theta, alpha, beta, decay, 0, k, corr = True)\n",
    "        prob_doublet = 1-prob_singlet\n",
    "        pred = np.where(prob_doublet > 0.5, True, False)\n",
    "        \n",
    "    else:\n",
    "        prob_singlet = prob_k0(small_stable, theta, alpha, beta, decay, 0, k)\n",
    "        prob_doublet = 1-prob_singlet\n",
    "        pred = np.where(prob_doublet > 0.5, True, False)\n",
    "    \n",
    "    alpha = alpha.to('cpu').detach().numpy()\n",
    "    beta = beta.to('cpu').detach().numpy()\n",
    "    data = small_stable.to('cpu').numpy()\n",
    "    theta = theta.to('cpu').detach().numpy()\n",
    "    decay = decay.to('cpu').detach().numpy()\n",
    "      \n",
    "    one_ks = np.ones((data.shape[0], data.shape[1], k))\n",
    "    for i in np.arange(k):\n",
    "        alpha_k = alpha*(1+i/(1+np.exp(-decay)))\n",
    "        one_ks[:,:,i] = np.log(norm.pdf(data, loc=alpha_k, scale=beta)+1e-320)\n",
    "\n",
    "    reliability = 1 - (np.exp(one_ks[:,:,0]-special.logsumexp(one_ks, axis = 2))) #probability of doublets predicted by individual feature\n",
    "\n",
    "    #if individual feature prediction result is the same as result by all features, then record as 1. otherwise record as 0\n",
    "    #then, calculate proportion of features that can individually provide correct prediction\n",
    "    reliability[pred,:]=np.where(reliability[pred,:] > 0.5, 1, 0) #predicted doublets\n",
    "    reliability[list(map(operator.not_, pred)),:]=np.where(reliability[list(map(operator.not_, pred)),:] < 0.5, 1, 0)\n",
    "\n",
    "    reliability = np.sum(reliability, axis = 1)/data.shape[1]\n",
    "\n",
    "    result = np.zeros((2, data.shape[0]))\n",
    "    result[0,:] = reliability\n",
    "    result[1,:] = np.where(reliability <= 0.5, 1, 0) #flags the cells whose prediction is subject to outliers\n",
    "    \n",
    "\n",
    "    return result\n",
    "\n",
    "def adt_fit_goodness(data, alpha, beta, theta, decay, k=3, corr=False):\n",
    "    \n",
    "    if corr == True:\n",
    "        beta = torch.diagonal(beta, 0)\n",
    "        beta = torch.sqrt(beta)\n",
    "    \n",
    "    data = torch.round(data)\n",
    "    data = data.int()\n",
    "    data = data.to('cpu').numpy()\n",
    "    alpha = alpha.to('cpu').detach().numpy()\n",
    "    beta = beta.to('cpu').detach().numpy()\n",
    "    theta = theta.to('cpu').detach().numpy()\n",
    "    decay = decay.to('cpu').detach().numpy()\n",
    "    \n",
    "    empirical = np.apply_along_axis(lambda x: np.bincount(x, minlength=np.max(data)+1), axis=0, arr=data)\n",
    "    empirical_dist = empirical/data.shape[0]\n",
    "    empirical_dist #each column is the empirical distribution of a gene\n",
    "\n",
    "    for i in range(empirical_dist.shape[0]-1):\n",
    "        empirical_dist[i+1,] += empirical_dist[i,] #empirical cdf\n",
    "    \n",
    "    #calculate theoretical cdf below\n",
    "    grid = np.expand_dims(np.arange(0, empirical_dist.shape[0], 1, dtype=int)+0.0001,axis=1)\n",
    "    grid=np.repeat(grid, empirical_dist.shape[1], axis = 1)\n",
    "    one_ks = np.ones((grid.shape[0], grid.shape[1], k))\n",
    "\n",
    "    for i in np.arange(k):\n",
    "        alpha_k = alpha*(1+i/(1+np.exp(-decay)))\n",
    "        one_ks[:,:,i] = np.log(norm.cdf(grid, loc=alpha_k, scale=beta))+np.log(poisson.pmf(i, theta))\n",
    "\n",
    "    logsumexp_ks = special.logsumexp(one_ks, axis = 2)    \n",
    "    theoretical_dist = np.exp(logsumexp_ks)\n",
    "    \n",
    "    diff = np.abs(theoretical_dist-empirical_dist)\n",
    "    mean_ks = np.mean(np.amax(diff, axis = 0))\n",
    "    \n",
    "    return mean_ks\n",
    "\n",
    "def metrics(prediction, label, cut = 0.5):\n",
    "    \n",
    "    dichotomized = np.where(prediction > cut, 1, 0)\n",
    "    sensitivity = np.sum(dichotomized[label==1]==1)/dichotomized[label==1].shape[0]\n",
    "    specificity = np.sum(dichotomized[label==0]==0)/dichotomized[label==0].shape[0]\n",
    "    precision = np.sum(dichotomized[label==1]==1)/np.sum(dichotomized==1)\n",
    "    prop = np.sum(dichotomized==1)/label.shape[0]\n",
    "    f1 = 2*precision*sensitivity/(precision+sensitivity)\n",
    "    print(\"Predicted doublet proportion:\",prop)\n",
    "    print(\"Precision:\", precision)\n",
    "    print(\"f1 score:\", f1)\n",
    "    \n",
    "    return sensitivity, specificity"
   ]
  },
  {
   "cell_type": "markdown",
   "metadata": {
    "id": "9xKxPzTu7SYb"
   },
   "source": [
    "## PB-1 ADT"
   ]
  },
  {
   "cell_type": "code",
   "execution_count": 5,
   "metadata": {
    "colab": {
     "base_uri": "https://localhost:8080/",
     "height": 506
    },
    "id": "4rK7trQaTQiX",
    "outputId": "96149116-55ab-4f5e-bae4-ef3fba336f08"
   },
   "outputs": [
    {
     "name": "stdout",
     "output_type": "stream",
     "text": [
      "/ix1/wchen/Haoran/CPDD/ADT/20220215_1\n"
     ]
    }
   ],
   "source": [
    "%cd /ix1/wchen/Haoran/CPDD/ADT/20220215_1/\n",
    "stable = pd.read_csv(\"./ADT_stable50_cts.csv\")\n",
    "small_stable = stable.iloc[:, 1:17] #16 stable features\n"
   ]
  },
  {
   "cell_type": "code",
   "execution_count": 6,
   "metadata": {},
   "outputs": [],
   "source": [
    "small_stable = torch.tensor(small_stable.values, device = dev) \n",
    "small_stable = small_stable.double() \n",
    "small_stable = small_stable + torch.tensor([0.0001], device = dev)"
   ]
  },
  {
   "cell_type": "code",
   "execution_count": 7,
   "metadata": {
    "colab": {
     "base_uri": "https://localhost:8080/"
    },
    "id": "0nW3X9HJYiqt",
    "outputId": "4686c4a5-f8f4-4165-d770-cec80bd06a62"
   },
   "outputs": [
    {
     "name": "stderr",
     "output_type": "stream",
     "text": [
      "/ihome/crc/install/cuda-11.3/pytorch/1.11.0_gpu/python3.8/lib/python3.8/site-packages/torch/distributions/poisson.py:63: UserWarning: Specified kernel cache directory could not be created! This disables kernel caching. Specified directory is /ihome/wchen/hah112/.cache/torch/kernels. This warning will appear only once per process. (Triggered internally at  /opt/conda/conda-bld/pytorch_1646755903507/work/aten/src/ATen/native/cuda/jit_utils.cpp:860.)\n",
      "  return value.xlogy(rate) - rate - (value + 1).lgamma()\n"
     ]
    }
   ],
   "source": [
    "theta,alpha,beta,decay, loss_075,p_075 = MLE_mvg(small_stable)"
   ]
  },
  {
   "cell_type": "code",
   "execution_count": 8,
   "metadata": {},
   "outputs": [
    {
     "data": {
      "text/plain": [
       "0.17749397007447112"
      ]
     },
     "execution_count": 8,
     "metadata": {},
     "output_type": "execute_result"
    }
   ],
   "source": [
    "weight = adt_fit_goodness(small_stable, alpha, beta, theta, decay)\n",
    "weight"
   ]
  },
  {
   "cell_type": "code",
   "execution_count": 9,
   "metadata": {},
   "outputs": [],
   "source": [
    "reliability_table = reliability(small_stable, theta, alpha, beta, decay)"
   ]
  },
  {
   "cell_type": "code",
   "execution_count": 10,
   "metadata": {
    "colab": {
     "base_uri": "https://localhost:8080/",
     "height": 448
    },
    "id": "oOSkLovrYlrg",
    "outputId": "638f348d-ec60-4d07-e5cf-5f8659eec442"
   },
   "outputs": [
    {
     "name": "stdout",
     "output_type": "stream",
     "text": [
      "0.750225550017281\n"
     ]
    },
    {
     "data": {
      "image/png": "[encoded data removed]",
      "text/plain": [
       "<Figure size 432x288 with 1 Axes>"
      ]
     },
     "metadata": {
      "needs_background": "light"
     },
     "output_type": "display_data"
    }
   ],
   "source": [
    "prob_singlet = prob_k0(small_stable, theta, alpha, beta, decay, 0, k=3)\n",
    "prob_doublet = 1-prob_singlet\n",
    "\n",
    "doublet = pd.read_csv(\"./doublet.csv\")\n",
    "doublet = doublet.iloc[:, 5]\n",
    "\n",
    "precision, recall, thresholds = precision_recall_curve(doublet.to_numpy(), prob_doublet)\n",
    "auc_precision_recall = auc(recall, precision)\n",
    "print(auc_precision_recall)\n",
    "plt.plot(recall, precision)\n",
    "plt.show()"
   ]
  },
  {
   "cell_type": "code",
   "execution_count": 11,
   "metadata": {},
   "outputs": [
    {
     "name": "stdout",
     "output_type": "stream",
     "text": [
      "Predicted doublet proportion: 0.25097380279538684\n",
      "Precision: 0.6710286062081559\n",
      "f1 score: 0.726643598615917\n"
     ]
    }
   ],
   "source": [
    "sen, spe = metrics(prob_doublet, doublet, cut = 0.5)"
   ]
  },
  {
   "cell_type": "code",
   "execution_count": 12,
   "metadata": {
    "id": "QbPQQ8soBKdS"
   },
   "outputs": [],
   "source": [
    "doublet_prediction = pd.DataFrame(prob_doublet, columns = ['prob_doublet'])\n",
    "doublet_prediction.index.name = 'index'\n",
    "doublet_prediction.reset_index(inplace=True)\n",
    "#doublet_prediction = doublet_prediction.sort_values(\"prob_doublet\", ascending = False)\n",
    "#doublet_prediction\n",
    "doublet_prediction.to_csv('doublet_20220215_1_adt.csv',index=False)"
   ]
  },
  {
   "cell_type": "code",
   "execution_count": 13,
   "metadata": {},
   "outputs": [],
   "source": [
    "data = {'reliability': reliability_table[0,:]/weight,\n",
    "        'flag': reliability_table[1,:]}\n",
    "  \n",
    "# Create DataFrame\n",
    "reliability_file = pd.DataFrame(data)\n",
    "reliability_file.index.name = 'index'\n",
    "reliability_file.reset_index(inplace=True)\n",
    "#doublet_prediction = doublet_prediction.sort_values(\"prob_doublet\", ascending = False)\n",
    "#doublet_prediction\n",
    "reliability_file.to_csv('reliability_20220215_1_adt.csv',index=False)"
   ]
  },
  {
   "cell_type": "code",
   "execution_count": 14,
   "metadata": {
    "id": "p4UMCsulq2_j"
   },
   "outputs": [],
   "source": [
    "prob_singlet = prob_k0(small_stable, theta, alpha, beta, decay, 0, k=3)\n",
    "prob_doublet = prob_k0(small_stable, theta, alpha, beta, decay, 1, k=3)\n",
    "prob_triplet = prob_k0(small_stable, theta, alpha, beta, decay, 2, k=3)\n",
    "data = {'singlet': prob_singlet,\n",
    "        'doublet': prob_doublet,\n",
    "        'triplet': prob_triplet}\n",
    "  \n",
    "# Create DataFrame\n",
    "doublet_prediction = pd.DataFrame(data)\n",
    "doublet_prediction.index.name = 'index'\n",
    "doublet_prediction.reset_index(inplace=True)\n",
    "#doublet_prediction = doublet_prediction.sort_values(\"prob_doublet\", ascending = False)\n",
    "#doublet_prediction\n",
    "doublet_prediction.to_csv('All_20220215_1_3.0.csv',index=False)"
   ]
  },
  {
   "cell_type": "markdown",
   "metadata": {},
   "source": [
    "## PB-1 RNA+ADT"
   ]
  },
  {
   "cell_type": "code",
   "execution_count": 15,
   "metadata": {},
   "outputs": [],
   "source": [
    "adt_doublet = pd.read_csv(\"/ix1/wchen/Haoran/CPDD/ADT/20220215_1/doublet_20220215_1_adt.csv\")\n",
    "rna_doublet = pd.read_csv(\"/ix1/wchen/Haoran/CPDD/RNA/20220215_1/doublet_20220215_1_rna.csv\")\n",
    "adt_reliability = pd.read_csv(\"/ix1/wchen/Haoran/CPDD/ADT/20220215_1/reliability_20220215_1_adt.csv\")\n",
    "rna_reliability = pd.read_csv(\"/ix1/wchen/Haoran/CPDD/RNA/20220215_1/reliability_20220215_1_rna.csv\")\n",
    "doublet = pd.read_csv(\"/ix1/wchen/Haoran/CPDD/ADT/20220215_1/doublet.csv\")\n",
    "\n",
    "adt_doublet = adt_doublet.iloc[:, 1].to_numpy()\n",
    "rna_doublet = rna_doublet.iloc[:, 1].to_numpy()\n",
    "adt_reliability = adt_reliability.iloc[:,1].to_numpy()\n",
    "rna_reliability = rna_reliability.iloc[:,1].to_numpy()\n",
    "doublet = doublet.iloc[:, 5].to_numpy()\n"
   ]
  },
  {
   "cell_type": "code",
   "execution_count": 16,
   "metadata": {},
   "outputs": [],
   "source": [
    "reliability_joint = np.stack((adt_reliability, rna_reliability))\n",
    "reliability_joint[1,:] = reliability_joint[1,:]\n",
    "reliability_joint = special.softmax(reliability_joint, axis = 0)"
   ]
  },
  {
   "cell_type": "code",
   "execution_count": 17,
   "metadata": {},
   "outputs": [
    {
     "name": "stdout",
     "output_type": "stream",
     "text": [
      "0.8146110937615043\n"
     ]
    },
    {
     "data": {
      "image/png": "[encoded data removed]",
      "text/plain": [
       "<Figure size 432x288 with 1 Axes>"
      ]
     },
     "metadata": {
      "needs_background": "light"
     },
     "output_type": "display_data"
    }
   ],
   "source": [
    "combined_prediction = reliability_joint[0,:]*adt_doublet + reliability_joint[1,:]*rna_doublet\n",
    "doublet = pd.read_csv(\"./doublet.csv\")\n",
    "doublet = doublet.iloc[:, 5]\n",
    "\n",
    "\n",
    "precision, recall, thresholds = precision_recall_curve(doublet.to_numpy(), combined_prediction)\n",
    "auc_precision_recall = auc(recall, precision)\n",
    "print(auc_precision_recall)\n",
    "plt.plot(recall, precision)\n",
    "plt.show()"
   ]
  },
  {
   "cell_type": "code",
   "execution_count": 18,
   "metadata": {},
   "outputs": [
    {
     "name": "stdout",
     "output_type": "stream",
     "text": [
      "Predicted doublet proportion: 0.2749560834033453\n",
      "Precision: 0.675\n",
      "f1 score: 0.76139746200846\n"
     ]
    }
   ],
   "source": [
    "sen, spe = metrics(combined_prediction, doublet, cut = 0.5)"
   ]
  },
  {
   "cell_type": "markdown",
   "metadata": {
    "id": "85MjUaDA7Bkk"
   },
   "source": [
    "## PB-2 ADT"
   ]
  },
  {
   "cell_type": "code",
   "execution_count": 19,
   "metadata": {
    "colab": {
     "base_uri": "https://localhost:8080/"
    },
    "id": "SwB0uCcD7VVg",
    "outputId": "5d103f74-749c-4eaf-ebf1-3e494cc5e8d5"
   },
   "outputs": [
    {
     "name": "stdout",
     "output_type": "stream",
     "text": [
      "/ix1/wchen/Haoran/CPDD/ADT/20220215_2\n"
     ]
    }
   ],
   "source": [
    "%cd /ix1/wchen/Haoran/CPDD/ADT/20220215_2/\n",
    "stable = pd.read_csv(\"./ADT_stable50_cts.csv\")\n",
    "small_stable = stable.iloc[:, 1:17] #16 stable features\n",
    "\n",
    "small_stable = torch.tensor(small_stable.values, device = dev)\n",
    "small_stable = small_stable.double()\n",
    "small_stable = small_stable + torch.tensor([0.0001], device = dev)\n",
    "\n",
    "\n",
    "theta,alpha,beta,decay, loss_075,p_075 = MLE_mvg(small_stable)"
   ]
  },
  {
   "cell_type": "code",
   "execution_count": 20,
   "metadata": {},
   "outputs": [
    {
     "data": {
      "text/plain": [
       "0.16193015462577284"
      ]
     },
     "execution_count": 20,
     "metadata": {},
     "output_type": "execute_result"
    }
   ],
   "source": [
    "weight = adt_fit_goodness(small_stable, alpha, beta, theta, decay)\n",
    "weight"
   ]
  },
  {
   "cell_type": "code",
   "execution_count": 21,
   "metadata": {
    "colab": {
     "base_uri": "https://localhost:8080/",
     "height": 448
    },
    "id": "dQh5sWm07n5J",
    "outputId": "58fd4db4-e880-4771-f587-8ac88f607c3b"
   },
   "outputs": [
    {
     "name": "stdout",
     "output_type": "stream",
     "text": [
      "0.7362341146683002\n"
     ]
    },
    {
     "data": {
      "image/png": "[encoded data removed]",
      "text/plain": [
       "<Figure size 432x288 with 1 Axes>"
      ]
     },
     "metadata": {
      "needs_background": "light"
     },
     "output_type": "display_data"
    }
   ],
   "source": [
    "prob_singlet = prob_k0(small_stable, theta, alpha, beta, decay, 0, k=3)\n",
    "prob_doublet = 1-prob_singlet\n",
    "\n",
    "doublet = pd.read_csv(\"./doublet.csv\")\n",
    "doublet = doublet.iloc[:, 5]\n",
    "prob_doublet = np.nan_to_num(prob_doublet, nan=1.0)\n",
    "\n",
    "precision, recall, thresholds = precision_recall_curve(doublet.to_numpy(), prob_doublet)\n",
    "auc_precision_recall = auc(recall, precision)\n",
    "print(auc_precision_recall)\n",
    "plt.plot(recall, precision)\n",
    "plt.show()"
   ]
  },
  {
   "cell_type": "code",
   "execution_count": 22,
   "metadata": {},
   "outputs": [
    {
     "name": "stdout",
     "output_type": "stream",
     "text": [
      "Predicted doublet proportion: 0.24255788313120177\n",
      "Precision: 0.6747159090909091\n",
      "f1 score: 0.7379213919527731\n"
     ]
    }
   ],
   "source": [
    "sen, spe = metrics(prob_doublet, doublet, cut = 0.5)"
   ]
  },
  {
   "cell_type": "code",
   "execution_count": 23,
   "metadata": {
    "id": "5dPKX6ci7wm8"
   },
   "outputs": [],
   "source": [
    "doublet_prediction = pd.DataFrame(prob_doublet, columns = ['prob_doublet'])\n",
    "doublet_prediction.index.name = 'index'\n",
    "doublet_prediction.reset_index(inplace=True)\n",
    "\n",
    "doublet_prediction.to_csv('doublet_20220215_2_adt.csv',index=False)"
   ]
  },
  {
   "cell_type": "code",
   "execution_count": 24,
   "metadata": {},
   "outputs": [],
   "source": [
    "reliability_table = reliability(small_stable, theta, alpha, beta, decay)\n",
    "data = {'reliability': reliability_table[0,:]/weight,\n",
    "        'flag': reliability_table[1,:]}\n",
    "  \n",
    "# Create DataFrame\n",
    "reliability_file = pd.DataFrame(data)\n",
    "reliability_file.index.name = 'index'\n",
    "reliability_file.reset_index(inplace=True)\n",
    "#doublet_prediction = doublet_prediction.sort_values(\"prob_doublet\", ascending = False)\n",
    "#doublet_prediction\n",
    "reliability_file.to_csv('reliability_20220215_2_adt.csv',index=False)"
   ]
  },
  {
   "cell_type": "code",
   "execution_count": 25,
   "metadata": {
    "id": "85c8DrGIuyFF"
   },
   "outputs": [],
   "source": [
    "prob_singlet = prob_k0(small_stable, theta, alpha, beta, decay, 0, k=3)\n",
    "prob_doublet = prob_k0(small_stable, theta, alpha, beta, decay, 1, k=3)\n",
    "prob_triplet = prob_k0(small_stable, theta, alpha, beta, decay, 2, k=3)\n",
    "data = {'singlet': prob_singlet,\n",
    "        'doublet': prob_doublet,\n",
    "        'triplet': prob_triplet}\n",
    "  \n",
    "# Create DataFrame\n",
    "doublet_prediction = pd.DataFrame(data)\n",
    "doublet_prediction.index.name = 'index'\n",
    "doublet_prediction.reset_index(inplace=True)\n",
    "#doublet_prediction = doublet_prediction.sort_values(\"prob_doublet\", ascending = False)\n",
    "#doublet_prediction\n",
    "doublet_prediction.to_csv('All_20220215_2_3.0.csv',index=False)"
   ]
  },
  {
   "cell_type": "markdown",
   "metadata": {},
   "source": [
    "## PB-2 RNA+ADT"
   ]
  },
  {
   "cell_type": "code",
   "execution_count": 26,
   "metadata": {},
   "outputs": [],
   "source": [
    "adt_doublet = pd.read_csv(\"/ix1/wchen/Haoran/CPDD/ADT/20220215_2/doublet_20220215_2_adt.csv\")\n",
    "rna_doublet = pd.read_csv(\"/ix1/wchen/Haoran/CPDD/RNA/20220215_2/doublet_20220215_2_rna.csv\")\n",
    "adt_reliability = pd.read_csv(\"/ix1/wchen/Haoran/CPDD/ADT/20220215_2/reliability_20220215_2_adt.csv\")\n",
    "rna_reliability = pd.read_csv(\"/ix1/wchen/Haoran/CPDD/RNA/20220215_2/reliability_20220215_2_rna.csv\")\n",
    "doublet = pd.read_csv(\"/ix1/wchen/Haoran/CPDD/ADT/20220215_2/doublet.csv\")\n",
    "\n",
    "adt_doublet = adt_doublet.iloc[:, 1].to_numpy()\n",
    "rna_doublet = rna_doublet.iloc[:, 1].to_numpy()\n",
    "adt_reliability = adt_reliability.iloc[:,1].to_numpy()\n",
    "rna_reliability = rna_reliability.iloc[:,1].to_numpy()\n",
    "doublet = doublet.iloc[:, 5].to_numpy()\n",
    "\n",
    "reliability_joint = np.stack((adt_reliability, rna_reliability))\n",
    "reliability_joint = special.softmax(reliability_joint, axis = 0)"
   ]
  },
  {
   "cell_type": "code",
   "execution_count": 27,
   "metadata": {},
   "outputs": [
    {
     "name": "stdout",
     "output_type": "stream",
     "text": [
      "0.795866988396913\n"
     ]
    },
    {
     "data": {
      "image/png": "[encoded data removed]",
      "text/plain": [
       "<Figure size 432x288 with 1 Axes>"
      ]
     },
     "metadata": {
      "needs_background": "light"
     },
     "output_type": "display_data"
    }
   ],
   "source": [
    "combined_prediction = reliability_joint[0,:]*adt_doublet + reliability_joint[1,:]*rna_doublet\n",
    "doublet = pd.read_csv(\"./doublet.csv\")\n",
    "doublet = doublet.iloc[:, 5]\n",
    "#prob_doublet = np.nan_to_num(prob_doublet, nan=1.0)\n",
    "#prob_doublet,  = prob_doublet[1201:3201]\n",
    "\n",
    "precision, recall, thresholds = precision_recall_curve(doublet.to_numpy(), combined_prediction)\n",
    "auc_precision_recall = auc(recall, precision)\n",
    "print(auc_precision_recall)\n",
    "plt.plot(recall, precision)\n",
    "plt.show()"
   ]
  },
  {
   "cell_type": "code",
   "execution_count": 28,
   "metadata": {},
   "outputs": [
    {
     "name": "stdout",
     "output_type": "stream",
     "text": [
      "Predicted doublet proportion: 0.2861769570011025\n",
      "Precision: 0.6342403082109318\n",
      "f1 score: 0.745120226308345\n"
     ]
    }
   ],
   "source": [
    "sen, spe = metrics(combined_prediction, doublet, cut = 0.5)"
   ]
  },
  {
   "cell_type": "markdown",
   "metadata": {
    "id": "0epoM9gV70YV"
   },
   "source": [
    "## PB-3 ADT"
   ]
  },
  {
   "cell_type": "code",
   "execution_count": 29,
   "metadata": {
    "colab": {
     "base_uri": "https://localhost:8080/"
    },
    "id": "gworVdpO74Qb",
    "outputId": "2df839e1-98cb-4796-b7f2-9816cf57dbc1"
   },
   "outputs": [
    {
     "name": "stdout",
     "output_type": "stream",
     "text": [
      "/ix1/wchen/Haoran/CPDD/ADT/20220218_1\n"
     ]
    }
   ],
   "source": [
    "%cd /ix1/wchen/Haoran/CPDD/ADT/20220218_1/\n",
    "stable = pd.read_csv(\"./ADT_stable50_cts.csv\")\n",
    "small_stable = stable.iloc[:, 1:17] #16 stable features\n",
    "\n",
    "small_stable = torch.tensor(small_stable.values, device = dev)\n",
    "small_stable = small_stable.double()\n",
    "small_stable = small_stable + torch.tensor([0.0001], device = dev)\n",
    "\n",
    "\n",
    "theta,alpha,beta,decay, loss_075,p_075 = MLE_mvg(small_stable)"
   ]
  },
  {
   "cell_type": "code",
   "execution_count": 30,
   "metadata": {},
   "outputs": [
    {
     "data": {
      "text/plain": [
       "0.1879028690185906"
      ]
     },
     "execution_count": 30,
     "metadata": {},
     "output_type": "execute_result"
    }
   ],
   "source": [
    "weight = adt_fit_goodness(small_stable, alpha, beta, theta, decay)\n",
    "weight"
   ]
  },
  {
   "cell_type": "code",
   "execution_count": 31,
   "metadata": {
    "colab": {
     "base_uri": "https://localhost:8080/",
     "height": 448
    },
    "id": "soQ9yrNz8Ear",
    "outputId": "bc83f79b-a98e-463e-af35-852f901eeea1"
   },
   "outputs": [
    {
     "name": "stdout",
     "output_type": "stream",
     "text": [
      "0.7356642273385636\n"
     ]
    },
    {
     "data": {
      "image/png": "[encoded data removed]",
      "text/plain": [
       "<Figure size 432x288 with 1 Axes>"
      ]
     },
     "metadata": {
      "needs_background": "light"
     },
     "output_type": "display_data"
    }
   ],
   "source": [
    "prob_singlet = prob_k0(small_stable, theta, alpha, beta, decay, 0, k=3)\n",
    "prob_doublet = 1-prob_singlet\n",
    "\n",
    "doublet = pd.read_csv(\"./doublet.csv\")\n",
    "doublet = doublet.iloc[:, 5]\n",
    "prob_doublet = np.nan_to_num(prob_doublet, nan=1.0)\n",
    "\n",
    "precision, recall, thresholds = precision_recall_curve(doublet.to_numpy(), prob_doublet)\n",
    "auc_precision_recall = auc(recall, precision)\n",
    "print(auc_precision_recall)\n",
    "plt.plot(recall, precision)\n",
    "plt.show()"
   ]
  },
  {
   "cell_type": "code",
   "execution_count": 32,
   "metadata": {},
   "outputs": [
    {
     "name": "stdout",
     "output_type": "stream",
     "text": [
      "Predicted doublet proportion: 0.20611047413502395\n",
      "Precision: 0.7277486910994765\n",
      "f1 score: 0.6916498211786659\n"
     ]
    }
   ],
   "source": [
    "sen, spe = metrics(prob_doublet, doublet, cut = 0.5)"
   ]
  },
  {
   "cell_type": "code",
   "execution_count": 33,
   "metadata": {
    "id": "U3vxHqzu8GkJ"
   },
   "outputs": [],
   "source": [
    "doublet_prediction = pd.DataFrame(prob_doublet, columns = ['prob_doublet'])\n",
    "doublet_prediction.index.name = 'index'\n",
    "doublet_prediction.reset_index(inplace=True)\n",
    "#doublet_prediction = doublet_prediction.sort_values(\"prob_doublet\", ascending = False)\n",
    "#doublet_prediction\n",
    "doublet_prediction.to_csv('doublet_20220218_1_adt.csv',index=False)"
   ]
  },
  {
   "cell_type": "code",
   "execution_count": 34,
   "metadata": {},
   "outputs": [],
   "source": [
    "reliability_table = reliability(small_stable, theta, alpha, beta, decay)\n",
    "data = {'reliability': reliability_table[0,:]/weight,\n",
    "        'flag': reliability_table[1,:]}\n",
    "  \n",
    "# Create DataFrame\n",
    "reliability_file = pd.DataFrame(data)\n",
    "reliability_file.index.name = 'index'\n",
    "reliability_file.reset_index(inplace=True)\n",
    "#doublet_prediction = doublet_prediction.sort_values(\"prob_doublet\", ascending = False)\n",
    "#doublet_prediction\n",
    "reliability_file.to_csv('reliability_20220218_1_adt.csv',index=False)"
   ]
  },
  {
   "cell_type": "code",
   "execution_count": 35,
   "metadata": {
    "id": "VcOsx9Giu3Rx"
   },
   "outputs": [],
   "source": [
    "prob_singlet = prob_k0(small_stable, theta, alpha, beta, decay, 0, k=3)\n",
    "prob_doublet = prob_k0(small_stable, theta, alpha, beta, decay, 1, k=3)\n",
    "prob_triplet = prob_k0(small_stable, theta, alpha, beta, decay, 2, k=3)\n",
    "data = {'singlet': prob_singlet,\n",
    "        'doublet': prob_doublet,\n",
    "        'triplet': prob_triplet}\n",
    "  \n",
    "# Create DataFrame\n",
    "doublet_prediction = pd.DataFrame(data)\n",
    "doublet_prediction.index.name = 'index'\n",
    "doublet_prediction.reset_index(inplace=True)\n",
    "#doublet_prediction = doublet_prediction.sort_values(\"prob_doublet\", ascending = False)\n",
    "#doublet_prediction\n",
    "doublet_prediction.to_csv('All_20220218_1_3.0.csv',index=False)"
   ]
  },
  {
   "cell_type": "markdown",
   "metadata": {},
   "source": [
    "## PB-3 RNA+ADT"
   ]
  },
  {
   "cell_type": "code",
   "execution_count": 36,
   "metadata": {},
   "outputs": [],
   "source": [
    "adt_doublet = pd.read_csv(\"/ix1/wchen/Haoran/CPDD/ADT/20220218_1/doublet_20220218_1_adt.csv\")\n",
    "rna_doublet = pd.read_csv(\"/ix1/wchen/Haoran/CPDD/RNA/20220218_1/doublet_20220218_1_rna.csv\")\n",
    "adt_reliability = pd.read_csv(\"/ix1/wchen/Haoran/CPDD/ADT/20220218_1/reliability_20220218_1_adt.csv\")\n",
    "rna_reliability = pd.read_csv(\"/ix1/wchen/Haoran/CPDD/RNA/20220218_1/reliability_20220218_1_rna.csv\")\n",
    "doublet = pd.read_csv(\"/ix1/wchen/Haoran/CPDD/ADT/20220218_1/doublet.csv\")\n",
    "\n",
    "adt_doublet = adt_doublet.iloc[:, 1].to_numpy()\n",
    "rna_doublet = rna_doublet.iloc[:, 1].to_numpy()\n",
    "adt_reliability = adt_reliability.iloc[:,1].to_numpy()\n",
    "rna_reliability = rna_reliability.iloc[:,1].to_numpy()\n",
    "doublet = doublet.iloc[:, 5].to_numpy()\n",
    "\n",
    "reliability_joint = np.stack((adt_reliability, rna_reliability))\n",
    "reliability_joint = special.softmax(reliability_joint, axis = 0)"
   ]
  },
  {
   "cell_type": "code",
   "execution_count": 37,
   "metadata": {},
   "outputs": [
    {
     "name": "stdout",
     "output_type": "stream",
     "text": [
      "0.7989098360117622\n"
     ]
    },
    {
     "data": {
      "image/png": "[encoded data removed]",
      "text/plain": [
       "<Figure size 432x288 with 1 Axes>"
      ]
     },
     "metadata": {
      "needs_background": "light"
     },
     "output_type": "display_data"
    }
   ],
   "source": [
    "combined_prediction = reliability_joint[0,:]*adt_doublet + reliability_joint[1,:]*rna_doublet\n",
    "doublet = pd.read_csv(\"./doublet.csv\")\n",
    "doublet = doublet.iloc[:, 5]\n",
    "\n",
    "\n",
    "precision, recall, thresholds = precision_recall_curve(doublet.to_numpy(), combined_prediction)\n",
    "auc_precision_recall = auc(recall, precision)\n",
    "print(auc_precision_recall)\n",
    "plt.plot(recall, precision)\n",
    "plt.show()"
   ]
  },
  {
   "cell_type": "code",
   "execution_count": 38,
   "metadata": {},
   "outputs": [
    {
     "name": "stdout",
     "output_type": "stream",
     "text": [
      "Predicted doublet proportion: 0.2760504485061037\n",
      "Precision: 0.7068165160029318\n",
      "f1 score: 0.7747723620782002\n"
     ]
    }
   ],
   "source": [
    "sen, spe = metrics(combined_prediction, doublet, cut = 0.5)"
   ]
  },
  {
   "cell_type": "markdown",
   "metadata": {
    "id": "wkOdUHje8Klt"
   },
   "source": [
    "## PB-4 ADT"
   ]
  },
  {
   "cell_type": "code",
   "execution_count": 39,
   "metadata": {
    "colab": {
     "base_uri": "https://localhost:8080/"
    },
    "id": "DiMOyfu38L5N",
    "outputId": "9abc2c8f-8d17-4f67-d022-5ce14087a8ae"
   },
   "outputs": [
    {
     "name": "stdout",
     "output_type": "stream",
     "text": [
      "/ix1/wchen/Haoran/CPDD/ADT/20220218_2\n"
     ]
    }
   ],
   "source": [
    "%cd /ix1/wchen/Haoran/CPDD/ADT/20220218_2/\n",
    "stable = pd.read_csv(\"./ADT_stable50_cts.csv\")\n",
    "small_stable = stable.iloc[:, 1:17] #300 stable features\n",
    "\n",
    "small_stable = torch.tensor(small_stable.values, device = dev)\n",
    "small_stable = small_stable.double()\n",
    "small_stable = small_stable + torch.tensor([0.0001], device = dev)\n",
    "\n",
    "\n",
    "theta,alpha,beta,decay, loss_075,p_075 = MLE_mvg(small_stable)"
   ]
  },
  {
   "cell_type": "code",
   "execution_count": 40,
   "metadata": {},
   "outputs": [
    {
     "data": {
      "text/plain": [
       "0.2071676138066635"
      ]
     },
     "execution_count": 40,
     "metadata": {},
     "output_type": "execute_result"
    }
   ],
   "source": [
    "weight = adt_fit_goodness(small_stable, alpha, beta, theta, decay)\n",
    "weight"
   ]
  },
  {
   "cell_type": "code",
   "execution_count": 41,
   "metadata": {
    "colab": {
     "base_uri": "https://localhost:8080/",
     "height": 448
    },
    "id": "-6WG7rC-8Qwt",
    "outputId": "84406284-166c-4126-f291-7ac5a99f7dcb"
   },
   "outputs": [
    {
     "name": "stdout",
     "output_type": "stream",
     "text": [
      "0.7058803315104962\n"
     ]
    },
    {
     "data": {
      "image/png": "[encoded data removed]",
      "text/plain": [
       "<Figure size 432x288 with 1 Axes>"
      ]
     },
     "metadata": {
      "needs_background": "light"
     },
     "output_type": "display_data"
    }
   ],
   "source": [
    "prob_singlet = prob_k0(small_stable, theta, alpha, beta, decay, 0, k=3)\n",
    "prob_doublet = 1-prob_singlet\n",
    "\n",
    "doublet = pd.read_csv(\"./doublet.csv\")\n",
    "doublet = doublet.iloc[:, 5]\n",
    "prob_doublet = np.nan_to_num(prob_doublet, nan=1.0)\n",
    "\n",
    "\n",
    "precision, recall, thresholds = precision_recall_curve(doublet.to_numpy(), prob_doublet)\n",
    "auc_precision_recall = auc(recall, precision)\n",
    "print(auc_precision_recall)\n",
    "plt.plot(recall, precision)\n",
    "plt.show()"
   ]
  },
  {
   "cell_type": "code",
   "execution_count": 42,
   "metadata": {},
   "outputs": [
    {
     "name": "stdout",
     "output_type": "stream",
     "text": [
      "Predicted doublet proportion: 0.19270864008481065\n",
      "Precision: 0.71179706601467\n",
      "f1 score: 0.6639110604332953\n"
     ]
    }
   ],
   "source": [
    "sen, spe = metrics(prob_doublet, doublet, cut = 0.5)"
   ]
  },
  {
   "cell_type": "code",
   "execution_count": 43,
   "metadata": {
    "id": "WZtqWUT48Sk5"
   },
   "outputs": [],
   "source": [
    "doublet_prediction = pd.DataFrame(prob_doublet, columns = ['prob_doublet'])\n",
    "doublet_prediction.index.name = 'index'\n",
    "doublet_prediction.reset_index(inplace=True)\n",
    "#doublet_prediction = doublet_prediction.sort_values(\"prob_doublet\", ascending = False)\n",
    "#doublet_prediction\n",
    "doublet_prediction.to_csv('doublet_20220218_2_adt.csv',index=False)"
   ]
  },
  {
   "cell_type": "code",
   "execution_count": 44,
   "metadata": {},
   "outputs": [],
   "source": [
    "reliability_table = reliability(small_stable, theta, alpha, beta, decay)\n",
    "data = {'reliability': reliability_table[0,:]/weight,\n",
    "        'flag': reliability_table[1,:]}\n",
    "  \n",
    "# Create DataFrame\n",
    "reliability_file = pd.DataFrame(data)\n",
    "reliability_file.index.name = 'index'\n",
    "reliability_file.reset_index(inplace=True)\n",
    "#doublet_prediction = doublet_prediction.sort_values(\"prob_doublet\", ascending = False)\n",
    "#doublet_prediction\n",
    "reliability_file.to_csv('reliability_20220218_2_adt.csv',index=False)"
   ]
  },
  {
   "cell_type": "code",
   "execution_count": 45,
   "metadata": {
    "id": "ShyXurjru6_k"
   },
   "outputs": [],
   "source": [
    "prob_singlet = prob_k0(small_stable, theta, alpha, beta, decay, 0, k=3)\n",
    "prob_doublet = prob_k0(small_stable, theta, alpha, beta, decay, 1, k=3)\n",
    "prob_triplet = prob_k0(small_stable, theta, alpha, beta, decay, 2, k=3)\n",
    "data = {'singlet': prob_singlet,\n",
    "        'doublet': prob_doublet,\n",
    "        'triplet': prob_triplet}\n",
    "  \n",
    "# Create DataFrame\n",
    "doublet_prediction = pd.DataFrame(data)\n",
    "doublet_prediction.index.name = 'index'\n",
    "doublet_prediction.reset_index(inplace=True)\n",
    "#doublet_prediction = doublet_prediction.sort_values(\"prob_doublet\", ascending = False)\n",
    "#doublet_prediction\n",
    "doublet_prediction.to_csv('All_20220218_2_3.0.csv',index=False)"
   ]
  },
  {
   "cell_type": "markdown",
   "metadata": {},
   "source": [
    "## PB-4 RNA+ADT"
   ]
  },
  {
   "cell_type": "code",
   "execution_count": 46,
   "metadata": {},
   "outputs": [],
   "source": [
    "adt_doublet = pd.read_csv(\"/ix1/wchen/Haoran/CPDD/ADT/20220218_2/doublet_20220218_2_adt.csv\")\n",
    "rna_doublet = pd.read_csv(\"/ix1/wchen/Haoran/CPDD/RNA/20220218_2/doublet_20220218_2_rna.csv\")\n",
    "adt_reliability = pd.read_csv(\"/ix1/wchen/Haoran/CPDD/ADT/20220218_2/reliability_20220218_2_adt.csv\")\n",
    "rna_reliability = pd.read_csv(\"/ix1/wchen/Haoran/CPDD/RNA/20220218_2/reliability_20220218_2_rna.csv\")\n",
    "doublet = pd.read_csv(\"/ix1/wchen/Haoran/CPDD/ADT/20220218_2/doublet.csv\")\n",
    "\n",
    "adt_doublet = adt_doublet.iloc[:, 1].to_numpy()\n",
    "rna_doublet = rna_doublet.iloc[:, 1].to_numpy()\n",
    "adt_reliability = adt_reliability.iloc[:,1].to_numpy()\n",
    "rna_reliability = rna_reliability.iloc[:,1].to_numpy()\n",
    "doublet = doublet.iloc[:, 5].to_numpy()\n",
    "\n",
    "reliability_joint = np.stack((adt_reliability, rna_reliability))\n",
    "reliability_joint = special.softmax(reliability_joint, axis = 0)"
   ]
  },
  {
   "cell_type": "code",
   "execution_count": 47,
   "metadata": {},
   "outputs": [
    {
     "name": "stdout",
     "output_type": "stream",
     "text": [
      "0.7548370838583119\n"
     ]
    },
    {
     "data": {
      "image/png": "[encoded data removed]",
      "text/plain": [
       "<Figure size 432x288 with 1 Axes>"
      ]
     },
     "metadata": {
      "needs_background": "light"
     },
     "output_type": "display_data"
    }
   ],
   "source": [
    "combined_prediction = reliability_joint[0,:]*adt_doublet + reliability_joint[1,:]*rna_doublet\n",
    "doublet = pd.read_csv(\"./doublet.csv\")\n",
    "doublet = doublet.iloc[:, 5]\n",
    "#prob_doublet = np.nan_to_num(prob_doublet, nan=1.0)\n",
    "#prob_doublet,  = prob_doublet[1201:3201]\n",
    "\n",
    "precision, recall, thresholds = precision_recall_curve(doublet.to_numpy(), combined_prediction)\n",
    "auc_precision_recall = auc(recall, precision)\n",
    "print(auc_precision_recall)\n",
    "plt.plot(recall, precision)\n",
    "plt.show()"
   ]
  },
  {
   "cell_type": "code",
   "execution_count": 48,
   "metadata": {},
   "outputs": [
    {
     "name": "stdout",
     "output_type": "stream",
     "text": [
      "Predicted doublet proportion: 0.25932033688674244\n",
      "Precision: 0.6897569838746309\n",
      "f1 score: 0.7455505093899595\n"
     ]
    }
   ],
   "source": [
    "sen, spe = metrics(combined_prediction, doublet, cut = 0.5)"
   ]
  },
  {
   "cell_type": "markdown",
   "metadata": {
    "id": "qEb8jscWUp1F"
   },
   "source": [
    "## Ileum-1 ADT"
   ]
  },
  {
   "cell_type": "code",
   "execution_count": 49,
   "metadata": {
    "colab": {
     "base_uri": "https://localhost:8080/"
    },
    "id": "Fmv9mKSpUtD2",
    "outputId": "8fab7b29-b2b4-4904-e92c-5db1d3366aaa"
   },
   "outputs": [
    {
     "name": "stdout",
     "output_type": "stream",
     "text": [
      "/ix1/wchen/Haoran/CPDD/ADT/20230124_1\n"
     ]
    }
   ],
   "source": [
    "%cd /ix1/wchen/Haoran/CPDD/ADT/20230124_1/\n",
    "stable = genfromtxt(\"./ADT_stable50_cts.csv\", delimiter=',')\n",
    "small_stable = stable[:,0:16] #16 stable features\n",
    "\n",
    "small_stable = torch.tensor(small_stable, device = dev)\n",
    "small_stable = small_stable.double()\n",
    "small_stable = small_stable + torch.tensor([0.0001], device = dev)\n",
    "\n",
    "\n",
    "theta,alpha,beta,decay, loss_075,p_075 = MLE_mvg(small_stable)"
   ]
  },
  {
   "cell_type": "code",
   "execution_count": 50,
   "metadata": {},
   "outputs": [
    {
     "data": {
      "text/plain": [
       "0.1643149606878026"
      ]
     },
     "execution_count": 50,
     "metadata": {},
     "output_type": "execute_result"
    }
   ],
   "source": [
    "weight = adt_fit_goodness(small_stable, alpha, beta, theta, decay)\n",
    "weight"
   ]
  },
  {
   "cell_type": "code",
   "execution_count": 51,
   "metadata": {
    "colab": {
     "base_uri": "https://localhost:8080/",
     "height": 448
    },
    "id": "tK28W5ZNUzzR",
    "outputId": "61bdd6c9-513b-4d36-b6de-303cdd80722d"
   },
   "outputs": [
    {
     "name": "stdout",
     "output_type": "stream",
     "text": [
      "0.7073628894042571\n"
     ]
    },
    {
     "data": {
      "image/png": "[encoded data removed]",
      "text/plain": [
       "<Figure size 432x288 with 1 Axes>"
      ]
     },
     "metadata": {
      "needs_background": "light"
     },
     "output_type": "display_data"
    }
   ],
   "source": [
    "prob_singlet = prob_k0(small_stable, theta, alpha, beta, decay, 0, k=3)\n",
    "prob_doublet = 1-prob_singlet\n",
    "\n",
    "doublet = genfromtxt(\"./doublet.csv\", delimiter=',')\n",
    "doublet = doublet[1:, 1]\n",
    "#doublet = doublet.iloc[:, 1]\n",
    "prob_doublet = np.nan_to_num(prob_doublet, nan=1.0)\n",
    "\n",
    "\n",
    "precision, recall, thresholds = precision_recall_curve(doublet, prob_doublet)\n",
    "auc_precision_recall = auc(recall, precision)\n",
    "print(auc_precision_recall)\n",
    "plt.plot(recall, precision)\n",
    "plt.show()"
   ]
  },
  {
   "cell_type": "code",
   "execution_count": 52,
   "metadata": {},
   "outputs": [
    {
     "name": "stdout",
     "output_type": "stream",
     "text": [
      "Predicted doublet proportion: 0.20585616258970196\n",
      "Precision: 0.7055979643765903\n",
      "f1 score: 0.6458600209619192\n"
     ]
    }
   ],
   "source": [
    "sen, spe = metrics(prob_doublet, doublet, cut = 0.5)"
   ]
  },
  {
   "cell_type": "code",
   "execution_count": 53,
   "metadata": {
    "id": "1D50J5OUU5jm"
   },
   "outputs": [],
   "source": [
    "doublet_prediction = pd.DataFrame(prob_doublet, columns = ['prob_doublet'])\n",
    "doublet_prediction.index.name = 'index'\n",
    "doublet_prediction.reset_index(inplace=True)\n",
    "#doublet_prediction = doublet_prediction.sort_values(\"prob_doublet\", ascending = False)\n",
    "#doublet_prediction\n",
    "doublet_prediction.to_csv('doublet_20230124_1_adt.csv',index=False)"
   ]
  },
  {
   "cell_type": "code",
   "execution_count": 54,
   "metadata": {},
   "outputs": [],
   "source": [
    "reliability_table = reliability(small_stable, theta, alpha, beta, decay)\n",
    "data = {'reliability': reliability_table[0,:]/weight,\n",
    "        'flag': reliability_table[1,:]}\n",
    "  \n",
    "# Create DataFrame\n",
    "reliability_file = pd.DataFrame(data)\n",
    "reliability_file.index.name = 'index'\n",
    "reliability_file.reset_index(inplace=True)\n",
    "#doublet_prediction = doublet_prediction.sort_values(\"prob_doublet\", ascending = False)\n",
    "#doublet_prediction\n",
    "reliability_file.to_csv('reliability_20230124_1_adt.csv',index=False)"
   ]
  },
  {
   "cell_type": "code",
   "execution_count": 55,
   "metadata": {
    "id": "EUvw5UyoU-bb"
   },
   "outputs": [],
   "source": [
    "prob_singlet = prob_k0(small_stable, theta, alpha, beta, decay, 0, k=3)\n",
    "prob_doublet = prob_k0(small_stable, theta, alpha, beta, decay, 1, k=3)\n",
    "prob_triplet = prob_k0(small_stable, theta, alpha, beta, decay, 2, k=3)\n",
    "data = {'singlet': prob_singlet,\n",
    "        'doublet': prob_doublet,\n",
    "        'triplet': prob_triplet}\n",
    "  \n",
    "# Create DataFrame\n",
    "doublet_prediction = pd.DataFrame(data)\n",
    "doublet_prediction.index.name = 'index'\n",
    "doublet_prediction.reset_index(inplace=True)\n",
    "#doublet_prediction = doublet_prediction.sort_values(\"prob_doublet\", ascending = False)\n",
    "#doublet_prediction\n",
    "doublet_prediction.to_csv('All_20230124_1_3.0.csv',index=False)"
   ]
  },
  {
   "cell_type": "markdown",
   "metadata": {},
   "source": [
    "## Ileum-1 RNA+ADT"
   ]
  },
  {
   "cell_type": "code",
   "execution_count": 56,
   "metadata": {},
   "outputs": [],
   "source": [
    "adt_doublet = pd.read_csv(\"/ix1/wchen/Haoran/CPDD/ADT/20230124_1/doublet_20230124_1_adt.csv\")\n",
    "rna_doublet = pd.read_csv(\"/ix1/wchen/Haoran/CPDD/RNA/20230124_1/doublet_20230124_1_rna.csv\")\n",
    "adt_reliability = pd.read_csv(\"/ix1/wchen/Haoran/CPDD/ADT/20230124_1/reliability_20230124_1_adt.csv\")\n",
    "rna_reliability = pd.read_csv(\"/ix1/wchen/Haoran/CPDD/RNA/20230124_1/reliability_20230124_1_rna.csv\")\n",
    "doublet = pd.read_csv(\"/ix1/wchen/Haoran/CPDD/ADT/20230124_1/doublet.csv\")\n",
    "\n",
    "adt_doublet = adt_doublet.iloc[:, 1].to_numpy()\n",
    "rna_doublet = rna_doublet.iloc[:, 1].to_numpy()\n",
    "adt_reliability = adt_reliability.iloc[:,1].to_numpy()\n",
    "rna_reliability = rna_reliability.iloc[:,1].to_numpy()\n",
    "doublet = doublet.iloc[:, 1].to_numpy()\n",
    "\n",
    "reliability_joint = np.stack((adt_reliability, rna_reliability))\n",
    "reliability_joint[1,:] = reliability_joint[1,:]\n",
    "reliability_joint = special.softmax(reliability_joint, axis = 0)"
   ]
  },
  {
   "cell_type": "code",
   "execution_count": 57,
   "metadata": {},
   "outputs": [
    {
     "name": "stdout",
     "output_type": "stream",
     "text": [
      "0.7281464295529174\n"
     ]
    },
    {
     "data": {
      "image/png": "[encoded data removed]",
      "text/plain": [
       "<Figure size 432x288 with 1 Axes>"
      ]
     },
     "metadata": {
      "needs_background": "light"
     },
     "output_type": "display_data"
    }
   ],
   "source": [
    "combined_prediction = reliability_joint[0,:]*adt_doublet + reliability_joint[1,:]*rna_doublet\n",
    "doublet = pd.read_csv(\"./doublet.csv\")\n",
    "doublet = doublet.iloc[:, 1]\n",
    "\n",
    "\n",
    "precision, recall, thresholds = precision_recall_curve(doublet.to_numpy(), combined_prediction)\n",
    "auc_precision_recall = auc(recall, precision)\n",
    "print(auc_precision_recall)\n",
    "plt.plot(recall, precision)\n",
    "plt.show()"
   ]
  },
  {
   "cell_type": "code",
   "execution_count": 58,
   "metadata": {},
   "outputs": [
    {
     "name": "stdout",
     "output_type": "stream",
     "text": [
      "Predicted doublet proportion: 0.21622754177361062\n",
      "Precision: 0.7126937984496124\n",
      "f1 score: 0.669778030734206\n"
     ]
    }
   ],
   "source": [
    "sen, spe = metrics(combined_prediction, doublet, cut = 0.5)"
   ]
  },
  {
   "cell_type": "markdown",
   "metadata": {
    "id": "BADt4yF-Wbci"
   },
   "source": [
    "## Ileum-2 ADT"
   ]
  },
  {
   "cell_type": "code",
   "execution_count": 59,
   "metadata": {},
   "outputs": [
    {
     "name": "stdout",
     "output_type": "stream",
     "text": [
      "/ix1/wchen/Haoran/CPDD/ADT/20230124_2\n"
     ]
    }
   ],
   "source": [
    "%cd /ix1/wchen/Haoran/CPDD/ADT/20230124_2/\n",
    "stable = genfromtxt(\"./ADT_stable50_cts.csv\", delimiter=',')\n",
    "small_stable = stable[:,0:16] #16 stable features\n",
    "\n",
    "small_stable = torch.tensor(small_stable, device = dev)\n",
    "small_stable = small_stable.double()\n",
    "#small_stable = small_stable + torch.tensor([0.0001], device = dev)\n",
    "\n",
    "\n",
    "theta,alpha,beta,decay, loss_075,p_075 = MLE_mvg(small_stable)"
   ]
  },
  {
   "cell_type": "code",
   "execution_count": 60,
   "metadata": {},
   "outputs": [
    {
     "data": {
      "text/plain": [
       "0.17030380256958996"
      ]
     },
     "execution_count": 60,
     "metadata": {},
     "output_type": "execute_result"
    }
   ],
   "source": [
    "weight = adt_fit_goodness(small_stable, alpha, beta, theta, decay)\n",
    "weight"
   ]
  },
  {
   "cell_type": "code",
   "execution_count": 61,
   "metadata": {},
   "outputs": [
    {
     "name": "stdout",
     "output_type": "stream",
     "text": [
      "0.7000026116924256\n"
     ]
    },
    {
     "data": {
      "image/png": "[encoded data removed]",
      "text/plain": [
       "<Figure size 432x288 with 1 Axes>"
      ]
     },
     "metadata": {
      "needs_background": "light"
     },
     "output_type": "display_data"
    }
   ],
   "source": [
    "prob_singlet = prob_k0(small_stable, theta, alpha, beta, decay, 0, k=3)\n",
    "prob_doublet = 1-prob_singlet\n",
    "#prob_doublet = doublet_pred(small_stable, theta, alpha, beta, decay, k=3)\n",
    "#prob_doublet = prob_k0(small_stable, theta, alpha, beta, decay, 1, k=3)+prob_k0(small_stable, theta, alpha, beta, decay, 2, k=3)\n",
    "\n",
    "doublet = genfromtxt(\"./doublet.csv\", delimiter=',')\n",
    "doublet = doublet[1:, 1]\n",
    "#doublet = doublet.iloc[:, 1]\n",
    "prob_doublet = np.nan_to_num(prob_doublet, nan=1.0)\n",
    "\n",
    "\n",
    "precision, recall, thresholds = precision_recall_curve(doublet, prob_doublet)\n",
    "auc_precision_recall = auc(recall, precision)\n",
    "print(auc_precision_recall)\n",
    "plt.plot(recall, precision)\n",
    "plt.show()"
   ]
  },
  {
   "cell_type": "code",
   "execution_count": 62,
   "metadata": {},
   "outputs": [
    {
     "name": "stdout",
     "output_type": "stream",
     "text": [
      "Predicted doublet proportion: 0.2339631309940849\n",
      "Precision: 0.5660284732449681\n",
      "f1 score: 0.6497604959143422\n"
     ]
    }
   ],
   "source": [
    "sen, spe = metrics(prob_doublet, doublet, cut = 0.5)"
   ]
  },
  {
   "cell_type": "code",
   "execution_count": 63,
   "metadata": {},
   "outputs": [],
   "source": [
    "doublet_prediction = pd.DataFrame(prob_doublet, columns = ['prob_doublet'])\n",
    "doublet_prediction.index.name = 'index'\n",
    "doublet_prediction.reset_index(inplace=True)\n",
    "#doublet_prediction = doublet_prediction.sort_values(\"prob_doublet\", ascending = False)\n",
    "#doublet_prediction\n",
    "doublet_prediction.to_csv('doublet_20230124_2_adt.csv',index=False)"
   ]
  },
  {
   "cell_type": "code",
   "execution_count": 64,
   "metadata": {},
   "outputs": [],
   "source": [
    "reliability_table = reliability(small_stable, theta, alpha, beta, decay)\n",
    "data = {'reliability': reliability_table[0,:]/weight,\n",
    "        'flag': reliability_table[1,:]}\n",
    "  \n",
    "# Create DataFrame\n",
    "reliability_file = pd.DataFrame(data)\n",
    "reliability_file.index.name = 'index'\n",
    "reliability_file.reset_index(inplace=True)\n",
    "#doublet_prediction = doublet_prediction.sort_values(\"prob_doublet\", ascending = False)\n",
    "#doublet_prediction\n",
    "reliability_file.to_csv('reliability_20230124_2_adt.csv',index=False)"
   ]
  },
  {
   "cell_type": "markdown",
   "metadata": {},
   "source": [
    "## Ileum-2 RNA+ADT"
   ]
  },
  {
   "cell_type": "code",
   "execution_count": 65,
   "metadata": {},
   "outputs": [],
   "source": [
    "adt_doublet = pd.read_csv(\"/ix1/wchen/Haoran/CPDD/ADT/20230124_2/doublet_20230124_2_adt.csv\")\n",
    "rna_doublet = pd.read_csv(\"/ix1/wchen/Haoran/CPDD/RNA/20230124_2/doublet_20230124_2_rna.csv\")\n",
    "adt_reliability = pd.read_csv(\"/ix1/wchen/Haoran/CPDD/ADT/20230124_2/reliability_20230124_2_adt.csv\")\n",
    "rna_reliability = pd.read_csv(\"/ix1/wchen/Haoran/CPDD/RNA/20230124_2/reliability_20230124_2_rna.csv\")\n",
    "doublet = pd.read_csv(\"/ix1/wchen/Haoran/CPDD/ADT/20230124_2/doublet.csv\")\n",
    "\n",
    "adt_doublet = adt_doublet.iloc[:, 1].to_numpy()\n",
    "rna_doublet = rna_doublet.iloc[:, 1].to_numpy()\n",
    "adt_reliability = adt_reliability.iloc[:,1].to_numpy()\n",
    "rna_reliability = rna_reliability.iloc[:,1].to_numpy()\n",
    "doublet = doublet.iloc[:, 1].to_numpy()\n",
    "\n",
    "reliability_joint = np.stack((adt_reliability, rna_reliability))\n",
    "reliability_joint[1,:] = reliability_joint[1,:]\n",
    "reliability_joint = special.softmax(reliability_joint, axis = 0)"
   ]
  },
  {
   "cell_type": "code",
   "execution_count": 66,
   "metadata": {},
   "outputs": [
    {
     "name": "stdout",
     "output_type": "stream",
     "text": [
      "0.6966583427719587\n"
     ]
    },
    {
     "data": {
      "image/png": "[encoded data removed]",
      "text/plain": [
       "<Figure size 432x288 with 1 Axes>"
      ]
     },
     "metadata": {
      "needs_background": "light"
     },
     "output_type": "display_data"
    }
   ],
   "source": [
    "combined_prediction = reliability_joint[0,:]*adt_doublet + reliability_joint[1,:]*rna_doublet\n",
    "doublet = pd.read_csv(\"./doublet.csv\")\n",
    "doublet = doublet.iloc[:, 1]\n",
    "\n",
    "\n",
    "precision, recall, thresholds = precision_recall_curve(doublet.to_numpy(), combined_prediction)\n",
    "auc_precision_recall = auc(recall, precision)\n",
    "print(auc_precision_recall)\n",
    "plt.plot(recall, precision)\n",
    "plt.show()"
   ]
  },
  {
   "cell_type": "code",
   "execution_count": 67,
   "metadata": {},
   "outputs": [
    {
     "name": "stdout",
     "output_type": "stream",
     "text": [
      "Predicted doublet proportion: 0.2466547981393212\n",
      "Precision: 0.5585564610011642\n",
      "f1 score: 0.6555540374368084\n"
     ]
    }
   ],
   "source": [
    "sen, spe = metrics(combined_prediction, doublet, cut = 0.5)"
   ]
  },
  {
   "cell_type": "markdown",
   "metadata": {
    "id": "BADt4yF-Wbci"
   },
   "source": [
    "## Ileum-3 ADT"
   ]
  },
  {
   "cell_type": "code",
   "execution_count": 68,
   "metadata": {},
   "outputs": [
    {
     "name": "stdout",
     "output_type": "stream",
     "text": [
      "/ix1/wchen/Haoran/CPDD/ADT/20230126_1\n"
     ]
    }
   ],
   "source": [
    "%cd /ix1/wchen/Haoran/CPDD/ADT/20230126_1/\n",
    "stable = genfromtxt(\"./ADT_stable50_cts.csv\", delimiter=',')\n",
    "small_stable = stable[:,0:16] #16 stable features\n",
    "\n",
    "small_stable = torch.tensor(small_stable, device = dev)\n",
    "small_stable = small_stable.double()\n",
    "\n",
    "\n",
    "theta,alpha,beta,decay, loss_075,p_075 = MLE_mvg(small_stable)"
   ]
  },
  {
   "cell_type": "code",
   "execution_count": 69,
   "metadata": {},
   "outputs": [
    {
     "data": {
      "text/plain": [
       "0.16635978242630536"
      ]
     },
     "execution_count": 69,
     "metadata": {},
     "output_type": "execute_result"
    }
   ],
   "source": [
    "weight = adt_fit_goodness(small_stable, alpha, beta, theta, decay)\n",
    "weight"
   ]
  },
  {
   "cell_type": "code",
   "execution_count": 70,
   "metadata": {},
   "outputs": [
    {
     "name": "stdout",
     "output_type": "stream",
     "text": [
      "0.6440151524783821\n"
     ]
    },
    {
     "data": {
      "image/png": "[encoded data removed]",
      "text/plain": [
       "<Figure size 432x288 with 1 Axes>"
      ]
     },
     "metadata": {
      "needs_background": "light"
     },
     "output_type": "display_data"
    }
   ],
   "source": [
    "prob_singlet = prob_k0(small_stable, theta, alpha, beta, decay, 0, k=3)\n",
    "prob_doublet = 1-prob_singlet\n",
    "\n",
    "doublet = genfromtxt(\"./doublet.csv\", delimiter=',')\n",
    "doublet = doublet[1:, 1]\n",
    "prob_doublet = np.nan_to_num(prob_doublet, nan=1.0)\n",
    "\n",
    "\n",
    "precision, recall, thresholds = precision_recall_curve(doublet, prob_doublet)\n",
    "auc_precision_recall = auc(recall, precision)\n",
    "print(auc_precision_recall)\n",
    "plt.plot(recall, precision)\n",
    "plt.show()"
   ]
  },
  {
   "cell_type": "code",
   "execution_count": 71,
   "metadata": {},
   "outputs": [
    {
     "name": "stdout",
     "output_type": "stream",
     "text": [
      "Predicted doublet proportion: 0.23113623018203172\n",
      "Precision: 0.561765639885678\n",
      "f1 score: 0.6047863247863248\n"
     ]
    }
   ],
   "source": [
    "sen, spe = metrics(prob_doublet, doublet, cut = 0.5)"
   ]
  },
  {
   "cell_type": "code",
   "execution_count": 72,
   "metadata": {},
   "outputs": [],
   "source": [
    "doublet_prediction = pd.DataFrame(prob_doublet, columns = ['prob_doublet'])\n",
    "doublet_prediction.index.name = 'index'\n",
    "doublet_prediction.reset_index(inplace=True)\n",
    "#doublet_prediction = doublet_prediction.sort_values(\"prob_doublet\", ascending = False)\n",
    "#doublet_prediction\n",
    "doublet_prediction.to_csv('doublet_20230126_1_adt.csv',index=False)"
   ]
  },
  {
   "cell_type": "code",
   "execution_count": 73,
   "metadata": {},
   "outputs": [],
   "source": [
    "reliability_table = reliability(small_stable, theta, alpha, beta, decay)\n",
    "data = {'reliability': reliability_table[0,:]/weight,\n",
    "        'flag': reliability_table[1,:]}\n",
    "  \n",
    "# Create DataFrame\n",
    "reliability_file = pd.DataFrame(data)\n",
    "reliability_file.index.name = 'index'\n",
    "reliability_file.reset_index(inplace=True)\n",
    "#doublet_prediction = doublet_prediction.sort_values(\"prob_doublet\", ascending = False)\n",
    "#doublet_prediction\n",
    "reliability_file.to_csv('reliability_20230126_1_adt.csv',index=False)"
   ]
  },
  {
   "cell_type": "markdown",
   "metadata": {},
   "source": [
    "## Ileum-3 RNA+ADT"
   ]
  },
  {
   "cell_type": "code",
   "execution_count": 74,
   "metadata": {},
   "outputs": [],
   "source": [
    "adt_doublet = pd.read_csv(\"/ix1/wchen/Haoran/CPDD/ADT/20230126_1/doublet_20230126_1_adt.csv\")\n",
    "rna_doublet = pd.read_csv(\"/ix1/wchen/Haoran/CPDD/RNA/20230126_1/doublet_20230126_1_rna.csv\")\n",
    "adt_reliability = pd.read_csv(\"/ix1/wchen/Haoran/CPDD/ADT/20230126_1/reliability_20230126_1_adt.csv\")\n",
    "rna_reliability = pd.read_csv(\"/ix1/wchen/Haoran/CPDD/RNA/20230126_1/reliability_20230126_1_rna.csv\")\n",
    "doublet = pd.read_csv(\"/ix1/wchen/Haoran/CPDD/ADT/20230126_1/doublet.csv\")\n",
    "\n",
    "adt_doublet = adt_doublet.iloc[:, 1].to_numpy()\n",
    "rna_doublet = rna_doublet.iloc[:, 1].to_numpy()\n",
    "adt_reliability = adt_reliability.iloc[:,1].to_numpy()\n",
    "rna_reliability = rna_reliability.iloc[:,1].to_numpy()\n",
    "doublet = doublet.iloc[:, 1].to_numpy()\n",
    "\n",
    "reliability_joint = np.stack((adt_reliability, rna_reliability))\n",
    "reliability_joint = special.softmax(reliability_joint, axis = 0)\n"
   ]
  },
  {
   "cell_type": "code",
   "execution_count": 75,
   "metadata": {},
   "outputs": [
    {
     "name": "stdout",
     "output_type": "stream",
     "text": [
      "0.6323615310538565\n"
     ]
    },
    {
     "data": {
      "image/png": "[encoded data removed]",
      "text/plain": [
       "<Figure size 432x288 with 1 Axes>"
      ]
     },
     "metadata": {
      "needs_background": "light"
     },
     "output_type": "display_data"
    }
   ],
   "source": [
    "combined_prediction = reliability_joint[0,:]*adt_doublet + reliability_joint[1,:]*rna_doublet\n",
    "doublet = pd.read_csv(\"./doublet.csv\")\n",
    "doublet = doublet.iloc[:, 1]\n",
    "\n",
    "precision, recall, thresholds = precision_recall_curve(doublet.to_numpy(), combined_prediction)\n",
    "auc_precision_recall = auc(recall, precision)\n",
    "print(auc_precision_recall)\n",
    "plt.plot(recall, precision)\n",
    "plt.show()"
   ]
  },
  {
   "cell_type": "code",
   "execution_count": 76,
   "metadata": {},
   "outputs": [
    {
     "name": "stdout",
     "output_type": "stream",
     "text": [
      "Predicted doublet proportion: 0.24185261303581915\n",
      "Precision: 0.5596358118361153\n",
      "f1 score: 0.6150767178118746\n"
     ]
    }
   ],
   "source": [
    "sen, spe = metrics(combined_prediction, doublet, cut = 0.5)"
   ]
  },
  {
   "cell_type": "markdown",
   "metadata": {
    "id": "BADt4yF-Wbci"
   },
   "source": [
    "## Ileum-4 ADT"
   ]
  },
  {
   "cell_type": "code",
   "execution_count": 77,
   "metadata": {
    "colab": {
     "base_uri": "https://localhost:8080/"
    },
    "id": "d9vjlEHIWc3u",
    "outputId": "db43cae0-8cda-4c7c-88fa-f9062ca9c3a3"
   },
   "outputs": [
    {
     "name": "stdout",
     "output_type": "stream",
     "text": [
      "/ix1/wchen/Haoran/CPDD/ADT/20230126_2\n"
     ]
    }
   ],
   "source": [
    "%cd /ix1/wchen/Haoran/CPDD/ADT/20230126_2/\n",
    "stable = genfromtxt(\"./ADT_stable50_cts.csv\", delimiter=',')\n",
    "small_stable = stable[:,0:16] #16 stable features\n",
    "\n",
    "small_stable = torch.tensor(small_stable, device = dev)\n",
    "small_stable = small_stable.double()\n",
    "small_stable = small_stable + torch.tensor([0.0001], device = dev)\n",
    "\n",
    "\n",
    "theta,alpha,beta,decay, loss_075,p_075 = MLE_mvg(small_stable)"
   ]
  },
  {
   "cell_type": "code",
   "execution_count": 78,
   "metadata": {},
   "outputs": [
    {
     "data": {
      "text/plain": [
       "0.18765335251372328"
      ]
     },
     "execution_count": 78,
     "metadata": {},
     "output_type": "execute_result"
    }
   ],
   "source": [
    "weight = adt_fit_goodness(small_stable, alpha, beta, theta, decay)\n",
    "weight"
   ]
  },
  {
   "cell_type": "code",
   "execution_count": 79,
   "metadata": {
    "colab": {
     "base_uri": "https://localhost:8080/",
     "height": 448
    },
    "id": "eQHVkbp2WjVL",
    "outputId": "307511c3-6314-47a8-9c8a-8977f54ebdab"
   },
   "outputs": [
    {
     "name": "stdout",
     "output_type": "stream",
     "text": [
      "0.6537714419107716\n"
     ]
    },
    {
     "data": {
      "image/png": "[encoded data removed]",
      "text/plain": [
       "<Figure size 432x288 with 1 Axes>"
      ]
     },
     "metadata": {
      "needs_background": "light"
     },
     "output_type": "display_data"
    }
   ],
   "source": [
    "prob_singlet = prob_k0(small_stable, theta, alpha, beta, decay, 0, k=3)\n",
    "prob_doublet = 1-prob_singlet\n",
    "\n",
    "doublet = genfromtxt(\"./doublet.csv\", delimiter=',')\n",
    "doublet = doublet[1:, 1]\n",
    "#doublet = doublet.iloc[:, 1]\n",
    "prob_doublet = np.nan_to_num(prob_doublet, nan=1.0)\n",
    "\n",
    "\n",
    "precision, recall, thresholds = precision_recall_curve(doublet, prob_doublet)\n",
    "auc_precision_recall = auc(recall, precision)\n",
    "print(auc_precision_recall)\n",
    "plt.plot(recall, precision)\n",
    "plt.show()"
   ]
  },
  {
   "cell_type": "code",
   "execution_count": 80,
   "metadata": {},
   "outputs": [
    {
     "name": "stdout",
     "output_type": "stream",
     "text": [
      "Predicted doublet proportion: 0.23421617752326412\n",
      "Precision: 0.5504278728606357\n",
      "f1 score: 0.609888249238063\n"
     ]
    }
   ],
   "source": [
    "sen, spe = metrics(prob_doublet, doublet, cut = 0.5)"
   ]
  },
  {
   "cell_type": "code",
   "execution_count": 81,
   "metadata": {
    "id": "XurFPT21Wlsv"
   },
   "outputs": [],
   "source": [
    "doublet_prediction = pd.DataFrame(prob_doublet, columns = ['prob_doublet'])\n",
    "doublet_prediction.index.name = 'index'\n",
    "doublet_prediction.reset_index(inplace=True)\n",
    "#doublet_prediction = doublet_prediction.sort_values(\"prob_doublet\", ascending = False)\n",
    "#doublet_prediction\n",
    "doublet_prediction.to_csv('doublet_20230126_2_adt.csv',index=False)"
   ]
  },
  {
   "cell_type": "code",
   "execution_count": 82,
   "metadata": {},
   "outputs": [],
   "source": [
    "reliability_table = reliability(small_stable, theta, alpha, beta, decay)\n",
    "data = {'reliability': reliability_table[0,:]/weight,\n",
    "        'flag': reliability_table[1,:]}\n",
    "  \n",
    "# Create DataFrame\n",
    "reliability_file = pd.DataFrame(data)\n",
    "reliability_file.index.name = 'index'\n",
    "reliability_file.reset_index(inplace=True)\n",
    "#doublet_prediction = doublet_prediction.sort_values(\"prob_doublet\", ascending = False)\n",
    "#doublet_prediction\n",
    "reliability_file.to_csv('reliability_20230126_2_adt.csv',index=False)"
   ]
  },
  {
   "cell_type": "markdown",
   "metadata": {},
   "source": [
    "## Ileum-4 RNA+ADT"
   ]
  },
  {
   "cell_type": "code",
   "execution_count": 83,
   "metadata": {},
   "outputs": [],
   "source": [
    "adt_doublet = pd.read_csv(\"/ix1/wchen/Haoran/CPDD/ADT/20230126_2/doublet_20230126_2_adt.csv\")\n",
    "rna_doublet = pd.read_csv(\"/ix1/wchen/Haoran/CPDD/RNA/20230126_2/doublet_20230126_2_rna.csv\")\n",
    "adt_reliability = pd.read_csv(\"/ix1/wchen/Haoran/CPDD/ADT/20230126_2/reliability_20230126_2_adt.csv\")\n",
    "rna_reliability = pd.read_csv(\"/ix1/wchen/Haoran/CPDD/RNA/20230126_2/reliability_20230126_2_rna.csv\")\n",
    "doublet = pd.read_csv(\"/ix1/wchen/Haoran/CPDD/ADT/20230126_2/doublet.csv\")\n",
    "\n",
    "adt_doublet = adt_doublet.iloc[:, 1].to_numpy()\n",
    "rna_doublet = rna_doublet.iloc[:, 1].to_numpy()\n",
    "adt_reliability = adt_reliability.iloc[:,1].to_numpy()\n",
    "rna_reliability = rna_reliability.iloc[:,1].to_numpy()\n",
    "doublet = doublet.iloc[:, 1].to_numpy()\n",
    "\n",
    "reliability_joint = np.stack((adt_reliability, rna_reliability))\n",
    "reliability_joint[1,:] = reliability_joint[1,:]\n",
    "reliability_joint = special.softmax(reliability_joint, axis = 0)"
   ]
  },
  {
   "cell_type": "code",
   "execution_count": 84,
   "metadata": {},
   "outputs": [
    {
     "name": "stdout",
     "output_type": "stream",
     "text": [
      "0.6437979272638845\n"
     ]
    },
    {
     "data": {
      "image/png": "[encoded data removed]",
      "text/plain": [
       "<Figure size 432x288 with 1 Axes>"
      ]
     },
     "metadata": {
      "needs_background": "light"
     },
     "output_type": "display_data"
    }
   ],
   "source": [
    "combined_prediction = reliability_joint[0,:]*adt_doublet + reliability_joint[1,:]*rna_doublet\n",
    "doublet = pd.read_csv(\"./doublet.csv\")\n",
    "doublet = doublet.iloc[:, 1]\n",
    "#prob_doublet = np.nan_to_num(prob_doublet, nan=1.0)\n",
    "#prob_doublet,  = prob_doublet[1201:3201]\n",
    "\n",
    "precision, recall, thresholds = precision_recall_curve(doublet.to_numpy(), combined_prediction)\n",
    "auc_precision_recall = auc(recall, precision)\n",
    "print(auc_precision_recall)\n",
    "plt.plot(recall, precision)\n",
    "plt.show()"
   ]
  },
  {
   "cell_type": "code",
   "execution_count": 85,
   "metadata": {},
   "outputs": [
    {
     "name": "stdout",
     "output_type": "stream",
     "text": [
      "Predicted doublet proportion: 0.2546170365068003\n",
      "Precision: 0.5366882204104583\n",
      "f1 score: 0.6167016637053787\n"
     ]
    }
   ],
   "source": [
    "sen, spe = metrics(combined_prediction, doublet, cut = 0.5)"
   ]
  },
  {
   "cell_type": "markdown",
   "metadata": {
    "id": "drZa9eKt30cu"
   },
   "source": [
    "## Ileum-5 ADT"
   ]
  },
  {
   "cell_type": "code",
   "execution_count": 86,
   "metadata": {
    "colab": {
     "base_uri": "https://localhost:8080/"
    },
    "id": "MppnYFZt315C",
    "outputId": "698b82e3-3b3a-4254-eaea-2b3b35e325ab"
   },
   "outputs": [
    {
     "name": "stdout",
     "output_type": "stream",
     "text": [
      "/ix1/wchen/Haoran/CPDD/ADT/20230203_1\n"
     ]
    }
   ],
   "source": [
    "%cd /ix1/wchen/Haoran/CPDD/ADT/20230203_1/\n",
    "stable = genfromtxt(\"./ADT_stable50_cts.csv\", delimiter=',')\n",
    "small_stable = stable[:,0:16] #16 stable features\n",
    "\n",
    "small_stable = torch.tensor(small_stable, device = dev)\n",
    "small_stable = small_stable.double()\n",
    "#small_stable = small_stable + torch.tensor([0.0001], device = dev)\n",
    "\n",
    "\n",
    "theta,alpha,beta,decay, loss_075,p_075 = MLE_mvg(small_stable)"
   ]
  },
  {
   "cell_type": "code",
   "execution_count": 87,
   "metadata": {},
   "outputs": [
    {
     "data": {
      "text/plain": [
       "0.1652148229117705"
      ]
     },
     "execution_count": 87,
     "metadata": {},
     "output_type": "execute_result"
    }
   ],
   "source": [
    "weight = adt_fit_goodness(small_stable, alpha, beta, theta, decay)\n",
    "weight"
   ]
  },
  {
   "cell_type": "code",
   "execution_count": 88,
   "metadata": {
    "colab": {
     "base_uri": "https://localhost:8080/",
     "height": 448
    },
    "id": "ghzmDA6n38xT",
    "outputId": "0369f713-58b1-4c14-a5e2-92d249fe1ab7"
   },
   "outputs": [
    {
     "name": "stdout",
     "output_type": "stream",
     "text": [
      "0.6330489960109048\n"
     ]
    },
    {
     "data": {
      "image/png": "[encoded data removed]",
      "text/plain": [
       "<Figure size 432x288 with 1 Axes>"
      ]
     },
     "metadata": {
      "needs_background": "light"
     },
     "output_type": "display_data"
    }
   ],
   "source": [
    "prob_singlet = prob_k0(small_stable, theta, alpha, beta, decay, 0, k=3)\n",
    "prob_doublet = 1-prob_singlet\n",
    "\n",
    "doublet = genfromtxt(\"./doublet.csv\", delimiter=',')\n",
    "doublet = doublet[1:, 1]\n",
    "#doublet = doublet.iloc[:, 1]\n",
    "prob_doublet = np.nan_to_num(prob_doublet, nan=1.0)\n",
    "\n",
    "\n",
    "precision, recall, thresholds = precision_recall_curve(doublet, prob_doublet)\n",
    "auc_precision_recall = auc(recall, precision)\n",
    "print(auc_precision_recall)\n",
    "plt.plot(recall, precision)\n",
    "plt.show()"
   ]
  },
  {
   "cell_type": "code",
   "execution_count": 89,
   "metadata": {},
   "outputs": [
    {
     "name": "stdout",
     "output_type": "stream",
     "text": [
      "Predicted doublet proportion: 0.23765106659096438\n",
      "Precision: 0.5238907849829352\n",
      "f1 score: 0.5982073265783321\n"
     ]
    }
   ],
   "source": [
    "sen, spe = metrics(prob_doublet, doublet, cut = 0.5)"
   ]
  },
  {
   "cell_type": "code",
   "execution_count": 90,
   "metadata": {
    "id": "_3ZzDpEr4Auq"
   },
   "outputs": [],
   "source": [
    "doublet_prediction = pd.DataFrame(prob_doublet, columns = ['prob_doublet'])\n",
    "doublet_prediction.index.name = 'index'\n",
    "doublet_prediction.reset_index(inplace=True)\n",
    "#doublet_prediction = doublet_prediction.sort_values(\"prob_doublet\", ascending = False)\n",
    "#doublet_prediction\n",
    "doublet_prediction.to_csv('doublet_20230203_1_adt.csv',index=False)"
   ]
  },
  {
   "cell_type": "code",
   "execution_count": 91,
   "metadata": {
    "colab": {
     "base_uri": "https://localhost:8080/",
     "height": 424
    },
    "id": "X2L0UX6S4F0C",
    "outputId": "abc58b13-9a85-4d32-b23f-3cf8466a15db"
   },
   "outputs": [],
   "source": [
    "reliability_table = reliability(small_stable, theta, alpha, beta, decay)\n",
    "data = {'reliability': reliability_table[0,:]/weight,\n",
    "        'flag': reliability_table[1,:]}\n",
    "  \n",
    "# Create DataFrame\n",
    "reliability_file = pd.DataFrame(data)\n",
    "reliability_file.index.name = 'index'\n",
    "reliability_file.reset_index(inplace=True)\n",
    "#doublet_prediction = doublet_prediction.sort_values(\"prob_doublet\", ascending = False)\n",
    "#doublet_prediction\n",
    "reliability_file.to_csv('reliability_20230203_1_adt.csv',index=False)"
   ]
  },
  {
   "cell_type": "markdown",
   "metadata": {},
   "source": [
    "## Ileum-5 RNA+ADT"
   ]
  },
  {
   "cell_type": "code",
   "execution_count": 92,
   "metadata": {},
   "outputs": [],
   "source": [
    "adt_doublet = pd.read_csv(\"/ix1/wchen/Haoran/CPDD/ADT/20230203_1/doublet_20230203_1_adt.csv\")\n",
    "rna_doublet = pd.read_csv(\"/ix1/wchen/Haoran/CPDD/RNA/20230203_1/doublet_20230203_1_rna.csv\")\n",
    "adt_reliability = pd.read_csv(\"/ix1/wchen/Haoran/CPDD/ADT/20230203_1/reliability_20230203_1_adt.csv\")\n",
    "rna_reliability = pd.read_csv(\"/ix1/wchen/Haoran/CPDD/RNA/20230203_1/reliability_20230203_1_rna.csv\")\n",
    "doublet = pd.read_csv(\"/ix1/wchen/Haoran/CPDD/ADT/20230203_1/doublet.csv\")\n",
    "\n",
    "adt_doublet = adt_doublet.iloc[:, 1].to_numpy()\n",
    "rna_doublet = rna_doublet.iloc[:, 1].to_numpy()\n",
    "adt_reliability = adt_reliability.iloc[:,1].to_numpy()\n",
    "rna_reliability = rna_reliability.iloc[:,1].to_numpy()\n",
    "doublet = doublet.iloc[:, 1].to_numpy()\n",
    "\n",
    "reliability_joint = np.stack((adt_reliability, rna_reliability))\n",
    "reliability_joint[1,:] = reliability_joint[1,:]\n",
    "reliability_joint = special.softmax(reliability_joint, axis = 0)"
   ]
  },
  {
   "cell_type": "code",
   "execution_count": 93,
   "metadata": {
    "id": "asgXz-bfuCL2"
   },
   "outputs": [
    {
     "name": "stdout",
     "output_type": "stream",
     "text": [
      "0.6875483346057926\n"
     ]
    },
    {
     "data": {
      "image/png": "[encoded data removed]",
      "text/plain": [
       "<Figure size 432x288 with 1 Axes>"
      ]
     },
     "metadata": {
      "needs_background": "light"
     },
     "output_type": "display_data"
    }
   ],
   "source": [
    "combined_prediction = reliability_joint[0,:]*adt_doublet + reliability_joint[1,:]*rna_doublet\n",
    "doublet = pd.read_csv(\"./doublet.csv\")\n",
    "doublet = doublet.iloc[:, 1]\n",
    "\n",
    "precision, recall, thresholds = precision_recall_curve(doublet.to_numpy(), combined_prediction)\n",
    "auc_precision_recall = auc(recall, precision)\n",
    "print(auc_precision_recall)\n",
    "plt.plot(recall, precision)\n",
    "plt.show()"
   ]
  },
  {
   "cell_type": "code",
   "execution_count": 94,
   "metadata": {},
   "outputs": [
    {
     "name": "stdout",
     "output_type": "stream",
     "text": [
      "Predicted doublet proportion: 0.24754643523400113\n",
      "Precision: 0.5344036697247706\n",
      "f1 score: 0.6208602969166349\n"
     ]
    }
   ],
   "source": [
    "sen, spe = metrics(combined_prediction, doublet, cut = 0.5)"
   ]
  },
  {
   "cell_type": "markdown",
   "metadata": {
    "id": "KRznGMue5Gx0"
   },
   "source": [
    "## Ileum-6 ADT"
   ]
  },
  {
   "cell_type": "code",
   "execution_count": 95,
   "metadata": {},
   "outputs": [
    {
     "name": "stdout",
     "output_type": "stream",
     "text": [
      "/ix1/wchen/Haoran/CPDD/ADT/20230203_2\n"
     ]
    }
   ],
   "source": [
    "%cd /ix1/wchen/Haoran/CPDD/ADT/20230203_2/\n",
    "stable = genfromtxt(\"./ADT_stable50_cts.csv\", delimiter=',')\n",
    "small_stable = stable[:,0:16] #16 stable features\n",
    "\n",
    "small_stable = torch.tensor(small_stable, device = dev)\n",
    "small_stable = small_stable.double()\n",
    "\n",
    "\n",
    "theta,alpha,beta,decay, loss_075,p_075 = MLE_mvg(small_stable)"
   ]
  },
  {
   "cell_type": "code",
   "execution_count": 96,
   "metadata": {},
   "outputs": [
    {
     "data": {
      "text/plain": [
       "0.17386879095677144"
      ]
     },
     "execution_count": 96,
     "metadata": {},
     "output_type": "execute_result"
    }
   ],
   "source": [
    "weight = adt_fit_goodness(small_stable, alpha, beta, theta, decay)\n",
    "weight"
   ]
  },
  {
   "cell_type": "code",
   "execution_count": 97,
   "metadata": {},
   "outputs": [
    {
     "name": "stdout",
     "output_type": "stream",
     "text": [
      "0.6065795553625702\n"
     ]
    },
    {
     "data": {
      "image/png": "[encoded data removed]",
      "text/plain": [
       "<Figure size 432x288 with 1 Axes>"
      ]
     },
     "metadata": {
      "needs_background": "light"
     },
     "output_type": "display_data"
    }
   ],
   "source": [
    "prob_singlet = prob_k0(small_stable, theta, alpha, beta, decay, 0, k=3)\n",
    "prob_doublet = 1-prob_singlet\n",
    "\n",
    "doublet = genfromtxt(\"./doublet.csv\", delimiter=',')\n",
    "doublet = doublet[1:, 1]\n",
    "#doublet = doublet.iloc[:, 1]\n",
    "prob_doublet = np.nan_to_num(prob_doublet, nan=1.0)\n",
    "\n",
    "\n",
    "precision, recall, thresholds = precision_recall_curve(doublet, prob_doublet)\n",
    "auc_precision_recall = auc(recall, precision)\n",
    "print(auc_precision_recall)\n",
    "plt.plot(recall, precision)\n",
    "plt.show()"
   ]
  },
  {
   "cell_type": "code",
   "execution_count": 98,
   "metadata": {},
   "outputs": [
    {
     "name": "stdout",
     "output_type": "stream",
     "text": [
      "Predicted doublet proportion: 0.2283720175296218\n",
      "Precision: 0.4896943852167733\n",
      "f1 score: 0.5766896840343169\n"
     ]
    }
   ],
   "source": [
    "sen, spe = metrics(prob_doublet, doublet, cut = 0.5)"
   ]
  },
  {
   "cell_type": "code",
   "execution_count": 99,
   "metadata": {},
   "outputs": [],
   "source": [
    "doublet_prediction = pd.DataFrame(prob_doublet, columns = ['prob_doublet'])\n",
    "doublet_prediction.index.name = 'index'\n",
    "doublet_prediction.reset_index(inplace=True)\n",
    "#doublet_prediction = doublet_prediction.sort_values(\"prob_doublet\", ascending = False)\n",
    "#doublet_prediction\n",
    "doublet_prediction.to_csv('doublet_20230203_2_adt.csv',index=False)"
   ]
  },
  {
   "cell_type": "code",
   "execution_count": 100,
   "metadata": {},
   "outputs": [],
   "source": [
    "reliability_table = reliability(small_stable, theta, alpha, beta, decay)\n",
    "data = {'reliability': reliability_table[0,:]/weight,\n",
    "        'flag': reliability_table[1,:]}\n",
    "  \n",
    "# Create DataFrame\n",
    "reliability_file = pd.DataFrame(data)\n",
    "reliability_file.index.name = 'index'\n",
    "reliability_file.reset_index(inplace=True)\n",
    "#doublet_prediction = doublet_prediction.sort_values(\"prob_doublet\", ascending = False)\n",
    "#doublet_prediction\n",
    "reliability_file.to_csv('reliability_20230203_2_adt.csv',index=False)"
   ]
  },
  {
   "cell_type": "markdown",
   "metadata": {},
   "source": [
    "## Ileum-6 RNA+ADT"
   ]
  },
  {
   "cell_type": "code",
   "execution_count": 101,
   "metadata": {},
   "outputs": [],
   "source": [
    "adt_doublet = pd.read_csv(\"/ix1/wchen/Haoran/CPDD/ADT/20230203_2/doublet_20230203_2_adt.csv\")\n",
    "rna_doublet = pd.read_csv(\"/ix1/wchen/Haoran/CPDD/RNA/20230203_2/doublet_20230203_2_rna.csv\")\n",
    "adt_reliability = pd.read_csv(\"/ix1/wchen/Haoran/CPDD/ADT/20230203_2/reliability_20230203_2_adt.csv\")\n",
    "rna_reliability = pd.read_csv(\"/ix1/wchen/Haoran/CPDD/RNA/20230203_2/reliability_20230203_2_rna.csv\")\n",
    "doublet = pd.read_csv(\"/ix1/wchen/Haoran/CPDD/ADT/20230203_2/doublet.csv\")\n",
    "\n",
    "adt_doublet = adt_doublet.iloc[:, 1].to_numpy()\n",
    "rna_doublet = rna_doublet.iloc[:, 1].to_numpy()\n",
    "adt_reliability = adt_reliability.iloc[:,1].to_numpy()\n",
    "rna_reliability = rna_reliability.iloc[:,1].to_numpy()\n",
    "doublet = doublet.iloc[:, 1].to_numpy()\n",
    "\n",
    "reliability_joint = np.stack((adt_reliability, rna_reliability))\n",
    "reliability_joint[1,:] = reliability_joint[1,:]\n",
    "reliability_joint = special.softmax(reliability_joint, axis = 0)"
   ]
  },
  {
   "cell_type": "code",
   "execution_count": 102,
   "metadata": {},
   "outputs": [
    {
     "name": "stdout",
     "output_type": "stream",
     "text": [
      "0.6582241717485177\n"
     ]
    },
    {
     "data": {
      "image/png": "[encoded data removed]",
      "text/plain": [
       "<Figure size 432x288 with 1 Axes>"
      ]
     },
     "metadata": {
      "needs_background": "light"
     },
     "output_type": "display_data"
    }
   ],
   "source": [
    "combined_prediction = reliability_joint[0,:]*adt_doublet + reliability_joint[1,:]*rna_doublet\n",
    "doublet = pd.read_csv(\"./doublet.csv\")\n",
    "doublet = doublet.iloc[:, 1]\n",
    "\n",
    "precision, recall, thresholds = precision_recall_curve(doublet.to_numpy(), combined_prediction)\n",
    "auc_precision_recall = auc(recall, precision)\n",
    "print(auc_precision_recall)\n",
    "plt.plot(recall, precision)\n",
    "plt.show()"
   ]
  },
  {
   "cell_type": "code",
   "execution_count": 103,
   "metadata": {},
   "outputs": [
    {
     "name": "stdout",
     "output_type": "stream",
     "text": [
      "Predicted doublet proportion: 0.26643402045122544\n",
      "Precision: 0.4514163874505026\n",
      "f1 score: 0.5647865853658537\n"
     ]
    }
   ],
   "source": [
    "sen, spe = metrics(combined_prediction, doublet, cut = 0.5)"
   ]
  },
  {
   "cell_type": "markdown",
   "metadata": {
    "id": "KRznGMue5Gx0"
   },
   "source": [
    "## Ileum-7 ADT"
   ]
  },
  {
   "cell_type": "code",
   "execution_count": 104,
   "metadata": {
    "colab": {
     "base_uri": "https://localhost:8080/"
    },
    "id": "Ijkxnhrw5IPh",
    "outputId": "e0daf850-c5e9-494b-be2c-0c7cf01255dc"
   },
   "outputs": [
    {
     "name": "stdout",
     "output_type": "stream",
     "text": [
      "/ix1/wchen/Haoran/CPDD/ADT/20230206_2\n"
     ]
    }
   ],
   "source": [
    "%cd /ix1/wchen/Haoran/CPDD/ADT/20230206_2/\n",
    "stable = genfromtxt(\"./ADT_stable50_cts.csv\", delimiter=',')\n",
    "small_stable = stable[:,0:16] #16 stable features\n",
    "\n",
    "small_stable = torch.tensor(small_stable, device = dev)\n",
    "small_stable = small_stable.double()\n",
    "\n",
    "\n",
    "theta,alpha,beta,decay, loss_075,p_075 = MLE_mvg(small_stable)"
   ]
  },
  {
   "cell_type": "code",
   "execution_count": 105,
   "metadata": {},
   "outputs": [
    {
     "data": {
      "text/plain": [
       "0.17950943122214633"
      ]
     },
     "execution_count": 105,
     "metadata": {},
     "output_type": "execute_result"
    }
   ],
   "source": [
    "weight = adt_fit_goodness(small_stable, alpha, beta, theta, decay)\n",
    "weight"
   ]
  },
  {
   "cell_type": "code",
   "execution_count": 106,
   "metadata": {
    "colab": {
     "base_uri": "https://localhost:8080/",
     "height": 448
    },
    "id": "pJZp_ksK5I_W",
    "outputId": "f53b961b-6fe0-4470-c7e5-6fd5ecb0d42b"
   },
   "outputs": [
    {
     "name": "stdout",
     "output_type": "stream",
     "text": [
      "0.6982559792436565\n"
     ]
    },
    {
     "data": {
      "image/png": "[encoded data removed]",
      "text/plain": [
       "<Figure size 432x288 with 1 Axes>"
      ]
     },
     "metadata": {
      "needs_background": "light"
     },
     "output_type": "display_data"
    }
   ],
   "source": [
    "prob_singlet = prob_k0(small_stable, theta, alpha, beta, decay, 0, k=3)\n",
    "prob_doublet = 1-prob_singlet\n",
    "\n",
    "doublet = genfromtxt(\"./doublet.csv\", delimiter=',')\n",
    "doublet = doublet[1:, 1]\n",
    "#doublet = doublet.iloc[:, 1]\n",
    "prob_doublet = np.nan_to_num(prob_doublet, nan=1.0)\n",
    "\n",
    "\n",
    "precision, recall, thresholds = precision_recall_curve(doublet, prob_doublet)\n",
    "auc_precision_recall = auc(recall, precision)\n",
    "print(auc_precision_recall)\n",
    "plt.plot(recall, precision)\n",
    "plt.show()"
   ]
  },
  {
   "cell_type": "code",
   "execution_count": 107,
   "metadata": {},
   "outputs": [
    {
     "name": "stdout",
     "output_type": "stream",
     "text": [
      "Predicted doublet proportion: 0.21259429321088882\n",
      "Precision: 0.6075285405738969\n",
      "f1 score: 0.6473779385171791\n"
     ]
    }
   ],
   "source": [
    "sen, spe = metrics(prob_doublet, doublet, cut = 0.5)"
   ]
  },
  {
   "cell_type": "code",
   "execution_count": 108,
   "metadata": {
    "id": "VMh2sX1j5MYv"
   },
   "outputs": [],
   "source": [
    "doublet_prediction = pd.DataFrame(prob_doublet, columns = ['prob_doublet'])\n",
    "doublet_prediction.index.name = 'index'\n",
    "doublet_prediction.reset_index(inplace=True)\n",
    "#doublet_prediction = doublet_prediction.sort_values(\"prob_doublet\", ascending = False)\n",
    "#doublet_prediction\n",
    "doublet_prediction.to_csv('doublet_20230206_2_adt.csv',index=False)"
   ]
  },
  {
   "cell_type": "code",
   "execution_count": 109,
   "metadata": {},
   "outputs": [],
   "source": [
    "reliability_table = reliability(small_stable, theta, alpha, beta, decay)\n",
    "data = {'reliability': reliability_table[0,:]/weight,\n",
    "        'flag': reliability_table[1,:]}\n",
    "  \n",
    "# Create DataFrame\n",
    "reliability_file = pd.DataFrame(data)\n",
    "reliability_file.index.name = 'index'\n",
    "reliability_file.reset_index(inplace=True)\n",
    "#doublet_prediction = doublet_prediction.sort_values(\"prob_doublet\", ascending = False)\n",
    "#doublet_prediction\n",
    "reliability_file.to_csv('reliability_20230206_2_adt.csv',index=False)"
   ]
  },
  {
   "cell_type": "markdown",
   "metadata": {},
   "source": [
    "## Ileum-7 RNA+ADT"
   ]
  },
  {
   "cell_type": "code",
   "execution_count": 110,
   "metadata": {
    "colab": {
     "base_uri": "https://localhost:8080/",
     "height": 424
    },
    "id": "_jJqA88-5bey",
    "outputId": "0c84e76b-30e7-4e41-c063-8abf98a764df"
   },
   "outputs": [],
   "source": [
    "adt_doublet = pd.read_csv(\"/ix1/wchen/Haoran/CPDD/ADT/20230206_2/doublet_20230206_2_adt.csv\")\n",
    "rna_doublet = pd.read_csv(\"/ix1/wchen/Haoran/CPDD/RNA/20230206_2/doublet_20230206_2_rna.csv\")\n",
    "adt_reliability = pd.read_csv(\"/ix1/wchen/Haoran/CPDD/ADT/20230206_2/reliability_20230206_2_adt.csv\")\n",
    "rna_reliability = pd.read_csv(\"/ix1/wchen/Haoran/CPDD/RNA/20230206_2/reliability_20230206_2_rna.csv\")\n",
    "doublet = pd.read_csv(\"/ix1/wchen/Haoran/CPDD/ADT/20230206_2/doublet.csv\")\n",
    "\n",
    "adt_doublet = adt_doublet.iloc[:, 1].to_numpy()\n",
    "rna_doublet = rna_doublet.iloc[:, 1].to_numpy()\n",
    "adt_reliability = adt_reliability.iloc[:,1].to_numpy()\n",
    "rna_reliability = rna_reliability.iloc[:,1].to_numpy()\n",
    "doublet = doublet.iloc[:, 1].to_numpy()\n",
    "\n",
    "reliability_joint = np.stack((adt_reliability, rna_reliability))\n",
    "reliability_joint[1,:] = reliability_joint[1,:]\n",
    "reliability_joint = special.softmax(reliability_joint, axis = 0)"
   ]
  },
  {
   "cell_type": "code",
   "execution_count": 111,
   "metadata": {
    "id": "wImhyIMEuJht"
   },
   "outputs": [
    {
     "name": "stdout",
     "output_type": "stream",
     "text": [
      "0.7043572404041847\n"
     ]
    },
    {
     "data": {
      "image/png": "[encoded data removed]",
      "text/plain": [
       "<Figure size 432x288 with 1 Axes>"
      ]
     },
     "metadata": {
      "needs_background": "light"
     },
     "output_type": "display_data"
    }
   ],
   "source": [
    "combined_prediction = reliability_joint[0,:]*adt_doublet + reliability_joint[1,:]*rna_doublet\n",
    "doublet = pd.read_csv(\"./doublet.csv\")\n",
    "doublet = doublet.iloc[:, 1]\n",
    "#prob_doublet = np.nan_to_num(prob_doublet, nan=1.0)\n",
    "#prob_doublet,  = prob_doublet[1201:3201]\n",
    "\n",
    "precision, recall, thresholds = precision_recall_curve(doublet.to_numpy(), combined_prediction)\n",
    "auc_precision_recall = auc(recall, precision)\n",
    "print(auc_precision_recall)\n",
    "plt.plot(recall, precision)\n",
    "plt.show()"
   ]
  },
  {
   "cell_type": "code",
   "execution_count": 112,
   "metadata": {},
   "outputs": [
    {
     "name": "stdout",
     "output_type": "stream",
     "text": [
      "Predicted doublet proportion: 0.25792062971466057\n",
      "Precision: 0.5503560528992879\n",
      "f1 score: 0.6389134927664601\n"
     ]
    }
   ],
   "source": [
    "sen, spe = metrics(combined_prediction, doublet, cut = 0.5)"
   ]
  },
  {
   "cell_type": "markdown",
   "metadata": {
    "id": "KRznGMue5Gx0"
   },
   "source": [
    "## PB-5 ADT"
   ]
  },
  {
   "cell_type": "code",
   "execution_count": 113,
   "metadata": {},
   "outputs": [
    {
     "name": "stdout",
     "output_type": "stream",
     "text": [
      "/ix1/wchen/Haoran/CPDD/ADT/20220429_1\n"
     ]
    }
   ],
   "source": [
    "%cd /ix1/wchen/Haoran/CPDD/ADT/20220429_1/\n",
    "stable = genfromtxt(\"./ADT_stable50_cts.csv\", delimiter=',')\n",
    "small_stable = stable[:,0:16] #16 stable features\n",
    "\n",
    "small_stable = torch.tensor(small_stable, device = dev)\n",
    "small_stable = small_stable.double()\n",
    "\n",
    "\n",
    "theta,alpha,beta,decay, loss_075,p_075 = MLE_mvg(small_stable)"
   ]
  },
  {
   "cell_type": "code",
   "execution_count": 114,
   "metadata": {},
   "outputs": [
    {
     "data": {
      "text/plain": [
       "0.15049882530262132"
      ]
     },
     "execution_count": 114,
     "metadata": {},
     "output_type": "execute_result"
    }
   ],
   "source": [
    "weight = adt_fit_goodness(small_stable, alpha, beta, theta, decay)\n",
    "weight"
   ]
  },
  {
   "cell_type": "code",
   "execution_count": 115,
   "metadata": {},
   "outputs": [
    {
     "name": "stdout",
     "output_type": "stream",
     "text": [
      "0.7487165305320216\n"
     ]
    },
    {
     "data": {
      "image/png": "[encoded data removed]",
      "text/plain": [
       "<Figure size 432x288 with 1 Axes>"
      ]
     },
     "metadata": {
      "needs_background": "light"
     },
     "output_type": "display_data"
    }
   ],
   "source": [
    "prob_singlet = prob_k0(small_stable, theta, alpha, beta, decay, 0, k=3)\n",
    "prob_doublet = 1-prob_singlet\n",
    "\n",
    "doublet = genfromtxt(\"./doublet.csv\", delimiter=',')\n",
    "doublet = doublet[1:, 1]\n",
    "#doublet = doublet.iloc[:, 1]\n",
    "prob_doublet = np.nan_to_num(prob_doublet, nan=1.0)\n",
    "\n",
    "\n",
    "precision, recall, thresholds = precision_recall_curve(doublet, prob_doublet)\n",
    "auc_precision_recall = auc(recall, precision)\n",
    "print(auc_precision_recall)\n",
    "plt.plot(recall, precision)\n",
    "plt.show()"
   ]
  },
  {
   "cell_type": "code",
   "execution_count": 116,
   "metadata": {},
   "outputs": [
    {
     "name": "stdout",
     "output_type": "stream",
     "text": [
      "Predicted doublet proportion: 0.23672358327146745\n",
      "Precision: 0.7374033033660883\n",
      "f1 score: 0.6650952291155949\n"
     ]
    }
   ],
   "source": [
    "sen, spe = metrics(prob_doublet, doublet, cut = 0.5)"
   ]
  },
  {
   "cell_type": "code",
   "execution_count": 117,
   "metadata": {},
   "outputs": [],
   "source": [
    "doublet_prediction = pd.DataFrame(prob_doublet, columns = ['prob_doublet'])\n",
    "doublet_prediction.index.name = 'index'\n",
    "doublet_prediction.reset_index(inplace=True)\n",
    "#doublet_prediction = doublet_prediction.sort_values(\"prob_doublet\", ascending = False)\n",
    "#doublet_prediction\n",
    "doublet_prediction.to_csv('doublet_20220429_1_adt.csv',index=False)"
   ]
  },
  {
   "cell_type": "code",
   "execution_count": 118,
   "metadata": {},
   "outputs": [],
   "source": [
    "reliability_table = reliability(small_stable, theta, alpha, beta, decay)\n",
    "data = {'reliability': reliability_table[0,:]/weight,\n",
    "        'flag': reliability_table[1,:]}\n",
    "  \n",
    "# Create DataFrame\n",
    "reliability_file = pd.DataFrame(data)\n",
    "reliability_file.index.name = 'index'\n",
    "reliability_file.reset_index(inplace=True)\n",
    "#doublet_prediction = doublet_prediction.sort_values(\"prob_doublet\", ascending = False)\n",
    "#doublet_prediction\n",
    "reliability_file.to_csv('reliability_20220429_1_adt.csv',index=False)"
   ]
  },
  {
   "cell_type": "markdown",
   "metadata": {},
   "source": [
    "## PB-5 RNA+ADT"
   ]
  },
  {
   "cell_type": "code",
   "execution_count": 119,
   "metadata": {},
   "outputs": [],
   "source": [
    "adt_doublet = pd.read_csv(\"/ix1/wchen/Haoran/CPDD/ADT/20220429_1/doublet_20220429_1_adt.csv\")\n",
    "rna_doublet = pd.read_csv(\"/ix1/wchen/Haoran/CPDD/RNA/20220429_1/doublet_20220429_1_rna.csv\")\n",
    "adt_reliability = pd.read_csv(\"/ix1/wchen/Haoran/CPDD/ADT/20220429_1/reliability_20220429_1_adt.csv\")\n",
    "rna_reliability = pd.read_csv(\"/ix1/wchen/Haoran/CPDD/RNA/20220429_1/reliability_20220429_1_rna.csv\")\n",
    "doublet = pd.read_csv(\"/ix1/wchen/Haoran/CPDD/ADT/20220429_1/doublet.csv\")\n",
    "\n",
    "adt_doublet = adt_doublet.iloc[:, 1].to_numpy()\n",
    "rna_doublet = rna_doublet.iloc[:, 1].to_numpy()\n",
    "adt_reliability = adt_reliability.iloc[:,1].to_numpy()\n",
    "rna_reliability = rna_reliability.iloc[:,1].to_numpy()\n",
    "doublet = doublet.iloc[:, 1].to_numpy()\n",
    "\n",
    "reliability_joint = np.stack((adt_reliability, rna_reliability))\n",
    "reliability_joint[1,:] = reliability_joint[1,:]\n",
    "reliability_joint = special.softmax(reliability_joint, axis = 0)"
   ]
  },
  {
   "cell_type": "code",
   "execution_count": 120,
   "metadata": {},
   "outputs": [
    {
     "name": "stdout",
     "output_type": "stream",
     "text": [
      "0.7824952510893416\n"
     ]
    },
    {
     "data": {
      "image/png": "[encoded data removed]",
      "text/plain": [
       "<Figure size 432x288 with 1 Axes>"
      ]
     },
     "metadata": {
      "needs_background": "light"
     },
     "output_type": "display_data"
    }
   ],
   "source": [
    "combined_prediction = reliability_joint[0,:]*adt_doublet + reliability_joint[1,:]*rna_doublet\n",
    "doublet = pd.read_csv(\"./doublet.csv\")\n",
    "doublet = doublet.iloc[:, 1]\n",
    "\n",
    "precision, recall, thresholds = precision_recall_curve(doublet.to_numpy(), combined_prediction)\n",
    "auc_precision_recall = auc(recall, precision)\n",
    "print(auc_precision_recall)\n",
    "plt.plot(recall, precision)\n",
    "plt.show()"
   ]
  },
  {
   "cell_type": "code",
   "execution_count": 121,
   "metadata": {},
   "outputs": [
    {
     "name": "stdout",
     "output_type": "stream",
     "text": [
      "Predicted doublet proportion: 0.25454095520910663\n",
      "Precision: 0.7443126579817227\n",
      "f1 score: 0.698157942732081\n"
     ]
    }
   ],
   "source": [
    "sen, spe = metrics(combined_prediction, doublet, cut = 0.5)"
   ]
  },
  {
   "cell_type": "markdown",
   "metadata": {
    "id": "KRznGMue5Gx0"
   },
   "source": [
    "## PB-6 ADT"
   ]
  },
  {
   "cell_type": "code",
   "execution_count": 122,
   "metadata": {},
   "outputs": [
    {
     "name": "stdout",
     "output_type": "stream",
     "text": [
      "/ix1/wchen/Haoran/CPDD/ADT/20220429_2\n"
     ]
    }
   ],
   "source": [
    "%cd /ix1/wchen/Haoran/CPDD/ADT/20220429_2/\n",
    "stable = genfromtxt(\"./ADT_stable50_cts.csv\", delimiter=',')\n",
    "small_stable = stable[:,0:16] #16 stable features\n",
    "\n",
    "small_stable = torch.tensor(small_stable, device = dev)\n",
    "small_stable = small_stable.double()\n",
    "\n",
    "\n",
    "theta,alpha,beta,decay, loss_075,p_075 = MLE_mvg(small_stable)"
   ]
  },
  {
   "cell_type": "code",
   "execution_count": 123,
   "metadata": {},
   "outputs": [
    {
     "data": {
      "text/plain": [
       "0.1774124321363691"
      ]
     },
     "execution_count": 123,
     "metadata": {},
     "output_type": "execute_result"
    }
   ],
   "source": [
    "weight = adt_fit_goodness(small_stable, alpha, beta, theta, decay)\n",
    "weight"
   ]
  },
  {
   "cell_type": "code",
   "execution_count": 124,
   "metadata": {},
   "outputs": [
    {
     "name": "stdout",
     "output_type": "stream",
     "text": [
      "0.7196410010806743\n"
     ]
    },
    {
     "data": {
      "image/png": "[encoded data removed]",
      "text/plain": [
       "<Figure size 432x288 with 1 Axes>"
      ]
     },
     "metadata": {
      "needs_background": "light"
     },
     "output_type": "display_data"
    }
   ],
   "source": [
    "prob_singlet = prob_k0(small_stable, theta, alpha, beta, decay, 0, k=3)\n",
    "prob_doublet = 1-prob_singlet\n",
    "\n",
    "doublet = genfromtxt(\"./doublet.csv\", delimiter=',')\n",
    "doublet = doublet[1:, 1]\n",
    "#doublet = doublet.iloc[:, 1]\n",
    "prob_doublet = np.nan_to_num(prob_doublet, nan=1.0)\n",
    "\n",
    "\n",
    "precision, recall, thresholds = precision_recall_curve(doublet, prob_doublet)\n",
    "auc_precision_recall = auc(recall, precision)\n",
    "print(auc_precision_recall)\n",
    "plt.plot(recall, precision)\n",
    "plt.show()"
   ]
  },
  {
   "cell_type": "code",
   "execution_count": 125,
   "metadata": {},
   "outputs": [
    {
     "name": "stdout",
     "output_type": "stream",
     "text": [
      "Predicted doublet proportion: 0.2488456995597552\n",
      "Precision: 0.6960086299892125\n",
      "f1 score: 0.673556738699238\n"
     ]
    }
   ],
   "source": [
    "sen, spe = metrics(prob_doublet, doublet, cut = 0.5)"
   ]
  },
  {
   "cell_type": "code",
   "execution_count": 126,
   "metadata": {},
   "outputs": [],
   "source": [
    "doublet_prediction = pd.DataFrame(prob_doublet, columns = ['prob_doublet'])\n",
    "doublet_prediction.index.name = 'index'\n",
    "doublet_prediction.reset_index(inplace=True)\n",
    "#doublet_prediction = doublet_prediction.sort_values(\"prob_doublet\", ascending = False)\n",
    "#doublet_prediction\n",
    "doublet_prediction.to_csv('doublet_20220429_2_adt.csv',index=False)"
   ]
  },
  {
   "cell_type": "code",
   "execution_count": 127,
   "metadata": {},
   "outputs": [],
   "source": [
    "reliability_table = reliability(small_stable, theta, alpha, beta, decay)\n",
    "data = {'reliability': reliability_table[0,:]/weight,\n",
    "        'flag': reliability_table[1,:]}\n",
    "  \n",
    "# Create DataFrame\n",
    "reliability_file = pd.DataFrame(data)\n",
    "reliability_file.index.name = 'index'\n",
    "reliability_file.reset_index(inplace=True)\n",
    "#doublet_prediction = doublet_prediction.sort_values(\"prob_doublet\", ascending = False)\n",
    "#doublet_prediction\n",
    "reliability_file.to_csv('reliability_20220429_2_adt.csv',index=False)"
   ]
  },
  {
   "cell_type": "markdown",
   "metadata": {},
   "source": [
    "## PB-6 RNA+ADT"
   ]
  },
  {
   "cell_type": "code",
   "execution_count": 128,
   "metadata": {},
   "outputs": [],
   "source": [
    "adt_doublet = pd.read_csv(\"/ix1/wchen/Haoran/CPDD/ADT/20220429_2/doublet_20220429_2_adt.csv\")\n",
    "rna_doublet = pd.read_csv(\"/ix1/wchen/Haoran/CPDD/RNA/20220429_2/doublet_20220429_2_rna.csv\")\n",
    "adt_reliability = pd.read_csv(\"/ix1/wchen/Haoran/CPDD/ADT/20220429_2/reliability_20220429_2_adt.csv\")\n",
    "rna_reliability = pd.read_csv(\"/ix1/wchen/Haoran/CPDD/RNA/20220429_2/reliability_20220429_2_rna.csv\")\n",
    "doublet = pd.read_csv(\"/ix1/wchen/Haoran/CPDD/ADT/20220429_2/doublet.csv\")\n",
    "\n",
    "adt_doublet = adt_doublet.iloc[:, 1].to_numpy()\n",
    "rna_doublet = rna_doublet.iloc[:, 1].to_numpy()\n",
    "adt_reliability = adt_reliability.iloc[:,1].to_numpy()\n",
    "rna_reliability = rna_reliability.iloc[:,1].to_numpy()\n",
    "doublet = doublet.iloc[:, 1].to_numpy()\n",
    "\n",
    "reliability_joint = np.stack((adt_reliability, rna_reliability))\n",
    "reliability_joint[1,:] = reliability_joint[1,:]\n",
    "reliability_joint = special.softmax(reliability_joint, axis = 0)"
   ]
  },
  {
   "cell_type": "code",
   "execution_count": 129,
   "metadata": {},
   "outputs": [
    {
     "name": "stdout",
     "output_type": "stream",
     "text": [
      "0.7561877987815662\n"
     ]
    },
    {
     "data": {
      "image/png": "[encoded data removed]",
      "text/plain": [
       "<Figure size 432x288 with 1 Axes>"
      ]
     },
     "metadata": {
      "needs_background": "light"
     },
     "output_type": "display_data"
    }
   ],
   "source": [
    "combined_prediction = reliability_joint[0,:]*adt_doublet + reliability_joint[1,:]*rna_doublet\n",
    "doublet = pd.read_csv(\"./doublet.csv\")\n",
    "doublet = doublet.iloc[:, 1]\n",
    "\n",
    "\n",
    "precision, recall, thresholds = precision_recall_curve(doublet.to_numpy(), combined_prediction)\n",
    "auc_precision_recall = auc(recall, precision)\n",
    "print(auc_precision_recall)\n",
    "plt.plot(recall, precision)\n",
    "plt.show()"
   ]
  },
  {
   "cell_type": "code",
   "execution_count": 130,
   "metadata": {},
   "outputs": [
    {
     "name": "stdout",
     "output_type": "stream",
     "text": [
      "Predicted doublet proportion: 0.290024696660582\n",
      "Precision: 0.7078859681599408\n",
      "f1 score: 0.7392228880726851\n"
     ]
    }
   ],
   "source": [
    "sen, spe = metrics(combined_prediction, doublet, cut = 0.5)"
   ]
  },
  {
   "cell_type": "markdown",
   "metadata": {
    "id": "KRznGMue5Gx0"
   },
   "source": [
    "## PB-7 ADT"
   ]
  },
  {
   "cell_type": "code",
   "execution_count": 131,
   "metadata": {},
   "outputs": [
    {
     "name": "stdout",
     "output_type": "stream",
     "text": [
      "/ix1/wchen/Haoran/CPDD/ADT/20220429_3\n"
     ]
    }
   ],
   "source": [
    "%cd /ix1/wchen/Haoran/CPDD/ADT/20220429_3/\n",
    "stable = genfromtxt(\"./ADT_stable50_cts.csv\", delimiter=',')\n",
    "small_stable = stable[:,0:16] #16 stable features\n",
    "\n",
    "small_stable = torch.tensor(small_stable, device = dev)\n",
    "small_stable = small_stable.double()\n",
    "\n",
    "\n",
    "theta,alpha,beta,decay, loss_075,p_075 = MLE_mvg(small_stable)"
   ]
  },
  {
   "cell_type": "code",
   "execution_count": 132,
   "metadata": {},
   "outputs": [
    {
     "data": {
      "text/plain": [
       "0.17802107006953802"
      ]
     },
     "execution_count": 132,
     "metadata": {},
     "output_type": "execute_result"
    }
   ],
   "source": [
    "weight = adt_fit_goodness(small_stable, alpha, beta, theta, decay)\n",
    "weight"
   ]
  },
  {
   "cell_type": "code",
   "execution_count": 133,
   "metadata": {},
   "outputs": [
    {
     "name": "stdout",
     "output_type": "stream",
     "text": [
      "0.7835523861750489\n"
     ]
    },
    {
     "data": {
      "image/png": "[encoded data removed]",
      "text/plain": [
       "<Figure size 432x288 with 1 Axes>"
      ]
     },
     "metadata": {
      "needs_background": "light"
     },
     "output_type": "display_data"
    }
   ],
   "source": [
    "prob_singlet = prob_k0(small_stable, theta, alpha, beta, decay, 0, k=3)\n",
    "prob_doublet = 1-prob_singlet\n",
    "\n",
    "doublet = genfromtxt(\"./doublet.csv\", delimiter=',')\n",
    "doublet = doublet[1:, 1]\n",
    "#doublet = doublet.iloc[:, 1]\n",
    "prob_doublet = np.nan_to_num(prob_doublet, nan=1.0)\n",
    "\n",
    "\n",
    "precision, recall, thresholds = precision_recall_curve(doublet, prob_doublet)\n",
    "auc_precision_recall = auc(recall, precision)\n",
    "print(auc_precision_recall)\n",
    "plt.plot(recall, precision)\n",
    "plt.show()"
   ]
  },
  {
   "cell_type": "code",
   "execution_count": 134,
   "metadata": {},
   "outputs": [
    {
     "name": "stdout",
     "output_type": "stream",
     "text": [
      "Predicted doublet proportion: 0.2275201710897249\n",
      "Precision: 0.7735526596881008\n",
      "f1 score: 0.6744900810282201\n"
     ]
    }
   ],
   "source": [
    "sen, spe = metrics(prob_doublet, doublet, cut = 0.5)\n"
   ]
  },
  {
   "cell_type": "code",
   "execution_count": 135,
   "metadata": {},
   "outputs": [],
   "source": [
    "doublet_prediction = pd.DataFrame(prob_doublet, columns = ['prob_doublet'])\n",
    "doublet_prediction.index.name = 'index'\n",
    "doublet_prediction.reset_index(inplace=True)\n",
    "#doublet_prediction = doublet_prediction.sort_values(\"prob_doublet\", ascending = False)\n",
    "#doublet_prediction\n",
    "doublet_prediction.to_csv('doublet_20220429_3_adt.csv',index=False)"
   ]
  },
  {
   "cell_type": "code",
   "execution_count": 136,
   "metadata": {},
   "outputs": [],
   "source": [
    "reliability_table = reliability(small_stable, theta, alpha, beta, decay)\n",
    "data = {'reliability': reliability_table[0,:]/weight,\n",
    "        'flag': reliability_table[1,:]}\n",
    "  \n",
    "# Create DataFrame\n",
    "reliability_file = pd.DataFrame(data)\n",
    "reliability_file.index.name = 'index'\n",
    "reliability_file.reset_index(inplace=True)\n",
    "#doublet_prediction = doublet_prediction.sort_values(\"prob_doublet\", ascending = False)\n",
    "#doublet_prediction\n",
    "reliability_file.to_csv('reliability_20220429_3_adt.csv',index=False)"
   ]
  },
  {
   "cell_type": "markdown",
   "metadata": {},
   "source": [
    "## PB-7 RNA+ADT"
   ]
  },
  {
   "cell_type": "code",
   "execution_count": 137,
   "metadata": {},
   "outputs": [],
   "source": [
    "adt_doublet = pd.read_csv(\"/ix1/wchen/Haoran/CPDD/ADT/20220429_3/doublet_20220429_3_adt.csv\")\n",
    "rna_doublet = pd.read_csv(\"/ix1/wchen/Haoran/CPDD/RNA/20220429_3/doublet_20220429_3_rna.csv\")\n",
    "adt_reliability = pd.read_csv(\"/ix1/wchen/Haoran/CPDD/ADT/20220429_3/reliability_20220429_3_adt.csv\")\n",
    "rna_reliability = pd.read_csv(\"/ix1/wchen/Haoran/CPDD/RNA/20220429_3/reliability_20220429_3_rna.csv\")\n",
    "doublet = pd.read_csv(\"/ix1/wchen/Haoran/CPDD/ADT/20220429_3/doublet.csv\")\n",
    "\n",
    "adt_doublet = adt_doublet.iloc[:, 1].to_numpy()\n",
    "rna_doublet = rna_doublet.iloc[:, 1].to_numpy()\n",
    "adt_reliability = adt_reliability.iloc[:,1].to_numpy()\n",
    "rna_reliability = rna_reliability.iloc[:,1].to_numpy()\n",
    "doublet = doublet.iloc[:, 1].to_numpy()\n",
    "\n",
    "reliability_joint = np.stack((adt_reliability, rna_reliability))\n",
    "reliability_joint[1,:] = reliability_joint[1,:]\n",
    "reliability_joint = special.softmax(reliability_joint, axis = 0)"
   ]
  },
  {
   "cell_type": "code",
   "execution_count": 138,
   "metadata": {},
   "outputs": [
    {
     "name": "stdout",
     "output_type": "stream",
     "text": [
      "0.7997720621794453\n"
     ]
    },
    {
     "data": {
      "image/png": "[encoded data removed]",
      "text/plain": [
       "<Figure size 432x288 with 1 Axes>"
      ]
     },
     "metadata": {
      "needs_background": "light"
     },
     "output_type": "display_data"
    }
   ],
   "source": [
    "combined_prediction = reliability_joint[0,:]*adt_doublet + reliability_joint[1,:]*rna_doublet\n",
    "doublet = pd.read_csv(\"./doublet.csv\")\n",
    "doublet = doublet.iloc[:, 1]\n",
    "#prob_doublet = np.nan_to_num(prob_doublet, nan=1.0)\n",
    "#prob_doublet,  = prob_doublet[1201:3201]\n",
    "\n",
    "precision, recall, thresholds = precision_recall_curve(doublet.to_numpy(), combined_prediction)\n",
    "auc_precision_recall = auc(recall, precision)\n",
    "print(auc_precision_recall)\n",
    "plt.plot(recall, precision)\n",
    "plt.show()"
   ]
  },
  {
   "cell_type": "code",
   "execution_count": 139,
   "metadata": {},
   "outputs": [
    {
     "name": "stdout",
     "output_type": "stream",
     "text": [
      "Predicted doublet proportion: 0.27277145912316514\n",
      "Precision: 0.75784034212402\n",
      "f1 score: 0.7290023997257457\n"
     ]
    }
   ],
   "source": [
    "sen, spe = metrics(combined_prediction, doublet, cut = 0.5)"
   ]
  },
  {
   "cell_type": "markdown",
   "metadata": {
    "id": "KRznGMue5Gx0"
   },
   "source": [
    "## PB-8 ADT"
   ]
  },
  {
   "cell_type": "code",
   "execution_count": 140,
   "metadata": {},
   "outputs": [
    {
     "name": "stdout",
     "output_type": "stream",
     "text": [
      "/ix1/wchen/Haoran/CPDD/ADT/20220524_1\n"
     ]
    }
   ],
   "source": [
    "%cd /ix1/wchen/Haoran/CPDD/ADT/20220524_1/\n",
    "stable = genfromtxt(\"./ADT_stable50_cts.csv\", delimiter=',')\n",
    "small_stable = stable[:,0:16] #16 stable features\n",
    "\n",
    "small_stable = torch.tensor(small_stable, device = dev)\n",
    "small_stable = small_stable.double()\n",
    "\n",
    "\n",
    "theta,alpha,beta,decay, loss_075,p_075 = MLE_mvg(small_stable)"
   ]
  },
  {
   "cell_type": "code",
   "execution_count": 141,
   "metadata": {},
   "outputs": [
    {
     "data": {
      "text/plain": [
       "0.19111395019756786"
      ]
     },
     "execution_count": 141,
     "metadata": {},
     "output_type": "execute_result"
    }
   ],
   "source": [
    "weight = adt_fit_goodness(small_stable, alpha, beta, theta, decay)\n",
    "weight"
   ]
  },
  {
   "cell_type": "code",
   "execution_count": 142,
   "metadata": {},
   "outputs": [
    {
     "name": "stdout",
     "output_type": "stream",
     "text": [
      "0.8235757206142889\n"
     ]
    },
    {
     "data": {
      "image/png": "[encoded data removed]",
      "text/plain": [
       "<Figure size 432x288 with 1 Axes>"
      ]
     },
     "metadata": {
      "needs_background": "light"
     },
     "output_type": "display_data"
    }
   ],
   "source": [
    "prob_singlet = prob_k0(small_stable, theta, alpha, beta, decay, 0, k=3)\n",
    "prob_doublet = 1-prob_singlet\n",
    "\n",
    "doublet = genfromtxt(\"./doublet.csv\", delimiter=',')\n",
    "doublet = doublet[1:, 1]\n",
    "#doublet = doublet.iloc[:, 1]\n",
    "prob_doublet = np.nan_to_num(prob_doublet, nan=1.0)\n",
    "\n",
    "\n",
    "precision, recall, thresholds = precision_recall_curve(doublet, prob_doublet)\n",
    "auc_precision_recall = auc(recall, precision)\n",
    "print(auc_precision_recall)\n",
    "plt.plot(recall, precision)\n",
    "plt.show()"
   ]
  },
  {
   "cell_type": "code",
   "execution_count": 143,
   "metadata": {},
   "outputs": [
    {
     "name": "stdout",
     "output_type": "stream",
     "text": [
      "Predicted doublet proportion: 0.21959743419597433\n",
      "Precision: 0.8406526994359388\n",
      "f1 score: 0.6920398009950249\n"
     ]
    }
   ],
   "source": [
    "sen, spe = metrics(prob_doublet, doublet, cut = 0.5)"
   ]
  },
  {
   "cell_type": "code",
   "execution_count": 144,
   "metadata": {},
   "outputs": [],
   "source": [
    "doublet_prediction = pd.DataFrame(prob_doublet, columns = ['prob_doublet'])\n",
    "doublet_prediction.index.name = 'index'\n",
    "doublet_prediction.reset_index(inplace=True)\n",
    "#doublet_prediction = doublet_prediction.sort_values(\"prob_doublet\", ascending = False)\n",
    "#doublet_prediction\n",
    "doublet_prediction.to_csv('doublet_20220524_1_adt.csv',index=False)"
   ]
  },
  {
   "cell_type": "code",
   "execution_count": 145,
   "metadata": {},
   "outputs": [],
   "source": [
    "reliability_table = reliability(small_stable, theta, alpha, beta, decay)\n",
    "data = {'reliability': reliability_table[0,:]/weight,\n",
    "        'flag': reliability_table[1,:]}\n",
    "  \n",
    "# Create DataFrame\n",
    "reliability_file = pd.DataFrame(data)\n",
    "reliability_file.index.name = 'index'\n",
    "reliability_file.reset_index(inplace=True)\n",
    "#doublet_prediction = doublet_prediction.sort_values(\"prob_doublet\", ascending = False)\n",
    "#doublet_prediction\n",
    "reliability_file.to_csv('reliability_20220524_1_adt.csv',index=False)"
   ]
  },
  {
   "cell_type": "markdown",
   "metadata": {},
   "source": [
    "## PB-8 RNA+ADT"
   ]
  },
  {
   "cell_type": "code",
   "execution_count": 146,
   "metadata": {},
   "outputs": [],
   "source": [
    "adt_doublet = pd.read_csv(\"/ix1/wchen/Haoran/CPDD/ADT/20220524_1/doublet_20220524_1_adt.csv\")\n",
    "rna_doublet = pd.read_csv(\"/ix1/wchen/Haoran/CPDD/RNA/20220524_1/doublet_20220524_1_rna.csv\")\n",
    "adt_reliability = pd.read_csv(\"/ix1/wchen/Haoran/CPDD/ADT/20220524_1/reliability_20220524_1_adt.csv\")\n",
    "rna_reliability = pd.read_csv(\"/ix1/wchen/Haoran/CPDD/RNA/20220524_1/reliability_20220524_1_rna.csv\")\n",
    "doublet = pd.read_csv(\"/ix1/wchen/Haoran/CPDD/ADT/20220524_1/doublet.csv\")\n",
    "\n",
    "adt_doublet = adt_doublet.iloc[:, 1].to_numpy()\n",
    "rna_doublet = rna_doublet.iloc[:, 1].to_numpy()\n",
    "adt_reliability = adt_reliability.iloc[:,1].to_numpy()\n",
    "rna_reliability = rna_reliability.iloc[:,1].to_numpy()\n",
    "doublet = doublet.iloc[:, 1].to_numpy()\n",
    "\n",
    "reliability_joint = np.stack((adt_reliability, rna_reliability))\n",
    "reliability_joint[1,:] = reliability_joint[1,:]\n",
    "reliability_joint = special.softmax(reliability_joint, axis = 0)"
   ]
  },
  {
   "cell_type": "code",
   "execution_count": 147,
   "metadata": {},
   "outputs": [
    {
     "name": "stdout",
     "output_type": "stream",
     "text": [
      "0.7820904875092041\n"
     ]
    },
    {
     "data": {
      "image/png": "[encoded data removed]",
      "text/plain": [
       "<Figure size 432x288 with 1 Axes>"
      ]
     },
     "metadata": {
      "needs_background": "light"
     },
     "output_type": "display_data"
    }
   ],
   "source": [
    "combined_prediction = reliability_joint[0,:]*adt_doublet + reliability_joint[1,:]*rna_doublet\n",
    "doublet = pd.read_csv(\"./doublet.csv\")\n",
    "doublet = doublet.iloc[:, 1]\n",
    "\n",
    "precision, recall, thresholds = precision_recall_curve(doublet.to_numpy(), combined_prediction)\n",
    "auc_precision_recall = auc(recall, precision)\n",
    "print(auc_precision_recall)\n",
    "plt.plot(recall, precision)\n",
    "plt.show()"
   ]
  },
  {
   "cell_type": "code",
   "execution_count": 148,
   "metadata": {},
   "outputs": [
    {
     "name": "stdout",
     "output_type": "stream",
     "text": [
      "Predicted doublet proportion: 0.3574872815748728\n",
      "Precision: 0.7504021779482737\n",
      "f1 score: 0.7991039072280425\n"
     ]
    }
   ],
   "source": [
    "sen, spe = metrics(combined_prediction, doublet, cut = 0.5)"
   ]
  },
  {
   "cell_type": "markdown",
   "metadata": {
    "id": "KRznGMue5Gx0"
   },
   "source": [
    "## PB-9 ADT"
   ]
  },
  {
   "cell_type": "code",
   "execution_count": 149,
   "metadata": {},
   "outputs": [
    {
     "name": "stdout",
     "output_type": "stream",
     "text": [
      "/ix1/wchen/Haoran/CPDD/ADT/20220524_2\n"
     ]
    }
   ],
   "source": [
    "%cd /ix1/wchen/Haoran/CPDD/ADT/20220524_2/\n",
    "stable = genfromtxt(\"./ADT_stable50_cts.csv\", delimiter=',')\n",
    "small_stable = stable[:,0:16] #16 stable features\n",
    "\n",
    "small_stable = torch.tensor(small_stable, device = dev)\n",
    "small_stable = small_stable.double()\n",
    "\n",
    "\n",
    "theta,alpha,beta,decay, loss_075,p_075 = MLE_mvg(small_stable)"
   ]
  },
  {
   "cell_type": "code",
   "execution_count": 150,
   "metadata": {},
   "outputs": [
    {
     "data": {
      "text/plain": [
       "0.1801590266435273"
      ]
     },
     "execution_count": 150,
     "metadata": {},
     "output_type": "execute_result"
    }
   ],
   "source": [
    "weight = adt_fit_goodness(small_stable, alpha, beta, theta, decay)\n",
    "weight"
   ]
  },
  {
   "cell_type": "code",
   "execution_count": 151,
   "metadata": {},
   "outputs": [
    {
     "name": "stdout",
     "output_type": "stream",
     "text": [
      "0.8216670283005032\n"
     ]
    },
    {
     "data": {
      "image/png": "[encoded data removed]",
      "text/plain": [
       "<Figure size 432x288 with 1 Axes>"
      ]
     },
     "metadata": {
      "needs_background": "light"
     },
     "output_type": "display_data"
    }
   ],
   "source": [
    "prob_singlet = prob_k0(small_stable, theta, alpha, beta, decay, 0, k=3)\n",
    "prob_doublet = 1-prob_singlet\n",
    "\n",
    "doublet = genfromtxt(\"./doublet.csv\", delimiter=',')\n",
    "doublet = doublet[1:, 1]\n",
    "#doublet = doublet.iloc[:, 1]\n",
    "prob_doublet = np.nan_to_num(prob_doublet, nan=1.0)\n",
    "\n",
    "\n",
    "precision, recall, thresholds = precision_recall_curve(doublet, prob_doublet)\n",
    "auc_precision_recall = auc(recall, precision)\n",
    "print(auc_precision_recall)\n",
    "plt.plot(recall, precision)\n",
    "plt.show()"
   ]
  },
  {
   "cell_type": "code",
   "execution_count": 152,
   "metadata": {},
   "outputs": [
    {
     "name": "stdout",
     "output_type": "stream",
     "text": [
      "Predicted doublet proportion: 0.23261217534982187\n",
      "Precision: 0.8204217536071032\n",
      "f1 score: 0.7206785609827434\n"
     ]
    }
   ],
   "source": [
    "sen, spe = metrics(prob_doublet, doublet, cut = 0.5)"
   ]
  },
  {
   "cell_type": "code",
   "execution_count": 153,
   "metadata": {},
   "outputs": [],
   "source": [
    "doublet_prediction = pd.DataFrame(prob_doublet, columns = ['prob_doublet'])\n",
    "doublet_prediction.index.name = 'index'\n",
    "doublet_prediction.reset_index(inplace=True)\n",
    "#doublet_prediction = doublet_prediction.sort_values(\"prob_doublet\", ascending = False)\n",
    "#doublet_prediction\n",
    "doublet_prediction.to_csv('doublet_20220524_2_adt.csv',index=False)"
   ]
  },
  {
   "cell_type": "code",
   "execution_count": 154,
   "metadata": {},
   "outputs": [],
   "source": [
    "reliability_table = reliability(small_stable, theta, alpha, beta, decay)\n",
    "data = {'reliability': reliability_table[0,:]/weight,\n",
    "        'flag': reliability_table[1,:]}\n",
    "  \n",
    "# Create DataFrame\n",
    "reliability_file = pd.DataFrame(data)\n",
    "reliability_file.index.name = 'index'\n",
    "reliability_file.reset_index(inplace=True)\n",
    "#doublet_prediction = doublet_prediction.sort_values(\"prob_doublet\", ascending = False)\n",
    "#doublet_prediction\n",
    "reliability_file.to_csv('reliability_20220524_2_adt.csv',index=False)"
   ]
  },
  {
   "cell_type": "markdown",
   "metadata": {},
   "source": [
    "## PB-9 RNA+ADT"
   ]
  },
  {
   "cell_type": "code",
   "execution_count": 155,
   "metadata": {},
   "outputs": [],
   "source": [
    "adt_doublet = pd.read_csv(\"/ix1/wchen/Haoran/CPDD/ADT/20220524_2/doublet_20220524_2_adt.csv\")\n",
    "rna_doublet = pd.read_csv(\"/ix1/wchen/Haoran/CPDD/RNA/20220524_2/doublet_20220524_2_rna.csv\")\n",
    "adt_reliability = pd.read_csv(\"/ix1/wchen/Haoran/CPDD/ADT/20220524_2/reliability_20220524_2_adt.csv\")\n",
    "rna_reliability = pd.read_csv(\"/ix1/wchen/Haoran/CPDD/RNA/20220524_2/reliability_20220524_2_rna.csv\")\n",
    "doublet = pd.read_csv(\"/ix1/wchen/Haoran/CPDD/ADT/20220524_2/doublet.csv\")\n",
    "\n",
    "adt_doublet = adt_doublet.iloc[:, 1].to_numpy()\n",
    "rna_doublet = rna_doublet.iloc[:, 1].to_numpy()\n",
    "adt_reliability = adt_reliability.iloc[:,1].to_numpy()\n",
    "rna_reliability = rna_reliability.iloc[:,1].to_numpy()\n",
    "doublet = doublet.iloc[:, 1].to_numpy()\n",
    "\n",
    "reliability_joint = np.stack((adt_reliability, rna_reliability))\n",
    "reliability_joint[1,:] = reliability_joint[1,:]\n",
    "reliability_joint = special.softmax(reliability_joint, axis = 0)"
   ]
  },
  {
   "cell_type": "code",
   "execution_count": 156,
   "metadata": {},
   "outputs": [
    {
     "name": "stdout",
     "output_type": "stream",
     "text": [
      "0.8754699031468971\n"
     ]
    },
    {
     "data": {
      "image/png": "[encoded data removed]",
      "text/plain": [
       "<Figure size 432x288 with 1 Axes>"
      ]
     },
     "metadata": {
      "needs_background": "light"
     },
     "output_type": "display_data"
    }
   ],
   "source": [
    "combined_prediction = reliability_joint[0,:]*adt_doublet + reliability_joint[1,:]*rna_doublet\n",
    "doublet = pd.read_csv(\"./doublet.csv\")\n",
    "doublet = doublet.iloc[:, 1]\n",
    "\n",
    "precision, recall, thresholds = precision_recall_curve(doublet.to_numpy(), combined_prediction)\n",
    "auc_precision_recall = auc(recall, precision)\n",
    "print(auc_precision_recall)\n",
    "plt.plot(recall, precision)\n",
    "plt.show()"
   ]
  },
  {
   "cell_type": "code",
   "execution_count": 157,
   "metadata": {},
   "outputs": [
    {
     "name": "stdout",
     "output_type": "stream",
     "text": [
      "Predicted doublet proportion: 0.32178447875251714\n",
      "Precision: 0.7816110397946084\n",
      "f1 score: 0.8129172229639521\n"
     ]
    }
   ],
   "source": [
    "sen, spe = metrics(combined_prediction, doublet, cut = 0.5)"
   ]
  },
  {
   "cell_type": "markdown",
   "metadata": {
    "id": "KRznGMue5Gx0"
   },
   "source": [
    "## PB-10 ADT"
   ]
  },
  {
   "cell_type": "code",
   "execution_count": 158,
   "metadata": {},
   "outputs": [
    {
     "name": "stdout",
     "output_type": "stream",
     "text": [
      "/ix1/wchen/Haoran/CPDD/ADT/20210831_1\n"
     ]
    }
   ],
   "source": [
    "%cd /ix1/wchen/Haoran/CPDD/ADT/20210831_1/\n",
    "stable = genfromtxt(\"./ADT_stable50_cts.csv\", delimiter=',')\n",
    "small_stable = stable[:,0:16] #16 stable features\n",
    "\n",
    "small_stable = torch.tensor(small_stable, device = dev)\n",
    "small_stable = small_stable.double()\n",
    "\n",
    "\n",
    "theta,alpha,beta,decay, loss_075,p_075 = MLE_mvg(small_stable)"
   ]
  },
  {
   "cell_type": "code",
   "execution_count": 159,
   "metadata": {},
   "outputs": [
    {
     "data": {
      "text/plain": [
       "0.1660582203655634"
      ]
     },
     "execution_count": 159,
     "metadata": {},
     "output_type": "execute_result"
    }
   ],
   "source": [
    "weight = adt_fit_goodness(small_stable, alpha, beta, theta, decay)\n",
    "weight"
   ]
  },
  {
   "cell_type": "code",
   "execution_count": 160,
   "metadata": {},
   "outputs": [
    {
     "name": "stdout",
     "output_type": "stream",
     "text": [
      "0.7265212135887874\n"
     ]
    },
    {
     "data": {
      "image/png": "[encoded data removed]",
      "text/plain": [
       "<Figure size 432x288 with 1 Axes>"
      ]
     },
     "metadata": {
      "needs_background": "light"
     },
     "output_type": "display_data"
    }
   ],
   "source": [
    "prob_singlet = prob_k0(small_stable, theta, alpha, beta, decay, 0, k=3)\n",
    "prob_doublet = 1-prob_singlet\n",
    "\n",
    "doublet = genfromtxt(\"./doublet.csv\", delimiter=',')\n",
    "doublet = doublet[1:, 1]\n",
    "#doublet = doublet.iloc[:, 1]\n",
    "prob_doublet = np.nan_to_num(prob_doublet, nan=1.0)\n",
    "\n",
    "\n",
    "precision, recall, thresholds = precision_recall_curve(doublet, prob_doublet)\n",
    "auc_precision_recall = auc(recall, precision)\n",
    "print(auc_precision_recall)\n",
    "plt.plot(recall, precision)\n",
    "plt.show()"
   ]
  },
  {
   "cell_type": "code",
   "execution_count": 161,
   "metadata": {},
   "outputs": [
    {
     "name": "stdout",
     "output_type": "stream",
     "text": [
      "Predicted doublet proportion: 0.2403480465598709\n",
      "Precision: 0.652361543994246\n",
      "f1 score: 0.6785536159600997\n"
     ]
    }
   ],
   "source": [
    "sen, spe = metrics(prob_doublet, doublet, cut = 0.5)"
   ]
  },
  {
   "cell_type": "code",
   "execution_count": 162,
   "metadata": {},
   "outputs": [],
   "source": [
    "doublet_prediction = pd.DataFrame(prob_doublet, columns = ['prob_doublet'])\n",
    "doublet_prediction.index.name = 'index'\n",
    "doublet_prediction.reset_index(inplace=True)\n",
    "#doublet_prediction = doublet_prediction.sort_values(\"prob_doublet\", ascending = False)\n",
    "#doublet_prediction\n",
    "doublet_prediction.to_csv('doublet_20210831_1_adt.csv',index=False)"
   ]
  },
  {
   "cell_type": "code",
   "execution_count": 163,
   "metadata": {},
   "outputs": [],
   "source": [
    "reliability_table = reliability(small_stable, theta, alpha, beta, decay)\n",
    "data = {'reliability': reliability_table[0,:]/weight,\n",
    "        'flag': reliability_table[1,:]}\n",
    "  \n",
    "# Create DataFrame\n",
    "reliability_file = pd.DataFrame(data)\n",
    "reliability_file.index.name = 'index'\n",
    "reliability_file.reset_index(inplace=True)\n",
    "#doublet_prediction = doublet_prediction.sort_values(\"prob_doublet\", ascending = False)\n",
    "#doublet_prediction\n",
    "reliability_file.to_csv('reliability_20210831_1_adt.csv',index=False)"
   ]
  },
  {
   "cell_type": "markdown",
   "metadata": {},
   "source": [
    "## PB-10 RNA+ADT"
   ]
  },
  {
   "cell_type": "code",
   "execution_count": 164,
   "metadata": {},
   "outputs": [],
   "source": [
    "adt_doublet = pd.read_csv(\"/ix1/wchen/Haoran/CPDD/ADT/20210831_1/doublet_20210831_1_adt.csv\")\n",
    "rna_doublet = pd.read_csv(\"/ix1/wchen/Haoran/CPDD/RNA/20210831_1/doublet_20210831_1_rna.csv\")\n",
    "adt_reliability = pd.read_csv(\"/ix1/wchen/Haoran/CPDD/ADT/20210831_1/reliability_20210831_1_adt.csv\")\n",
    "rna_reliability = pd.read_csv(\"/ix1/wchen/Haoran/CPDD/RNA/20210831_1/reliability_20210831_1_rna.csv\")\n",
    "doublet = pd.read_csv(\"/ix1/wchen/Haoran/CPDD/ADT/20210831_1/doublet.csv\")\n",
    "\n",
    "adt_doublet = adt_doublet.iloc[:, 1].to_numpy()\n",
    "rna_doublet = rna_doublet.iloc[:, 1].to_numpy()\n",
    "adt_reliability = adt_reliability.iloc[:,1].to_numpy()\n",
    "rna_reliability = rna_reliability.iloc[:,1].to_numpy()\n",
    "doublet = doublet.iloc[:, 1].to_numpy()\n",
    "\n",
    "reliability_joint = np.stack((adt_reliability, rna_reliability))\n",
    "reliability_joint[1,:] = reliability_joint[1,:]\n",
    "reliability_joint = special.softmax(reliability_joint, axis = 0)"
   ]
  },
  {
   "cell_type": "code",
   "execution_count": 165,
   "metadata": {},
   "outputs": [
    {
     "name": "stdout",
     "output_type": "stream",
     "text": [
      "0.6424808331539906\n"
     ]
    },
    {
     "data": {
      "image/png": "[encoded data removed]",
      "text/plain": [
       "<Figure size 432x288 with 1 Axes>"
      ]
     },
     "metadata": {
      "needs_background": "light"
     },
     "output_type": "display_data"
    }
   ],
   "source": [
    "combined_prediction = reliability_joint[0,:]*adt_doublet + reliability_joint[1,:]*rna_doublet\n",
    "doublet = pd.read_csv(\"./doublet.csv\")\n",
    "doublet = doublet.iloc[:, 1]\n",
    "\n",
    "precision, recall, thresholds = precision_recall_curve(doublet.to_numpy(), combined_prediction)\n",
    "auc_precision_recall = auc(recall, precision)\n",
    "print(auc_precision_recall)\n",
    "plt.plot(recall, precision)\n",
    "plt.show()"
   ]
  },
  {
   "cell_type": "code",
   "execution_count": 166,
   "metadata": {},
   "outputs": [
    {
     "name": "stdout",
     "output_type": "stream",
     "text": [
      "Predicted doublet proportion: 0.28310475970957705\n",
      "Precision: 0.6238550783635254\n",
      "f1 score: 0.6996119607395572\n"
     ]
    }
   ],
   "source": [
    "sen, spe = metrics(combined_prediction, doublet, cut = 0.5)"
   ]
  }
 ],
 "metadata": {
  "colab": {
   "gpuType": "T4",
   "provenance": []
  },
  "gpuClass": "standard",
  "kernelspec": {
   "display_name": "Python 3 (ipykernel)",
   "language": "python",
   "name": "python3"
  },
  "language_info": {
   "codemirror_mode": {
    "name": "ipython",
    "version": 3
   },
   "file_extension": ".py",
   "mimetype": "text/x-python",
   "name": "python",
   "nbconvert_exporter": "python",
   "pygments_lexer": "ipython3",
   "version": "3.8.5"
  }
 },
 "nbformat": 4,
 "nbformat_minor": 4
}
